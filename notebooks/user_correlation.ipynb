{
  "cells": [
    {
      "cell_type": "code",
      "execution_count": 1,
      "metadata": {
        "colab": {
          "base_uri": "https://localhost:8080/"
        },
        "id": "Xxxq2h8JbJpR",
        "outputId": "615363e0-e3f9-40b6-be1f-a71a74c808ba"
      },
      "outputs": [
        {
          "name": "stdout",
          "output_type": "stream",
          "text": [
            "Requirement already satisfied: kagglehub in /usr/local/lib/python3.10/dist-packages (0.3.3)\n",
            "Requirement already satisfied: kaggle in /usr/local/lib/python3.10/dist-packages (1.6.17)\n",
            "Requirement already satisfied: packaging in /usr/local/lib/python3.10/dist-packages (from kagglehub) (24.1)\n",
            "Requirement already satisfied: requests in /usr/local/lib/python3.10/dist-packages (from kagglehub) (2.32.3)\n",
            "Requirement already satisfied: tqdm in /usr/local/lib/python3.10/dist-packages (from kagglehub) (4.66.5)\n",
            "Requirement already satisfied: six>=1.10 in /usr/local/lib/python3.10/dist-packages (from kaggle) (1.16.0)\n",
            "Requirement already satisfied: certifi>=2023.7.22 in /usr/local/lib/python3.10/dist-packages (from kaggle) (2024.8.30)\n",
            "Requirement already satisfied: python-dateutil in /usr/local/lib/python3.10/dist-packages (from kaggle) (2.9.0.post0)\n",
            "Requirement already satisfied: python-slugify in /usr/local/lib/python3.10/dist-packages (from kaggle) (8.0.4)\n",
            "Requirement already satisfied: urllib3 in /usr/local/lib/python3.10/dist-packages (from kaggle) (2.2.3)\n",
            "Requirement already satisfied: bleach in /usr/local/lib/python3.10/dist-packages (from kaggle) (6.1.0)\n",
            "Requirement already satisfied: webencodings in /usr/local/lib/python3.10/dist-packages (from bleach->kaggle) (0.5.1)\n",
            "Requirement already satisfied: text-unidecode>=1.3 in /usr/local/lib/python3.10/dist-packages (from python-slugify->kaggle) (1.3)\n",
            "Requirement already satisfied: charset-normalizer<4,>=2 in /usr/local/lib/python3.10/dist-packages (from requests->kagglehub) (3.4.0)\n",
            "Requirement already satisfied: idna<4,>=2.5 in /usr/local/lib/python3.10/dist-packages (from requests->kagglehub) (3.10)\n",
            "Dataset URL: https://www.kaggle.com/datasets/undefinenull/million-song-dataset-spotify-lastfm\n",
            "License(s): Attribution-NonCommercial 4.0 International (CC BY-NC 4.0)\n",
            "Downloading million-song-dataset-spotify-lastfm.zip to /content\n",
            "100% 639M/639M [00:03<00:00, 263MB/s]\n",
            "100% 639M/639M [00:03<00:00, 217MB/s]\n",
            "Archive:  million-song-dataset-spotify-lastfm.zip\n",
            "  inflating: MP3-Example/Blues/Blues-TRACOHF128F1498509.mp3  \n",
            "  inflating: MP3-Example/Blues/Blues-TRADWSG128F4259317.mp3  \n",
            "  inflating: MP3-Example/Blues/Blues-TRAELUY128F93147BA.mp3  \n",
            "  inflating: MP3-Example/Blues/Blues-TRAHVWB128F9308FB0.mp3  \n",
            "  inflating: MP3-Example/Blues/Blues-TRAJGIO128F92E84BC.mp3  \n",
            "  inflating: MP3-Example/Blues/Blues-TRAOPNA128F427E83F.mp3  \n",
            "  inflating: MP3-Example/Blues/Blues-TRAQGFP128E078FAB6.mp3  \n",
            "  inflating: MP3-Example/Blues/Blues-TRARJEK128F930B3AA.mp3  \n",
            "  inflating: MP3-Example/Blues/Blues-TRATLTV128F92FC979.mp3  \n",
            "  inflating: MP3-Example/Blues/Blues-TRAUJPR128F92CA3AF.mp3  \n",
            "  inflating: MP3-Example/Blues/Blues-TRAUYOD128F42647FE.mp3  \n",
            "  inflating: MP3-Example/Blues/Blues-TRAYHQV128F4266D63.mp3  \n",
            "  inflating: MP3-Example/Blues/Blues-TRBVOHY128F92E6A11.mp3  \n",
            "  inflating: MP3-Example/Blues/Blues-TRCPUIL128F931ACAF.mp3  \n",
            "  inflating: MP3-Example/Blues/Blues-TRCQEDW128E078F467.mp3  \n",
            "  inflating: MP3-Example/Blues/Blues-TRCQIRC12903CD9446.mp3  \n",
            "  inflating: MP3-Example/Blues/Blues-TRCQSGB128F9325176.mp3  \n",
            "  inflating: MP3-Example/Blues/Blues-TRCRAIR128F935713E.mp3  \n",
            "  inflating: MP3-Example/Blues/Blues-TRCRUHY128F930FFF8.mp3  \n",
            "  inflating: MP3-Example/Blues/Blues-TRCSJKR128F92C2E38.mp3  \n",
            "  inflating: MP3-Example/Blues/Blues-TRCTCLO128F9339FC8.mp3  \n",
            "  inflating: MP3-Example/Blues/Blues-TRCTNIW128F9300B00.mp3  \n",
            "  inflating: MP3-Example/Blues/Blues-TRCWLAL12903CD44FD.mp3  \n",
            "  inflating: MP3-Example/Blues/Blues-TRCWWBE128F92FB877.mp3  \n",
            "  inflating: MP3-Example/Blues/Blues-TRCXXKB12903CE4F4C.mp3  \n",
            "  inflating: MP3-Example/Blues/Blues-TRDADSI128F42BC0B5.mp3  \n",
            "  inflating: MP3-Example/Blues/Blues-TRDDEDH128F9308E9F.mp3  \n",
            "  inflating: MP3-Example/Blues/Blues-TRDLAJC12903D081BF.mp3  \n",
            "  inflating: MP3-Example/Blues/Blues-TRDNOZL128F4235294.mp3  \n",
            "  inflating: MP3-Example/Blues/Blues-TREDEHW128F427C0F4.mp3  \n",
            "  inflating: MP3-Example/Blues/Blues-TREKSOC128F935172C.mp3  \n",
            "  inflating: MP3-Example/Blues/Blues-TREUZOI128F92D2C49.mp3  \n",
            "  inflating: MP3-Example/Blues/Blues-TREZQKM128F930EBD0.mp3  \n",
            "  inflating: MP3-Example/Blues/Blues-TRFIJKG128F4264CF1.mp3  \n",
            "  inflating: MP3-Example/Blues/Blues-TRFMZYD128F9340103.mp3  \n",
            "  inflating: MP3-Example/Blues/Blues-TRFPHYZ128F428CA40.mp3  \n",
            "  inflating: MP3-Example/Blues/Blues-TRFREFO12903CB7B2D.mp3  \n",
            "  inflating: MP3-Example/Blues/Blues-TRFWLDO128F93613DF.mp3  \n",
            "  inflating: MP3-Example/Blues/Blues-TRFZFRP128F4264623.mp3  \n",
            "  inflating: MP3-Example/Blues/Blues-TRFZZDX128F4273E6C.mp3  \n",
            "  inflating: MP3-Example/Blues/Blues-TRGWLHC128F9305F3D.mp3  \n",
            "  inflating: MP3-Example/Blues/Blues-TRIMAMK128F9361235.mp3  \n",
            "  inflating: MP3-Example/Blues/Blues-TRITNFB128F9325167.mp3  \n",
            "  inflating: MP3-Example/Blues/Blues-TRIUACN128F9333554.mp3  \n",
            "  inflating: MP3-Example/Blues/Blues-TRIVXMR128EF347EC9.mp3  \n",
            "  inflating: MP3-Example/Blues/Blues-TRIYTLZ12903CEBB77.mp3  \n",
            "  inflating: MP3-Example/Blues/Blues-TRJEDMY12903CF4DD3.mp3  \n",
            "  inflating: MP3-Example/Blues/Blues-TRJZZUF128F9332693.mp3  \n",
            "  inflating: MP3-Example/Blues/Blues-TRKIJDR128F92C2E32.mp3  \n",
            "  inflating: MP3-Example/Blues/Blues-TRLJFXD128F426BB46.mp3  \n",
            "  inflating: MP3-Example/Blues/Blues-TRLJGIX128F92F323D.mp3  \n",
            "  inflating: MP3-Example/Blues/Blues-TRLJQXJ12903D08ECB.mp3  \n",
            "  inflating: MP3-Example/Blues/Blues-TRLMWXI128F930F60E.mp3  \n",
            "  inflating: MP3-Example/Blues/Blues-TRLOGCF128F424FF3C.mp3  \n",
            "  inflating: MP3-Example/Blues/Blues-TRLTEAF128F42640B1.mp3  \n",
            "  inflating: MP3-Example/Blues/Blues-TRLUGOR12903CDB355.mp3  \n",
            "  inflating: MP3-Example/Blues/Blues-TRLUIBE128F4235949.mp3  \n",
            "  inflating: MP3-Example/Blues/Blues-TRNINPZ128F9320188.mp3  \n",
            "  inflating: MP3-Example/Blues/Blues-TRNRUZY128F424A039.mp3  \n",
            "  inflating: MP3-Example/Blues/Blues-TRNSXLS128F1453DA6.mp3  \n",
            "  inflating: MP3-Example/Blues/Blues-TROJWZI128F42371A6.mp3  \n",
            "  inflating: MP3-Example/Blues/Blues-TROLWDO128F421B15C.mp3  \n",
            "  inflating: MP3-Example/Blues/Blues-TRONTYT12903CB19C9.mp3  \n",
            "  inflating: MP3-Example/Blues/Blues-TROOOWR128F4280C34.mp3  \n",
            "  inflating: MP3-Example/Blues/Blues-TROSJGC128F92F7033.mp3  \n",
            "  inflating: MP3-Example/Blues/Blues-TRPBSUV128F9341F1D.mp3  \n",
            "  inflating: MP3-Example/Blues/Blues-TRPJJUF128F933FE56.mp3  \n",
            "  inflating: MP3-Example/Blues/Blues-TRPURXR128F936106C.mp3  \n",
            "  inflating: MP3-Example/Blues/Blues-TRPYIKK128F932B961.mp3  \n",
            "  inflating: MP3-Example/Blues/Blues-TRRFMYC128EF348C72.mp3  \n",
            "  inflating: MP3-Example/Blues/Blues-TRRIJDC128F42633B1.mp3  \n",
            "  inflating: MP3-Example/Blues/Blues-TRRJATE128F1458516.mp3  \n",
            "  inflating: MP3-Example/Blues/Blues-TRRLQFB128E0792F78.mp3  \n",
            "  inflating: MP3-Example/Blues/Blues-TRRMOWX12903CB0FAC.mp3  \n",
            "  inflating: MP3-Example/Blues/Blues-TRRNFZK128F427E7A9.mp3  \n",
            "  inflating: MP3-Example/Blues/Blues-TRROBKR128F9337C50.mp3  \n",
            "  inflating: MP3-Example/Blues/Blues-TRRPNTI128F92E7888.mp3  \n",
            "  inflating: MP3-Example/Blues/Blues-TRRQOMA128F4233DDC.mp3  \n",
            "  inflating: MP3-Example/Blues/Blues-TRRSBCP12903CE1DCF.mp3  \n",
            "  inflating: MP3-Example/Blues/Blues-TRSAKTV128F427E7AD.mp3  \n",
            "  inflating: MP3-Example/Blues/Blues-TRSGTXQ128F9331218.mp3  \n",
            "  inflating: MP3-Example/Blues/Blues-TRSVTIE128F428079E.mp3  \n",
            "  inflating: MP3-Example/Blues/Blues-TRSYVON128F92EE69A.mp3  \n",
            "  inflating: MP3-Example/Blues/Blues-TRUDJHP128F92FA65C.mp3  \n",
            "  inflating: MP3-Example/Blues/Blues-TRUEUUK128F92FD462.mp3  \n",
            "  inflating: MP3-Example/Blues/Blues-TRUEZTC128F421B117.mp3  \n",
            "  inflating: MP3-Example/Blues/Blues-TRUJRKW128F424A74F.mp3  \n",
            "  inflating: MP3-Example/Blues/Blues-TRUJRZQ128F427EDFB.mp3  \n",
            "  inflating: MP3-Example/Blues/Blues-TRUPNQT128F1490D6F.mp3  \n",
            "  inflating: MP3-Example/Blues/Blues-TRURGHT12903CB7583.mp3  \n",
            "  inflating: MP3-Example/Blues/Blues-TRUWCUD12903CD4501.mp3  \n",
            "  inflating: MP3-Example/Blues/Blues-TRUWEKF128F42B63AE.mp3  \n",
            "  inflating: MP3-Example/Blues/Blues-TRVBLFJ128F426AAB9.mp3  \n",
            "  inflating: MP3-Example/Blues/Blues-TRWCMNN128F426E888.mp3  \n",
            "  inflating: MP3-Example/Blues/Blues-TRXCFWD128F9335584.mp3  \n",
            "  inflating: MP3-Example/Blues/Blues-TRXFKIY128F42204A0.mp3  \n",
            "  inflating: MP3-Example/Blues/Blues-TRXJGBY128F930137D.mp3  \n",
            "  inflating: MP3-Example/Blues/Blues-TRXJPJM12903CDB0C8.mp3  \n",
            "  inflating: MP3-Example/Blues/Blues-TRXMDGW128F426CDB3.mp3  \n",
            "  inflating: MP3-Example/Blues/Blues-TRYHZUX12903CD9455.mp3  \n",
            "  inflating: MP3-Example/Country/Country-TRAAUBG128F421C7F9.mp3  \n",
            "  inflating: MP3-Example/Country/Country-TRABSQC128F428AD3D.mp3  \n",
            "  inflating: MP3-Example/Country/Country-TRABTWX128F42B8619.mp3  \n",
            "  inflating: MP3-Example/Country/Country-TRAFYSR128F422A7BE.mp3  \n",
            "  inflating: MP3-Example/Country/Country-TRAGPJO128F933B0EF.mp3  \n",
            "  inflating: MP3-Example/Country/Country-TRAHCDM128F148D60C.mp3  \n",
            "  inflating: MP3-Example/Country/Country-TRAIKBB128F428AD73.mp3  \n",
            "  inflating: MP3-Example/Country/Country-TRARTPH128E0789C05.mp3  \n",
            "  inflating: MP3-Example/Country/Country-TRASDYX128F92E7435.mp3  \n",
            "  inflating: MP3-Example/Country/Country-TRBCQSJ128F931B4A2.mp3  \n",
            "  inflating: MP3-Example/Country/Country-TRBHUSP128F4242DD0.mp3  \n",
            "  inflating: MP3-Example/Country/Country-TRBSBBC128F9328DBF.mp3  \n",
            "  inflating: MP3-Example/Country/Country-TRBUIPK12903CA52AD.mp3  \n",
            "  inflating: MP3-Example/Country/Country-TRCGGXV128F428D866.mp3  \n",
            "  inflating: MP3-Example/Country/Country-TRCQUHG12903CEBE6D.mp3  \n",
            "  inflating: MP3-Example/Country/Country-TRCREJV128F1455A4B.mp3  \n",
            "  inflating: MP3-Example/Country/Country-TRCSTLD128F428CACB.mp3  \n",
            "  inflating: MP3-Example/Country/Country-TRCYDXD128F4289C75.mp3  \n",
            "  inflating: MP3-Example/Country/Country-TRDBGYY128F424E01F.mp3  \n",
            "  inflating: MP3-Example/Country/Country-TRDCALN128F42BC549.mp3  \n",
            "  inflating: MP3-Example/Country/Country-TRDPHSN128F426C4DF.mp3  \n",
            "  inflating: MP3-Example/Country/Country-TRERMNM128F146586A.mp3  \n",
            "  inflating: MP3-Example/Country/Country-TRESFZR128F930FE04.mp3  \n",
            "  inflating: MP3-Example/Country/Country-TREYMLQ128F426591B.mp3  \n",
            "  inflating: MP3-Example/Country/Country-TRFNFGI128F930A920.mp3  \n",
            "  inflating: MP3-Example/Country/Country-TRFNMWZ128F42648B9.mp3  \n",
            "  inflating: MP3-Example/Country/Country-TRFOTVS128F92D858D.mp3  \n",
            "  inflating: MP3-Example/Country/Country-TRFPWCQ128F931FF48.mp3  \n",
            "  inflating: MP3-Example/Country/Country-TRFQBYI128F92EC3EF.mp3  \n",
            "  inflating: MP3-Example/Country/Country-TRGCTOI128F42AFA7D.mp3  \n",
            "  inflating: MP3-Example/Country/Country-TRGLPXN128F42591A4.mp3  \n",
            "  inflating: MP3-Example/Country/Country-TRGSGOW128EF3456D4.mp3  \n",
            "  inflating: MP3-Example/Country/Country-TRHBNSC12903CEA41C.mp3  \n",
            "  inflating: MP3-Example/Country/Country-TRHDUGA128F931B4A7.mp3  \n",
            "  inflating: MP3-Example/Country/Country-TRHGHXW128F145CA94.mp3  \n",
            "  inflating: MP3-Example/Country/Country-TRIEDBK128F92F2ABE.mp3  \n",
            "  inflating: MP3-Example/Country/Country-TRIMAQA128F421A0D3.mp3  \n",
            "  inflating: MP3-Example/Country/Country-TRIPUJK12903D1387D.mp3  \n",
            "  inflating: MP3-Example/Country/Country-TRISZNC12903CA4806.mp3  \n",
            "  inflating: MP3-Example/Country/Country-TRJATSM128F428A47A.mp3  \n",
            "  inflating: MP3-Example/Country/Country-TRJGSNR128F92FCDCE.mp3  \n",
            "  inflating: MP3-Example/Country/Country-TRJJYOO128F428D132.mp3  \n",
            "  inflating: MP3-Example/Country/Country-TRJWVJE128F42591A5.mp3  \n",
            "  inflating: MP3-Example/Country/Country-TRKOZVY12903CFDBD0.mp3  \n",
            "  inflating: MP3-Example/Country/Country-TRLJZED128F4266EDA.mp3  \n",
            "  inflating: MP3-Example/Country/Country-TRLQBEN128F92E7415.mp3  \n",
            "  inflating: MP3-Example/Country/Country-TRLTLQI128F427A4D2.mp3  \n",
            "  inflating: MP3-Example/Country/Country-TRLZHME128F421A87A.mp3  \n",
            "  inflating: MP3-Example/Country/Country-TRLZLFK128F4269F92.mp3  \n",
            "  inflating: MP3-Example/Country/Country-TRMIHEH128F428E2BD.mp3  \n",
            "  inflating: MP3-Example/Country/Country-TRMKGXJ128F423A067.mp3  \n",
            "  inflating: MP3-Example/Country/Country-TRMZOST12903CE303C.mp3  \n",
            "  inflating: MP3-Example/Country/Country-TRNBZMV128F42B261C.mp3  \n",
            "  inflating: MP3-Example/Country/Country-TRNEIYO128F92E743E.mp3  \n",
            "  inflating: MP3-Example/Country/Country-TRNOFAT12903CAAB09.mp3  \n",
            "  inflating: MP3-Example/Country/Country-TRODHKQ128F42962B4.mp3  \n",
            "  inflating: MP3-Example/Country/Country-TROKLRX128F1464C3B.mp3  \n",
            "  inflating: MP3-Example/Country/Country-TROMNMH128F1459DF2.mp3  \n",
            "  inflating: MP3-Example/Country/Country-TROPYKC128F934945D.mp3  \n",
            "  inflating: MP3-Example/Country/Country-TRPCZWR128F92F4129.mp3  \n",
            "  inflating: MP3-Example/Country/Country-TRPOHJA128F149CB45.mp3  \n",
            "  inflating: MP3-Example/Country/Country-TRPQCSR128F422310F.mp3  \n",
            "  inflating: MP3-Example/Country/Country-TRQFQTD128F427024B.mp3  \n",
            "  inflating: MP3-Example/Country/Country-TRQMEYH128F145B5A4.mp3  \n",
            "  inflating: MP3-Example/Country/Country-TRQWKRF12903CEAB9E.mp3  \n",
            "  inflating: MP3-Example/Country/Country-TRRGXHG128F4266392.mp3  \n",
            "  inflating: MP3-Example/Country/Country-TRRHDQB128F93181C1.mp3  \n",
            "  inflating: MP3-Example/Country/Country-TRRPBMJ128F426AFD9.mp3  \n",
            "  inflating: MP3-Example/Country/Country-TRRQNJW128F92FE599.mp3  \n",
            "  inflating: MP3-Example/Country/Country-TRRSQDZ128F42A3B0E.mp3  \n",
            "  inflating: MP3-Example/Country/Country-TRSLOXT128F428F202.mp3  \n",
            "  inflating: MP3-Example/Country/Country-TRSSNUP128F42B841A.mp3  \n",
            "  inflating: MP3-Example/Country/Country-TRTJRHG128F426250C.mp3  \n",
            "  inflating: MP3-Example/Country/Country-TRTNKIL128F92E361A.mp3  \n",
            "  inflating: MP3-Example/Country/Country-TRTRPHP128F424809F.mp3  \n",
            "  inflating: MP3-Example/Country/Country-TRTXINF128F4263488.mp3  \n",
            "  inflating: MP3-Example/Country/Country-TRUCEMO128F92E7467.mp3  \n",
            "  inflating: MP3-Example/Country/Country-TRUQRQF128F92FBC20.mp3  \n",
            "  inflating: MP3-Example/Country/Country-TRUTNVB128F92F3682.mp3  \n",
            "  inflating: MP3-Example/Country/Country-TRUUGXE128F42854A6.mp3  \n",
            "  inflating: MP3-Example/Country/Country-TRUWKDV128F92DE274.mp3  \n",
            "  inflating: MP3-Example/Country/Country-TRUWKHZ128F428A4B0.mp3  \n",
            "  inflating: MP3-Example/Country/Country-TRVDFCY128F4261D33.mp3  \n",
            "  inflating: MP3-Example/Country/Country-TRVFVHA128E078E844.mp3  \n",
            "  inflating: MP3-Example/Country/Country-TRWDNVX128F9313F4D.mp3  \n",
            "  inflating: MP3-Example/Country/Country-TRWQMCO128F9307B03.mp3  \n",
            "  inflating: MP3-Example/Country/Country-TRWSITX128F147B0D0.mp3  \n",
            "  inflating: MP3-Example/Country/Country-TRXDAGS128F149D988.mp3  \n",
            "  inflating: MP3-Example/Country/Country-TRXIWSJ128F92F9D6C.mp3  \n",
            "  inflating: MP3-Example/Country/Country-TRXJZOY128F428BC92.mp3  \n",
            "  inflating: MP3-Example/Country/Country-TRXKWPB128F4242DFB.mp3  \n",
            "  inflating: MP3-Example/Country/Country-TRXLJIJ128F149C309.mp3  \n",
            "  inflating: MP3-Example/Country/Country-TRXUWTA128F932C8FE.mp3  \n",
            "  inflating: MP3-Example/Country/Country-TRYBJME128F425DA4D.mp3  \n",
            "  inflating: MP3-Example/Country/Country-TRYHTPS128F427AC56.mp3  \n",
            "  inflating: MP3-Example/Country/Country-TRYJGGD128F1477118.mp3  \n",
            "  inflating: MP3-Example/Country/Country-TRYSPNO128F9314D00.mp3  \n",
            "  inflating: MP3-Example/Country/Country-TRYWWQC128F933761F.mp3  \n",
            "  inflating: MP3-Example/Country/Country-TRZLTKY128F1459D79.mp3  \n",
            "  inflating: MP3-Example/Country/Country-TRZRIGS128F932C905.mp3  \n",
            "  inflating: MP3-Example/Electronic/Electronic-TRABPCC128F4265EF7.mp3  \n",
            "  inflating: MP3-Example/Electronic/Electronic-TRAJTJM128F425FD55.mp3  \n",
            "  inflating: MP3-Example/Electronic/Electronic-TRAJWPS128F9319E3A.mp3  \n",
            "  inflating: MP3-Example/Electronic/Electronic-TRARUGW128F92FEBE0.mp3  \n",
            "  inflating: MP3-Example/Electronic/Electronic-TRASBSO128F1465A78.mp3  \n",
            "  inflating: MP3-Example/Electronic/Electronic-TRASSJE128F427927A.mp3  \n",
            "  inflating: MP3-Example/Electronic/Electronic-TRAUYLT128F427538E.mp3  \n",
            "  inflating: MP3-Example/Electronic/Electronic-TRAWNNL128F92F6D75.mp3  \n",
            "  inflating: MP3-Example/Electronic/Electronic-TRBAFVP128F9300C01.mp3  \n",
            "  inflating: MP3-Example/Electronic/Electronic-TRBMLDM12903CE5D08.mp3  \n",
            "  inflating: MP3-Example/Electronic/Electronic-TRBPJWL128F9302BFC.mp3  \n",
            "  inflating: MP3-Example/Electronic/Electronic-TRBUUTF12903D0AF9B.mp3  \n",
            "  inflating: MP3-Example/Electronic/Electronic-TRBZUFA128F4246BD0.mp3  \n",
            "  inflating: MP3-Example/Electronic/Electronic-TRCOVYT128F9316A9D.mp3  \n",
            "  inflating: MP3-Example/Electronic/Electronic-TRCPLYJ128F933CB5B.mp3  \n",
            "  inflating: MP3-Example/Electronic/Electronic-TRCQPYE128F4259B7C.mp3  \n",
            "  inflating: MP3-Example/Electronic/Electronic-TRCYZNE128F933CB64.mp3  \n",
            "  inflating: MP3-Example/Electronic/Electronic-TRDHGVA128F9300B63.mp3  \n",
            "  inflating: MP3-Example/Electronic/Electronic-TRDUVPS12903CDAAF4.mp3  \n",
            "  inflating: MP3-Example/Electronic/Electronic-TREMTHF128F147359F.mp3  \n",
            "  inflating: MP3-Example/Electronic/Electronic-TRFFHQS128EF35C784.mp3  \n",
            "  inflating: MP3-Example/Electronic/Electronic-TRFKKZZ128F9329BC2.mp3  \n",
            "  inflating: MP3-Example/Electronic/Electronic-TRFLHQH128F9312491.mp3  \n",
            "  inflating: MP3-Example/Electronic/Electronic-TRFPHYZ128F426ECCC.mp3  \n",
            "  inflating: MP3-Example/Electronic/Electronic-TRFQFYT128F92FF681.mp3  \n",
            "  inflating: MP3-Example/Electronic/Electronic-TRGGGNL128F9326506.mp3  \n",
            "  inflating: MP3-Example/Electronic/Electronic-TRGNMBR128F92FFB1C.mp3  \n",
            "  inflating: MP3-Example/Electronic/Electronic-TRGZJBO128F1476F3A.mp3  \n",
            "  inflating: MP3-Example/Electronic/Electronic-TRHHSUX128F932E546.mp3  \n",
            "  inflating: MP3-Example/Electronic/Electronic-TRHMCUI128F9313C33.mp3  \n",
            "  inflating: MP3-Example/Electronic/Electronic-TRHQLHY128F92FFC66.mp3  \n",
            "  inflating: MP3-Example/Electronic/Electronic-TRHSMHT128F145A1D0.mp3  \n",
            "  inflating: MP3-Example/Electronic/Electronic-TRHYJPK12903CD023B.mp3  \n",
            "  inflating: MP3-Example/Electronic/Electronic-TRIDDET128F934D580.mp3  \n",
            "  inflating: MP3-Example/Electronic/Electronic-TRIOCRS128F931F3DB.mp3  \n",
            "  inflating: MP3-Example/Electronic/Electronic-TRIRHYP12903CD8414.mp3  \n",
            "  inflating: MP3-Example/Electronic/Electronic-TRIWVJF128E07863FE.mp3  \n",
            "  inflating: MP3-Example/Electronic/Electronic-TRJCTQH12903CB4221.mp3  \n",
            "  inflating: MP3-Example/Electronic/Electronic-TRJTROJ128F92FE2C6.mp3  \n",
            "  inflating: MP3-Example/Electronic/Electronic-TRKFLQD128F92F9172.mp3  \n",
            "  inflating: MP3-Example/Electronic/Electronic-TRKKJXZ12903CC2FA2.mp3  \n",
            "  inflating: MP3-Example/Electronic/Electronic-TRKRKGG128F9331034.mp3  \n",
            "  inflating: MP3-Example/Electronic/Electronic-TRKSTZT128F92F15A3.mp3  \n",
            "  inflating: MP3-Example/Electronic/Electronic-TRKYMTZ128F92D21EC.mp3  \n",
            "  inflating: MP3-Example/Electronic/Electronic-TRLLBJZ128F932ECB1.mp3  \n",
            "  inflating: MP3-Example/Electronic/Electronic-TRLNISN128F4226B57.mp3  \n",
            "  inflating: MP3-Example/Electronic/Electronic-TRLQWWZ12903CB97C2.mp3  \n",
            "  inflating: MP3-Example/Electronic/Electronic-TRLWXPM128E079401C.mp3  \n",
            "  inflating: MP3-Example/Electronic/Electronic-TRMIGJN128F427B2BE.mp3  \n",
            "  inflating: MP3-Example/Electronic/Electronic-TRNASTS12903CE1D8D.mp3  \n",
            "  inflating: MP3-Example/Electronic/Electronic-TRNEEEO128F427737E.mp3  \n",
            "  inflating: MP3-Example/Electronic/Electronic-TRNEYTO12903CBB4A7.mp3  \n",
            "  inflating: MP3-Example/Electronic/Electronic-TRNHKGL128E07912F9.mp3  \n",
            "  inflating: MP3-Example/Electronic/Electronic-TROEEDJ128F42597A1.mp3  \n",
            "  inflating: MP3-Example/Electronic/Electronic-TROJLVT128F42AE85F.mp3  \n",
            "  inflating: MP3-Example/Electronic/Electronic-TROKBQH12903C9D506.mp3  \n",
            "  inflating: MP3-Example/Electronic/Electronic-TRONURT12903CA8DF6.mp3  \n",
            "  inflating: MP3-Example/Electronic/Electronic-TROQZGZ128F145CAC2.mp3  \n",
            "  inflating: MP3-Example/Electronic/Electronic-TROZCCN128F4279280.mp3  \n",
            "  inflating: MP3-Example/Electronic/Electronic-TRPPNCC128F426EC26.mp3  \n",
            "  inflating: MP3-Example/Electronic/Electronic-TRQLZRM12903CF7419.mp3  \n",
            "  inflating: MP3-Example/Electronic/Electronic-TRQMZIM128F93298E4.mp3  \n",
            "  inflating: MP3-Example/Electronic/Electronic-TRQQAPT128F424FA53.mp3  \n",
            "  inflating: MP3-Example/Electronic/Electronic-TRQSYUW128F428A0A6.mp3  \n",
            "  inflating: MP3-Example/Electronic/Electronic-TRRBLPV12903CC4486.mp3  \n",
            "  inflating: MP3-Example/Electronic/Electronic-TRREHWX128F42A3C8E.mp3  \n",
            "  inflating: MP3-Example/Electronic/Electronic-TRRKODA128F146DE22.mp3  \n",
            "  inflating: MP3-Example/Electronic/Electronic-TRRLZAX12903CC4850.mp3  \n",
            "  inflating: MP3-Example/Electronic/Electronic-TRROTYB128F92F6ABB.mp3  \n",
            "  inflating: MP3-Example/Electronic/Electronic-TRRTVVF128F930FD97.mp3  \n",
            "  inflating: MP3-Example/Electronic/Electronic-TRRVSBS128F425A7B0.mp3  \n",
            "  inflating: MP3-Example/Electronic/Electronic-TRRXKWT128F934E726.mp3  \n",
            "  inflating: MP3-Example/Electronic/Electronic-TRRYNRK12903CC5C57.mp3  \n",
            "  inflating: MP3-Example/Electronic/Electronic-TRSCFME128F933196A.mp3  \n",
            "  inflating: MP3-Example/Electronic/Electronic-TRSLLUG12903CC5568.mp3  \n",
            "  inflating: MP3-Example/Electronic/Electronic-TRTAXEW128F146503A.mp3  \n",
            "  inflating: MP3-Example/Electronic/Electronic-TRTAXRE128F42B9C75.mp3  \n",
            "  inflating: MP3-Example/Electronic/Electronic-TRTBTWN128C719661A.mp3  \n",
            "  inflating: MP3-Example/Electronic/Electronic-TRUEJGB128F427F041.mp3  \n",
            "  inflating: MP3-Example/Electronic/Electronic-TRUGVGY128F9308381.mp3  \n",
            "  inflating: MP3-Example/Electronic/Electronic-TRUOMQX128F92D221B.mp3  \n",
            "  inflating: MP3-Example/Electronic/Electronic-TRUQVUH12903CDA814.mp3  \n",
            "  inflating: MP3-Example/Electronic/Electronic-TRUVRIN128E0786D55.mp3  \n",
            "  inflating: MP3-Example/Electronic/Electronic-TRVBGXF128F1463589.mp3  \n",
            "  inflating: MP3-Example/Electronic/Electronic-TRVBVQP12903CC75B5.mp3  \n",
            "  inflating: MP3-Example/Electronic/Electronic-TRVHASH128F92FE904.mp3  \n",
            "  inflating: MP3-Example/Electronic/Electronic-TRVNLXE128F93086D4.mp3  \n",
            "  inflating: MP3-Example/Electronic/Electronic-TRWEYXC128F92FEB8F.mp3  \n",
            "  inflating: MP3-Example/Electronic/Electronic-TRWJQFQ128F423F2B1.mp3  \n",
            "  inflating: MP3-Example/Electronic/Electronic-TRWJTDV128F4263D61.mp3  \n",
            "  inflating: MP3-Example/Electronic/Electronic-TRWPQNP128F93094AE.mp3  \n",
            "  inflating: MP3-Example/Electronic/Electronic-TRWTQTL128EF36396D.mp3  \n",
            "  inflating: MP3-Example/Electronic/Electronic-TRWZQYL12903CD01E0.mp3  \n",
            "  inflating: MP3-Example/Electronic/Electronic-TRXFDJW128F42AC963.mp3  \n",
            "  inflating: MP3-Example/Electronic/Electronic-TRXRCGJ128F93293A8.mp3  \n",
            "  inflating: MP3-Example/Electronic/Electronic-TRXSDIF128F92FBFFC.mp3  \n",
            "  inflating: MP3-Example/Electronic/Electronic-TRYPEPQ128F9337DF6.mp3  \n",
            "  inflating: MP3-Example/Electronic/Electronic-TRYTMKP128F9300AF9.mp3  \n",
            "  inflating: MP3-Example/Electronic/Electronic-TRYUGJH128F93355B0.mp3  \n",
            "  inflating: MP3-Example/Electronic/Electronic-TRZXXNF12903CFCDE4.mp3  \n",
            "  inflating: MP3-Example/Folk/Folk-TRAATUB128F9341737.mp3  \n",
            "  inflating: MP3-Example/Folk/Folk-TRAFUNV128F92CFEB2.mp3  \n",
            "  inflating: MP3-Example/Folk/Folk-TRAIPIA128F4273A3D.mp3  \n",
            "  inflating: MP3-Example/Folk/Folk-TRAUKAH128F1485EAC.mp3  \n",
            "  inflating: MP3-Example/Folk/Folk-TRAWHRH128F426BF30.mp3  \n",
            "  inflating: MP3-Example/Folk/Folk-TRBFBZW128F4241849.mp3  \n",
            "  inflating: MP3-Example/Folk/Folk-TRBNJSP128F423EE8B.mp3  \n",
            "  inflating: MP3-Example/Folk/Folk-TRBPTYF128F423EEA3.mp3  \n",
            "  inflating: MP3-Example/Folk/Folk-TRBTJUS128F4295382.mp3  \n",
            "  inflating: MP3-Example/Folk/Folk-TRBYGLT128F146A2B4.mp3  \n",
            "  inflating: MP3-Example/Folk/Folk-TRBYMXP128F425A348.mp3  \n",
            "  inflating: MP3-Example/Folk/Folk-TRCICQY128F92E4EE1.mp3  \n",
            "  inflating: MP3-Example/Folk/Folk-TRCPZXZ128F92D1DA4.mp3  \n",
            "  inflating: MP3-Example/Folk/Folk-TRCRUXS128F92F1ED1.mp3  \n",
            "  inflating: MP3-Example/Folk/Folk-TRDCTLN12903CF9CB6.mp3  \n",
            "  inflating: MP3-Example/Folk/Folk-TRDFICS128F930CB0C.mp3  \n",
            "  inflating: MP3-Example/Folk/Folk-TRDFQMM128F424A412.mp3  \n",
            "  inflating: MP3-Example/Folk/Folk-TRDIRFQ128F93382DF.mp3  \n",
            "  inflating: MP3-Example/Folk/Folk-TRDJZAT128F428BA7D.mp3  \n",
            "  inflating: MP3-Example/Folk/Folk-TRDMDAZ128F426C90C.mp3  \n",
            "  inflating: MP3-Example/Folk/Folk-TRDTUQO128F428F0D0.mp3  \n",
            "  inflating: MP3-Example/Folk/Folk-TREPTRG128F92FA745.mp3  \n",
            "  inflating: MP3-Example/Folk/Folk-TRESGUW128F935A63B.mp3  \n",
            "  inflating: MP3-Example/Folk/Folk-TRESMLC128F425A385.mp3  \n",
            "  inflating: MP3-Example/Folk/Folk-TRFDWID128F92EC490.mp3  \n",
            "  inflating: MP3-Example/Folk/Folk-TRFLLET12903CC3C86.mp3  \n",
            "  inflating: MP3-Example/Folk/Folk-TRFNVPD128F9325D06.mp3  \n",
            "  inflating: MP3-Example/Folk/Folk-TRFOQIV128F92EA111.mp3  \n",
            "  inflating: MP3-Example/Folk/Folk-TRFPEMC128F42928FE.mp3  \n",
            "  inflating: MP3-Example/Folk/Folk-TRFSFTT128F92F8CF3.mp3  \n",
            "  inflating: MP3-Example/Folk/Folk-TRFVGBW128F14856CA.mp3  \n",
            "  inflating: MP3-Example/Folk/Folk-TRGCVTP128F429555A.mp3  \n",
            "  inflating: MP3-Example/Folk/Folk-TRGFWML128F92DFAE4.mp3  \n",
            "  inflating: MP3-Example/Folk/Folk-TRGHZJJ128F426202D.mp3  \n",
            "  inflating: MP3-Example/Folk/Folk-TRGLLXB128F92D5589.mp3  \n",
            "  inflating: MP3-Example/Folk/Folk-TRGOYOU128F93223F2.mp3  \n",
            "  inflating: MP3-Example/Folk/Folk-TRGRYLX128F933EBCB.mp3  \n",
            "  inflating: MP3-Example/Folk/Folk-TRHFYAO128F4281890.mp3  \n",
            "  inflating: MP3-Example/Folk/Folk-TRHSFBR128F424663F.mp3  \n",
            "  inflating: MP3-Example/Folk/Folk-TRIGAXW128F423EE89.mp3  \n",
            "  inflating: MP3-Example/Folk/Folk-TRIOKWE128F92F9FC1.mp3  \n",
            "  inflating: MP3-Example/Folk/Folk-TRIRPBD128F92F6262.mp3  \n",
            "  inflating: MP3-Example/Folk/Folk-TRIRSHE128F14B0BA3.mp3  \n",
            "  inflating: MP3-Example/Folk/Folk-TRISWHT128F92D3190.mp3  \n",
            "  inflating: MP3-Example/Folk/Folk-TRIYPQC12903CF6A12.mp3  \n",
            "  inflating: MP3-Example/Folk/Folk-TRJNYKL128F1488552.mp3  \n",
            "  inflating: MP3-Example/Folk/Folk-TRJUYHK128F92E73BB.mp3  \n",
            "  inflating: MP3-Example/Folk/Folk-TRJWVNH12903D051C4.mp3  \n",
            "  inflating: MP3-Example/Folk/Folk-TRKQLRS128F4230F04.mp3  \n",
            "  inflating: MP3-Example/Folk/Folk-TRLCROX128F4295398.mp3  \n",
            "  inflating: MP3-Example/Folk/Folk-TRLJCJY128F423EE8C.mp3  \n",
            "  inflating: MP3-Example/Folk/Folk-TRLJNMJ128F429593B.mp3  \n",
            "  inflating: MP3-Example/Folk/Folk-TRLLIHJ128F425C76C.mp3  \n",
            "  inflating: MP3-Example/Folk/Folk-TRLMYVX128F4230E4F.mp3  \n",
            "  inflating: MP3-Example/Folk/Folk-TRMGYUV128F92F6C06.mp3  \n",
            "  inflating: MP3-Example/Folk/Folk-TRMLFLB128F428ED38.mp3  \n",
            "  inflating: MP3-Example/Folk/Folk-TRNAVUA128F423EE88.mp3  \n",
            "  inflating: MP3-Example/Folk/Folk-TRNMKPS128F425A349.mp3  \n",
            "  inflating: MP3-Example/Folk/Folk-TRNPXSW128F425A683.mp3  \n",
            "  inflating: MP3-Example/Folk/Folk-TROABHR128F429596B.mp3  \n",
            "  inflating: MP3-Example/Folk/Folk-TROHLZT128F424C1A3.mp3  \n",
            "  inflating: MP3-Example/Folk/Folk-TROJVOC128F92EC9F4.mp3  \n",
            "  inflating: MP3-Example/Folk/Folk-TROSICE128F93505B7.mp3  \n",
            "  inflating: MP3-Example/Folk/Folk-TRPVZZT128F423EEA5.mp3  \n",
            "  inflating: MP3-Example/Folk/Folk-TRQBNQV128F423EEA4.mp3  \n",
            "  inflating: MP3-Example/Folk/Folk-TRQJEGR128F429554B.mp3  \n",
            "  inflating: MP3-Example/Folk/Folk-TRQLWDC128F42396CF.mp3  \n",
            "  inflating: MP3-Example/Folk/Folk-TRRKQNA128F423EE8F.mp3  \n",
            "  inflating: MP3-Example/Folk/Folk-TRRKZAB128F425E040.mp3  \n",
            "  inflating: MP3-Example/Folk/Folk-TRRMWMF128F92F9B8D.mp3  \n",
            "  inflating: MP3-Example/Folk/Folk-TRROABB128F428F0E8.mp3  \n",
            "  inflating: MP3-Example/Folk/Folk-TRRWHAJ128F146A2B6.mp3  \n",
            "  inflating: MP3-Example/Folk/Folk-TRRYVNG128F92FAE0F.mp3  \n",
            "  inflating: MP3-Example/Folk/Folk-TRSCBKV128F427888D.mp3  \n",
            "  inflating: MP3-Example/Folk/Folk-TRSPOSQ128F92D679E.mp3  \n",
            "  inflating: MP3-Example/Folk/Folk-TRSPYDA128F92FA061.mp3  \n",
            "  inflating: MP3-Example/Folk/Folk-TRSRUWK128F426C900.mp3  \n",
            "  inflating: MP3-Example/Folk/Folk-TRSYFAU12903CBE0AE.mp3  \n",
            "  inflating: MP3-Example/Folk/Folk-TRSYWFI128F931682F.mp3  \n",
            "  inflating: MP3-Example/Folk/Folk-TRTNIGY128F148EF48.mp3  \n",
            "  inflating: MP3-Example/Folk/Folk-TRTQHKH128F423EE8E.mp3  \n",
            "  inflating: MP3-Example/Folk/Folk-TRTQIRO12903CC3C85.mp3  \n",
            "  inflating: MP3-Example/Folk/Folk-TRUCJTA128F14856CD.mp3  \n",
            "  inflating: MP3-Example/Folk/Folk-TRUGYZP128F148EF4C.mp3  \n",
            "  inflating: MP3-Example/Folk/Folk-TRUJLMG128E0781689.mp3  \n",
            "  inflating: MP3-Example/Folk/Folk-TRUMFSQ128F92D8942.mp3  \n",
            "  inflating: MP3-Example/Folk/Folk-TRUULUB128F428C6DC.mp3  \n",
            "  inflating: MP3-Example/Folk/Folk-TRUXWBF128E0785B09.mp3  \n",
            "  inflating: MP3-Example/Folk/Folk-TRVKWRU128F934524A.mp3  \n",
            "  inflating: MP3-Example/Folk/Folk-TRVPFIE128F42662BE.mp3  \n",
            "  inflating: MP3-Example/Folk/Folk-TRWGJBD128F428F53E.mp3  \n",
            "  inflating: MP3-Example/Folk/Folk-TRWSRJG128F428BA7F.mp3  \n",
            "  inflating: MP3-Example/Folk/Folk-TRXIXSP128F42A04EC.mp3  \n",
            "  inflating: MP3-Example/Folk/Folk-TRXQERT128F42BAF3E.mp3  \n",
            "  inflating: MP3-Example/Folk/Folk-TRYBFNR128F426BE3D.mp3  \n",
            "  inflating: MP3-Example/Folk/Folk-TRYBRHJ128F145E2B5.mp3  \n",
            "  inflating: MP3-Example/Folk/Folk-TRYIJXO128F423EE85.mp3  \n",
            "  inflating: MP3-Example/Folk/Folk-TRYRSOF128F92F6BF2.mp3  \n",
            "  inflating: MP3-Example/Folk/Folk-TRYZVRM128F4268BC0.mp3  \n",
            "  inflating: MP3-Example/Folk/Folk-TRZMMWJ128F92F9FC9.mp3  \n",
            "  inflating: MP3-Example/Jazz/Jazz-TRAAJAC12903CEB847.mp3  \n",
            "  inflating: MP3-Example/Jazz/Jazz-TRAAYTI128F933663B.mp3  \n",
            "  inflating: MP3-Example/Jazz/Jazz-TRABHPA12903CEC222.mp3  \n",
            "  inflating: MP3-Example/Jazz/Jazz-TRABTZP128F92D9357.mp3  \n",
            "  inflating: MP3-Example/Jazz/Jazz-TRADAUR128F9351B94.mp3  \n",
            "  inflating: MP3-Example/Jazz/Jazz-TRADSXU12903CF14CA.mp3  \n",
            "  inflating: MP3-Example/Jazz/Jazz-TRAEVRN128F92FAA81.mp3  \n",
            "  inflating: MP3-Example/Jazz/Jazz-TRBEFXZ128F92DF480.mp3  \n",
            "  inflating: MP3-Example/Jazz/Jazz-TRBFLZY128F428FF2F.mp3  \n",
            "  inflating: MP3-Example/Jazz/Jazz-TRBOMWF128F428B2A7.mp3  \n",
            "  inflating: MP3-Example/Jazz/Jazz-TRCBBXT128F931B080.mp3  \n",
            "  inflating: MP3-Example/Jazz/Jazz-TRCLOOT128F92F27DA.mp3  \n",
            "  inflating: MP3-Example/Jazz/Jazz-TRCQDWE128F4213DE0.mp3  \n",
            "  inflating: MP3-Example/Jazz/Jazz-TRCQWHX128F92F6EE8.mp3  \n",
            "  inflating: MP3-Example/Jazz/Jazz-TRCUARF128E0783AA9.mp3  \n",
            "  inflating: MP3-Example/Jazz/Jazz-TRCXFTZ128F14B162D.mp3  \n",
            "  inflating: MP3-Example/Jazz/Jazz-TRDETUH128F9319F7D.mp3  \n",
            "  inflating: MP3-Example/Jazz/Jazz-TRDHNQD128F42A75BA.mp3  \n",
            "  inflating: MP3-Example/Jazz/Jazz-TRDOCSC128F42708E5.mp3  \n",
            "  inflating: MP3-Example/Jazz/Jazz-TRDSWNQ128F14B1539.mp3  \n",
            "  inflating: MP3-Example/Jazz/Jazz-TRDWQAA128F149A190.mp3  \n",
            "  inflating: MP3-Example/Jazz/Jazz-TREKOJF128EF340745.mp3  \n",
            "  inflating: MP3-Example/Jazz/Jazz-TRERUAJ128E078957C.mp3  \n",
            "  inflating: MP3-Example/Jazz/Jazz-TRFDCFX128F92D3A1E.mp3  \n",
            "  inflating: MP3-Example/Jazz/Jazz-TRFNFNG128E0794B47.mp3  \n",
            "  inflating: MP3-Example/Jazz/Jazz-TRFPIZV128F9307DF9.mp3  \n",
            "  inflating: MP3-Example/Jazz/Jazz-TRFRJLI128F428F1FD.mp3  \n",
            "  inflating: MP3-Example/Jazz/Jazz-TRFRLNY128F92FB91B.mp3  \n",
            "  inflating: MP3-Example/Jazz/Jazz-TRFTKCH12903CCF902.mp3  \n",
            "  inflating: MP3-Example/Jazz/Jazz-TRFVWHK128F4279F58.mp3  \n",
            "  inflating: MP3-Example/Jazz/Jazz-TRGGAUY128F42772FF.mp3  \n",
            "  inflating: MP3-Example/Jazz/Jazz-TRGJZUI128F92DB525.mp3  \n",
            "  inflating: MP3-Example/Jazz/Jazz-TRGQSKW128F428E601.mp3  \n",
            "  inflating: MP3-Example/Jazz/Jazz-TRHEEOV128E0795CD5.mp3  \n",
            "  inflating: MP3-Example/Jazz/Jazz-TRHJQLQ128F92E0AD0.mp3  \n",
            "  inflating: MP3-Example/Jazz/Jazz-TRHWOZB128F42677FB.mp3  \n",
            "  inflating: MP3-Example/Jazz/Jazz-TRHZHIU128E0788BC2.mp3  \n",
            "  inflating: MP3-Example/Jazz/Jazz-TRIINUJ12903C9B42C.mp3  \n",
            "  inflating: MP3-Example/Jazz/Jazz-TRILEBD128F149855C.mp3  \n",
            "  inflating: MP3-Example/Jazz/Jazz-TRILLQF128F930835F.mp3  \n",
            "  inflating: MP3-Example/Jazz/Jazz-TRINQFB128F14AA247.mp3  \n",
            "  inflating: MP3-Example/Jazz/Jazz-TRIPDVC128F9300653.mp3  \n",
            "  inflating: MP3-Example/Jazz/Jazz-TRIUIPA128F931C0F3.mp3  \n",
            "  inflating: MP3-Example/Jazz/Jazz-TRIVUMW128F425980E.mp3  \n",
            "  inflating: MP3-Example/Jazz/Jazz-TRIXSMB128F9307414.mp3  \n",
            "  inflating: MP3-Example/Jazz/Jazz-TRJAEFB128F42644DD.mp3  \n",
            "  inflating: MP3-Example/Jazz/Jazz-TRKCKTA128F1463559.mp3  \n",
            "  inflating: MP3-Example/Jazz/Jazz-TRKHUOP128F42B1B99.mp3  \n",
            "  inflating: MP3-Example/Jazz/Jazz-TRKKVZE12903CDC5CF.mp3  \n",
            "  inflating: MP3-Example/Jazz/Jazz-TRKREKL128F92DC9A1.mp3  \n",
            "  inflating: MP3-Example/Jazz/Jazz-TRLFEPH128EF34B3C5.mp3  \n",
            "  inflating: MP3-Example/Jazz/Jazz-TRLNXPG128F931B02E.mp3  \n",
            "  inflating: MP3-Example/Jazz/Jazz-TRLOPGN128F4268EE8.mp3  \n",
            "  inflating: MP3-Example/Jazz/Jazz-TRLRXAY12903CEFAD3.mp3  \n",
            "  inflating: MP3-Example/Jazz/Jazz-TRLSXYO128F14932F1.mp3  \n",
            "  inflating: MP3-Example/Jazz/Jazz-TRLUBDL128F930A12C.mp3  \n",
            "  inflating: MP3-Example/Jazz/Jazz-TRLUQJE12903D04005.mp3  \n",
            "  inflating: MP3-Example/Jazz/Jazz-TRMBALI128F4263C1B.mp3  \n",
            "  inflating: MP3-Example/Jazz/Jazz-TRMRWUR128F4263D65.mp3  \n",
            "  inflating: MP3-Example/Jazz/Jazz-TRMXZMN128F425980B.mp3  \n",
            "  inflating: MP3-Example/Jazz/Jazz-TRNYPRA128E0786505.mp3  \n",
            "  inflating: MP3-Example/Jazz/Jazz-TROIHZU12903CDCA9A.mp3  \n",
            "  inflating: MP3-Example/Jazz/Jazz-TROMKRY128E078957D.mp3  \n",
            "  inflating: MP3-Example/Jazz/Jazz-TROMWIV128F429E3CE.mp3  \n",
            "  inflating: MP3-Example/Jazz/Jazz-TROTZEL128F147F7F1.mp3  \n",
            "  inflating: MP3-Example/Jazz/Jazz-TRPIBJW128F428CE9A.mp3  \n",
            "  inflating: MP3-Example/Jazz/Jazz-TRPKOKR12903CE91AF.mp3  \n",
            "  inflating: MP3-Example/Jazz/Jazz-TRQOOUL128F9350A97.mp3  \n",
            "  inflating: MP3-Example/Jazz/Jazz-TRQORZJ12903CAB9FA.mp3  \n",
            "  inflating: MP3-Example/Jazz/Jazz-TRQUFVD128F4236831.mp3  \n",
            "  inflating: MP3-Example/Jazz/Jazz-TRRFNKF128F146AE82.mp3  \n",
            "  inflating: MP3-Example/Jazz/Jazz-TRRHOMD128F4266AEE.mp3  \n",
            "  inflating: MP3-Example/Jazz/Jazz-TRRJCHP128F425961F.mp3  \n",
            "  inflating: MP3-Example/Jazz/Jazz-TRRKZJJ128F92F9F1E.mp3  \n",
            "  inflating: MP3-Example/Jazz/Jazz-TRROFDK128F1499D84.mp3  \n",
            "  inflating: MP3-Example/Jazz/Jazz-TRRRDKL128F930BFD9.mp3  \n",
            "  inflating: MP3-Example/Jazz/Jazz-TRSCTHM128F930885F.mp3  \n",
            "  inflating: MP3-Example/Jazz/Jazz-TRSZANB128F931C2DD.mp3  \n",
            "  inflating: MP3-Example/Jazz/Jazz-TRTYJKM128F42644E8.mp3  \n",
            "  inflating: MP3-Example/Jazz/Jazz-TRUEXIE128F9312280.mp3  \n",
            "  inflating: MP3-Example/Jazz/Jazz-TRUGBKO12903CCF906.mp3  \n",
            "  inflating: MP3-Example/Jazz/Jazz-TRUGPWC128F9349C50.mp3  \n",
            "  inflating: MP3-Example/Jazz/Jazz-TRUQFSK128F14A4567.mp3  \n",
            "  inflating: MP3-Example/Jazz/Jazz-TRUVZUH128F42385D1.mp3  \n",
            "  inflating: MP3-Example/Jazz/Jazz-TRUWVON128F931C2C0.mp3  \n",
            "  inflating: MP3-Example/Jazz/Jazz-TRVBKNN12903CF842A.mp3  \n",
            "  inflating: MP3-Example/Jazz/Jazz-TRVEHOG128EF350ED6.mp3  \n",
            "  inflating: MP3-Example/Jazz/Jazz-TRVJBFW128F1456FAE.mp3  \n",
            "  inflating: MP3-Example/Jazz/Jazz-TRVWDIW12903CBAC37.mp3  \n",
            "  inflating: MP3-Example/Jazz/Jazz-TRXBWCN128F92F6083.mp3  \n",
            "  inflating: MP3-Example/Jazz/Jazz-TRXDAFX128F146AE88.mp3  \n",
            "  inflating: MP3-Example/Jazz/Jazz-TRXGWGY128F4228E7E.mp3  \n",
            "  inflating: MP3-Example/Jazz/Jazz-TRXIAWA128F426B5B6.mp3  \n",
            "  inflating: MP3-Example/Jazz/Jazz-TRXUZAU12903CB4EA9.mp3  \n",
            "  inflating: MP3-Example/Jazz/Jazz-TRYBHJR128F42961DF.mp3  \n",
            "  inflating: MP3-Example/Jazz/Jazz-TRYBMRB128F92FC743.mp3  \n",
            "  inflating: MP3-Example/Jazz/Jazz-TRYBZXV12903CED4DE.mp3  \n",
            "  inflating: MP3-Example/Jazz/Jazz-TRYZTEQ128F4262A05.mp3  \n",
            "  inflating: MP3-Example/Jazz/Jazz-TRZINJQ128F92D1687.mp3  \n",
            "  inflating: MP3-Example/Jazz/Jazz-TRZTVMS128E0783578.mp3  \n",
            "  inflating: MP3-Example/Latin/Latin-TRAFNQP128F92FAA26.mp3  \n",
            "  inflating: MP3-Example/Latin/Latin-TRAGERQ128F429A9BD.mp3  \n",
            "  inflating: MP3-Example/Latin/Latin-TRAHEZP12903CB181E.mp3  \n",
            "  inflating: MP3-Example/Latin/Latin-TRAOJMT128F92FD7E9.mp3  \n",
            "  inflating: MP3-Example/Latin/Latin-TRBCDQG128E0782588.mp3  \n",
            "  inflating: MP3-Example/Latin/Latin-TRBQWAQ128F92E4011.mp3  \n",
            "  inflating: MP3-Example/Latin/Latin-TRBUBQJ128F42409EB.mp3  \n",
            "  inflating: MP3-Example/Latin/Latin-TRCSNFA128F933AA93.mp3  \n",
            "  inflating: MP3-Example/Latin/Latin-TRCXUJX128F93481E2.mp3  \n",
            "  inflating: MP3-Example/Latin/Latin-TRCYMZH128F9313CF4.mp3  \n",
            "  inflating: MP3-Example/Latin/Latin-TRDECBR128F4271E4B.mp3  \n",
            "  inflating: MP3-Example/Latin/Latin-TRDQKMQ128F92DD143.mp3  \n",
            "  inflating: MP3-Example/Latin/Latin-TRDTICM128F1469F3C.mp3  \n",
            "  inflating: MP3-Example/Latin/Latin-TRDTQCL128F14A3F37.mp3  \n",
            "  inflating: MP3-Example/Latin/Latin-TRDXULY128F42918BD.mp3  \n",
            "  inflating: MP3-Example/Latin/Latin-TREAPBM128F4248309.mp3  \n",
            "  inflating: MP3-Example/Latin/Latin-TREDEQN12903CA9E98.mp3  \n",
            "  inflating: MP3-Example/Latin/Latin-TREDYAD128F422E64B.mp3  \n",
            "  inflating: MP3-Example/Latin/Latin-TREFVVJ128F146E4D1.mp3  \n",
            "  inflating: MP3-Example/Latin/Latin-TREHHMF128F4291A3A.mp3  \n",
            "  inflating: MP3-Example/Latin/Latin-TRFAIPJ128F427322D.mp3  \n",
            "  inflating: MP3-Example/Latin/Latin-TRFDNDU128F425218F.mp3  \n",
            "  inflating: MP3-Example/Latin/Latin-TRFMDHN128F4285A49.mp3  \n",
            "  inflating: MP3-Example/Latin/Latin-TRFVXUC128F9321145.mp3  \n",
            "  inflating: MP3-Example/Latin/Latin-TRFXWJG12903CB5D03.mp3  \n",
            "  inflating: MP3-Example/Latin/Latin-TRFZMAX12903CCA3FE.mp3  \n",
            "  inflating: MP3-Example/Latin/Latin-TRGALJI128F422E77A.mp3  \n",
            "  inflating: MP3-Example/Latin/Latin-TRGBNBN128F9303FE3.mp3  \n",
            "  inflating: MP3-Example/Latin/Latin-TRGJXTC128F4278ECC.mp3  \n",
            "  inflating: MP3-Example/Latin/Latin-TRGKDUW128F424830F.mp3  \n",
            "  inflating: MP3-Example/Latin/Latin-TRGWEYN128F42723CC.mp3  \n",
            "  inflating: MP3-Example/Latin/Latin-TRHAKKB128E07959DC.mp3  \n",
            "  inflating: MP3-Example/Latin/Latin-TRHDIQD128F93246E1.mp3  \n",
            "  inflating: MP3-Example/Latin/Latin-TRHJKCI128F14794BB.mp3  \n",
            "  inflating: MP3-Example/Latin/Latin-TRHOHWX12903CF6C70.mp3  \n",
            "  inflating: MP3-Example/Latin/Latin-TRIVLOP128F1481266.mp3  \n",
            "  inflating: MP3-Example/Latin/Latin-TRJBYDC128E078258B.mp3  \n",
            "  inflating: MP3-Example/Latin/Latin-TRJMUVN128F423D014.mp3  \n",
            "  inflating: MP3-Example/Latin/Latin-TRKQZJK128F427919D.mp3  \n",
            "  inflating: MP3-Example/Latin/Latin-TRKRETP128F14794BD.mp3  \n",
            "  inflating: MP3-Example/Latin/Latin-TRLHRQJ128F424831C.mp3  \n",
            "  inflating: MP3-Example/Latin/Latin-TRLJJXY128F4222084.mp3  \n",
            "  inflating: MP3-Example/Latin/Latin-TRLLHPH128F14B137B.mp3  \n",
            "  inflating: MP3-Example/Latin/Latin-TRLLQXG128F9307290.mp3  \n",
            "  inflating: MP3-Example/Latin/Latin-TRLORHS128F4248319.mp3  \n",
            "  inflating: MP3-Example/Latin/Latin-TRLWEQT128F42768DE.mp3  \n",
            "  inflating: MP3-Example/Latin/Latin-TRLZYYR128F42671E1.mp3  \n",
            "  inflating: MP3-Example/Latin/Latin-TRMOVZV128F4271E5C.mp3  \n",
            "  inflating: MP3-Example/Latin/Latin-TRMVLCU128F425D72C.mp3  \n",
            "  inflating: MP3-Example/Latin/Latin-TRNWCIT128F9300059.mp3  \n",
            "  inflating: MP3-Example/Latin/Latin-TROEFBK128F147FD04.mp3  \n",
            "  inflating: MP3-Example/Latin/Latin-TROFVOI128F426AFB0.mp3  \n",
            "  inflating: MP3-Example/Latin/Latin-TROJOFW128F4235E4F.mp3  \n",
            "  inflating: MP3-Example/Latin/Latin-TROOZEZ128F4243798.mp3  \n",
            "  inflating: MP3-Example/Latin/Latin-TROVELG128F4278F1E.mp3  \n",
            "  inflating: MP3-Example/Latin/Latin-TRPFGMK128F426499F.mp3  \n",
            "  inflating: MP3-Example/Latin/Latin-TRPHSJU128F424831A.mp3  \n",
            "  inflating: MP3-Example/Latin/Latin-TRPNSOE128F427CCDF.mp3  \n",
            "  inflating: MP3-Example/Latin/Latin-TRPQSVD128F424382D.mp3  \n",
            "  inflating: MP3-Example/Latin/Latin-TRPXFJP128F93351EA.mp3  \n",
            "  inflating: MP3-Example/Latin/Latin-TRQDKLE128F4221FFE.mp3  \n",
            "  inflating: MP3-Example/Latin/Latin-TRQWRFK128F4243856.mp3  \n",
            "  inflating: MP3-Example/Latin/Latin-TRRIBOP128F934D0E6.mp3  \n",
            "  inflating: MP3-Example/Latin/Latin-TRRKBVU128F4235A44.mp3  \n",
            "  inflating: MP3-Example/Latin/Latin-TRRNJBC128F4271D5C.mp3  \n",
            "  inflating: MP3-Example/Latin/Latin-TRRWMIP128F42881A6.mp3  \n",
            "  inflating: MP3-Example/Latin/Latin-TRRXYNM128F4285058.mp3  \n",
            "  inflating: MP3-Example/Latin/Latin-TRSGPHB128F428B47B.mp3  \n",
            "  inflating: MP3-Example/Latin/Latin-TRSQAWU128F92EA20F.mp3  \n",
            "  inflating: MP3-Example/Latin/Latin-TRSTYBN128F92F08B2.mp3  \n",
            "  inflating: MP3-Example/Latin/Latin-TRSUKMI128F4235A37.mp3  \n",
            "  inflating: MP3-Example/Latin/Latin-TRTODLI128F4271E3E.mp3  \n",
            "  inflating: MP3-Example/Latin/Latin-TRTXRGV128F4297077.mp3  \n",
            "  inflating: MP3-Example/Latin/Latin-TRUDLAI128F9317944.mp3  \n",
            "  inflating: MP3-Example/Latin/Latin-TRUECIC128F4241078.mp3  \n",
            "  inflating: MP3-Example/Latin/Latin-TRUFXOK128F4248313.mp3  \n",
            "  inflating: MP3-Example/Latin/Latin-TRUJGPU128F1495918.mp3  \n",
            "  inflating: MP3-Example/Latin/Latin-TRULBNV128F424830C.mp3  \n",
            "  inflating: MP3-Example/Latin/Latin-TRUNOYE128F42614C6.mp3  \n",
            "  inflating: MP3-Example/Latin/Latin-TRUQZEP128F4248321.mp3  \n",
            "  inflating: MP3-Example/Latin/Latin-TRUTBNC128F4214582.mp3  \n",
            "  inflating: MP3-Example/Latin/Latin-TRUZZTF128F42735B2.mp3  \n",
            "  inflating: MP3-Example/Latin/Latin-TRVVETZ12903CFF53C.mp3  \n",
            "  inflating: MP3-Example/Latin/Latin-TRWDEQF128F93351C6.mp3  \n",
            "  inflating: MP3-Example/Latin/Latin-TRWJOET128F4269A6D.mp3  \n",
            "  inflating: MP3-Example/Latin/Latin-TRWSHXR128EF355EAD.mp3  \n",
            "  inflating: MP3-Example/Latin/Latin-TRWTETN128F14758B0.mp3  \n",
            "  inflating: MP3-Example/Latin/Latin-TRXAEPS128F1469D16.mp3  \n",
            "  inflating: MP3-Example/Latin/Latin-TRXGMMQ128EF342181.mp3  \n",
            "  inflating: MP3-Example/Latin/Latin-TRXHQTA128F42691DF.mp3  \n",
            "  inflating: MP3-Example/Latin/Latin-TRXIEHB128F4272567.mp3  \n",
            "  inflating: MP3-Example/Latin/Latin-TRXKRMS128F4269742.mp3  \n",
            "  inflating: MP3-Example/Latin/Latin-TRXOWKQ128F4297088.mp3  \n",
            "  inflating: MP3-Example/Latin/Latin-TRYASGZ128F42645C0.mp3  \n",
            "  inflating: MP3-Example/Latin/Latin-TRYQKVN128E07864EB.mp3  \n",
            "  inflating: MP3-Example/Latin/Latin-TRZCMJX128F4273317.mp3  \n",
            "  inflating: MP3-Example/Latin/Latin-TRZMYDQ128F92F08D6.mp3  \n",
            "  inflating: MP3-Example/Latin/Latin-TRZPCXO128F14628F5.mp3  \n",
            "  inflating: MP3-Example/Latin/Latin-TRZQLSL128F933A36F.mp3  \n",
            "  inflating: MP3-Example/Latin/Latin-TRZRBRV128F42AD2DD.mp3  \n",
            "  inflating: MP3-Example/Metal/Metal-TRAANRJ128F931D72D.mp3  \n",
            "  inflating: MP3-Example/Metal/Metal-TRAEHXB128F422EF3E.mp3  \n",
            "  inflating: MP3-Example/Metal/Metal-TRAFQXD128E0793E82.mp3  \n",
            "  inflating: MP3-Example/Metal/Metal-TRANTGT128F931F015.mp3  \n",
            "  inflating: MP3-Example/Metal/Metal-TRAQJBB128F4239815.mp3  \n",
            "  inflating: MP3-Example/Metal/Metal-TRAXOQD12903CDD59D.mp3  \n",
            "  inflating: MP3-Example/Metal/Metal-TRBBUHH12903CF3E9B.mp3  \n",
            "  inflating: MP3-Example/Metal/Metal-TRBWLXZ12903CF1CC6.mp3  \n",
            "  inflating: MP3-Example/Metal/Metal-TRBZJUP128EF356B05.mp3  \n",
            "  inflating: MP3-Example/Metal/Metal-TRCAOLY12903CC2544.mp3  \n",
            "  inflating: MP3-Example/Metal/Metal-TRCHEMC128F424C4F3.mp3  \n",
            "  inflating: MP3-Example/Metal/Metal-TRCOUGS128F4239804.mp3  \n",
            "  inflating: MP3-Example/Metal/Metal-TRDATOL128F42690CF.mp3  \n",
            "  inflating: MP3-Example/Metal/Metal-TRDKILY128F147CC86.mp3  \n",
            "  inflating: MP3-Example/Metal/Metal-TRDLDDN12903CDF6CA.mp3  \n",
            "  inflating: MP3-Example/Metal/Metal-TRDPYZA128F42ADC95.mp3  \n",
            "  inflating: MP3-Example/Metal/Metal-TREIEJD128F934B468.mp3  \n",
            "  inflating: MP3-Example/Metal/Metal-TRENXMN12903CF1CC7.mp3  \n",
            "  inflating: MP3-Example/Metal/Metal-TRFFHMM128F422CA3F.mp3  \n",
            "  inflating: MP3-Example/Metal/Metal-TRFMBGS128F42684AB.mp3  \n",
            "  inflating: MP3-Example/Metal/Metal-TRFOBPI128F42734B9.mp3  \n",
            "  inflating: MP3-Example/Metal/Metal-TRFOYZF128F930A75C.mp3  \n",
            "  inflating: MP3-Example/Metal/Metal-TRFQYPZ12903CF0E76.mp3  \n",
            "  inflating: MP3-Example/Metal/Metal-TRFWIGT128F147CC7B.mp3  \n",
            "  inflating: MP3-Example/Metal/Metal-TRGEHYN128F931EB14.mp3  \n",
            "  inflating: MP3-Example/Metal/Metal-TRGLRZS128F421B4A1.mp3  \n",
            "  inflating: MP3-Example/Metal/Metal-TRHAHYR128E079388D.mp3  \n",
            "  inflating: MP3-Example/Metal/Metal-TRHFFPB128F93146D6.mp3  \n",
            "  inflating: MP3-Example/Metal/Metal-TRHKABK128F1462479.mp3  \n",
            "  inflating: MP3-Example/Metal/Metal-TRHKWAO128F92EA2EA.mp3  \n",
            "  inflating: MP3-Example/Metal/Metal-TRHMQFN128F934AB18.mp3  \n",
            "  inflating: MP3-Example/Metal/Metal-TRHRVIQ12903CDD8C2.mp3  \n",
            "  inflating: MP3-Example/Metal/Metal-TRIKUXV128F42A5517.mp3  \n",
            "  inflating: MP3-Example/Metal/Metal-TRINCDC128F428CAD0.mp3  \n",
            "  inflating: MP3-Example/Metal/Metal-TRIQNXN12903CF21FB.mp3  \n",
            "  inflating: MP3-Example/Metal/Metal-TRIRMEA128EF356B97.mp3  \n",
            "  inflating: MP3-Example/Metal/Metal-TRIUXDJ128F428CB82.mp3  \n",
            "  inflating: MP3-Example/Metal/Metal-TRIZKTM12903CC1FAB.mp3  \n",
            "  inflating: MP3-Example/Metal/Metal-TRJCGNI128F9321957.mp3  \n",
            "  inflating: MP3-Example/Metal/Metal-TRJNPPQ12903CDF0A8.mp3  \n",
            "  inflating: MP3-Example/Metal/Metal-TRKAUMD128F428CA9C.mp3  \n",
            "  inflating: MP3-Example/Metal/Metal-TRKDIMX128F428BB9F.mp3  \n",
            "  inflating: MP3-Example/Metal/Metal-TRKSBDU128F92F888A.mp3  \n",
            "  inflating: MP3-Example/Metal/Metal-TRKYABN128F145EADB.mp3  \n",
            "  inflating: MP3-Example/Metal/Metal-TRKZUXG128F4253774.mp3  \n",
            "  inflating: MP3-Example/Metal/Metal-TRLDIJZ12903CF8922.mp3  \n",
            "  inflating: MP3-Example/Metal/Metal-TRLGYKD128EF347225.mp3  \n",
            "  inflating: MP3-Example/Metal/Metal-TRLMMQH128F934B56B.mp3  \n",
            "  inflating: MP3-Example/Metal/Metal-TRLNKNL12903D0315D.mp3  \n",
            "  inflating: MP3-Example/Metal/Metal-TRLYEUJ128E0783BC6.mp3  \n",
            "  inflating: MP3-Example/Metal/Metal-TRMBGAO128F4258045.mp3  \n",
            "  inflating: MP3-Example/Metal/Metal-TRMIHMF12903CF4481.mp3  \n",
            "  inflating: MP3-Example/Metal/Metal-TRMSXSW12903CD2CDF.mp3  \n",
            "  inflating: MP3-Example/Metal/Metal-TRNBDXU12903CC6415.mp3  \n",
            "  inflating: MP3-Example/Metal/Metal-TRNIQFN128E0793E85.mp3  \n",
            "  inflating: MP3-Example/Metal/Metal-TRNNKWM128F934AB1B.mp3  \n",
            "  inflating: MP3-Example/Metal/Metal-TRNUUYM128F4242120.mp3  \n",
            "  inflating: MP3-Example/Metal/Metal-TROFLBL128F147E694.mp3  \n",
            "  inflating: MP3-Example/Metal/Metal-TROQQRS12903D0A076.mp3  \n",
            "  inflating: MP3-Example/Metal/Metal-TRPAAPI128F92E1704.mp3  \n",
            "  inflating: MP3-Example/Metal/Metal-TRPCPUK128F934B699.mp3  \n",
            "  inflating: MP3-Example/Metal/Metal-TRPHLST12903CF4226.mp3  \n",
            "  inflating: MP3-Example/Metal/Metal-TRPJRLJ12903CF3E97.mp3  \n",
            "  inflating: MP3-Example/Metal/Metal-TRPWBRV128F148D659.mp3  \n",
            "  inflating: MP3-Example/Metal/Metal-TRQVGTX128F4256ABF.mp3  \n",
            "  inflating: MP3-Example/Metal/Metal-TRRAMCS128F934B99D.mp3  \n",
            "  inflating: MP3-Example/Metal/Metal-TRRGQLQ128F934C324.mp3  \n",
            "  inflating: MP3-Example/Metal/Metal-TRRIFJB128F92D868D.mp3  \n",
            "  inflating: MP3-Example/Metal/Metal-TRRPCLK128F424C963.mp3  \n",
            "  inflating: MP3-Example/Metal/Metal-TRSCACG12903CF0E7B.mp3  \n",
            "  inflating: MP3-Example/Metal/Metal-TRSINPM12903D01B10.mp3  \n",
            "  inflating: MP3-Example/Metal/Metal-TRSKSQS128F429D9AE.mp3  \n",
            "  inflating: MP3-Example/Metal/Metal-TRSQUOG128F426AAA7.mp3  \n",
            "  inflating: MP3-Example/Metal/Metal-TRSVNKP128F428CB99.mp3  \n",
            "  inflating: MP3-Example/Metal/Metal-TRTCHNA128F931EAF3.mp3  \n",
            "  inflating: MP3-Example/Metal/Metal-TRTLPWM12903C9B15E.mp3  \n",
            "  inflating: MP3-Example/Metal/Metal-TRUEOFV128F4262641.mp3  \n",
            "  inflating: MP3-Example/Metal/Metal-TRULEYH128F4251E8B.mp3  \n",
            "  inflating: MP3-Example/Metal/Metal-TRUMWIN128E0789F0F.mp3  \n",
            "  inflating: MP3-Example/Metal/Metal-TRUNXWJ128F93297C0.mp3  \n",
            "  inflating: MP3-Example/Metal/Metal-TRUPDNU128F147CBE9.mp3  \n",
            "  inflating: MP3-Example/Metal/Metal-TRURCFO12903D01339.mp3  \n",
            "  inflating: MP3-Example/Metal/Metal-TRURRVV12903C9F089.mp3  \n",
            "  inflating: MP3-Example/Metal/Metal-TRVBRUW128F4291001.mp3  \n",
            "  inflating: MP3-Example/Metal/Metal-TRVHBIL128E078FA01.mp3  \n",
            "  inflating: MP3-Example/Metal/Metal-TRVOAVJ12903CF4302.mp3  \n",
            "  inflating: MP3-Example/Metal/Metal-TRVTVBJ128F934B546.mp3  \n",
            "  inflating: MP3-Example/Metal/Metal-TRWOJKX12903D06BE4.mp3  \n",
            "  inflating: MP3-Example/Metal/Metal-TRWZVAA128F92C407A.mp3  \n",
            "  inflating: MP3-Example/Metal/Metal-TRXEYQM128F42920A3.mp3  \n",
            "  inflating: MP3-Example/Metal/Metal-TRXIYMD128F933F2D1.mp3  \n",
            "  inflating: MP3-Example/Metal/Metal-TRXOCZT128F934AB1D.mp3  \n",
            "  inflating: MP3-Example/Metal/Metal-TRXRHZA128E0793E4E.mp3  \n",
            "  inflating: MP3-Example/Metal/Metal-TRXSAPP128F424A2B1.mp3  \n",
            "  inflating: MP3-Example/Metal/Metal-TRXULGF12903CBE705.mp3  \n",
            "  inflating: MP3-Example/Metal/Metal-TRYJEYR128F4290FFB.mp3  \n",
            "  inflating: MP3-Example/Metal/Metal-TRYPJDP12903CDFAAC.mp3  \n",
            "  inflating: MP3-Example/Metal/Metal-TRZBCON128F932BBAE.mp3  \n",
            "  inflating: MP3-Example/Metal/Metal-TRZGGXD128F92F4848.mp3  \n",
            "  inflating: MP3-Example/Metal/Metal-TRZOPIN12903CF43BF.mp3  \n",
            "  inflating: MP3-Example/New Age/New Age-TRAASED12903CEE1C5.mp3  \n",
            "  inflating: MP3-Example/New Age/New Age-TRADJAG128F93051C2.mp3  \n",
            "  inflating: MP3-Example/New Age/New Age-TRADKSR128F92F4687.mp3  \n",
            "  inflating: MP3-Example/New Age/New Age-TRADYXQ128F14655F1.mp3  \n",
            "  inflating: MP3-Example/New Age/New Age-TRANRUZ128F934BBE7.mp3  \n",
            "  inflating: MP3-Example/New Age/New Age-TRAUHFH128F14813AC.mp3  \n",
            "  inflating: MP3-Example/New Age/New Age-TRAUTBP128F14542E9.mp3  \n",
            "  inflating: MP3-Example/New Age/New Age-TRBBYXV128F1464453.mp3  \n",
            "  inflating: MP3-Example/New Age/New Age-TRBLBSD128F1490EF0.mp3  \n",
            "  inflating: MP3-Example/New Age/New Age-TRBNTJZ128F93051C8.mp3  \n",
            "  inflating: MP3-Example/New Age/New Age-TRCBUSM128F146A467.mp3  \n",
            "  inflating: MP3-Example/New Age/New Age-TRCEQQA128F92F48B5.mp3  \n",
            "  inflating: MP3-Example/New Age/New Age-TRCNEXD128F932E6E7.mp3  \n",
            "  inflating: MP3-Example/New Age/New Age-TRCOLZV128F1453AD8.mp3  \n",
            "  inflating: MP3-Example/New Age/New Age-TRDAVOG128F93049AB.mp3  \n",
            "  inflating: MP3-Example/New Age/New Age-TRDCVAI128F1473EC6.mp3  \n",
            "  inflating: MP3-Example/New Age/New Age-TRDFMKD128F429378E.mp3  \n",
            "  inflating: MP3-Example/New Age/New Age-TRDZSVE128E078E27E.mp3  \n",
            "  inflating: MP3-Example/New Age/New Age-TRDZYDU128F93071CD.mp3  \n",
            "  inflating: MP3-Example/New Age/New Age-TRESUHK128F92EBBBA.mp3  \n",
            "  inflating: MP3-Example/New Age/New Age-TREWZZW128F92F4690.mp3  \n",
            "  inflating: MP3-Example/New Age/New Age-TRFDVAM128F1453AD9.mp3  \n",
            "  inflating: MP3-Example/New Age/New Age-TRFNBWT128F4291999.mp3  \n",
            "  inflating: MP3-Example/New Age/New Age-TRFOKLX128F92FF246.mp3  \n",
            "  inflating: MP3-Example/New Age/New Age-TRFORFZ128F9311116.mp3  \n",
            "  inflating: MP3-Example/New Age/New Age-TRFQRDR128F932E2B5.mp3  \n",
            "  inflating: MP3-Example/New Age/New Age-TRFXYPX128F92F6F09.mp3  \n",
            "  inflating: MP3-Example/New Age/New Age-TRFZASN128F93045F8.mp3  \n",
            "  inflating: MP3-Example/New Age/New Age-TRFZZIG128E078AF7E.mp3  \n",
            "  inflating: MP3-Example/New Age/New Age-TRGBMRL128F42202D3.mp3  \n",
            "  inflating: MP3-Example/New Age/New Age-TRGCMVF128F423C6AB.mp3  \n",
            "  inflating: MP3-Example/New Age/New Age-TRGETDV128E0796895.mp3  \n",
            "  inflating: MP3-Example/New Age/New Age-TRGGULV128F4295F6A.mp3  \n",
            "  inflating: MP3-Example/New Age/New Age-TRGSXES128F1468D90.mp3  \n",
            "  inflating: MP3-Example/New Age/New Age-TRGYSPV128F146953B.mp3  \n",
            "  inflating: MP3-Example/New Age/New Age-TRHHKVQ128F423C322.mp3  \n",
            "  inflating: MP3-Example/New Age/New Age-TRHSVEP12903CCF7F2.mp3  \n",
            "  inflating: MP3-Example/New Age/New Age-TRIITXF128F147EFD5.mp3  \n",
            "  inflating: MP3-Example/New Age/New Age-TRINSKR12903CE6598.mp3  \n",
            "  inflating: MP3-Example/New Age/New Age-TRIOTJZ128F1453ABC.mp3  \n",
            "  inflating: MP3-Example/New Age/New Age-TRIWVWG128F148F909.mp3  \n",
            "  inflating: MP3-Example/New Age/New Age-TRIXEIM128F92F1CAE.mp3  \n",
            "  inflating: MP3-Example/New Age/New Age-TRJDNXY12903CDD722.mp3  \n",
            "  inflating: MP3-Example/New Age/New Age-TRJKCWG12903CD94A0.mp3  \n",
            "  inflating: MP3-Example/New Age/New Age-TRJLORC128F429596A.mp3  \n",
            "  inflating: MP3-Example/New Age/New Age-TRJPSUJ128F423C32A.mp3  \n",
            "  inflating: MP3-Example/New Age/New Age-TRJRAMC128F930FF75.mp3  \n",
            "  inflating: MP3-Example/New Age/New Age-TRJUSRX128F422025C.mp3  \n",
            "  inflating: MP3-Example/New Age/New Age-TRKKJTW128F14A2CC9.mp3  \n",
            "  inflating: MP3-Example/New Age/New Age-TRKUKUM128F427CC35.mp3  \n",
            "  inflating: MP3-Example/New Age/New Age-TRLENDR128F92F6EFC.mp3  \n",
            "  inflating: MP3-Example/New Age/New Age-TRLOGUD128F931023F.mp3  \n",
            "  inflating: MP3-Example/New Age/New Age-TRLZPSW128F145A631.mp3  \n",
            "  inflating: MP3-Example/New Age/New Age-TRMKIOY128F93071C3.mp3  \n",
            "  inflating: MP3-Example/New Age/New Age-TRMLAVO128F1469D94.mp3  \n",
            "  inflating: MP3-Example/New Age/New Age-TRNHWSA128E0787D07.mp3  \n",
            "  inflating: MP3-Example/New Age/New Age-TRNIXMN128F4295F70.mp3  \n",
            "  inflating: MP3-Example/New Age/New Age-TRNNTLI128F93051BC.mp3  \n",
            "  inflating: MP3-Example/New Age/New Age-TRNVLKM128F4285E1C.mp3  \n",
            "  inflating: MP3-Example/New Age/New Age-TROMZSY128F92F2F41.mp3  \n",
            "  inflating: MP3-Example/New Age/New Age-TROPHST128F42ABAF9.mp3  \n",
            "  inflating: MP3-Example/New Age/New Age-TROSQYZ128F92DACFC.mp3  \n",
            "  inflating: MP3-Example/New Age/New Age-TROYKCI128F1468D95.mp3  \n",
            "  inflating: MP3-Example/New Age/New Age-TRPFGJC128F92F1B49.mp3  \n",
            "  inflating: MP3-Example/New Age/New Age-TRPHOZZ128F1469573.mp3  \n",
            "  inflating: MP3-Example/New Age/New Age-TRPKYXC12903CB6B24.mp3  \n",
            "  inflating: MP3-Example/New Age/New Age-TRPLRVY128F1473EBE.mp3  \n",
            "  inflating: MP3-Example/New Age/New Age-TRPMJNQ128F93017A3.mp3  \n",
            "  inflating: MP3-Example/New Age/New Age-TRPZFRA128F146956E.mp3  \n",
            "  inflating: MP3-Example/New Age/New Age-TRQJNXY128F1469546.mp3  \n",
            "  inflating: MP3-Example/New Age/New Age-TRREZTC128F932E761.mp3  \n",
            "  inflating: MP3-Example/New Age/New Age-TRRIZYQ128F92EC177.mp3  \n",
            "  inflating: MP3-Example/New Age/New Age-TRRZWFZ128F930179B.mp3  \n",
            "  inflating: MP3-Example/New Age/New Age-TRSKEXF128E078AF7C.mp3  \n",
            "  inflating: MP3-Example/New Age/New Age-TRSKXEO128F93049A0.mp3  \n",
            "  inflating: MP3-Example/New Age/New Age-TRSWEBT128F9336E7C.mp3  \n",
            "  inflating: MP3-Example/New Age/New Age-TRTQYNR128F14881D7.mp3  \n",
            "  inflating: MP3-Example/New Age/New Age-TRTUMOU128F930344E.mp3  \n",
            "  inflating: MP3-Example/New Age/New Age-TRTWHTW128F92F6EFD.mp3  \n",
            "  inflating: MP3-Example/New Age/New Age-TRTXAUD128F4264530.mp3  \n",
            "  inflating: MP3-Example/New Age/New Age-TRUHOTT128F92F48BE.mp3  \n",
            "  inflating: MP3-Example/New Age/New Age-TRUJRNN128F9300BB9.mp3  \n",
            "  inflating: MP3-Example/New Age/New Age-TRUVWIP128F422E647.mp3  \n",
            "  inflating: MP3-Example/New Age/New Age-TRVGNVX128F92F1CFB.mp3  \n",
            "  inflating: MP3-Example/New Age/New Age-TRWURTO12903CFA6DA.mp3  \n",
            "  inflating: MP3-Example/New Age/New Age-TRWZYFS128F1453ADF.mp3  \n",
            "  inflating: MP3-Example/New Age/New Age-TRXBHXO128F1458F38.mp3  \n",
            "  inflating: MP3-Example/New Age/New Age-TRXFWIW128F92EC174.mp3  \n",
            "  inflating: MP3-Example/New Age/New Age-TRXLCHG128F42233EE.mp3  \n",
            "  inflating: MP3-Example/New Age/New Age-TRXNCIG128F9315A81.mp3  \n",
            "  inflating: MP3-Example/New Age/New Age-TRXPRMB128F1477426.mp3  \n",
            "  inflating: MP3-Example/New Age/New Age-TRXVHWR128F1464D00.mp3  \n",
            "  inflating: MP3-Example/New Age/New Age-TRYFQXK128F1469569.mp3  \n",
            "  inflating: MP3-Example/New Age/New Age-TRYJDHQ128F429023D.mp3  \n",
            "  inflating: MP3-Example/New Age/New Age-TRYMRWG128F92DBA3B.mp3  \n",
            "  inflating: MP3-Example/New Age/New Age-TRYORAP128EF3447E3.mp3  \n",
            "  inflating: MP3-Example/New Age/New Age-TRYOTWE128F421538E.mp3  \n",
            "  inflating: MP3-Example/New Age/New Age-TRYZWUZ128F42893F2.mp3  \n",
            "  inflating: MP3-Example/New Age/New Age-TRZCFMS128F424E4AE.mp3  \n",
            "  inflating: MP3-Example/New Age/New Age-TRZOAYC128F92F1B4B.mp3  \n",
            "  inflating: MP3-Example/Pop/Pop-TRAAXPX128F42AA93D.mp3  \n",
            "  inflating: MP3-Example/Pop/Pop-TRAEWOL128F92D86EA.mp3  \n",
            "  inflating: MP3-Example/Pop/Pop-TRAITPW128F42782B2.mp3  \n",
            "  inflating: MP3-Example/Pop/Pop-TRASFOM128F92F4B5D.mp3  \n",
            "  inflating: MP3-Example/Pop/Pop-TRATATB128F427C7F2.mp3  \n",
            "  inflating: MP3-Example/Pop/Pop-TRBFAWR128F42A4FDA.mp3  \n",
            "  inflating: MP3-Example/Pop/Pop-TRBFXNC128EF3439E3.mp3  \n",
            "  inflating: MP3-Example/Pop/Pop-TRBFYNY128F92F8755.mp3  \n",
            "  inflating: MP3-Example/Pop/Pop-TRBFZTE128F428037F.mp3  \n",
            "  inflating: MP3-Example/Pop/Pop-TRBJVVL128F931E1BF.mp3  \n",
            "  inflating: MP3-Example/Pop/Pop-TRBMPQU12903D08147.mp3  \n",
            "  inflating: MP3-Example/Pop/Pop-TRBVNDS128F4298330.mp3  \n",
            "  inflating: MP3-Example/Pop/Pop-TRCBWFL128F93126A6.mp3  \n",
            "  inflating: MP3-Example/Pop/Pop-TRCGWSO128F42A3643.mp3  \n",
            "  inflating: MP3-Example/Pop/Pop-TRCMAAF128F9351CD0.mp3  \n",
            "  inflating: MP3-Example/Pop/Pop-TRCQPJP128F4293FD9.mp3  \n",
            "  inflating: MP3-Example/Pop/Pop-TRCVSDT128F424C631.mp3  \n",
            "  inflating: MP3-Example/Pop/Pop-TRDGZKY128F4218F49.mp3  \n",
            "  inflating: MP3-Example/Pop/Pop-TRDPSRX128F425AEFA.mp3  \n",
            "  inflating: MP3-Example/Pop/Pop-TRDSOAK12903CBF565.mp3  \n",
            "  inflating: MP3-Example/Pop/Pop-TRDVQNT128F4232AB5.mp3  \n",
            "  inflating: MP3-Example/Pop/Pop-TREAXFK128F42724B2.mp3  \n",
            "  inflating: MP3-Example/Pop/Pop-TRFOXBG128F427EC52.mp3  \n",
            "  inflating: MP3-Example/Pop/Pop-TRFQIOB128F92F375F.mp3  \n",
            "  inflating: MP3-Example/Pop/Pop-TRGCHLH12903CB7352.mp3  \n",
            "  inflating: MP3-Example/Pop/Pop-TRGCYVN128F42B7F0D.mp3  \n",
            "  inflating: MP3-Example/Pop/Pop-TRGNLXV128F424EB29.mp3  \n",
            "  inflating: MP3-Example/Pop/Pop-TRHECZW128F4278BEE.mp3  \n",
            "  inflating: MP3-Example/Pop/Pop-TRHGTZO12903D1307C.mp3  \n",
            "  inflating: MP3-Example/Pop/Pop-TRHNAVE128F14A3B95.mp3  \n",
            "  inflating: MP3-Example/Pop/Pop-TRHPNSF12903CE6C2A.mp3  \n",
            "  inflating: MP3-Example/Pop/Pop-TRHUABO128F147E40D.mp3  \n",
            "  inflating: MP3-Example/Pop/Pop-TRHYGCO128F92E34B4.mp3  \n",
            "  inflating: MP3-Example/Pop/Pop-TRHYUAI128F149542B.mp3  \n",
            "  inflating: MP3-Example/Pop/Pop-TRILOWN128F426080F.mp3  \n",
            "  inflating: MP3-Example/Pop/Pop-TRIMGYM128E07848C0.mp3  \n",
            "  inflating: MP3-Example/Pop/Pop-TRIMHHO128F4232AB3.mp3  \n",
            "  inflating: MP3-Example/Pop/Pop-TRISFMO128F427F301.mp3  \n",
            "  inflating: MP3-Example/Pop/Pop-TRIWNVJ12903CC7072.mp3  \n",
            "  inflating: MP3-Example/Pop/Pop-TRJEOUO128F426A2FF.mp3  \n",
            "  inflating: MP3-Example/Pop/Pop-TRJJCJQ12903CD2DD3.mp3  \n",
            "  inflating: MP3-Example/Pop/Pop-TRJYYAS128F92EF6FF.mp3  \n",
            "  inflating: MP3-Example/Pop/Pop-TRKFDQP128F931CFA8.mp3  \n",
            "  inflating: MP3-Example/Pop/Pop-TRKQNZA128E0782CD6.mp3  \n",
            "  inflating: MP3-Example/Pop/Pop-TRKXVHR128F428B826.mp3  \n",
            "  inflating: MP3-Example/Pop/Pop-TRLCBLO128F92F3150.mp3  \n",
            "  inflating: MP3-Example/Pop/Pop-TRLMFCZ128F932291D.mp3  \n",
            "  inflating: MP3-Example/Pop/Pop-TRLMZUV128F4270492.mp3  \n",
            "  inflating: MP3-Example/Pop/Pop-TRLTWGW128EF3554ED.mp3  \n",
            "  inflating: MP3-Example/Pop/Pop-TRMKUOZ128F14AF417.mp3  \n",
            "  inflating: MP3-Example/Pop/Pop-TRMMUBQ128F42B81FD.mp3  \n",
            "  inflating: MP3-Example/Pop/Pop-TRMUBGG128F4239713.mp3  \n",
            "  inflating: MP3-Example/Pop/Pop-TRNANSV128EF345F9F.mp3  \n",
            "  inflating: MP3-Example/Pop/Pop-TRNGCNY128F92DFC78.mp3  \n",
            "  inflating: MP3-Example/Pop/Pop-TRNLNUD128F42607D0.mp3  \n",
            "  inflating: MP3-Example/Pop/Pop-TRNRPJH128EF3439E0.mp3  \n",
            "  inflating: MP3-Example/Pop/Pop-TROBROL128F427176C.mp3  \n",
            "  inflating: MP3-Example/Pop/Pop-TROJAFA128F42B9B22.mp3  \n",
            "  inflating: MP3-Example/Pop/Pop-TROLCCZ128F932EC00.mp3  \n",
            "  inflating: MP3-Example/Pop/Pop-TRONJKE128F4263BB4.mp3  \n",
            "  inflating: MP3-Example/Pop/Pop-TROOOIK128F146A4A0.mp3  \n",
            "  inflating: MP3-Example/Pop/Pop-TROXCBC128F14529AE.mp3  \n",
            "  inflating: MP3-Example/Pop/Pop-TRPGBZV128F92F419D.mp3  \n",
            "  inflating: MP3-Example/Pop/Pop-TRPJRSO128F425EA31.mp3  \n",
            "  inflating: MP3-Example/Pop/Pop-TRQMRSO128F92FBA46.mp3  \n",
            "  inflating: MP3-Example/Pop/Pop-TRQZNTC128F934BC26.mp3  \n",
            "  inflating: MP3-Example/Pop/Pop-TRRAGSR128F146E523.mp3  \n",
            "  inflating: MP3-Example/Pop/Pop-TRRGEQO128F92F0F49.mp3  \n",
            "  inflating: MP3-Example/Pop/Pop-TRRHAYO128F4259DE8.mp3  \n",
            "  inflating: MP3-Example/Pop/Pop-TRRKBDG128F931087C.mp3  \n",
            "  inflating: MP3-Example/Pop/Pop-TRROCHQ128F4268672.mp3  \n",
            "  inflating: MP3-Example/Pop/Pop-TRRWQQS128F931D2E6.mp3  \n",
            "  inflating: MP3-Example/Pop/Pop-TRRYILO128F42ADE9E.mp3  \n",
            "  inflating: MP3-Example/Pop/Pop-TRSLCWT128F14955A7.mp3  \n",
            "  inflating: MP3-Example/Pop/Pop-TRSXIGQ12903CE4EEA.mp3  \n",
            "  inflating: MP3-Example/Pop/Pop-TRTODUH128F4228F28.mp3  \n",
            "  inflating: MP3-Example/Pop/Pop-TRTYYTO12903CA4A34.mp3  \n",
            "  inflating: MP3-Example/Pop/Pop-TRUECED128C7196CE4.mp3  \n",
            "  inflating: MP3-Example/Pop/Pop-TRUGEBD128F932FA09.mp3  \n",
            "  inflating: MP3-Example/Pop/Pop-TRUIWTF128F92F8A90.mp3  \n",
            "  inflating: MP3-Example/Pop/Pop-TRUJKVB128F932EBF2.mp3  \n",
            "  inflating: MP3-Example/Pop/Pop-TRULNMB128F92F4BCA.mp3  \n",
            "  inflating: MP3-Example/Pop/Pop-TRUPYUP12903D0FA06.mp3  \n",
            "  inflating: MP3-Example/Pop/Pop-TRURIGT128F425C1E4.mp3  \n",
            "  inflating: MP3-Example/Pop/Pop-TRVACSO128F146BC7A.mp3  \n",
            "  inflating: MP3-Example/Pop/Pop-TRVCUVB128F1452972.mp3  \n",
            "  inflating: MP3-Example/Pop/Pop-TRVPWPO128F426626B.mp3  \n",
            "  inflating: MP3-Example/Pop/Pop-TRWVLJG128F9307271.mp3  \n",
            "  inflating: MP3-Example/Pop/Pop-TRXFYTA128F429364C.mp3  \n",
            "  inflating: MP3-Example/Pop/Pop-TRXGJUK128EF341FFA.mp3  \n",
            "  inflating: MP3-Example/Pop/Pop-TRYHBAB128F92F7246.mp3  \n",
            "  inflating: MP3-Example/Pop/Pop-TRYKOOX128F42A0C7A.mp3  \n",
            "  inflating: MP3-Example/Pop/Pop-TRYNOSN128F42A2B82.mp3  \n",
            "  inflating: MP3-Example/Pop/Pop-TRYSIIR128F42333FF.mp3  \n",
            "  inflating: MP3-Example/Pop/Pop-TRYTXIN128F429125D.mp3  \n",
            "  inflating: MP3-Example/Pop/Pop-TRZEDRT12903CD2DCC.mp3  \n",
            "  inflating: MP3-Example/Pop/Pop-TRZQHYB128F423BD0B.mp3  \n",
            "  inflating: MP3-Example/Pop/Pop-TRZSADA128F930C627.mp3  \n",
            "  inflating: MP3-Example/Pop/Pop-TRZULPZ12903CF6B2B.mp3  \n",
            "  inflating: MP3-Example/Pop/Pop-TRZZLTG128F146D6B0.mp3  \n",
            "  inflating: MP3-Example/Punk/Punk-TRADYFD12903CE4161.mp3  \n",
            "  inflating: MP3-Example/Punk/Punk-TRALOAO128F423E218.mp3  \n",
            "  inflating: MP3-Example/Punk/Punk-TRAMTYX128F42985D0.mp3  \n",
            "  inflating: MP3-Example/Punk/Punk-TRARMHA128F92E7D32.mp3  \n",
            "  inflating: MP3-Example/Punk/Punk-TRBFVEP128F42621E3.mp3  \n",
            "  inflating: MP3-Example/Punk/Punk-TRBLEOA128F424D7C7.mp3  \n",
            "  inflating: MP3-Example/Punk/Punk-TRCPZCS128F428BDDD.mp3  \n",
            "  inflating: MP3-Example/Punk/Punk-TRCRYMI128F92E7D37.mp3  \n",
            "  inflating: MP3-Example/Punk/Punk-TRCSPPG128F42558C4.mp3  \n",
            "  inflating: MP3-Example/Punk/Punk-TRCVRAY128F42701D9.mp3  \n",
            "  inflating: MP3-Example/Punk/Punk-TRDAPBI128F42AC2F4.mp3  \n",
            "  inflating: MP3-Example/Punk/Punk-TRDJWXG128F1486443.mp3  \n",
            "  inflating: MP3-Example/Punk/Punk-TRDVPJE128F425398A.mp3  \n",
            "  inflating: MP3-Example/Punk/Punk-TREUVQI128F931BD8A.mp3  \n",
            "  inflating: MP3-Example/Punk/Punk-TREUXPJ128F4295E53.mp3  \n",
            "  inflating: MP3-Example/Punk/Punk-TREVGQV128F92F39D6.mp3  \n",
            "  inflating: MP3-Example/Punk/Punk-TREZTKO128F4233F02.mp3  \n",
            "  inflating: MP3-Example/Punk/Punk-TRFKNXH12903CFD00D.mp3  \n",
            "  inflating: MP3-Example/Punk/Punk-TRFOAZN128F4219E48.mp3  \n",
            "  inflating: MP3-Example/Punk/Punk-TRFORON128F9343566.mp3  \n",
            "  inflating: MP3-Example/Punk/Punk-TRFPARS128F42623C1.mp3  \n",
            "  inflating: MP3-Example/Punk/Punk-TRFRIQN128F429F5A4.mp3  \n",
            "  inflating: MP3-Example/Punk/Punk-TRFTFQV128F4233F76.mp3  \n",
            "  inflating: MP3-Example/Punk/Punk-TRGACOW12903CEC216.mp3  \n",
            "  inflating: MP3-Example/Punk/Punk-TRGOSDR128F4233A8A.mp3  \n",
            "  inflating: MP3-Example/Punk/Punk-TRGPENP128F9344A4C.mp3  \n",
            "  inflating: MP3-Example/Punk/Punk-TRHFPFG128F425E082.mp3  \n",
            "  inflating: MP3-Example/Punk/Punk-TRHTSDD128F92E7CEE.mp3  \n",
            "  inflating: MP3-Example/Punk/Punk-TRHWDCX128F42AC2F5.mp3  \n",
            "  inflating: MP3-Example/Punk/Punk-TRHXNCC12903CB64E8.mp3  \n",
            "  inflating: MP3-Example/Punk/Punk-TRHXTGC128F428B6D7.mp3  \n",
            "  inflating: MP3-Example/Punk/Punk-TRHZOXJ12903CA71C6.mp3  \n",
            "  inflating: MP3-Example/Punk/Punk-TRILASO128F4286456.mp3  \n",
            "  inflating: MP3-Example/Punk/Punk-TRINHOG128F42626A9.mp3  \n",
            "  inflating: MP3-Example/Punk/Punk-TRIXLTW128F9345CA0.mp3  \n",
            "  inflating: MP3-Example/Punk/Punk-TRJDIBF128F4234F51.mp3  \n",
            "  inflating: MP3-Example/Punk/Punk-TRJHCLA128F424F0CE.mp3  \n",
            "  inflating: MP3-Example/Punk/Punk-TRJKMWH128F428A58D.mp3  \n",
            "  inflating: MP3-Example/Punk/Punk-TRJQLUB128F428A608.mp3  \n",
            "  inflating: MP3-Example/Punk/Punk-TRJQYTW128F429871A.mp3  \n",
            "  inflating: MP3-Example/Punk/Punk-TRJRMVM128F4259C12.mp3  \n",
            "  inflating: MP3-Example/Punk/Punk-TRJTIRD128F42626F8.mp3  \n",
            "  inflating: MP3-Example/Punk/Punk-TRKFXZZ128F423789B.mp3  \n",
            "  inflating: MP3-Example/Punk/Punk-TRKWQHE128F92F93D6.mp3  \n",
            "  inflating: MP3-Example/Punk/Punk-TRLAEHY128F4262611.mp3  \n",
            "  inflating: MP3-Example/Punk/Punk-TRLBMPY128F92D2B06.mp3  \n",
            "  inflating: MP3-Example/Punk/Punk-TRLLNNO128F92F3782.mp3  \n",
            "  inflating: MP3-Example/Punk/Punk-TRLPBWP128F930416D.mp3  \n",
            "  inflating: MP3-Example/Punk/Punk-TRLQKSR128F92F1B1D.mp3  \n",
            "  inflating: MP3-Example/Punk/Punk-TRLSWYA128F428B8F5.mp3  \n",
            "  inflating: MP3-Example/Punk/Punk-TRMCXJP128F428B113.mp3  \n",
            "  inflating: MP3-Example/Punk/Punk-TRMJUWQ128F4233CC2.mp3  \n",
            "  inflating: MP3-Example/Punk/Punk-TRMKIVC128F4298716.mp3  \n",
            "  inflating: MP3-Example/Punk/Punk-TRNQLJQ128F4293F70.mp3  \n",
            "  inflating: MP3-Example/Punk/Punk-TRNSMEH128F428B6CD.mp3  \n",
            "  inflating: MP3-Example/Punk/Punk-TRNWLEN128F42626F9.mp3  \n",
            "  inflating: MP3-Example/Punk/Punk-TRNWRGX128F42622DF.mp3  \n",
            "  inflating: MP3-Example/Punk/Punk-TROHHIQ128F428C410.mp3  \n",
            "  inflating: MP3-Example/Punk/Punk-TROHNHN128F92E7CF2.mp3  \n",
            "  inflating: MP3-Example/Punk/Punk-TROKUMJ128F422FD82.mp3  \n",
            "  inflating: MP3-Example/Punk/Punk-TROOSTO128F428B6F2.mp3  \n",
            "  inflating: MP3-Example/Punk/Punk-TROOXPD12903CF297A.mp3  \n",
            "  inflating: MP3-Example/Punk/Punk-TRORNXW12903D00F40.mp3  \n",
            "  inflating: MP3-Example/Punk/Punk-TROYUHQ128F427FEAC.mp3  \n",
            "  inflating: MP3-Example/Punk/Punk-TRPAZLR128F426245A.mp3  \n",
            "  inflating: MP3-Example/Punk/Punk-TRPCPCW128F4269098.mp3  \n",
            "  inflating: MP3-Example/Punk/Punk-TRPMABN128F4259CEE.mp3  \n",
            "  inflating: MP3-Example/Punk/Punk-TRQRGCS128F4293F6C.mp3  \n",
            "  inflating: MP3-Example/Punk/Punk-TRRFZUZ128F42AC2E8.mp3  \n",
            "  inflating: MP3-Example/Punk/Punk-TRRHAMT128F4293BD8.mp3  \n",
            "  inflating: MP3-Example/Punk/Punk-TRRHAQD128F92F14A3.mp3  \n",
            "  inflating: MP3-Example/Punk/Punk-TRRQJCA128F9303261.mp3  \n",
            "  inflating: MP3-Example/Punk/Punk-TRRSOIC128F9343B94.mp3  \n",
            "  inflating: MP3-Example/Punk/Punk-TRRUYMI128F42A36A2.mp3  \n",
            "  inflating: MP3-Example/Punk/Punk-TRRVIMJ128F9334B0D.mp3  \n",
            "  inflating: MP3-Example/Punk/Punk-TRRWTEE128F933771E.mp3  \n",
            "  inflating: MP3-Example/Punk/Punk-TRSIXMK128F428B838.mp3  \n",
            "  inflating: MP3-Example/Punk/Punk-TRSSQLV128F42783C8.mp3  \n",
            "  inflating: MP3-Example/Punk/Punk-TRTAVIM128F42B6803.mp3  \n",
            "  inflating: MP3-Example/Punk/Punk-TRTTMDJ128F42AC2F3.mp3  \n",
            "  inflating: MP3-Example/Punk/Punk-TRUBYUR128F42621E2.mp3  \n",
            "  inflating: MP3-Example/Punk/Punk-TRUDNWA128EF367153.mp3  \n",
            "  inflating: MP3-Example/Punk/Punk-TRUHJNH128F92DE9EE.mp3  \n",
            "  inflating: MP3-Example/Punk/Punk-TRULVPM128F429B2D6.mp3  \n",
            "  inflating: MP3-Example/Punk/Punk-TRUMOST128F1492938.mp3  \n",
            "  inflating: MP3-Example/Punk/Punk-TRVLZVN128F1492942.mp3  \n",
            "  inflating: MP3-Example/Punk/Punk-TRVZOTA128F428ADF5.mp3  \n",
            "  inflating: MP3-Example/Punk/Punk-TRWRCTM128F92F1D2E.mp3  \n",
            "  inflating: MP3-Example/Punk/Punk-TRXCXJF12903CCA32B.mp3  \n",
            "  inflating: MP3-Example/Punk/Punk-TRXEYKZ128F145C3EF.mp3  \n",
            "  inflating: MP3-Example/Punk/Punk-TRXJUEG128F42AC306.mp3  \n",
            "  inflating: MP3-Example/Punk/Punk-TRXMGZV128F4251499.mp3  \n",
            "  inflating: MP3-Example/Punk/Punk-TRXPSYB12903D05590.mp3  \n",
            "  inflating: MP3-Example/Punk/Punk-TRXSDHD128F1467ED2.mp3  \n",
            "  inflating: MP3-Example/Punk/Punk-TRYIDHL128F4256759.mp3  \n",
            "  inflating: MP3-Example/Punk/Punk-TRYKIQJ128F42625A9.mp3  \n",
            "  inflating: MP3-Example/Punk/Punk-TRYSGKP128E0783A4D.mp3  \n",
            "  inflating: MP3-Example/Punk/Punk-TRZMHYD128F428651A.mp3  \n",
            "  inflating: MP3-Example/Punk/Punk-TRZNEUA128F4293F7D.mp3  \n",
            "  inflating: MP3-Example/Punk/Punk-TRZQWLN128F426235E.mp3  \n",
            "  inflating: MP3-Example/Rap/Rap-TRABCQH128F931525A.mp3  \n",
            "  inflating: MP3-Example/Rap/Rap-TRAFQFM128E078EC97.mp3  \n",
            "  inflating: MP3-Example/Rap/Rap-TRAGBNI128F425E741.mp3  \n",
            "  inflating: MP3-Example/Rap/Rap-TRAMDCB128F42772E3.mp3  \n",
            "  inflating: MP3-Example/Rap/Rap-TRAOIAH128F92F707B.mp3  \n",
            "  inflating: MP3-Example/Rap/Rap-TRAWIMJ12903D110FA.mp3  \n",
            "  inflating: MP3-Example/Rap/Rap-TRAWXYD128F4255FBD.mp3  \n",
            "  inflating: MP3-Example/Rap/Rap-TRAXWLM128F1453E3B.mp3  \n",
            "  inflating: MP3-Example/Rap/Rap-TRAZBCS128F426A54B.mp3  \n",
            "  inflating: MP3-Example/Rap/Rap-TRBIBKA128F42947BF.mp3  \n",
            "  inflating: MP3-Example/Rap/Rap-TRBMKPH128F149158F.mp3  \n",
            "  inflating: MP3-Example/Rap/Rap-TRBQAJW128F92D7208.mp3  \n",
            "  inflating: MP3-Example/Rap/Rap-TRBQEKU128F428C1B3.mp3  \n",
            "  inflating: MP3-Example/Rap/Rap-TRBTIZD128F92F278C.mp3  \n",
            "  inflating: MP3-Example/Rap/Rap-TRCMYEG128F932F20D.mp3  \n",
            "  inflating: MP3-Example/Rap/Rap-TRCOETJ128F14530AA.mp3  \n",
            "  inflating: MP3-Example/Rap/Rap-TRCQNWN128F92EA07D.mp3  \n",
            "  inflating: MP3-Example/Rap/Rap-TRCQPNW128F424E45D.mp3  \n",
            "  inflating: MP3-Example/Rap/Rap-TRCQZEL128F92C9686.mp3  \n",
            "  inflating: MP3-Example/Rap/Rap-TRDAJLU128F4279C48.mp3  \n",
            "  inflating: MP3-Example/Rap/Rap-TRDDRPU12903CADD65.mp3  \n",
            "  inflating: MP3-Example/Rap/Rap-TRDQQZA128F42947C0.mp3  \n",
            "  inflating: MP3-Example/Rap/Rap-TRDRCMY128F145BC3A.mp3  \n",
            "  inflating: MP3-Example/Rap/Rap-TRDZTKB128F42882CE.mp3  \n",
            "  inflating: MP3-Example/Rap/Rap-TRFGJJP128F92D4260.mp3  \n",
            "  inflating: MP3-Example/Rap/Rap-TRFRRXC12903CEA4E8.mp3  \n",
            "  inflating: MP3-Example/Rap/Rap-TRFSMOA128F42887EE.mp3  \n",
            "  inflating: MP3-Example/Rap/Rap-TRFSTTB128F92F4A7C.mp3  \n",
            "  inflating: MP3-Example/Rap/Rap-TRFTNKU128F4288DD2.mp3  \n",
            "  inflating: MP3-Example/Rap/Rap-TRGNAFN128F4288918.mp3  \n",
            "  inflating: MP3-Example/Rap/Rap-TRGUGQQ128F92F5E4A.mp3  \n",
            "  inflating: MP3-Example/Rap/Rap-TRHBUZD128F92E08BB.mp3  \n",
            "  inflating: MP3-Example/Rap/Rap-TRHHMLX12903CB503B.mp3  \n",
            "  inflating: MP3-Example/Rap/Rap-TRIDUFB128F9331638.mp3  \n",
            "  inflating: MP3-Example/Rap/Rap-TRILLIR128F429E5D7.mp3  \n",
            "  inflating: MP3-Example/Rap/Rap-TRIMQVQ12903CD6E79.mp3  \n",
            "  inflating: MP3-Example/Rap/Rap-TRJAMOR128F9319A5C.mp3  \n",
            "  inflating: MP3-Example/Rap/Rap-TRJBBKH128E0784648.mp3  \n",
            "  inflating: MP3-Example/Rap/Rap-TRJHBBS128F92C456D.mp3  \n",
            "  inflating: MP3-Example/Rap/Rap-TRJKJLX128F935385D.mp3  \n",
            "  inflating: MP3-Example/Rap/Rap-TRJSNHV128F4255FB6.mp3  \n",
            "  inflating: MP3-Example/Rap/Rap-TRJTEQH128F1455563.mp3  \n",
            "  inflating: MP3-Example/Rap/Rap-TRJURKY128F426A85C.mp3  \n",
            "  inflating: MP3-Example/Rap/Rap-TRKEJSX128F145481D.mp3  \n",
            "  inflating: MP3-Example/Rap/Rap-TRKFLWR128F427FB56.mp3  \n",
            "  inflating: MP3-Example/Rap/Rap-TRKQHWQ128F42A4C3E.mp3  \n",
            "  inflating: MP3-Example/Rap/Rap-TRLHUEQ128F933D15D.mp3  \n",
            "  inflating: MP3-Example/Rap/Rap-TRLNNTP128E07928CF.mp3  \n",
            "  inflating: MP3-Example/Rap/Rap-TRLOUND128F4291D95.mp3  \n",
            "  inflating: MP3-Example/Rap/Rap-TRLPNTL128F92F6E8A.mp3  \n",
            "  inflating: MP3-Example/Rap/Rap-TRMBIJT128F427997E.mp3  \n",
            "  inflating: MP3-Example/Rap/Rap-TRMIQAE12903C9E6EF.mp3  \n",
            "  inflating: MP3-Example/Rap/Rap-TRMLNZN128F93167DC.mp3  \n",
            "  inflating: MP3-Example/Rap/Rap-TRMXNSW128F42B7AFA.mp3  \n",
            "  inflating: MP3-Example/Rap/Rap-TRNCRGQ128F1474A55.mp3  \n",
            "  inflating: MP3-Example/Rap/Rap-TRNMGWH128F4250694.mp3  \n",
            "  inflating: MP3-Example/Rap/Rap-TRNQYWK128E0794C61.mp3  \n",
            "  inflating: MP3-Example/Rap/Rap-TRNYPYE128F935383F.mp3  \n",
            "  inflating: MP3-Example/Rap/Rap-TROHHVY128F42836E3.mp3  \n",
            "  inflating: MP3-Example/Rap/Rap-TROJJKH128F425C8D8.mp3  \n",
            "  inflating: MP3-Example/Rap/Rap-TROXHOI128F42A5B8D.mp3  \n",
            "  inflating: MP3-Example/Rap/Rap-TROXLAJ128F426496D.mp3  \n",
            "  inflating: MP3-Example/Rap/Rap-TRPCTNN128E07899A6.mp3  \n",
            "  inflating: MP3-Example/Rap/Rap-TRPLEBC128F147717D.mp3  \n",
            "  inflating: MP3-Example/Rap/Rap-TRPNIRE128F932F8DD.mp3  \n",
            "  inflating: MP3-Example/Rap/Rap-TRPQSYN128F42A4C34.mp3  \n",
            "  inflating: MP3-Example/Rap/Rap-TRRDLEV128F42BC78F.mp3  \n",
            "  inflating: MP3-Example/Rap/Rap-TRRFWDR12903CAC8A4.mp3  \n",
            "  inflating: MP3-Example/Rap/Rap-TRRLJFH128F92FCDDA.mp3  \n",
            "  inflating: MP3-Example/Rap/Rap-TRRSAFS128F42947BE.mp3  \n",
            "  inflating: MP3-Example/Rap/Rap-TRSQWMI128F932FC8A.mp3  \n",
            "  inflating: MP3-Example/Rap/Rap-TRSUSWW128F93463BF.mp3  \n",
            "  inflating: MP3-Example/Rap/Rap-TRSXBLY128F425BDD5.mp3  \n",
            "  inflating: MP3-Example/Rap/Rap-TRUDMKS128F4261A65.mp3  \n",
            "  inflating: MP3-Example/Rap/Rap-TRUEGMJ128F148D40C.mp3  \n",
            "  inflating: MP3-Example/Rap/Rap-TRUGMYA128F9346CD4.mp3  \n",
            "  inflating: MP3-Example/Rap/Rap-TRUIBQN12903CC1B92.mp3  \n",
            "  inflating: MP3-Example/Rap/Rap-TRUMIGA128EF351A19.mp3  \n",
            "  inflating: MP3-Example/Rap/Rap-TRUQAPZ128F4223160.mp3  \n",
            "  inflating: MP3-Example/Rap/Rap-TRVAHNJ128F427BBAF.mp3  \n",
            "  inflating: MP3-Example/Rap/Rap-TRVDSAM12903CB6340.mp3  \n",
            "  inflating: MP3-Example/Rap/Rap-TRVINLR128F1469B4E.mp3  \n",
            "  inflating: MP3-Example/Rap/Rap-TRVXUCH128F4262700.mp3  \n",
            "  inflating: MP3-Example/Rap/Rap-TRWDFUY128E0784BD1.mp3  \n",
            "  inflating: MP3-Example/Rap/Rap-TRWMRIR128F92E7CF0.mp3  \n",
            "  inflating: MP3-Example/Rap/Rap-TRWPNYO128F428BE8E.mp3  \n",
            "  inflating: MP3-Example/Rap/Rap-TRXCMYF128E079216A.mp3  \n",
            "  inflating: MP3-Example/Rap/Rap-TRXEQSK128F9319884.mp3  \n",
            "  inflating: MP3-Example/Rap/Rap-TRXGVBB128F4289933.mp3  \n",
            "  inflating: MP3-Example/Rap/Rap-TRXHDTY128F423B588.mp3  \n",
            "  inflating: MP3-Example/Rap/Rap-TRXINKQ128F92F44D7.mp3  \n",
            "  inflating: MP3-Example/Rap/Rap-TRXODGE128F92F44DD.mp3  \n",
            "  inflating: MP3-Example/Rap/Rap-TRXUIUO128F4277F8E.mp3  \n",
            "  inflating: MP3-Example/Rap/Rap-TRXVHFY128F424B932.mp3  \n",
            "  inflating: MP3-Example/Rap/Rap-TRYCXRG128F4214A0C.mp3  \n",
            "  inflating: MP3-Example/Rap/Rap-TRYGQDB12903CA8990.mp3  \n",
            "  inflating: MP3-Example/Rap/Rap-TRYIBIK12903CB5059.mp3  \n",
            "  inflating: MP3-Example/Rap/Rap-TRYQHBW128E0784785.mp3  \n",
            "  inflating: MP3-Example/Rap/Rap-TRZHXUZ128F4281338.mp3  \n",
            "  inflating: MP3-Example/Rap/Rap-TRZZUTD12903CADD68.mp3  \n",
            "  inflating: MP3-Example/Reggae/Reggae-TRACDUX128F429B303.mp3  \n",
            "  inflating: MP3-Example/Reggae/Reggae-TRACMMS128F930696B.mp3  \n",
            "  inflating: MP3-Example/Reggae/Reggae-TRACQIL128F931B8AD.mp3  \n",
            "  inflating: MP3-Example/Reggae/Reggae-TRAIZQI128F42A51F9.mp3  \n",
            "  inflating: MP3-Example/Reggae/Reggae-TRAJBFI12903CC1400.mp3  \n",
            "  inflating: MP3-Example/Reggae/Reggae-TRBALOJ128F93515B2.mp3  \n",
            "  inflating: MP3-Example/Reggae/Reggae-TRBKHZV128F14B13A1.mp3  \n",
            "  inflating: MP3-Example/Reggae/Reggae-TRCDNWU128F428E4AE.mp3  \n",
            "  inflating: MP3-Example/Reggae/Reggae-TRCIJYW128F424AAAD.mp3  \n",
            "  inflating: MP3-Example/Reggae/Reggae-TRCPWNP128F93367BC.mp3  \n",
            "  inflating: MP3-Example/Reggae/Reggae-TRCUSSA128F14584E4.mp3  \n",
            "  inflating: MP3-Example/Reggae/Reggae-TRDEAPR128F4219FA0.mp3  \n",
            "  inflating: MP3-Example/Reggae/Reggae-TRDFPUV128EF35F02D.mp3  \n",
            "  inflating: MP3-Example/Reggae/Reggae-TRDMPAI128F4266582.mp3  \n",
            "  inflating: MP3-Example/Reggae/Reggae-TRDTODK128F1458778.mp3  \n",
            "  inflating: MP3-Example/Reggae/Reggae-TRDVFKE128F425B261.mp3  \n",
            "  inflating: MP3-Example/Reggae/Reggae-TREDOWW128F148BD1D.mp3  \n",
            "  inflating: MP3-Example/Reggae/Reggae-TREETLW12903CE6423.mp3  \n",
            "  inflating: MP3-Example/Reggae/Reggae-TREOAHW128F42B0721.mp3  \n",
            "  inflating: MP3-Example/Reggae/Reggae-TRFJIRG128F429F782.mp3  \n",
            "  inflating: MP3-Example/Reggae/Reggae-TRFORGS128E078F941.mp3  \n",
            "  inflating: MP3-Example/Reggae/Reggae-TRFOWGZ128F4240D60.mp3  \n",
            "  inflating: MP3-Example/Reggae/Reggae-TRFQNZO128F149B9D4.mp3  \n",
            "  inflating: MP3-Example/Reggae/Reggae-TRFRHSZ128F42705AD.mp3  \n",
            "  inflating: MP3-Example/Reggae/Reggae-TRGHZRV128F932C07A.mp3  \n",
            "  inflating: MP3-Example/Reggae/Reggae-TRGKHPN128F934D121.mp3  \n",
            "  inflating: MP3-Example/Reggae/Reggae-TRHAROJ128F9326578.mp3  \n",
            "  inflating: MP3-Example/Reggae/Reggae-TRIBEIC128E0799398.mp3  \n",
            "  inflating: MP3-Example/Reggae/Reggae-TRIGCOP128F1453922.mp3  \n",
            "  inflating: MP3-Example/Reggae/Reggae-TRILUXF12903CB7CC1.mp3  \n",
            "  inflating: MP3-Example/Reggae/Reggae-TRIMYQH128F9331FAA.mp3  \n",
            "  inflating: MP3-Example/Reggae/Reggae-TRINKEO12903D008C6.mp3  \n",
            "  inflating: MP3-Example/Reggae/Reggae-TRIPUDU128F9336C0F.mp3  \n",
            "  inflating: MP3-Example/Reggae/Reggae-TRITBDD128F930198F.mp3  \n",
            "  inflating: MP3-Example/Reggae/Reggae-TRIUKWV128F4251471.mp3  \n",
            "  inflating: MP3-Example/Reggae/Reggae-TRIXHLZ128F425B25C.mp3  \n",
            "  inflating: MP3-Example/Reggae/Reggae-TRIZMMD128F423DB62.mp3  \n",
            "  inflating: MP3-Example/Reggae/Reggae-TRJBLEO128F93231FB.mp3  \n",
            "  inflating: MP3-Example/Reggae/Reggae-TRJNQXF128F425F0A1.mp3  \n",
            "  inflating: MP3-Example/Reggae/Reggae-TRJODFS128F424A792.mp3  \n",
            "  inflating: MP3-Example/Reggae/Reggae-TRJQEVJ128F9348106.mp3  \n",
            "  inflating: MP3-Example/Reggae/Reggae-TRJULQR128F92EE2B2.mp3  \n",
            "  inflating: MP3-Example/Reggae/Reggae-TRKEXLH128F424D13D.mp3  \n",
            "  inflating: MP3-Example/Reggae/Reggae-TRLDXDN128E0798B8D.mp3  \n",
            "  inflating: MP3-Example/Reggae/Reggae-TRLIBRT128F932B138.mp3  \n",
            "  inflating: MP3-Example/Reggae/Reggae-TRLKJQF12903CC5BF8.mp3  \n",
            "  inflating: MP3-Example/Reggae/Reggae-TRLSUZY128F428821C.mp3  \n",
            "  inflating: MP3-Example/Reggae/Reggae-TRLYZMV12903CB7B8A.mp3  \n",
            "  inflating: MP3-Example/Reggae/Reggae-TRMCRNC128F424BEFB.mp3  \n",
            "  inflating: MP3-Example/Reggae/Reggae-TRMDKWH128F42513A6.mp3  \n",
            "  inflating: MP3-Example/Reggae/Reggae-TRMDLXF128F428B757.mp3  \n",
            "  inflating: MP3-Example/Reggae/Reggae-TRMJFDC128F9326B6B.mp3  \n",
            "  inflating: MP3-Example/Reggae/Reggae-TRMKOST128E079939B.mp3  \n",
            "  inflating: MP3-Example/Reggae/Reggae-TRMMBOJ128F429DAF3.mp3  \n",
            "  inflating: MP3-Example/Reggae/Reggae-TRMQPSV128F421A079.mp3  \n",
            "  inflating: MP3-Example/Reggae/Reggae-TRNADCV128F92CB60B.mp3  \n",
            "  inflating: MP3-Example/Reggae/Reggae-TRNCZRR128F92DE764.mp3  \n",
            "  inflating: MP3-Example/Reggae/Reggae-TRNFTRB128F9305C76.mp3  \n",
            "  inflating: MP3-Example/Reggae/Reggae-TRNGVDX128F425F0B4.mp3  \n",
            "  inflating: MP3-Example/Reggae/Reggae-TRNMCVP128F93365DC.mp3  \n",
            "  inflating: MP3-Example/Reggae/Reggae-TRNXUST12903CB5A56.mp3  \n",
            "  inflating: MP3-Example/Reggae/Reggae-TRNYFCZ12903CE4F86.mp3  \n",
            "  inflating: MP3-Example/Reggae/Reggae-TRODKDS128F4272987.mp3  \n",
            "  inflating: MP3-Example/Reggae/Reggae-TROLARL128F428EE18.mp3  \n",
            "  inflating: MP3-Example/Reggae/Reggae-TRORPHO128F93177FF.mp3  \n",
            "  inflating: MP3-Example/Reggae/Reggae-TROSGIT128F4285C53.mp3  \n",
            "  inflating: MP3-Example/Reggae/Reggae-TROZJBF128E07940AA.mp3  \n",
            "  inflating: MP3-Example/Reggae/Reggae-TRPDAXQ128E078F16C.mp3  \n",
            "  inflating: MP3-Example/Reggae/Reggae-TRPTYYL128F429F8DD.mp3  \n",
            "  inflating: MP3-Example/Reggae/Reggae-TRQYKGQ128F42325EE.mp3  \n",
            "  inflating: MP3-Example/Reggae/Reggae-TRRGPMB128E0781CF1.mp3  \n",
            "  inflating: MP3-Example/Reggae/Reggae-TRRHAAU12903D0FB9E.mp3  \n",
            "  inflating: MP3-Example/Reggae/Reggae-TRRKUQV128F931513B.mp3  \n",
            "  inflating: MP3-Example/Reggae/Reggae-TRSKYBH128F42590F8.mp3  \n",
            "  inflating: MP3-Example/Reggae/Reggae-TRSORNO128F4295766.mp3  \n",
            "  inflating: MP3-Example/Reggae/Reggae-TRTTAJU128F933656E.mp3  \n",
            "  inflating: MP3-Example/Reggae/Reggae-TRTUEHJ128F42934A5.mp3  \n",
            "  inflating: MP3-Example/Reggae/Reggae-TRUEHZC128F42454D6.mp3  \n",
            "  inflating: MP3-Example/Reggae/Reggae-TRUINRN128F4259C58.mp3  \n",
            "  inflating: MP3-Example/Reggae/Reggae-TRULIIL128F932000E.mp3  \n",
            "  inflating: MP3-Example/Reggae/Reggae-TRUNNCA128F42590F0.mp3  \n",
            "  inflating: MP3-Example/Reggae/Reggae-TRUSKQI12903CA4868.mp3  \n",
            "  inflating: MP3-Example/Reggae/Reggae-TRUSVYF128E07953E0.mp3  \n",
            "  inflating: MP3-Example/Reggae/Reggae-TRUTRFM128F9327EE2.mp3  \n",
            "  inflating: MP3-Example/Reggae/Reggae-TRUTVNI12903CA70F4.mp3  \n",
            "  inflating: MP3-Example/Reggae/Reggae-TRVSUJS128F4271493.mp3  \n",
            "  inflating: MP3-Example/Reggae/Reggae-TRWMWTX12903CD882A.mp3  \n",
            "  inflating: MP3-Example/Reggae/Reggae-TRWPMAI128F92EC191.mp3  \n",
            "  inflating: MP3-Example/Reggae/Reggae-TRXBUEG128F4224E34.mp3  \n",
            "  inflating: MP3-Example/Reggae/Reggae-TRXCXFH128F4219FCC.mp3  \n",
            "  inflating: MP3-Example/Reggae/Reggae-TRXERLA12903CE9F3E.mp3  \n",
            "  inflating: MP3-Example/Reggae/Reggae-TRXHVHB128EF35905E.mp3  \n",
            "  inflating: MP3-Example/Reggae/Reggae-TRXJXIX128F427C264.mp3  \n",
            "  inflating: MP3-Example/Reggae/Reggae-TRYFVED128F92F9DCF.mp3  \n",
            "  inflating: MP3-Example/Reggae/Reggae-TRYNOOA128F426F919.mp3  \n",
            "  inflating: MP3-Example/Reggae/Reggae-TRYVNSD128F42AE29B.mp3  \n",
            "  inflating: MP3-Example/Reggae/Reggae-TRZAOLL128F424A78F.mp3  \n",
            "  inflating: MP3-Example/Reggae/Reggae-TRZJSDP128F4239F00.mp3  \n",
            "  inflating: MP3-Example/Reggae/Reggae-TRZMEZM128F4257453.mp3  \n",
            "  inflating: MP3-Example/Reggae/Reggae-TRZVMKK128F92F1458.mp3  \n",
            "  inflating: MP3-Example/RnB/RnB-TRAAEJQ128F92C484E.mp3  \n",
            "  inflating: MP3-Example/RnB/RnB-TRACTQD128F14B0F9D.mp3  \n",
            "  inflating: MP3-Example/RnB/RnB-TRAFNQO12903CBB254.mp3  \n",
            "  inflating: MP3-Example/RnB/RnB-TRAKWXS128F92CF385.mp3  \n",
            "  inflating: MP3-Example/RnB/RnB-TRAMMYK128E07936F9.mp3  \n",
            "  inflating: MP3-Example/RnB/RnB-TRANLAK128F429F8D0.mp3  \n",
            "  inflating: MP3-Example/RnB/RnB-TRATWBP128F42BCA13.mp3  \n",
            "  inflating: MP3-Example/RnB/RnB-TRAVORG128F9302C75.mp3  \n",
            "  inflating: MP3-Example/RnB/RnB-TRBHVEV128F425C018.mp3  \n",
            "  inflating: MP3-Example/RnB/RnB-TRCEYJI128F426AC6C.mp3  \n",
            "  inflating: MP3-Example/RnB/RnB-TRCFPZK128F42AEF18.mp3  \n",
            "  inflating: MP3-Example/RnB/RnB-TRCHOAT128F4298AB6.mp3  \n",
            "  inflating: MP3-Example/RnB/RnB-TRCLVPW128F92F1ED1.mp3  \n",
            "  inflating: MP3-Example/RnB/RnB-TRCLYHT128F1495698.mp3  \n",
            "  inflating: MP3-Example/RnB/RnB-TRCQPFP128F92E7658.mp3  \n",
            "  inflating: MP3-Example/RnB/RnB-TRCSFCF128F4264A0F.mp3  \n",
            "  inflating: MP3-Example/RnB/RnB-TRCTEZK128F9309B15.mp3  \n",
            "  inflating: MP3-Example/RnB/RnB-TRCTLQK128F9355F31.mp3  \n",
            "  inflating: MP3-Example/RnB/RnB-TRCVCTZ128F425B552.mp3  \n",
            "  inflating: MP3-Example/RnB/RnB-TRCZENZ128F93148CE.mp3  \n",
            "  inflating: MP3-Example/RnB/RnB-TRDAYZT128F4284EEB.mp3  \n",
            "  inflating: MP3-Example/RnB/RnB-TRDNCLL12903CF8A50.mp3  \n",
            "  inflating: MP3-Example/RnB/RnB-TRDPHWI128C7196B14.mp3  \n",
            "  inflating: MP3-Example/RnB/RnB-TREBWYU12903CCDAA8.mp3  \n",
            "  inflating: MP3-Example/RnB/RnB-TREFMGX128F4259AFB.mp3  \n",
            "  inflating: MP3-Example/RnB/RnB-TREMJCL128F1484AB4.mp3  \n",
            "  inflating: MP3-Example/RnB/RnB-TRETYEB128F4283EA6.mp3  \n",
            "  inflating: MP3-Example/RnB/RnB-TRFHCMB128F14A43C5.mp3  \n",
            "  inflating: MP3-Example/RnB/RnB-TRFMYXF128F9331B33.mp3  \n",
            "  inflating: MP3-Example/RnB/RnB-TRFNDOB128F92F1371.mp3  \n",
            "  inflating: MP3-Example/RnB/RnB-TRFNFTO128F4279C63.mp3  \n",
            "  inflating: MP3-Example/RnB/RnB-TRFOBLN128E0785ED9.mp3  \n",
            "  inflating: MP3-Example/RnB/RnB-TRFONZQ12903CCA651.mp3  \n",
            "  inflating: MP3-Example/RnB/RnB-TRFOZLC128F93147E4.mp3  \n",
            "  inflating: MP3-Example/RnB/RnB-TRFPXFQ128F93026F7.mp3  \n",
            "  inflating: MP3-Example/RnB/RnB-TRFPXSG128F93175FF.mp3  \n",
            "  inflating: MP3-Example/RnB/RnB-TRFUUEB128F4264F8D.mp3  \n",
            "  inflating: MP3-Example/RnB/RnB-TRFWIGJ128F14A8A7D.mp3  \n",
            "  inflating: MP3-Example/RnB/RnB-TRGANEM128F42884DE.mp3  \n",
            "  inflating: MP3-Example/RnB/RnB-TRGLPNC128F9307761.mp3  \n",
            "  inflating: MP3-Example/RnB/RnB-TRGVDAW128F9350C0B.mp3  \n",
            "  inflating: MP3-Example/RnB/RnB-TRHFUDE12903CC55ED.mp3  \n",
            "  inflating: MP3-Example/RnB/RnB-TRILGHP12903CCFFE7.mp3  \n",
            "  inflating: MP3-Example/RnB/RnB-TRIMYXW128F425A099.mp3  \n",
            "  inflating: MP3-Example/RnB/RnB-TRINQRE128F42BBAA2.mp3  \n",
            "  inflating: MP3-Example/RnB/RnB-TRIQFKE12903CA6933.mp3  \n",
            "  inflating: MP3-Example/RnB/RnB-TRIQRUV128F930FDDE.mp3  \n",
            "  inflating: MP3-Example/RnB/RnB-TRJGNIP128F92F2669.mp3  \n",
            "  inflating: MP3-Example/RnB/RnB-TRKBBNU128F42761AA.mp3  \n",
            "  inflating: MP3-Example/RnB/RnB-TRLKKHA128F92F38F1.mp3  \n",
            "  inflating: MP3-Example/RnB/RnB-TRLMWDQ128F4285CED.mp3  \n",
            "  inflating: MP3-Example/RnB/RnB-TRLMYOC128E0791629.mp3  \n",
            "  inflating: MP3-Example/RnB/RnB-TRLOHWT128F42598CF.mp3  \n",
            "  inflating: MP3-Example/RnB/RnB-TRLSMMN128F145D223.mp3  \n",
            "  inflating: MP3-Example/RnB/RnB-TRLUAQR128F4288259.mp3  \n",
            "  inflating: MP3-Example/RnB/RnB-TRLUBVF128F4272551.mp3  \n",
            "  inflating: MP3-Example/RnB/RnB-TRMMXPR128F4272AB0.mp3  \n",
            "  inflating: MP3-Example/RnB/RnB-TRMNYMV128F4279D93.mp3  \n",
            "  inflating: MP3-Example/RnB/RnB-TRMUSIV128EF342DB1.mp3  \n",
            "  inflating: MP3-Example/RnB/RnB-TRNTGCI128F145E95C.mp3  \n",
            "  inflating: MP3-Example/RnB/RnB-TRNTQZY128F426999A.mp3  \n",
            "  inflating: MP3-Example/RnB/RnB-TRODEHM128F92D5074.mp3  \n",
            "  inflating: MP3-Example/RnB/RnB-TROLWXE128F421C736.mp3  \n",
            "  inflating: MP3-Example/RnB/RnB-TRONHPC128F42884E1.mp3  \n",
            "  inflating: MP3-Example/RnB/RnB-TROSHDP128F92D0E95.mp3  \n",
            "  inflating: MP3-Example/RnB/RnB-TRPDBAB128F4263859.mp3  \n",
            "  inflating: MP3-Example/RnB/RnB-TRPKZEI128F4283CA5.mp3  \n",
            "  inflating: MP3-Example/RnB/RnB-TRQJLCO128F42BCC0A.mp3  \n",
            "  inflating: MP3-Example/RnB/RnB-TRQSJMX128F931C7AC.mp3  \n",
            "  inflating: MP3-Example/RnB/RnB-TRSGZZB128F932DCCD.mp3  \n",
            "  inflating: MP3-Example/RnB/RnB-TRSJSRS128F42A0E8A.mp3  \n",
            "  inflating: MP3-Example/RnB/RnB-TRSYWQQ12903D07051.mp3  \n",
            "  inflating: MP3-Example/RnB/RnB-TRTZBEY128F148C681.mp3  \n",
            "  inflating: MP3-Example/RnB/RnB-TRUEWAR128F92FAD40.mp3  \n",
            "  inflating: MP3-Example/RnB/RnB-TRUHGAC128F1492AC4.mp3  \n",
            "  inflating: MP3-Example/RnB/RnB-TRUIWBK128F92F3AF2.mp3  \n",
            "  inflating: MP3-Example/RnB/RnB-TRUKHTE128F428CD8B.mp3  \n",
            "  inflating: MP3-Example/RnB/RnB-TRUQYFH128F1460C68.mp3  \n",
            "  inflating: MP3-Example/RnB/RnB-TRUUKTP128EF34C1F7.mp3  \n",
            "  inflating: MP3-Example/RnB/RnB-TRUYARY128F92D13EA.mp3  \n",
            "  inflating: MP3-Example/RnB/RnB-TRVHNDP128F4223058.mp3  \n",
            "  inflating: MP3-Example/RnB/RnB-TRVUHZI128F42A0DEF.mp3  \n",
            "  inflating: MP3-Example/RnB/RnB-TRWTPYD12903D03AE9.mp3  \n",
            "  inflating: MP3-Example/RnB/RnB-TRXEFJU128F4269AB5.mp3  \n",
            "  inflating: MP3-Example/RnB/RnB-TRXKGDQ128E078F653.mp3  \n",
            "  inflating: MP3-Example/RnB/RnB-TRXQSGI12903C9DBAC.mp3  \n",
            "  inflating: MP3-Example/RnB/RnB-TRXQWJP128F9307D1F.mp3  \n",
            "  inflating: MP3-Example/RnB/RnB-TRXSANW128F92E4B6F.mp3  \n",
            "  inflating: MP3-Example/RnB/RnB-TRXSNPU128F9321040.mp3  \n",
            "  inflating: MP3-Example/RnB/RnB-TRYATEV128F427B1A4.mp3  \n",
            "  inflating: MP3-Example/RnB/RnB-TRYHEXP12903CC6D90.mp3  \n",
            "  inflating: MP3-Example/RnB/RnB-TRYLAPI128F427CB23.mp3  \n",
            "  inflating: MP3-Example/RnB/RnB-TRYODLU128F92D3C70.mp3  \n",
            "  inflating: MP3-Example/RnB/RnB-TRYQQCC128E0795210.mp3  \n",
            "  inflating: MP3-Example/RnB/RnB-TRYUFEK128F42349E7.mp3  \n",
            "  inflating: MP3-Example/RnB/RnB-TRYVMAH12903D05084.mp3  \n",
            "  inflating: MP3-Example/RnB/RnB-TRZAXHT128F146991C.mp3  \n",
            "  inflating: MP3-Example/RnB/RnB-TRZDCAF128F932219F.mp3  \n",
            "  inflating: MP3-Example/RnB/RnB-TRZGZDR12903CCFB61.mp3  \n",
            "  inflating: MP3-Example/RnB/RnB-TRZHBTI128F424C2E8.mp3  \n",
            "  inflating: MP3-Example/Rock/Rock-TRABDEP128F428B3E3.mp3  \n",
            "  inflating: MP3-Example/Rock/Rock-TRABNEX128F92C9DEA.mp3  \n",
            "  inflating: MP3-Example/Rock/Rock-TRACFOJ128F4253EFA.mp3  \n",
            "  inflating: MP3-Example/Rock/Rock-TRAEEVD12903CC4D29.mp3  \n",
            "  inflating: MP3-Example/Rock/Rock-TRAFXEB128F92EE0AC.mp3  \n",
            "  inflating: MP3-Example/Rock/Rock-TRAIARU128F148F75B.mp3  \n",
            "  inflating: MP3-Example/Rock/Rock-TRALMCI12903CBFB46.mp3  \n",
            "  inflating: MP3-Example/Rock/Rock-TRAPECP128E078F91C.mp3  \n",
            "  inflating: MP3-Example/Rock/Rock-TRARKEF128F42634F6.mp3  \n",
            "  inflating: MP3-Example/Rock/Rock-TRATHTH128F42BC347.mp3  \n",
            "  inflating: MP3-Example/Rock/Rock-TRATOXR128E0781E36.mp3  \n",
            "  inflating: MP3-Example/Rock/Rock-TRAUFHP128F933E28F.mp3  \n",
            "  inflating: MP3-Example/Rock/Rock-TRAYGAG128F9329373.mp3  \n",
            "  inflating: MP3-Example/Rock/Rock-TRBAHXC128E078F1AF.mp3  \n",
            "  inflating: MP3-Example/Rock/Rock-TRBKZPY128F428954A.mp3  \n",
            "  inflating: MP3-Example/Rock/Rock-TRBNLRU128F9307FFF.mp3  \n",
            "  inflating: MP3-Example/Rock/Rock-TRBXCOJ128E07820C1.mp3  \n",
            "  inflating: MP3-Example/Rock/Rock-TRBYZBC128F427F1A0.mp3  \n",
            "  inflating: MP3-Example/Rock/Rock-TRCAFJO128F93589A7.mp3  \n",
            "  inflating: MP3-Example/Rock/Rock-TRCFLPF128E078115B.mp3  \n",
            "  inflating: MP3-Example/Rock/Rock-TRCFYZN128F146ED1E.mp3  \n",
            "  inflating: MP3-Example/Rock/Rock-TRCMTOK128F92DEF8E.mp3  \n",
            "  inflating: MP3-Example/Rock/Rock-TRCPNJC128E078167D.mp3  \n",
            "  inflating: MP3-Example/Rock/Rock-TRCQRSY12903CD7364.mp3  \n",
            "  inflating: MP3-Example/Rock/Rock-TRCSSRY12903CA424B.mp3  \n",
            "  inflating: MP3-Example/Rock/Rock-TRCTYNZ128F426A9CB.mp3  \n",
            "  inflating: MP3-Example/Rock/Rock-TRCXCUY128EF364504.mp3  \n",
            "  inflating: MP3-Example/Rock/Rock-TRCYIAQ128F42B12C0.mp3  \n",
            "  inflating: MP3-Example/Rock/Rock-TRDASCX128F422F079.mp3  \n",
            "  inflating: MP3-Example/Rock/Rock-TRDYTON12903CC8294.mp3  \n",
            "  inflating: MP3-Example/Rock/Rock-TREFYBN128F933F178.mp3  \n",
            "  inflating: MP3-Example/Rock/Rock-TREMVBZ12903CE380E.mp3  \n",
            "  inflating: MP3-Example/Rock/Rock-TREOOAM128E0788902.mp3  \n",
            "  inflating: MP3-Example/Rock/Rock-TREPTIM128F4243460.mp3  \n",
            "  inflating: MP3-Example/Rock/Rock-TRFAYBI128F93163D3.mp3  \n",
            "  inflating: MP3-Example/Rock/Rock-TRFBCGC128F1475D32.mp3  \n",
            "  inflating: MP3-Example/Rock/Rock-TRFOKCP128F9310371.mp3  \n",
            "  inflating: MP3-Example/Rock/Rock-TRFVHME128F9301D33.mp3  \n",
            "  inflating: MP3-Example/Rock/Rock-TRGRNZL128F1497984.mp3  \n",
            "  inflating: MP3-Example/Rock/Rock-TRGVCRH128F14836EB.mp3  \n",
            "  inflating: MP3-Example/Rock/Rock-TRGXLVL128F4283EBF.mp3  \n",
            "  inflating: MP3-Example/Rock/Rock-TRHFBOW128F4215E11.mp3  \n",
            "  inflating: MP3-Example/Rock/Rock-TRHKXJQ128E0792182.mp3  \n",
            "  inflating: MP3-Example/Rock/Rock-TRINXBN128F4277EAF.mp3  \n",
            "  inflating: MP3-Example/Rock/Rock-TRIQZXS128F92E20EA.mp3  \n",
            "  inflating: MP3-Example/Rock/Rock-TRIWJQX12903CD759A.mp3  \n",
            "  inflating: MP3-Example/Rock/Rock-TRJEKBW128F4268C79.mp3  \n",
            "  inflating: MP3-Example/Rock/Rock-TRJZLOA128F930369C.mp3  \n",
            "  inflating: MP3-Example/Rock/Rock-TRKLXMM128F93583D3.mp3  \n",
            "  inflating: MP3-Example/Rock/Rock-TRKMCSH128F425BD48.mp3  \n",
            "  inflating: MP3-Example/Rock/Rock-TRLEPIS12903CBD612.mp3  \n",
            "  inflating: MP3-Example/Rock/Rock-TRLJEQV128F9339D7B.mp3  \n",
            "  inflating: MP3-Example/Rock/Rock-TRLLVHK128F14676AE.mp3  \n",
            "  inflating: MP3-Example/Rock/Rock-TRLMDIP128F4257959.mp3  \n",
            "  inflating: MP3-Example/Rock/Rock-TRLOIMO128F42AC94F.mp3  \n",
            "  inflating: MP3-Example/Rock/Rock-TRLQLSO128F429E74E.mp3  \n",
            "  inflating: MP3-Example/Rock/Rock-TRLZPUX12903C92C01.mp3  \n",
            "  inflating: MP3-Example/Rock/Rock-TRMBIVB128F92F8F1C.mp3  \n",
            "  inflating: MP3-Example/Rock/Rock-TRMEWET128F934364E.mp3  \n",
            "  inflating: MP3-Example/Rock/Rock-TRMKMDV128F146B23C.mp3  \n",
            "  inflating: MP3-Example/Rock/Rock-TRMVQZD128F931E7AC.mp3  \n",
            "  inflating: MP3-Example/Rock/Rock-TRNGZYL128F145E9C2.mp3  \n",
            "  inflating: MP3-Example/Rock/Rock-TRNNQLZ128F426E6AA.mp3  \n",
            "  inflating: MP3-Example/Rock/Rock-TROCRXD128F424F095.mp3  \n",
            "  inflating: MP3-Example/Rock/Rock-TROHYVC128E0791822.mp3  \n",
            "  inflating: MP3-Example/Rock/Rock-TROILSM128F930F6DB.mp3  \n",
            "  inflating: MP3-Example/Rock/Rock-TROKNJC128F42918B0.mp3  \n",
            "  inflating: MP3-Example/Rock/Rock-TROQYMP128F9326785.mp3  \n",
            "  inflating: MP3-Example/Rock/Rock-TRPCUON12903CCC98B.mp3  \n",
            "  inflating: MP3-Example/Rock/Rock-TRPQNMQ128F14AADAE.mp3  \n",
            "  inflating: MP3-Example/Rock/Rock-TRPRAED128F429CBD4.mp3  \n",
            "  inflating: MP3-Example/Rock/Rock-TRPSVTL128F936017F.mp3  \n",
            "  inflating: MP3-Example/Rock/Rock-TRPYAWD128F92F9139.mp3  \n",
            "  inflating: MP3-Example/Rock/Rock-TRQHADV128F42AE3AB.mp3  \n",
            "  inflating: MP3-Example/Rock/Rock-TRQRGEA128F4265AE3.mp3  \n",
            "  inflating: MP3-Example/Rock/Rock-TRQZHPV12903CA8864.mp3  \n",
            "  inflating: MP3-Example/Rock/Rock-TRRAEJH128E0781B75.mp3  \n",
            "  inflating: MP3-Example/Rock/Rock-TRRGWPT128F931472B.mp3  \n",
            "  inflating: MP3-Example/Rock/Rock-TRRHXWV12903CFEC84.mp3  \n",
            "  inflating: MP3-Example/Rock/Rock-TRRIHBF128F428192D.mp3  \n",
            "  inflating: MP3-Example/Rock/Rock-TRRSUWA128F14A19A2.mp3  \n",
            "  inflating: MP3-Example/Rock/Rock-TRTAUEE128F4298661.mp3  \n",
            "  inflating: MP3-Example/Rock/Rock-TRTAVRH128F4289F7C.mp3  \n",
            "  inflating: MP3-Example/Rock/Rock-TRTDNFO128F92D5BF6.mp3  \n",
            "  inflating: MP3-Example/Rock/Rock-TRTEOTK128F930F4B8.mp3  \n",
            "  inflating: MP3-Example/Rock/Rock-TRUMEAF12903C9F452.mp3  \n",
            "  inflating: MP3-Example/Rock/Rock-TRVTRGD12903CF81F4.mp3  \n",
            "  inflating: MP3-Example/Rock/Rock-TRWACIM128F148DDD9.mp3  \n",
            "  inflating: MP3-Example/Rock/Rock-TRWKKMZ128F1492D5B.mp3  \n",
            "  inflating: MP3-Example/Rock/Rock-TRWVCST128EF356B3D.mp3  \n",
            "  inflating: MP3-Example/Rock/Rock-TRXBWKC128F4234D1D.mp3  \n",
            "  inflating: MP3-Example/Rock/Rock-TRXCAFQ128F423ECD6.mp3  \n",
            "  inflating: MP3-Example/Rock/Rock-TRXFCYL128F4265445.mp3  \n",
            "  inflating: MP3-Example/Rock/Rock-TRXFTLM128F423092D.mp3  \n",
            "  inflating: MP3-Example/Rock/Rock-TRXNVLK128F429DCE3.mp3  \n",
            "  inflating: MP3-Example/Rock/Rock-TRXUQEJ128F92E1232.mp3  \n",
            "  inflating: MP3-Example/Rock/Rock-TRYAEUK128F425DEF7.mp3  \n",
            "  inflating: MP3-Example/Rock/Rock-TRYBHMQ12903D0CD0F.mp3  \n",
            "  inflating: MP3-Example/Rock/Rock-TRZOHRK128F9311003.mp3  \n",
            "  inflating: MP3-Example/Rock/Rock-TRZSPHL128F4259A32.mp3  \n",
            "  inflating: MP3-Example/World/World-TRACVYB128F932A9DB.mp3  \n",
            "  inflating: MP3-Example/World/World-TRAFYVC128F4268F8B.mp3  \n",
            "  inflating: MP3-Example/World/World-TRANQIW128F4255EB5.mp3  \n",
            "  inflating: MP3-Example/World/World-TRANWNO128F425A572.mp3  \n",
            "  inflating: MP3-Example/World/World-TRAULXY128F1452F8E.mp3  \n",
            "  inflating: MP3-Example/World/World-TRAVYPH128F149B902.mp3  \n",
            "  inflating: MP3-Example/World/World-TRAZGHD128F14541C4.mp3  \n",
            "  inflating: MP3-Example/World/World-TRBCSJN128F14541C2.mp3  \n",
            "  inflating: MP3-Example/World/World-TRBFDOH128F933797E.mp3  \n",
            "  inflating: MP3-Example/World/World-TRBJARK128F1465649.mp3  \n",
            "  inflating: MP3-Example/World/World-TRBLLEI128F932948C.mp3  \n",
            "  inflating: MP3-Example/World/World-TRBRLWR12903CE2E34.mp3  \n",
            "  inflating: MP3-Example/World/World-TRCUQUJ128F92E1AA3.mp3  \n",
            "  inflating: MP3-Example/World/World-TRCUTRZ128F1452776.mp3  \n",
            "  inflating: MP3-Example/World/World-TRDDNSR12903D10460.mp3  \n",
            "  inflating: MP3-Example/World/World-TRDIMBO128F1483658.mp3  \n",
            "  inflating: MP3-Example/World/World-TRDJJIG128F1452772.mp3  \n",
            "  inflating: MP3-Example/World/World-TRDXENJ128F1469FF9.mp3  \n",
            "  inflating: MP3-Example/World/World-TREFYAS128F92D7A12.mp3  \n",
            "  inflating: MP3-Example/World/World-TREGMNY128F9316353.mp3  \n",
            "  inflating: MP3-Example/World/World-TREWDCL12903CED47B.mp3  \n",
            "  inflating: MP3-Example/World/World-TREXRTM128F423EDD6.mp3  \n",
            "  inflating: MP3-Example/World/World-TRFBPLF128F4243CF9.mp3  \n",
            "  inflating: MP3-Example/World/World-TRGJSYO128F1465644.mp3  \n",
            "  inflating: MP3-Example/World/World-TRGKSSG128F9312489.mp3  \n",
            "  inflating: MP3-Example/World/World-TRGMDAQ128F933797D.mp3  \n",
            "  inflating: MP3-Example/World/World-TRGMNEE128F146AAD9.mp3  \n",
            "  inflating: MP3-Example/World/World-TRGOJAX128F930F88A.mp3  \n",
            "  inflating: MP3-Example/World/World-TRGTXZM128F933797F.mp3  \n",
            "  inflating: MP3-Example/World/World-TRHQTZZ128F14933E9.mp3  \n",
            "  inflating: MP3-Example/World/World-TRHZPUX128F42BC0F0.mp3  \n",
            "  inflating: MP3-Example/World/World-TRIQOSH128F149B901.mp3  \n",
            "  inflating: MP3-Example/World/World-TRITCGV128F4290790.mp3  \n",
            "  inflating: MP3-Example/World/World-TRIUVGX128F148C9F4.mp3  \n",
            "  inflating: MP3-Example/World/World-TRIYOLX128F426AA45.mp3  \n",
            "  inflating: MP3-Example/World/World-TRJAKGL128F92FC3B5.mp3  \n",
            "  inflating: MP3-Example/World/World-TRJEETC128F92D1BF9.mp3  \n",
            "  inflating: MP3-Example/World/World-TRJMHKF128F14692F4.mp3  \n",
            "  inflating: MP3-Example/World/World-TRJWBFA128F149B8FB.mp3  \n",
            "  inflating: MP3-Example/World/World-TRJYJBL128F9316351.mp3  \n",
            "  inflating: MP3-Example/World/World-TRJYMBD128F427EDDB.mp3  \n",
            "  inflating: MP3-Example/World/World-TRKLTLE128F9337985.mp3  \n",
            "  inflating: MP3-Example/World/World-TRKTIWS128F4271D0B.mp3  \n",
            "  inflating: MP3-Example/World/World-TRKVEGW128F428B618.mp3  \n",
            "  inflating: MP3-Example/World/World-TRKZZIS128F426F033.mp3  \n",
            "  inflating: MP3-Example/World/World-TRLBTZY128E0783309.mp3  \n",
            "  inflating: MP3-Example/World/World-TRLCONI128F4255EAC.mp3  \n",
            "  inflating: MP3-Example/World/World-TRLNFFM128F4242EB2.mp3  \n",
            "  inflating: MP3-Example/World/World-TRLTSIK128F428113A.mp3  \n",
            "  inflating: MP3-Example/World/World-TRMIQXY128F427CA14.mp3  \n",
            "  inflating: MP3-Example/World/World-TRMLWKP128F92FC5DF.mp3  \n",
            "  inflating: MP3-Example/World/World-TRMVJCE128F9316349.mp3  \n",
            "  inflating: MP3-Example/World/World-TRNWWMH128F9316357.mp3  \n",
            "  inflating: MP3-Example/World/World-TROJPWV128F9337986.mp3  \n",
            "  inflating: MP3-Example/World/World-TROMGYS128F930BCDB.mp3  \n",
            "  inflating: MP3-Example/World/World-TROPJFT128F42732DE.mp3  \n",
            "  inflating: MP3-Example/World/World-TRPCMXL128F92E835E.mp3  \n",
            "  inflating: MP3-Example/World/World-TRPSNIP128F4255EAE.mp3  \n",
            "  inflating: MP3-Example/World/World-TRPXFZS128F4271CCB.mp3  \n",
            "  inflating: MP3-Example/World/World-TRPYSXL128F149B8F8.mp3  \n",
            "  inflating: MP3-Example/World/World-TRQACQT128F9316E5E.mp3  \n",
            "  inflating: MP3-Example/World/World-TRQFYWI128F92FBE63.mp3  \n",
            "  inflating: MP3-Example/World/World-TRQLXLM128F427CA0D.mp3  \n",
            "  inflating: MP3-Example/World/World-TRQPOLL128E0792B70.mp3  \n",
            "  inflating: MP3-Example/World/World-TRQQEWP128F426AA47.mp3  \n",
            "  inflating: MP3-Example/World/World-TRQTSWL128F9307276.mp3  \n",
            "  inflating: MP3-Example/World/World-TRQWUAH128EF346713.mp3  \n",
            "  inflating: MP3-Example/World/World-TRQXDIJ12903CA4654.mp3  \n",
            "  inflating: MP3-Example/World/World-TRRGCXU128F14596E6.mp3  \n",
            "  inflating: MP3-Example/World/World-TRRIGDV128F9304DEA.mp3  \n",
            "  inflating: MP3-Example/World/World-TRRRWRI128F149B8F9.mp3  \n",
            "  inflating: MP3-Example/World/World-TRRSGMK128F428B827.mp3  \n",
            "  inflating: MP3-Example/World/World-TRSIALT128F9337980.mp3  \n",
            "  inflating: MP3-Example/World/World-TRSLUXU128F4255EB4.mp3  \n",
            "  inflating: MP3-Example/World/World-TRSRPHR128F9316355.mp3  \n",
            "  inflating: MP3-Example/World/World-TRSTDKJ128F92F8002.mp3  \n",
            "  inflating: MP3-Example/World/World-TRTFBZU128F1452770.mp3  \n",
            "  inflating: MP3-Example/World/World-TRTVEZZ128F14541C3.mp3  \n",
            "  inflating: MP3-Example/World/World-TRTVIGE128F149B8FD.mp3  \n",
            "  inflating: MP3-Example/World/World-TRUCJPC128F145E31A.mp3  \n",
            "  inflating: MP3-Example/World/World-TRUHJZB128F9316344.mp3  \n",
            "  inflating: MP3-Example/World/World-TRUMNUN128F145BB98.mp3  \n",
            "  inflating: MP3-Example/World/World-TRUSHBS128F426F02D.mp3  \n",
            "  inflating: MP3-Example/World/World-TRVQGKW128F42293E9.mp3  \n",
            "  inflating: MP3-Example/World/World-TRWGEDC128F427EF4F.mp3  \n",
            "  inflating: MP3-Example/World/World-TRWHGDL128F92DDE4F.mp3  \n",
            "  inflating: MP3-Example/World/World-TRWJAQQ128F9316359.mp3  \n",
            "  inflating: MP3-Example/World/World-TRWMDUE128F14548DC.mp3  \n",
            "  inflating: MP3-Example/World/World-TRWSTYN128F9331873.mp3  \n",
            "  inflating: MP3-Example/World/World-TRWTAFB128F4243B58.mp3  \n",
            "  inflating: MP3-Example/World/World-TRXEIRM128EF346710.mp3  \n",
            "  inflating: MP3-Example/World/World-TRXHOZL128F92D7A20.mp3  \n",
            "  inflating: MP3-Example/World/World-TRXMQBL128F427F1DB.mp3  \n",
            "  inflating: MP3-Example/World/World-TRXUFKU128F14933E7.mp3  \n",
            "  inflating: MP3-Example/World/World-TRYLZHF128F9304673.mp3  \n",
            "  inflating: MP3-Example/World/World-TRYNDRC128F9316E5C.mp3  \n",
            "  inflating: MP3-Example/World/World-TRYOFAG128F931A4E5.mp3  \n",
            "  inflating: MP3-Example/World/World-TRZCMQL128F1455265.mp3  \n",
            "  inflating: MP3-Example/World/World-TRZFSGD128E0792BBA.mp3  \n",
            "  inflating: MP3-Example/World/World-TRZXSBW128F9351C97.mp3  \n",
            "  inflating: Music Info.csv          \n",
            "  inflating: User Listening History.csv  \n"
          ]
        }
      ],
      "source": [
        "!pip install kagglehub kaggle\n",
        "!kaggle datasets download -d undefinenull/million-song-dataset-spotify-lastfm\n",
        "!unzip million-song-dataset-spotify-lastfm.zip"
      ]
    },
    {
      "cell_type": "code",
      "execution_count": 2,
      "metadata": {
        "id": "sQRmbyHtIR7c"
      },
      "outputs": [],
      "source": [
        "import numpy as np # linear algebra\n",
        "import pandas as pd # data processing, CSV file I/O (e.g. pd.read_csv)"
      ]
    },
    {
      "cell_type": "code",
      "execution_count": 3,
      "metadata": {
        "id": "gH4fKn-ibO8v"
      },
      "outputs": [],
      "source": [
        "df = pd.read_csv('User Listening History.csv')"
      ]
    },
    {
      "cell_type": "code",
      "execution_count": null,
      "metadata": {
        "id": "xY-hYefNJJUQ"
      },
      "outputs": [],
      "source": [
        "# df = pd.read_csv(\"/kaggle/input/million-song-dataset-spotify-lastfm/User Listening History.csv\")"
      ]
    },
    {
      "cell_type": "code",
      "execution_count": 4,
      "metadata": {
        "colab": {
          "base_uri": "https://localhost:8080/",
          "height": 423
        },
        "id": "cKop5aq0JL3a",
        "outputId": "c1500097-7826-441e-d7a7-0a78f4480844"
      },
      "outputs": [
        {
          "data": {
            "application/vnd.google.colaboratory.intrinsic+json": {
              "type": "dataframe",
              "variable_name": "df"
            },
            "text/html": [
              "\n",
              "  <div id=\"df-f1de7e3d-e60d-4984-bab6-ee644f92daf6\" class=\"colab-df-container\">\n",
              "    <div>\n",
              "<style scoped>\n",
              "    .dataframe tbody tr th:only-of-type {\n",
              "        vertical-align: middle;\n",
              "    }\n",
              "\n",
              "    .dataframe tbody tr th {\n",
              "        vertical-align: top;\n",
              "    }\n",
              "\n",
              "    .dataframe thead th {\n",
              "        text-align: right;\n",
              "    }\n",
              "</style>\n",
              "<table border=\"1\" class=\"dataframe\">\n",
              "  <thead>\n",
              "    <tr style=\"text-align: right;\">\n",
              "      <th></th>\n",
              "      <th>track_id</th>\n",
              "      <th>user_id</th>\n",
              "      <th>playcount</th>\n",
              "    </tr>\n",
              "  </thead>\n",
              "  <tbody>\n",
              "    <tr>\n",
              "      <th>0</th>\n",
              "      <td>TRIRLYL128F42539D1</td>\n",
              "      <td>b80344d063b5ccb3212f76538f3d9e43d87dca9e</td>\n",
              "      <td>1</td>\n",
              "    </tr>\n",
              "    <tr>\n",
              "      <th>1</th>\n",
              "      <td>TRFUPBA128F934F7E1</td>\n",
              "      <td>b80344d063b5ccb3212f76538f3d9e43d87dca9e</td>\n",
              "      <td>1</td>\n",
              "    </tr>\n",
              "    <tr>\n",
              "      <th>2</th>\n",
              "      <td>TRLQPQJ128F42AA94F</td>\n",
              "      <td>b80344d063b5ccb3212f76538f3d9e43d87dca9e</td>\n",
              "      <td>1</td>\n",
              "    </tr>\n",
              "    <tr>\n",
              "      <th>3</th>\n",
              "      <td>TRTUCUY128F92E1D24</td>\n",
              "      <td>b80344d063b5ccb3212f76538f3d9e43d87dca9e</td>\n",
              "      <td>1</td>\n",
              "    </tr>\n",
              "    <tr>\n",
              "      <th>4</th>\n",
              "      <td>TRHDDQG12903CB53EE</td>\n",
              "      <td>b80344d063b5ccb3212f76538f3d9e43d87dca9e</td>\n",
              "      <td>1</td>\n",
              "    </tr>\n",
              "    <tr>\n",
              "      <th>...</th>\n",
              "      <td>...</td>\n",
              "      <td>...</td>\n",
              "      <td>...</td>\n",
              "    </tr>\n",
              "    <tr>\n",
              "      <th>9711296</th>\n",
              "      <td>TRBKFKL128E078ED76</td>\n",
              "      <td>b7815dbb206eb2831ce0fe040d0aa537e2e800f7</td>\n",
              "      <td>1</td>\n",
              "    </tr>\n",
              "    <tr>\n",
              "      <th>9711297</th>\n",
              "      <td>TRYFXPG128E078ECBD</td>\n",
              "      <td>b7815dbb206eb2831ce0fe040d0aa537e2e800f7</td>\n",
              "      <td>1</td>\n",
              "    </tr>\n",
              "    <tr>\n",
              "      <th>9711298</th>\n",
              "      <td>TROBUUZ128F4263002</td>\n",
              "      <td>b7815dbb206eb2831ce0fe040d0aa537e2e800f7</td>\n",
              "      <td>1</td>\n",
              "    </tr>\n",
              "    <tr>\n",
              "      <th>9711299</th>\n",
              "      <td>TROEWXC128F148C83E</td>\n",
              "      <td>b7815dbb206eb2831ce0fe040d0aa537e2e800f7</td>\n",
              "      <td>1</td>\n",
              "    </tr>\n",
              "    <tr>\n",
              "      <th>9711300</th>\n",
              "      <td>TROHQNO128F146ECCB</td>\n",
              "      <td>b7815dbb206eb2831ce0fe040d0aa537e2e800f7</td>\n",
              "      <td>1</td>\n",
              "    </tr>\n",
              "  </tbody>\n",
              "</table>\n",
              "<p>9711301 rows × 3 columns</p>\n",
              "</div>\n",
              "    <div class=\"colab-df-buttons\">\n",
              "\n",
              "  <div class=\"colab-df-container\">\n",
              "    <button class=\"colab-df-convert\" onclick=\"convertToInteractive('df-f1de7e3d-e60d-4984-bab6-ee644f92daf6')\"\n",
              "            title=\"Convert this dataframe to an interactive table.\"\n",
              "            style=\"display:none;\">\n",
              "\n",
              "  <svg xmlns=\"http://www.w3.org/2000/svg\" height=\"24px\" viewBox=\"0 -960 960 960\">\n",
              "    <path d=\"M120-120v-720h720v720H120Zm60-500h600v-160H180v160Zm220 220h160v-160H400v160Zm0 220h160v-160H400v160ZM180-400h160v-160H180v160Zm440 0h160v-160H620v160ZM180-180h160v-160H180v160Zm440 0h160v-160H620v160Z\"/>\n",
              "  </svg>\n",
              "    </button>\n",
              "\n",
              "  <style>\n",
              "    .colab-df-container {\n",
              "      display:flex;\n",
              "      gap: 12px;\n",
              "    }\n",
              "\n",
              "    .colab-df-convert {\n",
              "      background-color: #E8F0FE;\n",
              "      border: none;\n",
              "      border-radius: 50%;\n",
              "      cursor: pointer;\n",
              "      display: none;\n",
              "      fill: #1967D2;\n",
              "      height: 32px;\n",
              "      padding: 0 0 0 0;\n",
              "      width: 32px;\n",
              "    }\n",
              "\n",
              "    .colab-df-convert:hover {\n",
              "      background-color: #E2EBFA;\n",
              "      box-shadow: 0px 1px 2px rgba(60, 64, 67, 0.3), 0px 1px 3px 1px rgba(60, 64, 67, 0.15);\n",
              "      fill: #174EA6;\n",
              "    }\n",
              "\n",
              "    .colab-df-buttons div {\n",
              "      margin-bottom: 4px;\n",
              "    }\n",
              "\n",
              "    [theme=dark] .colab-df-convert {\n",
              "      background-color: #3B4455;\n",
              "      fill: #D2E3FC;\n",
              "    }\n",
              "\n",
              "    [theme=dark] .colab-df-convert:hover {\n",
              "      background-color: #434B5C;\n",
              "      box-shadow: 0px 1px 3px 1px rgba(0, 0, 0, 0.15);\n",
              "      filter: drop-shadow(0px 1px 2px rgba(0, 0, 0, 0.3));\n",
              "      fill: #FFFFFF;\n",
              "    }\n",
              "  </style>\n",
              "\n",
              "    <script>\n",
              "      const buttonEl =\n",
              "        document.querySelector('#df-f1de7e3d-e60d-4984-bab6-ee644f92daf6 button.colab-df-convert');\n",
              "      buttonEl.style.display =\n",
              "        google.colab.kernel.accessAllowed ? 'block' : 'none';\n",
              "\n",
              "      async function convertToInteractive(key) {\n",
              "        const element = document.querySelector('#df-f1de7e3d-e60d-4984-bab6-ee644f92daf6');\n",
              "        const dataTable =\n",
              "          await google.colab.kernel.invokeFunction('convertToInteractive',\n",
              "                                                    [key], {});\n",
              "        if (!dataTable) return;\n",
              "\n",
              "        const docLinkHtml = 'Like what you see? Visit the ' +\n",
              "          '<a target=\"_blank\" href=https://colab.research.google.com/notebooks/data_table.ipynb>data table notebook</a>'\n",
              "          + ' to learn more about interactive tables.';\n",
              "        element.innerHTML = '';\n",
              "        dataTable['output_type'] = 'display_data';\n",
              "        await google.colab.output.renderOutput(dataTable, element);\n",
              "        const docLink = document.createElement('div');\n",
              "        docLink.innerHTML = docLinkHtml;\n",
              "        element.appendChild(docLink);\n",
              "      }\n",
              "    </script>\n",
              "  </div>\n",
              "\n",
              "\n",
              "<div id=\"df-c48fbd7a-f124-4c59-a1ab-10c3c2e1cf18\">\n",
              "  <button class=\"colab-df-quickchart\" onclick=\"quickchart('df-c48fbd7a-f124-4c59-a1ab-10c3c2e1cf18')\"\n",
              "            title=\"Suggest charts\"\n",
              "            style=\"display:none;\">\n",
              "\n",
              "<svg xmlns=\"http://www.w3.org/2000/svg\" height=\"24px\"viewBox=\"0 0 24 24\"\n",
              "     width=\"24px\">\n",
              "    <g>\n",
              "        <path d=\"M19 3H5c-1.1 0-2 .9-2 2v14c0 1.1.9 2 2 2h14c1.1 0 2-.9 2-2V5c0-1.1-.9-2-2-2zM9 17H7v-7h2v7zm4 0h-2V7h2v10zm4 0h-2v-4h2v4z\"/>\n",
              "    </g>\n",
              "</svg>\n",
              "  </button>\n",
              "\n",
              "<style>\n",
              "  .colab-df-quickchart {\n",
              "      --bg-color: #E8F0FE;\n",
              "      --fill-color: #1967D2;\n",
              "      --hover-bg-color: #E2EBFA;\n",
              "      --hover-fill-color: #174EA6;\n",
              "      --disabled-fill-color: #AAA;\n",
              "      --disabled-bg-color: #DDD;\n",
              "  }\n",
              "\n",
              "  [theme=dark] .colab-df-quickchart {\n",
              "      --bg-color: #3B4455;\n",
              "      --fill-color: #D2E3FC;\n",
              "      --hover-bg-color: #434B5C;\n",
              "      --hover-fill-color: #FFFFFF;\n",
              "      --disabled-bg-color: #3B4455;\n",
              "      --disabled-fill-color: #666;\n",
              "  }\n",
              "\n",
              "  .colab-df-quickchart {\n",
              "    background-color: var(--bg-color);\n",
              "    border: none;\n",
              "    border-radius: 50%;\n",
              "    cursor: pointer;\n",
              "    display: none;\n",
              "    fill: var(--fill-color);\n",
              "    height: 32px;\n",
              "    padding: 0;\n",
              "    width: 32px;\n",
              "  }\n",
              "\n",
              "  .colab-df-quickchart:hover {\n",
              "    background-color: var(--hover-bg-color);\n",
              "    box-shadow: 0 1px 2px rgba(60, 64, 67, 0.3), 0 1px 3px 1px rgba(60, 64, 67, 0.15);\n",
              "    fill: var(--button-hover-fill-color);\n",
              "  }\n",
              "\n",
              "  .colab-df-quickchart-complete:disabled,\n",
              "  .colab-df-quickchart-complete:disabled:hover {\n",
              "    background-color: var(--disabled-bg-color);\n",
              "    fill: var(--disabled-fill-color);\n",
              "    box-shadow: none;\n",
              "  }\n",
              "\n",
              "  .colab-df-spinner {\n",
              "    border: 2px solid var(--fill-color);\n",
              "    border-color: transparent;\n",
              "    border-bottom-color: var(--fill-color);\n",
              "    animation:\n",
              "      spin 1s steps(1) infinite;\n",
              "  }\n",
              "\n",
              "  @keyframes spin {\n",
              "    0% {\n",
              "      border-color: transparent;\n",
              "      border-bottom-color: var(--fill-color);\n",
              "      border-left-color: var(--fill-color);\n",
              "    }\n",
              "    20% {\n",
              "      border-color: transparent;\n",
              "      border-left-color: var(--fill-color);\n",
              "      border-top-color: var(--fill-color);\n",
              "    }\n",
              "    30% {\n",
              "      border-color: transparent;\n",
              "      border-left-color: var(--fill-color);\n",
              "      border-top-color: var(--fill-color);\n",
              "      border-right-color: var(--fill-color);\n",
              "    }\n",
              "    40% {\n",
              "      border-color: transparent;\n",
              "      border-right-color: var(--fill-color);\n",
              "      border-top-color: var(--fill-color);\n",
              "    }\n",
              "    60% {\n",
              "      border-color: transparent;\n",
              "      border-right-color: var(--fill-color);\n",
              "    }\n",
              "    80% {\n",
              "      border-color: transparent;\n",
              "      border-right-color: var(--fill-color);\n",
              "      border-bottom-color: var(--fill-color);\n",
              "    }\n",
              "    90% {\n",
              "      border-color: transparent;\n",
              "      border-bottom-color: var(--fill-color);\n",
              "    }\n",
              "  }\n",
              "</style>\n",
              "\n",
              "  <script>\n",
              "    async function quickchart(key) {\n",
              "      const quickchartButtonEl =\n",
              "        document.querySelector('#' + key + ' button');\n",
              "      quickchartButtonEl.disabled = true;  // To prevent multiple clicks.\n",
              "      quickchartButtonEl.classList.add('colab-df-spinner');\n",
              "      try {\n",
              "        const charts = await google.colab.kernel.invokeFunction(\n",
              "            'suggestCharts', [key], {});\n",
              "      } catch (error) {\n",
              "        console.error('Error during call to suggestCharts:', error);\n",
              "      }\n",
              "      quickchartButtonEl.classList.remove('colab-df-spinner');\n",
              "      quickchartButtonEl.classList.add('colab-df-quickchart-complete');\n",
              "    }\n",
              "    (() => {\n",
              "      let quickchartButtonEl =\n",
              "        document.querySelector('#df-c48fbd7a-f124-4c59-a1ab-10c3c2e1cf18 button');\n",
              "      quickchartButtonEl.style.display =\n",
              "        google.colab.kernel.accessAllowed ? 'block' : 'none';\n",
              "    })();\n",
              "  </script>\n",
              "</div>\n",
              "\n",
              "  <div id=\"id_bf834423-c08b-4d9c-b881-90d76c7c742f\">\n",
              "    <style>\n",
              "      .colab-df-generate {\n",
              "        background-color: #E8F0FE;\n",
              "        border: none;\n",
              "        border-radius: 50%;\n",
              "        cursor: pointer;\n",
              "        display: none;\n",
              "        fill: #1967D2;\n",
              "        height: 32px;\n",
              "        padding: 0 0 0 0;\n",
              "        width: 32px;\n",
              "      }\n",
              "\n",
              "      .colab-df-generate:hover {\n",
              "        background-color: #E2EBFA;\n",
              "        box-shadow: 0px 1px 2px rgba(60, 64, 67, 0.3), 0px 1px 3px 1px rgba(60, 64, 67, 0.15);\n",
              "        fill: #174EA6;\n",
              "      }\n",
              "\n",
              "      [theme=dark] .colab-df-generate {\n",
              "        background-color: #3B4455;\n",
              "        fill: #D2E3FC;\n",
              "      }\n",
              "\n",
              "      [theme=dark] .colab-df-generate:hover {\n",
              "        background-color: #434B5C;\n",
              "        box-shadow: 0px 1px 3px 1px rgba(0, 0, 0, 0.15);\n",
              "        filter: drop-shadow(0px 1px 2px rgba(0, 0, 0, 0.3));\n",
              "        fill: #FFFFFF;\n",
              "      }\n",
              "    </style>\n",
              "    <button class=\"colab-df-generate\" onclick=\"generateWithVariable('df')\"\n",
              "            title=\"Generate code using this dataframe.\"\n",
              "            style=\"display:none;\">\n",
              "\n",
              "  <svg xmlns=\"http://www.w3.org/2000/svg\" height=\"24px\"viewBox=\"0 0 24 24\"\n",
              "       width=\"24px\">\n",
              "    <path d=\"M7,19H8.4L18.45,9,17,7.55,7,17.6ZM5,21V16.75L18.45,3.32a2,2,0,0,1,2.83,0l1.4,1.43a1.91,1.91,0,0,1,.58,1.4,1.91,1.91,0,0,1-.58,1.4L9.25,21ZM18.45,9,17,7.55Zm-12,3A5.31,5.31,0,0,0,4.9,8.1,5.31,5.31,0,0,0,1,6.5,5.31,5.31,0,0,0,4.9,4.9,5.31,5.31,0,0,0,6.5,1,5.31,5.31,0,0,0,8.1,4.9,5.31,5.31,0,0,0,12,6.5,5.46,5.46,0,0,0,6.5,12Z\"/>\n",
              "  </svg>\n",
              "    </button>\n",
              "    <script>\n",
              "      (() => {\n",
              "      const buttonEl =\n",
              "        document.querySelector('#id_bf834423-c08b-4d9c-b881-90d76c7c742f button.colab-df-generate');\n",
              "      buttonEl.style.display =\n",
              "        google.colab.kernel.accessAllowed ? 'block' : 'none';\n",
              "\n",
              "      buttonEl.onclick = () => {\n",
              "        google.colab.notebook.generateWithVariable('df');\n",
              "      }\n",
              "      })();\n",
              "    </script>\n",
              "  </div>\n",
              "\n",
              "    </div>\n",
              "  </div>\n"
            ],
            "text/plain": [
              "                   track_id                                   user_id  \\\n",
              "0        TRIRLYL128F42539D1  b80344d063b5ccb3212f76538f3d9e43d87dca9e   \n",
              "1        TRFUPBA128F934F7E1  b80344d063b5ccb3212f76538f3d9e43d87dca9e   \n",
              "2        TRLQPQJ128F42AA94F  b80344d063b5ccb3212f76538f3d9e43d87dca9e   \n",
              "3        TRTUCUY128F92E1D24  b80344d063b5ccb3212f76538f3d9e43d87dca9e   \n",
              "4        TRHDDQG12903CB53EE  b80344d063b5ccb3212f76538f3d9e43d87dca9e   \n",
              "...                     ...                                       ...   \n",
              "9711296  TRBKFKL128E078ED76  b7815dbb206eb2831ce0fe040d0aa537e2e800f7   \n",
              "9711297  TRYFXPG128E078ECBD  b7815dbb206eb2831ce0fe040d0aa537e2e800f7   \n",
              "9711298  TROBUUZ128F4263002  b7815dbb206eb2831ce0fe040d0aa537e2e800f7   \n",
              "9711299  TROEWXC128F148C83E  b7815dbb206eb2831ce0fe040d0aa537e2e800f7   \n",
              "9711300  TROHQNO128F146ECCB  b7815dbb206eb2831ce0fe040d0aa537e2e800f7   \n",
              "\n",
              "         playcount  \n",
              "0                1  \n",
              "1                1  \n",
              "2                1  \n",
              "3                1  \n",
              "4                1  \n",
              "...            ...  \n",
              "9711296          1  \n",
              "9711297          1  \n",
              "9711298          1  \n",
              "9711299          1  \n",
              "9711300          1  \n",
              "\n",
              "[9711301 rows x 3 columns]"
            ]
          },
          "execution_count": 4,
          "metadata": {},
          "output_type": "execute_result"
        }
      ],
      "source": [
        "df"
      ]
    },
    {
      "cell_type": "code",
      "execution_count": 5,
      "metadata": {
        "id": "W7z19GLpKPcu"
      },
      "outputs": [],
      "source": [
        "def stats(df):\n",
        "  num_users = df['user_id'].nunique()\n",
        "  print(\"total # of users : \",num_users)\n",
        "\n",
        "  # Count the appearances of each user\n",
        "  user_counts = df['user_id'].value_counts()\n",
        "\n",
        "  # Find the user with the maximum appearances\n",
        "  max_user = user_counts.idxmax()\n",
        "  max_count = user_counts.max()\n",
        "\n",
        "  # Find the user with the minimum appearances\n",
        "  min_user = user_counts.idxmin()\n",
        "  min_count = user_counts.min()\n",
        "\n",
        "  print(f\"User with maximum appearances: {max_user} ({max_count} times)\")\n",
        "  print(f\"User with minimum appearances: {min_user} ({min_count} times)\")\n",
        "\n",
        "  # Calculate the average number of interactions per user\n",
        "  average_interactions = user_counts.mean()\n",
        "\n",
        "  print(f\"Average number of interactions per user: {average_interactions:.2f}\")"
      ]
    },
    {
      "cell_type": "code",
      "execution_count": 6,
      "metadata": {
        "colab": {
          "base_uri": "https://localhost:8080/"
        },
        "id": "NG4UaBtMKmY-",
        "outputId": "b9247536-0a8a-411e-968e-d50ebe782ebd"
      },
      "outputs": [
        {
          "name": "stdout",
          "output_type": "stream",
          "text": [
            "total # of users :  962037\n",
            "User with maximum appearances: ec6dfcf19485cb011e0b22637075037aae34cf26 (784 times)\n",
            "User with minimum appearances: 6f62f1c30b0f4b87db28c101ddcab89b4f5d7298 (1 times)\n",
            "Average number of interactions per user: 10.09\n"
          ]
        }
      ],
      "source": [
        "stats(df)"
      ]
    },
    {
      "cell_type": "markdown",
      "metadata": {
        "id": "hHtIwVDzKu4j"
      },
      "source": [
        "Theres no much interaction density"
      ]
    },
    {
      "cell_type": "code",
      "execution_count": 7,
      "metadata": {
        "id": "lJZyXiuaK0Zk"
      },
      "outputs": [],
      "source": [
        "# Count the number of interactions per user\n",
        "user_interaction_counts = df['user_id'].value_counts()\n",
        "\n",
        "# Filter out users with only 50 interaction\n",
        "users_with_high_interactions = user_interaction_counts[user_interaction_counts > 50].index\n",
        "\n",
        "# Filter the original DataFrame to keep only users with more than 50 interaction\n",
        "filtered_df = df[df['user_id'].isin(users_with_high_interactions)]"
      ]
    },
    {
      "cell_type": "code",
      "execution_count": 8,
      "metadata": {
        "colab": {
          "base_uri": "https://localhost:8080/"
        },
        "id": "yIHuIIHMLInV",
        "outputId": "5b9ba865-93cf-4065-a01b-6d2e7bcf783e"
      },
      "outputs": [
        {
          "name": "stdout",
          "output_type": "stream",
          "text": [
            "total # of users :  22733\n",
            "User with maximum appearances: ec6dfcf19485cb011e0b22637075037aae34cf26 (784 times)\n",
            "User with minimum appearances: 8305c896f42308824da7d4386f4b9ee584281412 (51 times)\n",
            "Average number of interactions per user: 77.20\n"
          ]
        }
      ],
      "source": [
        "stats(filtered_df)"
      ]
    },
    {
      "cell_type": "code",
      "execution_count": 9,
      "metadata": {
        "id": "TZWombW3AZBx"
      },
      "outputs": [],
      "source": [
        "# Function to get the last `n_interactions`, excluding the latest `exclude_count`\n",
        "def get_last_n_excluding_latest(group, n, exclude_count):\n",
        "    if len(group) > n + exclude_count:\n",
        "        # Skip the latest `exclude_count` interactions, then get the next `n` interactions\n",
        "        return group.iloc[-(n + exclude_count):-exclude_count]\n",
        "    elif len(group) > exclude_count:\n",
        "        # If there are fewer than `n + exclude_count` but more than `exclude_count` interactions, return all after skipping the latest `exclude_count`\n",
        "        return group.iloc[:-exclude_count]\n",
        "    else:\n",
        "        # If there are fewer than `exclude_count` interactions, return all available interactions\n",
        "        return group\n"
      ]
    },
    {
      "cell_type": "code",
      "execution_count": 10,
      "metadata": {
        "id": "VaZSs37eT_eW"
      },
      "outputs": [],
      "source": [
        "# Function to get the last `n_interactions`\n",
        "def get_last_n(df, n=10):\n",
        "    aggregated_df = df.groupby(['user_id', 'track_id'], as_index=False)['playcount'].sum()\n",
        "\n",
        "    aggregated_df = aggregated_df.sort_values(['user_id', 'playcount'], ascending=[True, False])\n",
        "\n",
        "    top_n_tracks = aggregated_df.groupby('user_id').head(n).reset_index(drop=True)\n",
        "\n",
        "    return top_n_tracks[['user_id', 'track_id', 'playcount']]"
      ]
    },
    {
      "cell_type": "code",
      "execution_count": 11,
      "metadata": {
        "colab": {
          "base_uri": "https://localhost:8080/"
        },
        "id": "ZPxwp4kw9QgJ",
        "outputId": "bf8c8a8a-1bb1-44d1-d46c-4234ca8feca8"
      },
      "outputs": [
        {
          "name": "stderr",
          "output_type": "stream",
          "text": [
            "<ipython-input-11-aa75ccd57687>:1: DeprecationWarning: DataFrameGroupBy.apply operated on the grouping columns. This behavior is deprecated, and in a future version of pandas the grouping columns will be excluded from the operation. Either pass `include_groups=False` to exclude the groupings or explicitly select the grouping columns after groupby to silence this warning.\n",
            "  test_set = filtered_df.groupby('user_id', group_keys=False).apply(lambda x: get_last_n(x, 10)).reset_index(drop=True)\n"
          ]
        }
      ],
      "source": [
        "test_set = filtered_df.groupby('user_id', group_keys=False).apply(lambda x: get_last_n(x, 10)).reset_index(drop=True)"
      ]
    },
    {
      "cell_type": "markdown",
      "metadata": {
        "id": "rhCLJrAIT9w2"
      },
      "source": [
        "This test set contains latest 10 interactions of each user"
      ]
    },
    {
      "cell_type": "code",
      "execution_count": 12,
      "metadata": {
        "id": "XhTg2xpxngYV"
      },
      "outputs": [],
      "source": [
        "test_set = test_set.drop(columns=['playcount'])"
      ]
    },
    {
      "cell_type": "code",
      "execution_count": 13,
      "metadata": {
        "colab": {
          "base_uri": "https://localhost:8080/",
          "height": 423
        },
        "id": "dc5Whye6nvSK",
        "outputId": "4e607941-d7b1-496b-ddee-660b2e3b3b0d"
      },
      "outputs": [
        {
          "data": {
            "application/vnd.google.colaboratory.intrinsic+json": {
              "type": "dataframe",
              "variable_name": "test_set"
            },
            "text/html": [
              "\n",
              "  <div id=\"df-1cda5e15-5f8b-4d7c-a883-85a72358a739\" class=\"colab-df-container\">\n",
              "    <div>\n",
              "<style scoped>\n",
              "    .dataframe tbody tr th:only-of-type {\n",
              "        vertical-align: middle;\n",
              "    }\n",
              "\n",
              "    .dataframe tbody tr th {\n",
              "        vertical-align: top;\n",
              "    }\n",
              "\n",
              "    .dataframe thead th {\n",
              "        text-align: right;\n",
              "    }\n",
              "</style>\n",
              "<table border=\"1\" class=\"dataframe\">\n",
              "  <thead>\n",
              "    <tr style=\"text-align: right;\">\n",
              "      <th></th>\n",
              "      <th>user_id</th>\n",
              "      <th>track_id</th>\n",
              "    </tr>\n",
              "  </thead>\n",
              "  <tbody>\n",
              "    <tr>\n",
              "      <th>0</th>\n",
              "      <td>0003a64f7a69e5b87a80b09c3772227185c235c7</td>\n",
              "      <td>TRTBNOP12903CDB267</td>\n",
              "    </tr>\n",
              "    <tr>\n",
              "      <th>1</th>\n",
              "      <td>0003a64f7a69e5b87a80b09c3772227185c235c7</td>\n",
              "      <td>TRBMCGS128F92D2C27</td>\n",
              "    </tr>\n",
              "    <tr>\n",
              "      <th>2</th>\n",
              "      <td>0003a64f7a69e5b87a80b09c3772227185c235c7</td>\n",
              "      <td>TRNPEXS128F1460294</td>\n",
              "    </tr>\n",
              "    <tr>\n",
              "      <th>3</th>\n",
              "      <td>0003a64f7a69e5b87a80b09c3772227185c235c7</td>\n",
              "      <td>TRRSBHA128F425E8B5</td>\n",
              "    </tr>\n",
              "    <tr>\n",
              "      <th>4</th>\n",
              "      <td>0003a64f7a69e5b87a80b09c3772227185c235c7</td>\n",
              "      <td>TRFMQJK128F9321BCC</td>\n",
              "    </tr>\n",
              "    <tr>\n",
              "      <th>...</th>\n",
              "      <td>...</td>\n",
              "      <td>...</td>\n",
              "    </tr>\n",
              "    <tr>\n",
              "      <th>227325</th>\n",
              "      <td>ffffcfeb0c1b66bd212ea58d918c7dc62fb9c3a5</td>\n",
              "      <td>TRBVNWT128F93173BA</td>\n",
              "    </tr>\n",
              "    <tr>\n",
              "      <th>227326</th>\n",
              "      <td>ffffcfeb0c1b66bd212ea58d918c7dc62fb9c3a5</td>\n",
              "      <td>TRCDGSB128F429EA6C</td>\n",
              "    </tr>\n",
              "    <tr>\n",
              "      <th>227327</th>\n",
              "      <td>ffffcfeb0c1b66bd212ea58d918c7dc62fb9c3a5</td>\n",
              "      <td>TRGAQVK12903D08292</td>\n",
              "    </tr>\n",
              "    <tr>\n",
              "      <th>227328</th>\n",
              "      <td>ffffcfeb0c1b66bd212ea58d918c7dc62fb9c3a5</td>\n",
              "      <td>TRWRUCY128F424351B</td>\n",
              "    </tr>\n",
              "    <tr>\n",
              "      <th>227329</th>\n",
              "      <td>ffffcfeb0c1b66bd212ea58d918c7dc62fb9c3a5</td>\n",
              "      <td>TRYIKBI128F426FFF2</td>\n",
              "    </tr>\n",
              "  </tbody>\n",
              "</table>\n",
              "<p>227330 rows × 2 columns</p>\n",
              "</div>\n",
              "    <div class=\"colab-df-buttons\">\n",
              "\n",
              "  <div class=\"colab-df-container\">\n",
              "    <button class=\"colab-df-convert\" onclick=\"convertToInteractive('df-1cda5e15-5f8b-4d7c-a883-85a72358a739')\"\n",
              "            title=\"Convert this dataframe to an interactive table.\"\n",
              "            style=\"display:none;\">\n",
              "\n",
              "  <svg xmlns=\"http://www.w3.org/2000/svg\" height=\"24px\" viewBox=\"0 -960 960 960\">\n",
              "    <path d=\"M120-120v-720h720v720H120Zm60-500h600v-160H180v160Zm220 220h160v-160H400v160Zm0 220h160v-160H400v160ZM180-400h160v-160H180v160Zm440 0h160v-160H620v160ZM180-180h160v-160H180v160Zm440 0h160v-160H620v160Z\"/>\n",
              "  </svg>\n",
              "    </button>\n",
              "\n",
              "  <style>\n",
              "    .colab-df-container {\n",
              "      display:flex;\n",
              "      gap: 12px;\n",
              "    }\n",
              "\n",
              "    .colab-df-convert {\n",
              "      background-color: #E8F0FE;\n",
              "      border: none;\n",
              "      border-radius: 50%;\n",
              "      cursor: pointer;\n",
              "      display: none;\n",
              "      fill: #1967D2;\n",
              "      height: 32px;\n",
              "      padding: 0 0 0 0;\n",
              "      width: 32px;\n",
              "    }\n",
              "\n",
              "    .colab-df-convert:hover {\n",
              "      background-color: #E2EBFA;\n",
              "      box-shadow: 0px 1px 2px rgba(60, 64, 67, 0.3), 0px 1px 3px 1px rgba(60, 64, 67, 0.15);\n",
              "      fill: #174EA6;\n",
              "    }\n",
              "\n",
              "    .colab-df-buttons div {\n",
              "      margin-bottom: 4px;\n",
              "    }\n",
              "\n",
              "    [theme=dark] .colab-df-convert {\n",
              "      background-color: #3B4455;\n",
              "      fill: #D2E3FC;\n",
              "    }\n",
              "\n",
              "    [theme=dark] .colab-df-convert:hover {\n",
              "      background-color: #434B5C;\n",
              "      box-shadow: 0px 1px 3px 1px rgba(0, 0, 0, 0.15);\n",
              "      filter: drop-shadow(0px 1px 2px rgba(0, 0, 0, 0.3));\n",
              "      fill: #FFFFFF;\n",
              "    }\n",
              "  </style>\n",
              "\n",
              "    <script>\n",
              "      const buttonEl =\n",
              "        document.querySelector('#df-1cda5e15-5f8b-4d7c-a883-85a72358a739 button.colab-df-convert');\n",
              "      buttonEl.style.display =\n",
              "        google.colab.kernel.accessAllowed ? 'block' : 'none';\n",
              "\n",
              "      async function convertToInteractive(key) {\n",
              "        const element = document.querySelector('#df-1cda5e15-5f8b-4d7c-a883-85a72358a739');\n",
              "        const dataTable =\n",
              "          await google.colab.kernel.invokeFunction('convertToInteractive',\n",
              "                                                    [key], {});\n",
              "        if (!dataTable) return;\n",
              "\n",
              "        const docLinkHtml = 'Like what you see? Visit the ' +\n",
              "          '<a target=\"_blank\" href=https://colab.research.google.com/notebooks/data_table.ipynb>data table notebook</a>'\n",
              "          + ' to learn more about interactive tables.';\n",
              "        element.innerHTML = '';\n",
              "        dataTable['output_type'] = 'display_data';\n",
              "        await google.colab.output.renderOutput(dataTable, element);\n",
              "        const docLink = document.createElement('div');\n",
              "        docLink.innerHTML = docLinkHtml;\n",
              "        element.appendChild(docLink);\n",
              "      }\n",
              "    </script>\n",
              "  </div>\n",
              "\n",
              "\n",
              "<div id=\"df-cac37df5-d30a-4505-a2c1-2e2631459ba6\">\n",
              "  <button class=\"colab-df-quickchart\" onclick=\"quickchart('df-cac37df5-d30a-4505-a2c1-2e2631459ba6')\"\n",
              "            title=\"Suggest charts\"\n",
              "            style=\"display:none;\">\n",
              "\n",
              "<svg xmlns=\"http://www.w3.org/2000/svg\" height=\"24px\"viewBox=\"0 0 24 24\"\n",
              "     width=\"24px\">\n",
              "    <g>\n",
              "        <path d=\"M19 3H5c-1.1 0-2 .9-2 2v14c0 1.1.9 2 2 2h14c1.1 0 2-.9 2-2V5c0-1.1-.9-2-2-2zM9 17H7v-7h2v7zm4 0h-2V7h2v10zm4 0h-2v-4h2v4z\"/>\n",
              "    </g>\n",
              "</svg>\n",
              "  </button>\n",
              "\n",
              "<style>\n",
              "  .colab-df-quickchart {\n",
              "      --bg-color: #E8F0FE;\n",
              "      --fill-color: #1967D2;\n",
              "      --hover-bg-color: #E2EBFA;\n",
              "      --hover-fill-color: #174EA6;\n",
              "      --disabled-fill-color: #AAA;\n",
              "      --disabled-bg-color: #DDD;\n",
              "  }\n",
              "\n",
              "  [theme=dark] .colab-df-quickchart {\n",
              "      --bg-color: #3B4455;\n",
              "      --fill-color: #D2E3FC;\n",
              "      --hover-bg-color: #434B5C;\n",
              "      --hover-fill-color: #FFFFFF;\n",
              "      --disabled-bg-color: #3B4455;\n",
              "      --disabled-fill-color: #666;\n",
              "  }\n",
              "\n",
              "  .colab-df-quickchart {\n",
              "    background-color: var(--bg-color);\n",
              "    border: none;\n",
              "    border-radius: 50%;\n",
              "    cursor: pointer;\n",
              "    display: none;\n",
              "    fill: var(--fill-color);\n",
              "    height: 32px;\n",
              "    padding: 0;\n",
              "    width: 32px;\n",
              "  }\n",
              "\n",
              "  .colab-df-quickchart:hover {\n",
              "    background-color: var(--hover-bg-color);\n",
              "    box-shadow: 0 1px 2px rgba(60, 64, 67, 0.3), 0 1px 3px 1px rgba(60, 64, 67, 0.15);\n",
              "    fill: var(--button-hover-fill-color);\n",
              "  }\n",
              "\n",
              "  .colab-df-quickchart-complete:disabled,\n",
              "  .colab-df-quickchart-complete:disabled:hover {\n",
              "    background-color: var(--disabled-bg-color);\n",
              "    fill: var(--disabled-fill-color);\n",
              "    box-shadow: none;\n",
              "  }\n",
              "\n",
              "  .colab-df-spinner {\n",
              "    border: 2px solid var(--fill-color);\n",
              "    border-color: transparent;\n",
              "    border-bottom-color: var(--fill-color);\n",
              "    animation:\n",
              "      spin 1s steps(1) infinite;\n",
              "  }\n",
              "\n",
              "  @keyframes spin {\n",
              "    0% {\n",
              "      border-color: transparent;\n",
              "      border-bottom-color: var(--fill-color);\n",
              "      border-left-color: var(--fill-color);\n",
              "    }\n",
              "    20% {\n",
              "      border-color: transparent;\n",
              "      border-left-color: var(--fill-color);\n",
              "      border-top-color: var(--fill-color);\n",
              "    }\n",
              "    30% {\n",
              "      border-color: transparent;\n",
              "      border-left-color: var(--fill-color);\n",
              "      border-top-color: var(--fill-color);\n",
              "      border-right-color: var(--fill-color);\n",
              "    }\n",
              "    40% {\n",
              "      border-color: transparent;\n",
              "      border-right-color: var(--fill-color);\n",
              "      border-top-color: var(--fill-color);\n",
              "    }\n",
              "    60% {\n",
              "      border-color: transparent;\n",
              "      border-right-color: var(--fill-color);\n",
              "    }\n",
              "    80% {\n",
              "      border-color: transparent;\n",
              "      border-right-color: var(--fill-color);\n",
              "      border-bottom-color: var(--fill-color);\n",
              "    }\n",
              "    90% {\n",
              "      border-color: transparent;\n",
              "      border-bottom-color: var(--fill-color);\n",
              "    }\n",
              "  }\n",
              "</style>\n",
              "\n",
              "  <script>\n",
              "    async function quickchart(key) {\n",
              "      const quickchartButtonEl =\n",
              "        document.querySelector('#' + key + ' button');\n",
              "      quickchartButtonEl.disabled = true;  // To prevent multiple clicks.\n",
              "      quickchartButtonEl.classList.add('colab-df-spinner');\n",
              "      try {\n",
              "        const charts = await google.colab.kernel.invokeFunction(\n",
              "            'suggestCharts', [key], {});\n",
              "      } catch (error) {\n",
              "        console.error('Error during call to suggestCharts:', error);\n",
              "      }\n",
              "      quickchartButtonEl.classList.remove('colab-df-spinner');\n",
              "      quickchartButtonEl.classList.add('colab-df-quickchart-complete');\n",
              "    }\n",
              "    (() => {\n",
              "      let quickchartButtonEl =\n",
              "        document.querySelector('#df-cac37df5-d30a-4505-a2c1-2e2631459ba6 button');\n",
              "      quickchartButtonEl.style.display =\n",
              "        google.colab.kernel.accessAllowed ? 'block' : 'none';\n",
              "    })();\n",
              "  </script>\n",
              "</div>\n",
              "\n",
              "  <div id=\"id_087aec11-0544-470c-8efb-180715dae87d\">\n",
              "    <style>\n",
              "      .colab-df-generate {\n",
              "        background-color: #E8F0FE;\n",
              "        border: none;\n",
              "        border-radius: 50%;\n",
              "        cursor: pointer;\n",
              "        display: none;\n",
              "        fill: #1967D2;\n",
              "        height: 32px;\n",
              "        padding: 0 0 0 0;\n",
              "        width: 32px;\n",
              "      }\n",
              "\n",
              "      .colab-df-generate:hover {\n",
              "        background-color: #E2EBFA;\n",
              "        box-shadow: 0px 1px 2px rgba(60, 64, 67, 0.3), 0px 1px 3px 1px rgba(60, 64, 67, 0.15);\n",
              "        fill: #174EA6;\n",
              "      }\n",
              "\n",
              "      [theme=dark] .colab-df-generate {\n",
              "        background-color: #3B4455;\n",
              "        fill: #D2E3FC;\n",
              "      }\n",
              "\n",
              "      [theme=dark] .colab-df-generate:hover {\n",
              "        background-color: #434B5C;\n",
              "        box-shadow: 0px 1px 3px 1px rgba(0, 0, 0, 0.15);\n",
              "        filter: drop-shadow(0px 1px 2px rgba(0, 0, 0, 0.3));\n",
              "        fill: #FFFFFF;\n",
              "      }\n",
              "    </style>\n",
              "    <button class=\"colab-df-generate\" onclick=\"generateWithVariable('test_set')\"\n",
              "            title=\"Generate code using this dataframe.\"\n",
              "            style=\"display:none;\">\n",
              "\n",
              "  <svg xmlns=\"http://www.w3.org/2000/svg\" height=\"24px\"viewBox=\"0 0 24 24\"\n",
              "       width=\"24px\">\n",
              "    <path d=\"M7,19H8.4L18.45,9,17,7.55,7,17.6ZM5,21V16.75L18.45,3.32a2,2,0,0,1,2.83,0l1.4,1.43a1.91,1.91,0,0,1,.58,1.4,1.91,1.91,0,0,1-.58,1.4L9.25,21ZM18.45,9,17,7.55Zm-12,3A5.31,5.31,0,0,0,4.9,8.1,5.31,5.31,0,0,0,1,6.5,5.31,5.31,0,0,0,4.9,4.9,5.31,5.31,0,0,0,6.5,1,5.31,5.31,0,0,0,8.1,4.9,5.31,5.31,0,0,0,12,6.5,5.46,5.46,0,0,0,6.5,12Z\"/>\n",
              "  </svg>\n",
              "    </button>\n",
              "    <script>\n",
              "      (() => {\n",
              "      const buttonEl =\n",
              "        document.querySelector('#id_087aec11-0544-470c-8efb-180715dae87d button.colab-df-generate');\n",
              "      buttonEl.style.display =\n",
              "        google.colab.kernel.accessAllowed ? 'block' : 'none';\n",
              "\n",
              "      buttonEl.onclick = () => {\n",
              "        google.colab.notebook.generateWithVariable('test_set');\n",
              "      }\n",
              "      })();\n",
              "    </script>\n",
              "  </div>\n",
              "\n",
              "    </div>\n",
              "  </div>\n"
            ],
            "text/plain": [
              "                                         user_id            track_id\n",
              "0       0003a64f7a69e5b87a80b09c3772227185c235c7  TRTBNOP12903CDB267\n",
              "1       0003a64f7a69e5b87a80b09c3772227185c235c7  TRBMCGS128F92D2C27\n",
              "2       0003a64f7a69e5b87a80b09c3772227185c235c7  TRNPEXS128F1460294\n",
              "3       0003a64f7a69e5b87a80b09c3772227185c235c7  TRRSBHA128F425E8B5\n",
              "4       0003a64f7a69e5b87a80b09c3772227185c235c7  TRFMQJK128F9321BCC\n",
              "...                                          ...                 ...\n",
              "227325  ffffcfeb0c1b66bd212ea58d918c7dc62fb9c3a5  TRBVNWT128F93173BA\n",
              "227326  ffffcfeb0c1b66bd212ea58d918c7dc62fb9c3a5  TRCDGSB128F429EA6C\n",
              "227327  ffffcfeb0c1b66bd212ea58d918c7dc62fb9c3a5  TRGAQVK12903D08292\n",
              "227328  ffffcfeb0c1b66bd212ea58d918c7dc62fb9c3a5  TRWRUCY128F424351B\n",
              "227329  ffffcfeb0c1b66bd212ea58d918c7dc62fb9c3a5  TRYIKBI128F426FFF2\n",
              "\n",
              "[227330 rows x 2 columns]"
            ]
          },
          "execution_count": 13,
          "metadata": {},
          "output_type": "execute_result"
        }
      ],
      "source": [
        "test_set"
      ]
    },
    {
      "cell_type": "code",
      "execution_count": 14,
      "metadata": {
        "colab": {
          "base_uri": "https://localhost:8080/"
        },
        "id": "gY9fNjH7ksvz",
        "outputId": "b2785a93-9de1-4447-9bc9-334a4c751807"
      },
      "outputs": [
        {
          "name": "stdout",
          "output_type": "stream",
          "text": [
            "(1520397, 3)\n"
          ]
        },
        {
          "name": "stderr",
          "output_type": "stream",
          "text": [
            "<ipython-input-14-fe3d5776ad01>:2: DeprecationWarning: DataFrameGroupBy.apply operated on the grouping columns. This behavior is deprecated, and in a future version of pandas the grouping columns will be excluded from the operation. Either pass `include_groups=False` to exclude the groupings or explicitly select the grouping columns after groupby to silence this warning.\n",
            "  last_n_excluding_latest = filtered_df.groupby('user_id', group_keys=False).apply(lambda x: get_last_n_excluding_latest(x, 200,10)).reset_index(drop=True)\n"
          ]
        }
      ],
      "source": [
        "# Apply the function to each user group and reset the index\n",
        "last_n_excluding_latest = filtered_df.groupby('user_id', group_keys=False).apply(lambda x: get_last_n_excluding_latest(x, 200,10)).reset_index(drop=True)\n",
        "\n",
        "print(last_n_excluding_latest.shape)"
      ]
    },
    {
      "cell_type": "markdown",
      "metadata": {
        "id": "O6p5D9aYLvWK"
      },
      "source": [
        "Now, this dataset contains, only the latest 200 interactions(without latest 10) of every user who had at least 50 interactions"
      ]
    },
    {
      "cell_type": "code",
      "execution_count": 16,
      "metadata": {
        "id": "DNIAwdI1L6Us"
      },
      "outputs": [],
      "source": [
        "aggregated_data = last_n_excluding_latest.groupby(['user_id', 'track_id'], as_index=False).agg({'playcount': 'mean'})"
      ]
    },
    {
      "cell_type": "code",
      "execution_count": 63,
      "metadata": {
        "colab": {
          "base_uri": "https://localhost:8080/"
        },
        "id": "90p5YLe46Sk6",
        "outputId": "df280402-369a-4ce3-cc33-144bcc6d03d5"
      },
      "outputs": [
        {
          "name": "stdout",
          "output_type": "stream",
          "text": [
            "Unique track_id count: 26481\n"
          ]
        }
      ],
      "source": [
        "unique_track_id_count = aggregated_data['track_id'].nunique()\n",
        "print(f\"Unique track_id count: {unique_track_id_count}\")\n"
      ]
    },
    {
      "cell_type": "code",
      "execution_count": 17,
      "metadata": {
        "colab": {
          "base_uri": "https://localhost:8080/"
        },
        "id": "vDhEppChMKc2",
        "outputId": "0f112a63-85a9-493c-a1d8-965a08b51393"
      },
      "outputs": [
        {
          "data": {
            "text/plain": [
              "array([2.000e+00, 1.000e+00, 5.000e+00, 3.000e+00, 4.000e+00, 6.000e+00,\n",
              "       1.200e+01, 1.000e+01, 7.000e+00, 9.000e+00, 1.700e+01, 1.100e+01,\n",
              "       8.000e+00, 1.400e+01, 1.600e+01, 1.800e+01, 1.300e+01, 3.000e+01,\n",
              "       1.900e+01, 1.500e+01, 2.000e+01, 4.300e+01, 4.800e+01, 3.200e+01,\n",
              "       2.500e+01, 2.400e+01, 2.300e+01, 3.100e+01, 2.800e+01, 2.200e+01,\n",
              "       6.200e+01, 2.700e+01, 1.090e+02, 4.500e+01, 3.900e+01, 3.500e+01,\n",
              "       3.400e+01, 3.600e+01, 2.100e+01, 2.900e+01, 3.300e+01, 2.810e+02,\n",
              "       4.900e+01, 3.700e+01, 3.800e+01, 4.700e+01, 4.100e+01, 4.600e+01,\n",
              "       5.700e+01, 2.600e+01, 5.300e+01, 1.830e+02, 5.000e+01, 7.200e+01,\n",
              "       6.300e+01, 7.000e+01, 7.800e+01, 9.000e+01, 8.600e+01, 6.000e+01,\n",
              "       4.000e+01, 7.900e+01, 6.600e+01, 9.100e+01, 8.100e+01, 7.600e+01,\n",
              "       6.900e+01, 4.200e+01, 5.500e+01, 7.300e+01, 7.700e+01, 5.100e+01,\n",
              "       1.560e+02, 5.200e+01, 6.700e+01, 5.900e+01, 5.400e+01, 7.500e+01,\n",
              "       1.760e+02, 6.800e+01, 6.100e+01, 5.800e+01, 6.500e+01, 6.400e+01,\n",
              "       8.000e+01, 1.110e+02, 9.200e+01, 4.400e+01, 7.100e+01, 2.460e+02,\n",
              "       2.100e+02, 8.300e+01, 8.500e+01, 1.610e+02, 9.500e+01, 1.000e+02,\n",
              "       1.810e+02, 1.350e+02, 1.050e+02, 1.420e+02, 8.900e+01, 1.650e+02,\n",
              "       1.180e+02, 5.600e+01, 4.550e+02, 8.700e+01, 1.780e+02, 1.260e+02,\n",
              "       9.700e+01, 1.440e+02, 1.020e+02, 8.400e+01, 1.890e+02, 1.060e+02,\n",
              "       8.200e+01, 9.300e+01, 9.900e+01, 9.600e+01, 1.010e+02, 1.920e+02,\n",
              "       1.230e+02, 1.990e+02, 9.800e+01, 1.300e+02, 1.040e+02, 1.170e+02,\n",
              "       7.400e+01, 3.880e+02, 1.570e+02, 1.200e+02, 1.380e+02, 9.400e+01,\n",
              "       3.210e+02, 1.250e+02, 2.990e+02, 1.210e+02, 8.800e+01, 1.100e+02,\n",
              "       1.130e+02, 1.880e+02, 6.650e+02, 1.720e+02, 1.540e+02, 1.670e+02,\n",
              "       1.490e+02, 1.280e+02, 2.500e+02, 1.370e+02, 2.410e+02, 1.980e+02,\n",
              "       4.430e+02, 1.150e+02, 1.080e+02, 1.290e+02, 1.840e+02, 1.134e+03,\n",
              "       1.240e+02, 1.940e+02, 1.820e+02, 1.850e+02, 3.040e+02, 3.620e+02,\n",
              "       2.380e+02, 1.460e+02, 2.520e+02, 1.930e+02, 1.270e+02, 1.730e+02])"
            ]
          },
          "execution_count": 17,
          "metadata": {},
          "output_type": "execute_result"
        }
      ],
      "source": [
        "aggregated_data['playcount'].unique()"
      ]
    },
    {
      "cell_type": "code",
      "execution_count": 18,
      "metadata": {
        "colab": {
          "base_uri": "https://localhost:8080/",
          "height": 423
        },
        "id": "nsCg_UBAMwyG",
        "outputId": "d8cccaab-56b5-4aa7-b3c0-4746e5f38826"
      },
      "outputs": [
        {
          "data": {
            "application/vnd.google.colaboratory.intrinsic+json": {
              "type": "dataframe",
              "variable_name": "aggregated_data"
            },
            "text/html": [
              "\n",
              "  <div id=\"df-631d80e3-96f6-442d-8f56-f7cdd702987a\" class=\"colab-df-container\">\n",
              "    <div>\n",
              "<style scoped>\n",
              "    .dataframe tbody tr th:only-of-type {\n",
              "        vertical-align: middle;\n",
              "    }\n",
              "\n",
              "    .dataframe tbody tr th {\n",
              "        vertical-align: top;\n",
              "    }\n",
              "\n",
              "    .dataframe thead th {\n",
              "        text-align: right;\n",
              "    }\n",
              "</style>\n",
              "<table border=\"1\" class=\"dataframe\">\n",
              "  <thead>\n",
              "    <tr style=\"text-align: right;\">\n",
              "      <th></th>\n",
              "      <th>user_id</th>\n",
              "      <th>track_id</th>\n",
              "      <th>playcount</th>\n",
              "    </tr>\n",
              "  </thead>\n",
              "  <tbody>\n",
              "    <tr>\n",
              "      <th>0</th>\n",
              "      <td>0003a64f7a69e5b87a80b09c3772227185c235c7</td>\n",
              "      <td>TRAFUNV128F92CFEB2</td>\n",
              "      <td>2.0</td>\n",
              "    </tr>\n",
              "    <tr>\n",
              "      <th>1</th>\n",
              "      <td>0003a64f7a69e5b87a80b09c3772227185c235c7</td>\n",
              "      <td>TRAKKTI128F42B4F25</td>\n",
              "      <td>1.0</td>\n",
              "    </tr>\n",
              "    <tr>\n",
              "      <th>2</th>\n",
              "      <td>0003a64f7a69e5b87a80b09c3772227185c235c7</td>\n",
              "      <td>TRARTEH128F423DBC1</td>\n",
              "      <td>1.0</td>\n",
              "    </tr>\n",
              "    <tr>\n",
              "      <th>3</th>\n",
              "      <td>0003a64f7a69e5b87a80b09c3772227185c235c7</td>\n",
              "      <td>TRAVRKY128F429EA68</td>\n",
              "      <td>1.0</td>\n",
              "    </tr>\n",
              "    <tr>\n",
              "      <th>4</th>\n",
              "      <td>0003a64f7a69e5b87a80b09c3772227185c235c7</td>\n",
              "      <td>TRBFKOV128F426DDF1</td>\n",
              "      <td>1.0</td>\n",
              "    </tr>\n",
              "    <tr>\n",
              "      <th>...</th>\n",
              "      <td>...</td>\n",
              "      <td>...</td>\n",
              "      <td>...</td>\n",
              "    </tr>\n",
              "    <tr>\n",
              "      <th>1723295</th>\n",
              "      <td>ffffcfeb0c1b66bd212ea58d918c7dc62fb9c3a5</td>\n",
              "      <td>TRYDVHI128F93268D6</td>\n",
              "      <td>1.0</td>\n",
              "    </tr>\n",
              "    <tr>\n",
              "      <th>1723296</th>\n",
              "      <td>ffffcfeb0c1b66bd212ea58d918c7dc62fb9c3a5</td>\n",
              "      <td>TRYHSFE128F429EA71</td>\n",
              "      <td>1.0</td>\n",
              "    </tr>\n",
              "    <tr>\n",
              "      <th>1723297</th>\n",
              "      <td>ffffcfeb0c1b66bd212ea58d918c7dc62fb9c3a5</td>\n",
              "      <td>TRYIKBI128F426FFF2</td>\n",
              "      <td>2.0</td>\n",
              "    </tr>\n",
              "    <tr>\n",
              "      <th>1723298</th>\n",
              "      <td>ffffcfeb0c1b66bd212ea58d918c7dc62fb9c3a5</td>\n",
              "      <td>TRZALGW128F4296174</td>\n",
              "      <td>1.0</td>\n",
              "    </tr>\n",
              "    <tr>\n",
              "      <th>1723299</th>\n",
              "      <td>ffffcfeb0c1b66bd212ea58d918c7dc62fb9c3a5</td>\n",
              "      <td>TRZPVLJ128F148D2F7</td>\n",
              "      <td>1.0</td>\n",
              "    </tr>\n",
              "  </tbody>\n",
              "</table>\n",
              "<p>1723300 rows × 3 columns</p>\n",
              "</div>\n",
              "    <div class=\"colab-df-buttons\">\n",
              "\n",
              "  <div class=\"colab-df-container\">\n",
              "    <button class=\"colab-df-convert\" onclick=\"convertToInteractive('df-631d80e3-96f6-442d-8f56-f7cdd702987a')\"\n",
              "            title=\"Convert this dataframe to an interactive table.\"\n",
              "            style=\"display:none;\">\n",
              "\n",
              "  <svg xmlns=\"http://www.w3.org/2000/svg\" height=\"24px\" viewBox=\"0 -960 960 960\">\n",
              "    <path d=\"M120-120v-720h720v720H120Zm60-500h600v-160H180v160Zm220 220h160v-160H400v160Zm0 220h160v-160H400v160ZM180-400h160v-160H180v160Zm440 0h160v-160H620v160ZM180-180h160v-160H180v160Zm440 0h160v-160H620v160Z\"/>\n",
              "  </svg>\n",
              "    </button>\n",
              "\n",
              "  <style>\n",
              "    .colab-df-container {\n",
              "      display:flex;\n",
              "      gap: 12px;\n",
              "    }\n",
              "\n",
              "    .colab-df-convert {\n",
              "      background-color: #E8F0FE;\n",
              "      border: none;\n",
              "      border-radius: 50%;\n",
              "      cursor: pointer;\n",
              "      display: none;\n",
              "      fill: #1967D2;\n",
              "      height: 32px;\n",
              "      padding: 0 0 0 0;\n",
              "      width: 32px;\n",
              "    }\n",
              "\n",
              "    .colab-df-convert:hover {\n",
              "      background-color: #E2EBFA;\n",
              "      box-shadow: 0px 1px 2px rgba(60, 64, 67, 0.3), 0px 1px 3px 1px rgba(60, 64, 67, 0.15);\n",
              "      fill: #174EA6;\n",
              "    }\n",
              "\n",
              "    .colab-df-buttons div {\n",
              "      margin-bottom: 4px;\n",
              "    }\n",
              "\n",
              "    [theme=dark] .colab-df-convert {\n",
              "      background-color: #3B4455;\n",
              "      fill: #D2E3FC;\n",
              "    }\n",
              "\n",
              "    [theme=dark] .colab-df-convert:hover {\n",
              "      background-color: #434B5C;\n",
              "      box-shadow: 0px 1px 3px 1px rgba(0, 0, 0, 0.15);\n",
              "      filter: drop-shadow(0px 1px 2px rgba(0, 0, 0, 0.3));\n",
              "      fill: #FFFFFF;\n",
              "    }\n",
              "  </style>\n",
              "\n",
              "    <script>\n",
              "      const buttonEl =\n",
              "        document.querySelector('#df-631d80e3-96f6-442d-8f56-f7cdd702987a button.colab-df-convert');\n",
              "      buttonEl.style.display =\n",
              "        google.colab.kernel.accessAllowed ? 'block' : 'none';\n",
              "\n",
              "      async function convertToInteractive(key) {\n",
              "        const element = document.querySelector('#df-631d80e3-96f6-442d-8f56-f7cdd702987a');\n",
              "        const dataTable =\n",
              "          await google.colab.kernel.invokeFunction('convertToInteractive',\n",
              "                                                    [key], {});\n",
              "        if (!dataTable) return;\n",
              "\n",
              "        const docLinkHtml = 'Like what you see? Visit the ' +\n",
              "          '<a target=\"_blank\" href=https://colab.research.google.com/notebooks/data_table.ipynb>data table notebook</a>'\n",
              "          + ' to learn more about interactive tables.';\n",
              "        element.innerHTML = '';\n",
              "        dataTable['output_type'] = 'display_data';\n",
              "        await google.colab.output.renderOutput(dataTable, element);\n",
              "        const docLink = document.createElement('div');\n",
              "        docLink.innerHTML = docLinkHtml;\n",
              "        element.appendChild(docLink);\n",
              "      }\n",
              "    </script>\n",
              "  </div>\n",
              "\n",
              "\n",
              "<div id=\"df-282233b5-598f-4e96-a2e6-486b22153c6f\">\n",
              "  <button class=\"colab-df-quickchart\" onclick=\"quickchart('df-282233b5-598f-4e96-a2e6-486b22153c6f')\"\n",
              "            title=\"Suggest charts\"\n",
              "            style=\"display:none;\">\n",
              "\n",
              "<svg xmlns=\"http://www.w3.org/2000/svg\" height=\"24px\"viewBox=\"0 0 24 24\"\n",
              "     width=\"24px\">\n",
              "    <g>\n",
              "        <path d=\"M19 3H5c-1.1 0-2 .9-2 2v14c0 1.1.9 2 2 2h14c1.1 0 2-.9 2-2V5c0-1.1-.9-2-2-2zM9 17H7v-7h2v7zm4 0h-2V7h2v10zm4 0h-2v-4h2v4z\"/>\n",
              "    </g>\n",
              "</svg>\n",
              "  </button>\n",
              "\n",
              "<style>\n",
              "  .colab-df-quickchart {\n",
              "      --bg-color: #E8F0FE;\n",
              "      --fill-color: #1967D2;\n",
              "      --hover-bg-color: #E2EBFA;\n",
              "      --hover-fill-color: #174EA6;\n",
              "      --disabled-fill-color: #AAA;\n",
              "      --disabled-bg-color: #DDD;\n",
              "  }\n",
              "\n",
              "  [theme=dark] .colab-df-quickchart {\n",
              "      --bg-color: #3B4455;\n",
              "      --fill-color: #D2E3FC;\n",
              "      --hover-bg-color: #434B5C;\n",
              "      --hover-fill-color: #FFFFFF;\n",
              "      --disabled-bg-color: #3B4455;\n",
              "      --disabled-fill-color: #666;\n",
              "  }\n",
              "\n",
              "  .colab-df-quickchart {\n",
              "    background-color: var(--bg-color);\n",
              "    border: none;\n",
              "    border-radius: 50%;\n",
              "    cursor: pointer;\n",
              "    display: none;\n",
              "    fill: var(--fill-color);\n",
              "    height: 32px;\n",
              "    padding: 0;\n",
              "    width: 32px;\n",
              "  }\n",
              "\n",
              "  .colab-df-quickchart:hover {\n",
              "    background-color: var(--hover-bg-color);\n",
              "    box-shadow: 0 1px 2px rgba(60, 64, 67, 0.3), 0 1px 3px 1px rgba(60, 64, 67, 0.15);\n",
              "    fill: var(--button-hover-fill-color);\n",
              "  }\n",
              "\n",
              "  .colab-df-quickchart-complete:disabled,\n",
              "  .colab-df-quickchart-complete:disabled:hover {\n",
              "    background-color: var(--disabled-bg-color);\n",
              "    fill: var(--disabled-fill-color);\n",
              "    box-shadow: none;\n",
              "  }\n",
              "\n",
              "  .colab-df-spinner {\n",
              "    border: 2px solid var(--fill-color);\n",
              "    border-color: transparent;\n",
              "    border-bottom-color: var(--fill-color);\n",
              "    animation:\n",
              "      spin 1s steps(1) infinite;\n",
              "  }\n",
              "\n",
              "  @keyframes spin {\n",
              "    0% {\n",
              "      border-color: transparent;\n",
              "      border-bottom-color: var(--fill-color);\n",
              "      border-left-color: var(--fill-color);\n",
              "    }\n",
              "    20% {\n",
              "      border-color: transparent;\n",
              "      border-left-color: var(--fill-color);\n",
              "      border-top-color: var(--fill-color);\n",
              "    }\n",
              "    30% {\n",
              "      border-color: transparent;\n",
              "      border-left-color: var(--fill-color);\n",
              "      border-top-color: var(--fill-color);\n",
              "      border-right-color: var(--fill-color);\n",
              "    }\n",
              "    40% {\n",
              "      border-color: transparent;\n",
              "      border-right-color: var(--fill-color);\n",
              "      border-top-color: var(--fill-color);\n",
              "    }\n",
              "    60% {\n",
              "      border-color: transparent;\n",
              "      border-right-color: var(--fill-color);\n",
              "    }\n",
              "    80% {\n",
              "      border-color: transparent;\n",
              "      border-right-color: var(--fill-color);\n",
              "      border-bottom-color: var(--fill-color);\n",
              "    }\n",
              "    90% {\n",
              "      border-color: transparent;\n",
              "      border-bottom-color: var(--fill-color);\n",
              "    }\n",
              "  }\n",
              "</style>\n",
              "\n",
              "  <script>\n",
              "    async function quickchart(key) {\n",
              "      const quickchartButtonEl =\n",
              "        document.querySelector('#' + key + ' button');\n",
              "      quickchartButtonEl.disabled = true;  // To prevent multiple clicks.\n",
              "      quickchartButtonEl.classList.add('colab-df-spinner');\n",
              "      try {\n",
              "        const charts = await google.colab.kernel.invokeFunction(\n",
              "            'suggestCharts', [key], {});\n",
              "      } catch (error) {\n",
              "        console.error('Error during call to suggestCharts:', error);\n",
              "      }\n",
              "      quickchartButtonEl.classList.remove('colab-df-spinner');\n",
              "      quickchartButtonEl.classList.add('colab-df-quickchart-complete');\n",
              "    }\n",
              "    (() => {\n",
              "      let quickchartButtonEl =\n",
              "        document.querySelector('#df-282233b5-598f-4e96-a2e6-486b22153c6f button');\n",
              "      quickchartButtonEl.style.display =\n",
              "        google.colab.kernel.accessAllowed ? 'block' : 'none';\n",
              "    })();\n",
              "  </script>\n",
              "</div>\n",
              "\n",
              "  <div id=\"id_bcd0d769-9b8d-4fb6-8ead-02655d34f392\">\n",
              "    <style>\n",
              "      .colab-df-generate {\n",
              "        background-color: #E8F0FE;\n",
              "        border: none;\n",
              "        border-radius: 50%;\n",
              "        cursor: pointer;\n",
              "        display: none;\n",
              "        fill: #1967D2;\n",
              "        height: 32px;\n",
              "        padding: 0 0 0 0;\n",
              "        width: 32px;\n",
              "      }\n",
              "\n",
              "      .colab-df-generate:hover {\n",
              "        background-color: #E2EBFA;\n",
              "        box-shadow: 0px 1px 2px rgba(60, 64, 67, 0.3), 0px 1px 3px 1px rgba(60, 64, 67, 0.15);\n",
              "        fill: #174EA6;\n",
              "      }\n",
              "\n",
              "      [theme=dark] .colab-df-generate {\n",
              "        background-color: #3B4455;\n",
              "        fill: #D2E3FC;\n",
              "      }\n",
              "\n",
              "      [theme=dark] .colab-df-generate:hover {\n",
              "        background-color: #434B5C;\n",
              "        box-shadow: 0px 1px 3px 1px rgba(0, 0, 0, 0.15);\n",
              "        filter: drop-shadow(0px 1px 2px rgba(0, 0, 0, 0.3));\n",
              "        fill: #FFFFFF;\n",
              "      }\n",
              "    </style>\n",
              "    <button class=\"colab-df-generate\" onclick=\"generateWithVariable('aggregated_data')\"\n",
              "            title=\"Generate code using this dataframe.\"\n",
              "            style=\"display:none;\">\n",
              "\n",
              "  <svg xmlns=\"http://www.w3.org/2000/svg\" height=\"24px\"viewBox=\"0 0 24 24\"\n",
              "       width=\"24px\">\n",
              "    <path d=\"M7,19H8.4L18.45,9,17,7.55,7,17.6ZM5,21V16.75L18.45,3.32a2,2,0,0,1,2.83,0l1.4,1.43a1.91,1.91,0,0,1,.58,1.4,1.91,1.91,0,0,1-.58,1.4L9.25,21ZM18.45,9,17,7.55Zm-12,3A5.31,5.31,0,0,0,4.9,8.1,5.31,5.31,0,0,0,1,6.5,5.31,5.31,0,0,0,4.9,4.9,5.31,5.31,0,0,0,6.5,1,5.31,5.31,0,0,0,8.1,4.9,5.31,5.31,0,0,0,12,6.5,5.46,5.46,0,0,0,6.5,12Z\"/>\n",
              "  </svg>\n",
              "    </button>\n",
              "    <script>\n",
              "      (() => {\n",
              "      const buttonEl =\n",
              "        document.querySelector('#id_bcd0d769-9b8d-4fb6-8ead-02655d34f392 button.colab-df-generate');\n",
              "      buttonEl.style.display =\n",
              "        google.colab.kernel.accessAllowed ? 'block' : 'none';\n",
              "\n",
              "      buttonEl.onclick = () => {\n",
              "        google.colab.notebook.generateWithVariable('aggregated_data');\n",
              "      }\n",
              "      })();\n",
              "    </script>\n",
              "  </div>\n",
              "\n",
              "    </div>\n",
              "  </div>\n"
            ],
            "text/plain": [
              "                                          user_id            track_id  \\\n",
              "0        0003a64f7a69e5b87a80b09c3772227185c235c7  TRAFUNV128F92CFEB2   \n",
              "1        0003a64f7a69e5b87a80b09c3772227185c235c7  TRAKKTI128F42B4F25   \n",
              "2        0003a64f7a69e5b87a80b09c3772227185c235c7  TRARTEH128F423DBC1   \n",
              "3        0003a64f7a69e5b87a80b09c3772227185c235c7  TRAVRKY128F429EA68   \n",
              "4        0003a64f7a69e5b87a80b09c3772227185c235c7  TRBFKOV128F426DDF1   \n",
              "...                                           ...                 ...   \n",
              "1723295  ffffcfeb0c1b66bd212ea58d918c7dc62fb9c3a5  TRYDVHI128F93268D6   \n",
              "1723296  ffffcfeb0c1b66bd212ea58d918c7dc62fb9c3a5  TRYHSFE128F429EA71   \n",
              "1723297  ffffcfeb0c1b66bd212ea58d918c7dc62fb9c3a5  TRYIKBI128F426FFF2   \n",
              "1723298  ffffcfeb0c1b66bd212ea58d918c7dc62fb9c3a5  TRZALGW128F4296174   \n",
              "1723299  ffffcfeb0c1b66bd212ea58d918c7dc62fb9c3a5  TRZPVLJ128F148D2F7   \n",
              "\n",
              "         playcount  \n",
              "0              2.0  \n",
              "1              1.0  \n",
              "2              1.0  \n",
              "3              1.0  \n",
              "4              1.0  \n",
              "...            ...  \n",
              "1723295        1.0  \n",
              "1723296        1.0  \n",
              "1723297        2.0  \n",
              "1723298        1.0  \n",
              "1723299        1.0  \n",
              "\n",
              "[1723300 rows x 3 columns]"
            ]
          },
          "execution_count": 18,
          "metadata": {},
          "output_type": "execute_result"
        }
      ],
      "source": [
        "aggregated_data"
      ]
    },
    {
      "cell_type": "markdown",
      "metadata": {
        "id": "coZsFRikMc1U"
      },
      "source": [
        "This contains the latest average interaction of each user for each song"
      ]
    },
    {
      "cell_type": "code",
      "execution_count": 19,
      "metadata": {
        "id": "aWA7drK5M0nS"
      },
      "outputs": [],
      "source": [
        "from sklearn.metrics.pairwise import cosine_similarity\n",
        "from scipy.sparse import csr_matrix\n",
        "import matplotlib.pyplot as plt\n",
        "import seaborn as sns\n",
        "import pickle\n",
        "\n",
        "# Convert playcounts to ratings\n",
        "def convert_to_rating(playcount):\n",
        "    if playcount >= 10:\n",
        "        return 5\n",
        "    elif playcount >= 5:\n",
        "        return 4\n",
        "    elif playcount >= 2:\n",
        "        return 3\n",
        "    elif playcount >= 1:\n",
        "        return 2\n",
        "    else:\n",
        "        return 0 #this wont be used\n",
        "\n",
        "aggregated_data['rating'] = aggregated_data['playcount'].apply(convert_to_rating)"
      ]
    },
    {
      "cell_type": "code",
      "execution_count": 20,
      "metadata": {
        "colab": {
          "base_uri": "https://localhost:8080/",
          "height": 423
        },
        "id": "gYPlX43ENOMI",
        "outputId": "7618a051-a4e2-433c-fcea-c85712d3d26c"
      },
      "outputs": [
        {
          "data": {
            "application/vnd.google.colaboratory.intrinsic+json": {
              "type": "dataframe",
              "variable_name": "aggregated_data"
            },
            "text/html": [
              "\n",
              "  <div id=\"df-570aa1e6-2700-4d5f-a3a5-a6f99c90b88a\" class=\"colab-df-container\">\n",
              "    <div>\n",
              "<style scoped>\n",
              "    .dataframe tbody tr th:only-of-type {\n",
              "        vertical-align: middle;\n",
              "    }\n",
              "\n",
              "    .dataframe tbody tr th {\n",
              "        vertical-align: top;\n",
              "    }\n",
              "\n",
              "    .dataframe thead th {\n",
              "        text-align: right;\n",
              "    }\n",
              "</style>\n",
              "<table border=\"1\" class=\"dataframe\">\n",
              "  <thead>\n",
              "    <tr style=\"text-align: right;\">\n",
              "      <th></th>\n",
              "      <th>user_id</th>\n",
              "      <th>track_id</th>\n",
              "      <th>playcount</th>\n",
              "      <th>rating</th>\n",
              "    </tr>\n",
              "  </thead>\n",
              "  <tbody>\n",
              "    <tr>\n",
              "      <th>0</th>\n",
              "      <td>0003a64f7a69e5b87a80b09c3772227185c235c7</td>\n",
              "      <td>TRAFUNV128F92CFEB2</td>\n",
              "      <td>2.0</td>\n",
              "      <td>3</td>\n",
              "    </tr>\n",
              "    <tr>\n",
              "      <th>1</th>\n",
              "      <td>0003a64f7a69e5b87a80b09c3772227185c235c7</td>\n",
              "      <td>TRAKKTI128F42B4F25</td>\n",
              "      <td>1.0</td>\n",
              "      <td>2</td>\n",
              "    </tr>\n",
              "    <tr>\n",
              "      <th>2</th>\n",
              "      <td>0003a64f7a69e5b87a80b09c3772227185c235c7</td>\n",
              "      <td>TRARTEH128F423DBC1</td>\n",
              "      <td>1.0</td>\n",
              "      <td>2</td>\n",
              "    </tr>\n",
              "    <tr>\n",
              "      <th>3</th>\n",
              "      <td>0003a64f7a69e5b87a80b09c3772227185c235c7</td>\n",
              "      <td>TRAVRKY128F429EA68</td>\n",
              "      <td>1.0</td>\n",
              "      <td>2</td>\n",
              "    </tr>\n",
              "    <tr>\n",
              "      <th>4</th>\n",
              "      <td>0003a64f7a69e5b87a80b09c3772227185c235c7</td>\n",
              "      <td>TRBFKOV128F426DDF1</td>\n",
              "      <td>1.0</td>\n",
              "      <td>2</td>\n",
              "    </tr>\n",
              "    <tr>\n",
              "      <th>...</th>\n",
              "      <td>...</td>\n",
              "      <td>...</td>\n",
              "      <td>...</td>\n",
              "      <td>...</td>\n",
              "    </tr>\n",
              "    <tr>\n",
              "      <th>1723295</th>\n",
              "      <td>ffffcfeb0c1b66bd212ea58d918c7dc62fb9c3a5</td>\n",
              "      <td>TRYDVHI128F93268D6</td>\n",
              "      <td>1.0</td>\n",
              "      <td>2</td>\n",
              "    </tr>\n",
              "    <tr>\n",
              "      <th>1723296</th>\n",
              "      <td>ffffcfeb0c1b66bd212ea58d918c7dc62fb9c3a5</td>\n",
              "      <td>TRYHSFE128F429EA71</td>\n",
              "      <td>1.0</td>\n",
              "      <td>2</td>\n",
              "    </tr>\n",
              "    <tr>\n",
              "      <th>1723297</th>\n",
              "      <td>ffffcfeb0c1b66bd212ea58d918c7dc62fb9c3a5</td>\n",
              "      <td>TRYIKBI128F426FFF2</td>\n",
              "      <td>2.0</td>\n",
              "      <td>3</td>\n",
              "    </tr>\n",
              "    <tr>\n",
              "      <th>1723298</th>\n",
              "      <td>ffffcfeb0c1b66bd212ea58d918c7dc62fb9c3a5</td>\n",
              "      <td>TRZALGW128F4296174</td>\n",
              "      <td>1.0</td>\n",
              "      <td>2</td>\n",
              "    </tr>\n",
              "    <tr>\n",
              "      <th>1723299</th>\n",
              "      <td>ffffcfeb0c1b66bd212ea58d918c7dc62fb9c3a5</td>\n",
              "      <td>TRZPVLJ128F148D2F7</td>\n",
              "      <td>1.0</td>\n",
              "      <td>2</td>\n",
              "    </tr>\n",
              "  </tbody>\n",
              "</table>\n",
              "<p>1723300 rows × 4 columns</p>\n",
              "</div>\n",
              "    <div class=\"colab-df-buttons\">\n",
              "\n",
              "  <div class=\"colab-df-container\">\n",
              "    <button class=\"colab-df-convert\" onclick=\"convertToInteractive('df-570aa1e6-2700-4d5f-a3a5-a6f99c90b88a')\"\n",
              "            title=\"Convert this dataframe to an interactive table.\"\n",
              "            style=\"display:none;\">\n",
              "\n",
              "  <svg xmlns=\"http://www.w3.org/2000/svg\" height=\"24px\" viewBox=\"0 -960 960 960\">\n",
              "    <path d=\"M120-120v-720h720v720H120Zm60-500h600v-160H180v160Zm220 220h160v-160H400v160Zm0 220h160v-160H400v160ZM180-400h160v-160H180v160Zm440 0h160v-160H620v160ZM180-180h160v-160H180v160Zm440 0h160v-160H620v160Z\"/>\n",
              "  </svg>\n",
              "    </button>\n",
              "\n",
              "  <style>\n",
              "    .colab-df-container {\n",
              "      display:flex;\n",
              "      gap: 12px;\n",
              "    }\n",
              "\n",
              "    .colab-df-convert {\n",
              "      background-color: #E8F0FE;\n",
              "      border: none;\n",
              "      border-radius: 50%;\n",
              "      cursor: pointer;\n",
              "      display: none;\n",
              "      fill: #1967D2;\n",
              "      height: 32px;\n",
              "      padding: 0 0 0 0;\n",
              "      width: 32px;\n",
              "    }\n",
              "\n",
              "    .colab-df-convert:hover {\n",
              "      background-color: #E2EBFA;\n",
              "      box-shadow: 0px 1px 2px rgba(60, 64, 67, 0.3), 0px 1px 3px 1px rgba(60, 64, 67, 0.15);\n",
              "      fill: #174EA6;\n",
              "    }\n",
              "\n",
              "    .colab-df-buttons div {\n",
              "      margin-bottom: 4px;\n",
              "    }\n",
              "\n",
              "    [theme=dark] .colab-df-convert {\n",
              "      background-color: #3B4455;\n",
              "      fill: #D2E3FC;\n",
              "    }\n",
              "\n",
              "    [theme=dark] .colab-df-convert:hover {\n",
              "      background-color: #434B5C;\n",
              "      box-shadow: 0px 1px 3px 1px rgba(0, 0, 0, 0.15);\n",
              "      filter: drop-shadow(0px 1px 2px rgba(0, 0, 0, 0.3));\n",
              "      fill: #FFFFFF;\n",
              "    }\n",
              "  </style>\n",
              "\n",
              "    <script>\n",
              "      const buttonEl =\n",
              "        document.querySelector('#df-570aa1e6-2700-4d5f-a3a5-a6f99c90b88a button.colab-df-convert');\n",
              "      buttonEl.style.display =\n",
              "        google.colab.kernel.accessAllowed ? 'block' : 'none';\n",
              "\n",
              "      async function convertToInteractive(key) {\n",
              "        const element = document.querySelector('#df-570aa1e6-2700-4d5f-a3a5-a6f99c90b88a');\n",
              "        const dataTable =\n",
              "          await google.colab.kernel.invokeFunction('convertToInteractive',\n",
              "                                                    [key], {});\n",
              "        if (!dataTable) return;\n",
              "\n",
              "        const docLinkHtml = 'Like what you see? Visit the ' +\n",
              "          '<a target=\"_blank\" href=https://colab.research.google.com/notebooks/data_table.ipynb>data table notebook</a>'\n",
              "          + ' to learn more about interactive tables.';\n",
              "        element.innerHTML = '';\n",
              "        dataTable['output_type'] = 'display_data';\n",
              "        await google.colab.output.renderOutput(dataTable, element);\n",
              "        const docLink = document.createElement('div');\n",
              "        docLink.innerHTML = docLinkHtml;\n",
              "        element.appendChild(docLink);\n",
              "      }\n",
              "    </script>\n",
              "  </div>\n",
              "\n",
              "\n",
              "<div id=\"df-1148d7e0-dd1f-4745-8d97-8ca7b4932d21\">\n",
              "  <button class=\"colab-df-quickchart\" onclick=\"quickchart('df-1148d7e0-dd1f-4745-8d97-8ca7b4932d21')\"\n",
              "            title=\"Suggest charts\"\n",
              "            style=\"display:none;\">\n",
              "\n",
              "<svg xmlns=\"http://www.w3.org/2000/svg\" height=\"24px\"viewBox=\"0 0 24 24\"\n",
              "     width=\"24px\">\n",
              "    <g>\n",
              "        <path d=\"M19 3H5c-1.1 0-2 .9-2 2v14c0 1.1.9 2 2 2h14c1.1 0 2-.9 2-2V5c0-1.1-.9-2-2-2zM9 17H7v-7h2v7zm4 0h-2V7h2v10zm4 0h-2v-4h2v4z\"/>\n",
              "    </g>\n",
              "</svg>\n",
              "  </button>\n",
              "\n",
              "<style>\n",
              "  .colab-df-quickchart {\n",
              "      --bg-color: #E8F0FE;\n",
              "      --fill-color: #1967D2;\n",
              "      --hover-bg-color: #E2EBFA;\n",
              "      --hover-fill-color: #174EA6;\n",
              "      --disabled-fill-color: #AAA;\n",
              "      --disabled-bg-color: #DDD;\n",
              "  }\n",
              "\n",
              "  [theme=dark] .colab-df-quickchart {\n",
              "      --bg-color: #3B4455;\n",
              "      --fill-color: #D2E3FC;\n",
              "      --hover-bg-color: #434B5C;\n",
              "      --hover-fill-color: #FFFFFF;\n",
              "      --disabled-bg-color: #3B4455;\n",
              "      --disabled-fill-color: #666;\n",
              "  }\n",
              "\n",
              "  .colab-df-quickchart {\n",
              "    background-color: var(--bg-color);\n",
              "    border: none;\n",
              "    border-radius: 50%;\n",
              "    cursor: pointer;\n",
              "    display: none;\n",
              "    fill: var(--fill-color);\n",
              "    height: 32px;\n",
              "    padding: 0;\n",
              "    width: 32px;\n",
              "  }\n",
              "\n",
              "  .colab-df-quickchart:hover {\n",
              "    background-color: var(--hover-bg-color);\n",
              "    box-shadow: 0 1px 2px rgba(60, 64, 67, 0.3), 0 1px 3px 1px rgba(60, 64, 67, 0.15);\n",
              "    fill: var(--button-hover-fill-color);\n",
              "  }\n",
              "\n",
              "  .colab-df-quickchart-complete:disabled,\n",
              "  .colab-df-quickchart-complete:disabled:hover {\n",
              "    background-color: var(--disabled-bg-color);\n",
              "    fill: var(--disabled-fill-color);\n",
              "    box-shadow: none;\n",
              "  }\n",
              "\n",
              "  .colab-df-spinner {\n",
              "    border: 2px solid var(--fill-color);\n",
              "    border-color: transparent;\n",
              "    border-bottom-color: var(--fill-color);\n",
              "    animation:\n",
              "      spin 1s steps(1) infinite;\n",
              "  }\n",
              "\n",
              "  @keyframes spin {\n",
              "    0% {\n",
              "      border-color: transparent;\n",
              "      border-bottom-color: var(--fill-color);\n",
              "      border-left-color: var(--fill-color);\n",
              "    }\n",
              "    20% {\n",
              "      border-color: transparent;\n",
              "      border-left-color: var(--fill-color);\n",
              "      border-top-color: var(--fill-color);\n",
              "    }\n",
              "    30% {\n",
              "      border-color: transparent;\n",
              "      border-left-color: var(--fill-color);\n",
              "      border-top-color: var(--fill-color);\n",
              "      border-right-color: var(--fill-color);\n",
              "    }\n",
              "    40% {\n",
              "      border-color: transparent;\n",
              "      border-right-color: var(--fill-color);\n",
              "      border-top-color: var(--fill-color);\n",
              "    }\n",
              "    60% {\n",
              "      border-color: transparent;\n",
              "      border-right-color: var(--fill-color);\n",
              "    }\n",
              "    80% {\n",
              "      border-color: transparent;\n",
              "      border-right-color: var(--fill-color);\n",
              "      border-bottom-color: var(--fill-color);\n",
              "    }\n",
              "    90% {\n",
              "      border-color: transparent;\n",
              "      border-bottom-color: var(--fill-color);\n",
              "    }\n",
              "  }\n",
              "</style>\n",
              "\n",
              "  <script>\n",
              "    async function quickchart(key) {\n",
              "      const quickchartButtonEl =\n",
              "        document.querySelector('#' + key + ' button');\n",
              "      quickchartButtonEl.disabled = true;  // To prevent multiple clicks.\n",
              "      quickchartButtonEl.classList.add('colab-df-spinner');\n",
              "      try {\n",
              "        const charts = await google.colab.kernel.invokeFunction(\n",
              "            'suggestCharts', [key], {});\n",
              "      } catch (error) {\n",
              "        console.error('Error during call to suggestCharts:', error);\n",
              "      }\n",
              "      quickchartButtonEl.classList.remove('colab-df-spinner');\n",
              "      quickchartButtonEl.classList.add('colab-df-quickchart-complete');\n",
              "    }\n",
              "    (() => {\n",
              "      let quickchartButtonEl =\n",
              "        document.querySelector('#df-1148d7e0-dd1f-4745-8d97-8ca7b4932d21 button');\n",
              "      quickchartButtonEl.style.display =\n",
              "        google.colab.kernel.accessAllowed ? 'block' : 'none';\n",
              "    })();\n",
              "  </script>\n",
              "</div>\n",
              "\n",
              "  <div id=\"id_bb06deb0-40ee-4768-9073-4b2fa7b9d821\">\n",
              "    <style>\n",
              "      .colab-df-generate {\n",
              "        background-color: #E8F0FE;\n",
              "        border: none;\n",
              "        border-radius: 50%;\n",
              "        cursor: pointer;\n",
              "        display: none;\n",
              "        fill: #1967D2;\n",
              "        height: 32px;\n",
              "        padding: 0 0 0 0;\n",
              "        width: 32px;\n",
              "      }\n",
              "\n",
              "      .colab-df-generate:hover {\n",
              "        background-color: #E2EBFA;\n",
              "        box-shadow: 0px 1px 2px rgba(60, 64, 67, 0.3), 0px 1px 3px 1px rgba(60, 64, 67, 0.15);\n",
              "        fill: #174EA6;\n",
              "      }\n",
              "\n",
              "      [theme=dark] .colab-df-generate {\n",
              "        background-color: #3B4455;\n",
              "        fill: #D2E3FC;\n",
              "      }\n",
              "\n",
              "      [theme=dark] .colab-df-generate:hover {\n",
              "        background-color: #434B5C;\n",
              "        box-shadow: 0px 1px 3px 1px rgba(0, 0, 0, 0.15);\n",
              "        filter: drop-shadow(0px 1px 2px rgba(0, 0, 0, 0.3));\n",
              "        fill: #FFFFFF;\n",
              "      }\n",
              "    </style>\n",
              "    <button class=\"colab-df-generate\" onclick=\"generateWithVariable('aggregated_data')\"\n",
              "            title=\"Generate code using this dataframe.\"\n",
              "            style=\"display:none;\">\n",
              "\n",
              "  <svg xmlns=\"http://www.w3.org/2000/svg\" height=\"24px\"viewBox=\"0 0 24 24\"\n",
              "       width=\"24px\">\n",
              "    <path d=\"M7,19H8.4L18.45,9,17,7.55,7,17.6ZM5,21V16.75L18.45,3.32a2,2,0,0,1,2.83,0l1.4,1.43a1.91,1.91,0,0,1,.58,1.4,1.91,1.91,0,0,1-.58,1.4L9.25,21ZM18.45,9,17,7.55Zm-12,3A5.31,5.31,0,0,0,4.9,8.1,5.31,5.31,0,0,0,1,6.5,5.31,5.31,0,0,0,4.9,4.9,5.31,5.31,0,0,0,6.5,1,5.31,5.31,0,0,0,8.1,4.9,5.31,5.31,0,0,0,12,6.5,5.46,5.46,0,0,0,6.5,12Z\"/>\n",
              "  </svg>\n",
              "    </button>\n",
              "    <script>\n",
              "      (() => {\n",
              "      const buttonEl =\n",
              "        document.querySelector('#id_bb06deb0-40ee-4768-9073-4b2fa7b9d821 button.colab-df-generate');\n",
              "      buttonEl.style.display =\n",
              "        google.colab.kernel.accessAllowed ? 'block' : 'none';\n",
              "\n",
              "      buttonEl.onclick = () => {\n",
              "        google.colab.notebook.generateWithVariable('aggregated_data');\n",
              "      }\n",
              "      })();\n",
              "    </script>\n",
              "  </div>\n",
              "\n",
              "    </div>\n",
              "  </div>\n"
            ],
            "text/plain": [
              "                                          user_id            track_id  \\\n",
              "0        0003a64f7a69e5b87a80b09c3772227185c235c7  TRAFUNV128F92CFEB2   \n",
              "1        0003a64f7a69e5b87a80b09c3772227185c235c7  TRAKKTI128F42B4F25   \n",
              "2        0003a64f7a69e5b87a80b09c3772227185c235c7  TRARTEH128F423DBC1   \n",
              "3        0003a64f7a69e5b87a80b09c3772227185c235c7  TRAVRKY128F429EA68   \n",
              "4        0003a64f7a69e5b87a80b09c3772227185c235c7  TRBFKOV128F426DDF1   \n",
              "...                                           ...                 ...   \n",
              "1723295  ffffcfeb0c1b66bd212ea58d918c7dc62fb9c3a5  TRYDVHI128F93268D6   \n",
              "1723296  ffffcfeb0c1b66bd212ea58d918c7dc62fb9c3a5  TRYHSFE128F429EA71   \n",
              "1723297  ffffcfeb0c1b66bd212ea58d918c7dc62fb9c3a5  TRYIKBI128F426FFF2   \n",
              "1723298  ffffcfeb0c1b66bd212ea58d918c7dc62fb9c3a5  TRZALGW128F4296174   \n",
              "1723299  ffffcfeb0c1b66bd212ea58d918c7dc62fb9c3a5  TRZPVLJ128F148D2F7   \n",
              "\n",
              "         playcount  rating  \n",
              "0              2.0       3  \n",
              "1              1.0       2  \n",
              "2              1.0       2  \n",
              "3              1.0       2  \n",
              "4              1.0       2  \n",
              "...            ...     ...  \n",
              "1723295        1.0       2  \n",
              "1723296        1.0       2  \n",
              "1723297        2.0       3  \n",
              "1723298        1.0       2  \n",
              "1723299        1.0       2  \n",
              "\n",
              "[1723300 rows x 4 columns]"
            ]
          },
          "execution_count": 20,
          "metadata": {},
          "output_type": "execute_result"
        }
      ],
      "source": [
        "aggregated_data"
      ]
    },
    {
      "cell_type": "code",
      "execution_count": 21,
      "metadata": {
        "colab": {
          "base_uri": "https://localhost:8080/",
          "height": 300
        },
        "id": "eujGdxnvNW1B",
        "outputId": "a68d794a-c256-4e99-b2a6-28c266c314d3"
      },
      "outputs": [
        {
          "data": {
            "application/vnd.google.colaboratory.intrinsic+json": {
              "summary": "{\n  \"name\": \"aggregated_data\",\n  \"rows\": 8,\n  \"fields\": [\n    {\n      \"column\": \"playcount\",\n      \"properties\": {\n        \"dtype\": \"number\",\n        \"std\": 609220.8796926001,\n        \"min\": 1.0,\n        \"max\": 1723300.0,\n        \"num_unique_values\": 6,\n        \"samples\": [\n          1723300.0,\n          2.113466604769918,\n          1134.0\n        ],\n        \"semantic_type\": \"\",\n        \"description\": \"\"\n      }\n    },\n    {\n      \"column\": \"rating\",\n      \"properties\": {\n        \"dtype\": \"number\",\n        \"std\": 609277.6895754392,\n        \"min\": 0.7214924453084569,\n        \"max\": 1723300.0,\n        \"num_unique_values\": 6,\n        \"samples\": [\n          1723300.0,\n          2.472646666279812,\n          5.0\n        ],\n        \"semantic_type\": \"\",\n        \"description\": \"\"\n      }\n    }\n  ]\n}",
              "type": "dataframe"
            },
            "text/html": [
              "\n",
              "  <div id=\"df-58a7102e-3161-4972-8df3-ac16f1d02e87\" class=\"colab-df-container\">\n",
              "    <div>\n",
              "<style scoped>\n",
              "    .dataframe tbody tr th:only-of-type {\n",
              "        vertical-align: middle;\n",
              "    }\n",
              "\n",
              "    .dataframe tbody tr th {\n",
              "        vertical-align: top;\n",
              "    }\n",
              "\n",
              "    .dataframe thead th {\n",
              "        text-align: right;\n",
              "    }\n",
              "</style>\n",
              "<table border=\"1\" class=\"dataframe\">\n",
              "  <thead>\n",
              "    <tr style=\"text-align: right;\">\n",
              "      <th></th>\n",
              "      <th>playcount</th>\n",
              "      <th>rating</th>\n",
              "    </tr>\n",
              "  </thead>\n",
              "  <tbody>\n",
              "    <tr>\n",
              "      <th>count</th>\n",
              "      <td>1.723300e+06</td>\n",
              "      <td>1.723300e+06</td>\n",
              "    </tr>\n",
              "    <tr>\n",
              "      <th>mean</th>\n",
              "      <td>2.113467e+00</td>\n",
              "      <td>2.472647e+00</td>\n",
              "    </tr>\n",
              "    <tr>\n",
              "      <th>std</th>\n",
              "      <td>3.409747e+00</td>\n",
              "      <td>7.214924e-01</td>\n",
              "    </tr>\n",
              "    <tr>\n",
              "      <th>min</th>\n",
              "      <td>1.000000e+00</td>\n",
              "      <td>2.000000e+00</td>\n",
              "    </tr>\n",
              "    <tr>\n",
              "      <th>25%</th>\n",
              "      <td>1.000000e+00</td>\n",
              "      <td>2.000000e+00</td>\n",
              "    </tr>\n",
              "    <tr>\n",
              "      <th>50%</th>\n",
              "      <td>1.000000e+00</td>\n",
              "      <td>2.000000e+00</td>\n",
              "    </tr>\n",
              "    <tr>\n",
              "      <th>75%</th>\n",
              "      <td>2.000000e+00</td>\n",
              "      <td>3.000000e+00</td>\n",
              "    </tr>\n",
              "    <tr>\n",
              "      <th>max</th>\n",
              "      <td>1.134000e+03</td>\n",
              "      <td>5.000000e+00</td>\n",
              "    </tr>\n",
              "  </tbody>\n",
              "</table>\n",
              "</div>\n",
              "    <div class=\"colab-df-buttons\">\n",
              "\n",
              "  <div class=\"colab-df-container\">\n",
              "    <button class=\"colab-df-convert\" onclick=\"convertToInteractive('df-58a7102e-3161-4972-8df3-ac16f1d02e87')\"\n",
              "            title=\"Convert this dataframe to an interactive table.\"\n",
              "            style=\"display:none;\">\n",
              "\n",
              "  <svg xmlns=\"http://www.w3.org/2000/svg\" height=\"24px\" viewBox=\"0 -960 960 960\">\n",
              "    <path d=\"M120-120v-720h720v720H120Zm60-500h600v-160H180v160Zm220 220h160v-160H400v160Zm0 220h160v-160H400v160ZM180-400h160v-160H180v160Zm440 0h160v-160H620v160ZM180-180h160v-160H180v160Zm440 0h160v-160H620v160Z\"/>\n",
              "  </svg>\n",
              "    </button>\n",
              "\n",
              "  <style>\n",
              "    .colab-df-container {\n",
              "      display:flex;\n",
              "      gap: 12px;\n",
              "    }\n",
              "\n",
              "    .colab-df-convert {\n",
              "      background-color: #E8F0FE;\n",
              "      border: none;\n",
              "      border-radius: 50%;\n",
              "      cursor: pointer;\n",
              "      display: none;\n",
              "      fill: #1967D2;\n",
              "      height: 32px;\n",
              "      padding: 0 0 0 0;\n",
              "      width: 32px;\n",
              "    }\n",
              "\n",
              "    .colab-df-convert:hover {\n",
              "      background-color: #E2EBFA;\n",
              "      box-shadow: 0px 1px 2px rgba(60, 64, 67, 0.3), 0px 1px 3px 1px rgba(60, 64, 67, 0.15);\n",
              "      fill: #174EA6;\n",
              "    }\n",
              "\n",
              "    .colab-df-buttons div {\n",
              "      margin-bottom: 4px;\n",
              "    }\n",
              "\n",
              "    [theme=dark] .colab-df-convert {\n",
              "      background-color: #3B4455;\n",
              "      fill: #D2E3FC;\n",
              "    }\n",
              "\n",
              "    [theme=dark] .colab-df-convert:hover {\n",
              "      background-color: #434B5C;\n",
              "      box-shadow: 0px 1px 3px 1px rgba(0, 0, 0, 0.15);\n",
              "      filter: drop-shadow(0px 1px 2px rgba(0, 0, 0, 0.3));\n",
              "      fill: #FFFFFF;\n",
              "    }\n",
              "  </style>\n",
              "\n",
              "    <script>\n",
              "      const buttonEl =\n",
              "        document.querySelector('#df-58a7102e-3161-4972-8df3-ac16f1d02e87 button.colab-df-convert');\n",
              "      buttonEl.style.display =\n",
              "        google.colab.kernel.accessAllowed ? 'block' : 'none';\n",
              "\n",
              "      async function convertToInteractive(key) {\n",
              "        const element = document.querySelector('#df-58a7102e-3161-4972-8df3-ac16f1d02e87');\n",
              "        const dataTable =\n",
              "          await google.colab.kernel.invokeFunction('convertToInteractive',\n",
              "                                                    [key], {});\n",
              "        if (!dataTable) return;\n",
              "\n",
              "        const docLinkHtml = 'Like what you see? Visit the ' +\n",
              "          '<a target=\"_blank\" href=https://colab.research.google.com/notebooks/data_table.ipynb>data table notebook</a>'\n",
              "          + ' to learn more about interactive tables.';\n",
              "        element.innerHTML = '';\n",
              "        dataTable['output_type'] = 'display_data';\n",
              "        await google.colab.output.renderOutput(dataTable, element);\n",
              "        const docLink = document.createElement('div');\n",
              "        docLink.innerHTML = docLinkHtml;\n",
              "        element.appendChild(docLink);\n",
              "      }\n",
              "    </script>\n",
              "  </div>\n",
              "\n",
              "\n",
              "<div id=\"df-b545a9e0-d777-4d31-9afb-6f0dd798db33\">\n",
              "  <button class=\"colab-df-quickchart\" onclick=\"quickchart('df-b545a9e0-d777-4d31-9afb-6f0dd798db33')\"\n",
              "            title=\"Suggest charts\"\n",
              "            style=\"display:none;\">\n",
              "\n",
              "<svg xmlns=\"http://www.w3.org/2000/svg\" height=\"24px\"viewBox=\"0 0 24 24\"\n",
              "     width=\"24px\">\n",
              "    <g>\n",
              "        <path d=\"M19 3H5c-1.1 0-2 .9-2 2v14c0 1.1.9 2 2 2h14c1.1 0 2-.9 2-2V5c0-1.1-.9-2-2-2zM9 17H7v-7h2v7zm4 0h-2V7h2v10zm4 0h-2v-4h2v4z\"/>\n",
              "    </g>\n",
              "</svg>\n",
              "  </button>\n",
              "\n",
              "<style>\n",
              "  .colab-df-quickchart {\n",
              "      --bg-color: #E8F0FE;\n",
              "      --fill-color: #1967D2;\n",
              "      --hover-bg-color: #E2EBFA;\n",
              "      --hover-fill-color: #174EA6;\n",
              "      --disabled-fill-color: #AAA;\n",
              "      --disabled-bg-color: #DDD;\n",
              "  }\n",
              "\n",
              "  [theme=dark] .colab-df-quickchart {\n",
              "      --bg-color: #3B4455;\n",
              "      --fill-color: #D2E3FC;\n",
              "      --hover-bg-color: #434B5C;\n",
              "      --hover-fill-color: #FFFFFF;\n",
              "      --disabled-bg-color: #3B4455;\n",
              "      --disabled-fill-color: #666;\n",
              "  }\n",
              "\n",
              "  .colab-df-quickchart {\n",
              "    background-color: var(--bg-color);\n",
              "    border: none;\n",
              "    border-radius: 50%;\n",
              "    cursor: pointer;\n",
              "    display: none;\n",
              "    fill: var(--fill-color);\n",
              "    height: 32px;\n",
              "    padding: 0;\n",
              "    width: 32px;\n",
              "  }\n",
              "\n",
              "  .colab-df-quickchart:hover {\n",
              "    background-color: var(--hover-bg-color);\n",
              "    box-shadow: 0 1px 2px rgba(60, 64, 67, 0.3), 0 1px 3px 1px rgba(60, 64, 67, 0.15);\n",
              "    fill: var(--button-hover-fill-color);\n",
              "  }\n",
              "\n",
              "  .colab-df-quickchart-complete:disabled,\n",
              "  .colab-df-quickchart-complete:disabled:hover {\n",
              "    background-color: var(--disabled-bg-color);\n",
              "    fill: var(--disabled-fill-color);\n",
              "    box-shadow: none;\n",
              "  }\n",
              "\n",
              "  .colab-df-spinner {\n",
              "    border: 2px solid var(--fill-color);\n",
              "    border-color: transparent;\n",
              "    border-bottom-color: var(--fill-color);\n",
              "    animation:\n",
              "      spin 1s steps(1) infinite;\n",
              "  }\n",
              "\n",
              "  @keyframes spin {\n",
              "    0% {\n",
              "      border-color: transparent;\n",
              "      border-bottom-color: var(--fill-color);\n",
              "      border-left-color: var(--fill-color);\n",
              "    }\n",
              "    20% {\n",
              "      border-color: transparent;\n",
              "      border-left-color: var(--fill-color);\n",
              "      border-top-color: var(--fill-color);\n",
              "    }\n",
              "    30% {\n",
              "      border-color: transparent;\n",
              "      border-left-color: var(--fill-color);\n",
              "      border-top-color: var(--fill-color);\n",
              "      border-right-color: var(--fill-color);\n",
              "    }\n",
              "    40% {\n",
              "      border-color: transparent;\n",
              "      border-right-color: var(--fill-color);\n",
              "      border-top-color: var(--fill-color);\n",
              "    }\n",
              "    60% {\n",
              "      border-color: transparent;\n",
              "      border-right-color: var(--fill-color);\n",
              "    }\n",
              "    80% {\n",
              "      border-color: transparent;\n",
              "      border-right-color: var(--fill-color);\n",
              "      border-bottom-color: var(--fill-color);\n",
              "    }\n",
              "    90% {\n",
              "      border-color: transparent;\n",
              "      border-bottom-color: var(--fill-color);\n",
              "    }\n",
              "  }\n",
              "</style>\n",
              "\n",
              "  <script>\n",
              "    async function quickchart(key) {\n",
              "      const quickchartButtonEl =\n",
              "        document.querySelector('#' + key + ' button');\n",
              "      quickchartButtonEl.disabled = true;  // To prevent multiple clicks.\n",
              "      quickchartButtonEl.classList.add('colab-df-spinner');\n",
              "      try {\n",
              "        const charts = await google.colab.kernel.invokeFunction(\n",
              "            'suggestCharts', [key], {});\n",
              "      } catch (error) {\n",
              "        console.error('Error during call to suggestCharts:', error);\n",
              "      }\n",
              "      quickchartButtonEl.classList.remove('colab-df-spinner');\n",
              "      quickchartButtonEl.classList.add('colab-df-quickchart-complete');\n",
              "    }\n",
              "    (() => {\n",
              "      let quickchartButtonEl =\n",
              "        document.querySelector('#df-b545a9e0-d777-4d31-9afb-6f0dd798db33 button');\n",
              "      quickchartButtonEl.style.display =\n",
              "        google.colab.kernel.accessAllowed ? 'block' : 'none';\n",
              "    })();\n",
              "  </script>\n",
              "</div>\n",
              "\n",
              "    </div>\n",
              "  </div>\n"
            ],
            "text/plain": [
              "          playcount        rating\n",
              "count  1.723300e+06  1.723300e+06\n",
              "mean   2.113467e+00  2.472647e+00\n",
              "std    3.409747e+00  7.214924e-01\n",
              "min    1.000000e+00  2.000000e+00\n",
              "25%    1.000000e+00  2.000000e+00\n",
              "50%    1.000000e+00  2.000000e+00\n",
              "75%    2.000000e+00  3.000000e+00\n",
              "max    1.134000e+03  5.000000e+00"
            ]
          },
          "execution_count": 21,
          "metadata": {},
          "output_type": "execute_result"
        }
      ],
      "source": [
        "aggregated_data.describe()"
      ]
    },
    {
      "cell_type": "code",
      "execution_count": 22,
      "metadata": {
        "colab": {
          "base_uri": "https://localhost:8080/",
          "height": 321
        },
        "id": "kz5lq_QWOIof",
        "outputId": "b5200d1a-9835-4b72-df30-854fa39392f3"
      },
      "outputs": [
        {
          "data": {
            "image/png": "[encoded data removed]",
            "text/plain": [
              "<Figure size 500x300 with 2 Axes>"
            ]
          },
          "metadata": {},
          "output_type": "display_data"
        }
      ],
      "source": [
        "# Plotting histograms for each column\n",
        "aggregated_data.hist(bins=20, figsize=(5, 3), color='skyblue')\n",
        "plt.suptitle(\"Histograms of Aggregated Data\", fontsize=6)\n",
        "plt.show()"
      ]
    },
    {
      "cell_type": "code",
      "execution_count": 23,
      "metadata": {
        "id": "re4E-tR7O3xN"
      },
      "outputs": [],
      "source": [
        "\n",
        "#  Create the user-item matrix as a sparse matrix\n",
        "user_item_matrix_sparse = csr_matrix(pd.pivot_table(\n",
        "    aggregated_data, index='user_id', columns='track_id', values='rating').fillna(0).values)\n",
        "\n",
        "# print(user_item_matrix_sparse)\n",
        "\n",
        "#  Save the sparse matrix to disk using pickle\n",
        "with open('user_item_matrix_sparse.pkl', 'wb') as f:\n",
        "    pickle.dump(user_item_matrix_sparse, f)\n",
        "\n",
        "# Load the sparse matrix from disk\n",
        "# with open('user_item_matrix_sparse.pkl', 'rb') as f:\n",
        "#     user_item_matrix_sparse = pickle.load(f)\n",
        "\n"
      ]
    },
    {
      "cell_type": "markdown",
      "metadata": {
        "id": "iHxsJ8fKPyJT"
      },
      "source": [
        "## Cosine Similarity"
      ]
    },
    {
      "cell_type": "code",
      "execution_count": 24,
      "metadata": {
        "id": "ETNNTcXNPztq"
      },
      "outputs": [],
      "source": [
        "#  Compute cosine similarity between users using sparse matrix\n",
        "user_similarity = cosine_similarity(user_item_matrix_sparse)\n",
        "\n",
        "# Convert the similarity matrix to a DataFrame for easier manipulation\n",
        "user_similarity_df = pd.DataFrame(user_similarity)"
      ]
    },
    {
      "cell_type": "code",
      "execution_count": 25,
      "metadata": {
        "colab": {
          "base_uri": "https://localhost:8080/",
          "height": 412
        },
        "id": "yJFfv2fhQB-p",
        "outputId": "36704116-f04e-4c70-ea98-92319bd69e36"
      },
      "outputs": [
        {
          "data": {
            "application/vnd.google.colaboratory.intrinsic+json": {
              "type": "dataframe",
              "variable_name": "user_similarity_df"
            },
            "text/html": [
              "\n",
              "  <div id=\"df-59c77609-a805-4580-a253-f455790d3776\" class=\"colab-df-container\">\n",
              "    <div>\n",
              "<style scoped>\n",
              "    .dataframe tbody tr th:only-of-type {\n",
              "        vertical-align: middle;\n",
              "    }\n",
              "\n",
              "    .dataframe tbody tr th {\n",
              "        vertical-align: top;\n",
              "    }\n",
              "\n",
              "    .dataframe thead th {\n",
              "        text-align: right;\n",
              "    }\n",
              "</style>\n",
              "<table border=\"1\" class=\"dataframe\">\n",
              "  <thead>\n",
              "    <tr style=\"text-align: right;\">\n",
              "      <th></th>\n",
              "      <th>0</th>\n",
              "      <th>1</th>\n",
              "      <th>2</th>\n",
              "      <th>3</th>\n",
              "      <th>4</th>\n",
              "      <th>5</th>\n",
              "      <th>6</th>\n",
              "      <th>7</th>\n",
              "      <th>8</th>\n",
              "      <th>9</th>\n",
              "      <th>...</th>\n",
              "      <th>22723</th>\n",
              "      <th>22724</th>\n",
              "      <th>22725</th>\n",
              "      <th>22726</th>\n",
              "      <th>22727</th>\n",
              "      <th>22728</th>\n",
              "      <th>22729</th>\n",
              "      <th>22730</th>\n",
              "      <th>22731</th>\n",
              "      <th>22732</th>\n",
              "    </tr>\n",
              "  </thead>\n",
              "  <tbody>\n",
              "    <tr>\n",
              "      <th>0</th>\n",
              "      <td>1.000000</td>\n",
              "      <td>0.000000</td>\n",
              "      <td>0.062838</td>\n",
              "      <td>0.000000</td>\n",
              "      <td>0.037561</td>\n",
              "      <td>0.080532</td>\n",
              "      <td>0.000000</td>\n",
              "      <td>0.000000</td>\n",
              "      <td>0.008430</td>\n",
              "      <td>0.015847</td>\n",
              "      <td>...</td>\n",
              "      <td>0.014212</td>\n",
              "      <td>0.000000</td>\n",
              "      <td>0.000000</td>\n",
              "      <td>0.000000</td>\n",
              "      <td>0.000000</td>\n",
              "      <td>0.023435</td>\n",
              "      <td>0.017702</td>\n",
              "      <td>0.000000</td>\n",
              "      <td>0.000000</td>\n",
              "      <td>0.090688</td>\n",
              "    </tr>\n",
              "    <tr>\n",
              "      <th>1</th>\n",
              "      <td>0.000000</td>\n",
              "      <td>1.000000</td>\n",
              "      <td>0.009637</td>\n",
              "      <td>0.011831</td>\n",
              "      <td>0.000000</td>\n",
              "      <td>0.070491</td>\n",
              "      <td>0.014118</td>\n",
              "      <td>0.011036</td>\n",
              "      <td>0.016808</td>\n",
              "      <td>0.039493</td>\n",
              "      <td>...</td>\n",
              "      <td>0.018890</td>\n",
              "      <td>0.000000</td>\n",
              "      <td>0.000000</td>\n",
              "      <td>0.031953</td>\n",
              "      <td>0.047324</td>\n",
              "      <td>0.000000</td>\n",
              "      <td>0.011765</td>\n",
              "      <td>0.028739</td>\n",
              "      <td>0.000000</td>\n",
              "      <td>0.013393</td>\n",
              "    </tr>\n",
              "    <tr>\n",
              "      <th>2</th>\n",
              "      <td>0.062838</td>\n",
              "      <td>0.009637</td>\n",
              "      <td>1.000000</td>\n",
              "      <td>0.000000</td>\n",
              "      <td>0.037764</td>\n",
              "      <td>0.000000</td>\n",
              "      <td>0.000000</td>\n",
              "      <td>0.000000</td>\n",
              "      <td>0.068458</td>\n",
              "      <td>0.036767</td>\n",
              "      <td>...</td>\n",
              "      <td>0.010991</td>\n",
              "      <td>0.045852</td>\n",
              "      <td>0.289263</td>\n",
              "      <td>0.020658</td>\n",
              "      <td>0.041303</td>\n",
              "      <td>0.021749</td>\n",
              "      <td>0.000000</td>\n",
              "      <td>0.006370</td>\n",
              "      <td>0.008263</td>\n",
              "      <td>0.010391</td>\n",
              "    </tr>\n",
              "    <tr>\n",
              "      <th>3</th>\n",
              "      <td>0.000000</td>\n",
              "      <td>0.011831</td>\n",
              "      <td>0.000000</td>\n",
              "      <td>1.000000</td>\n",
              "      <td>0.000000</td>\n",
              "      <td>0.000000</td>\n",
              "      <td>0.164045</td>\n",
              "      <td>0.000000</td>\n",
              "      <td>0.000000</td>\n",
              "      <td>0.000000</td>\n",
              "      <td>...</td>\n",
              "      <td>0.000000</td>\n",
              "      <td>0.000000</td>\n",
              "      <td>0.000000</td>\n",
              "      <td>0.000000</td>\n",
              "      <td>0.000000</td>\n",
              "      <td>0.000000</td>\n",
              "      <td>0.011205</td>\n",
              "      <td>0.007820</td>\n",
              "      <td>0.055792</td>\n",
              "      <td>0.000000</td>\n",
              "    </tr>\n",
              "    <tr>\n",
              "      <th>4</th>\n",
              "      <td>0.037561</td>\n",
              "      <td>0.000000</td>\n",
              "      <td>0.037764</td>\n",
              "      <td>0.000000</td>\n",
              "      <td>1.000000</td>\n",
              "      <td>0.014165</td>\n",
              "      <td>0.003405</td>\n",
              "      <td>0.013306</td>\n",
              "      <td>0.043908</td>\n",
              "      <td>0.000000</td>\n",
              "      <td>...</td>\n",
              "      <td>0.017082</td>\n",
              "      <td>0.017815</td>\n",
              "      <td>0.000000</td>\n",
              "      <td>0.006421</td>\n",
              "      <td>0.000000</td>\n",
              "      <td>0.014084</td>\n",
              "      <td>0.039008</td>\n",
              "      <td>0.048263</td>\n",
              "      <td>0.006421</td>\n",
              "      <td>0.020186</td>\n",
              "    </tr>\n",
              "    <tr>\n",
              "      <th>5</th>\n",
              "      <td>0.080532</td>\n",
              "      <td>0.070491</td>\n",
              "      <td>0.000000</td>\n",
              "      <td>0.000000</td>\n",
              "      <td>0.014165</td>\n",
              "      <td>1.000000</td>\n",
              "      <td>0.000000</td>\n",
              "      <td>0.010437</td>\n",
              "      <td>0.021195</td>\n",
              "      <td>0.041501</td>\n",
              "      <td>...</td>\n",
              "      <td>0.029776</td>\n",
              "      <td>0.000000</td>\n",
              "      <td>0.011020</td>\n",
              "      <td>0.000000</td>\n",
              "      <td>0.128674</td>\n",
              "      <td>0.023568</td>\n",
              "      <td>0.051924</td>\n",
              "      <td>0.000000</td>\n",
              "      <td>0.000000</td>\n",
              "      <td>0.069668</td>\n",
              "    </tr>\n",
              "    <tr>\n",
              "      <th>6</th>\n",
              "      <td>0.000000</td>\n",
              "      <td>0.014118</td>\n",
              "      <td>0.000000</td>\n",
              "      <td>0.164045</td>\n",
              "      <td>0.003405</td>\n",
              "      <td>0.000000</td>\n",
              "      <td>1.000000</td>\n",
              "      <td>0.000000</td>\n",
              "      <td>0.000000</td>\n",
              "      <td>0.000000</td>\n",
              "      <td>...</td>\n",
              "      <td>0.004294</td>\n",
              "      <td>0.000000</td>\n",
              "      <td>0.000000</td>\n",
              "      <td>0.000000</td>\n",
              "      <td>0.000000</td>\n",
              "      <td>0.000000</td>\n",
              "      <td>0.000000</td>\n",
              "      <td>0.003733</td>\n",
              "      <td>0.007263</td>\n",
              "      <td>0.000000</td>\n",
              "    </tr>\n",
              "    <tr>\n",
              "      <th>7</th>\n",
              "      <td>0.000000</td>\n",
              "      <td>0.011036</td>\n",
              "      <td>0.000000</td>\n",
              "      <td>0.000000</td>\n",
              "      <td>0.013306</td>\n",
              "      <td>0.010437</td>\n",
              "      <td>0.000000</td>\n",
              "      <td>1.000000</td>\n",
              "      <td>0.052261</td>\n",
              "      <td>0.000000</td>\n",
              "      <td>...</td>\n",
              "      <td>0.050345</td>\n",
              "      <td>0.000000</td>\n",
              "      <td>0.000000</td>\n",
              "      <td>0.000000</td>\n",
              "      <td>0.021021</td>\n",
              "      <td>0.033207</td>\n",
              "      <td>0.041806</td>\n",
              "      <td>0.000000</td>\n",
              "      <td>0.018924</td>\n",
              "      <td>0.011898</td>\n",
              "    </tr>\n",
              "    <tr>\n",
              "      <th>8</th>\n",
              "      <td>0.008430</td>\n",
              "      <td>0.016808</td>\n",
              "      <td>0.068458</td>\n",
              "      <td>0.000000</td>\n",
              "      <td>0.043908</td>\n",
              "      <td>0.021195</td>\n",
              "      <td>0.000000</td>\n",
              "      <td>0.052261</td>\n",
              "      <td>1.000000</td>\n",
              "      <td>0.033249</td>\n",
              "      <td>...</td>\n",
              "      <td>0.054313</td>\n",
              "      <td>0.059463</td>\n",
              "      <td>0.072257</td>\n",
              "      <td>0.028823</td>\n",
              "      <td>0.032015</td>\n",
              "      <td>0.095884</td>\n",
              "      <td>0.149896</td>\n",
              "      <td>0.016665</td>\n",
              "      <td>0.007206</td>\n",
              "      <td>0.046815</td>\n",
              "    </tr>\n",
              "    <tr>\n",
              "      <th>9</th>\n",
              "      <td>0.015847</td>\n",
              "      <td>0.039493</td>\n",
              "      <td>0.036767</td>\n",
              "      <td>0.000000</td>\n",
              "      <td>0.000000</td>\n",
              "      <td>0.041501</td>\n",
              "      <td>0.000000</td>\n",
              "      <td>0.000000</td>\n",
              "      <td>0.033249</td>\n",
              "      <td>1.000000</td>\n",
              "      <td>...</td>\n",
              "      <td>0.032030</td>\n",
              "      <td>0.082869</td>\n",
              "      <td>0.079026</td>\n",
              "      <td>0.009030</td>\n",
              "      <td>0.000000</td>\n",
              "      <td>0.114877</td>\n",
              "      <td>0.000000</td>\n",
              "      <td>0.000000</td>\n",
              "      <td>0.000000</td>\n",
              "      <td>0.017032</td>\n",
              "    </tr>\n",
              "  </tbody>\n",
              "</table>\n",
              "<p>10 rows × 22733 columns</p>\n",
              "</div>\n",
              "    <div class=\"colab-df-buttons\">\n",
              "\n",
              "  <div class=\"colab-df-container\">\n",
              "    <button class=\"colab-df-convert\" onclick=\"convertToInteractive('df-59c77609-a805-4580-a253-f455790d3776')\"\n",
              "            title=\"Convert this dataframe to an interactive table.\"\n",
              "            style=\"display:none;\">\n",
              "\n",
              "  <svg xmlns=\"http://www.w3.org/2000/svg\" height=\"24px\" viewBox=\"0 -960 960 960\">\n",
              "    <path d=\"M120-120v-720h720v720H120Zm60-500h600v-160H180v160Zm220 220h160v-160H400v160Zm0 220h160v-160H400v160ZM180-400h160v-160H180v160Zm440 0h160v-160H620v160ZM180-180h160v-160H180v160Zm440 0h160v-160H620v160Z\"/>\n",
              "  </svg>\n",
              "    </button>\n",
              "\n",
              "  <style>\n",
              "    .colab-df-container {\n",
              "      display:flex;\n",
              "      gap: 12px;\n",
              "    }\n",
              "\n",
              "    .colab-df-convert {\n",
              "      background-color: #E8F0FE;\n",
              "      border: none;\n",
              "      border-radius: 50%;\n",
              "      cursor: pointer;\n",
              "      display: none;\n",
              "      fill: #1967D2;\n",
              "      height: 32px;\n",
              "      padding: 0 0 0 0;\n",
              "      width: 32px;\n",
              "    }\n",
              "\n",
              "    .colab-df-convert:hover {\n",
              "      background-color: #E2EBFA;\n",
              "      box-shadow: 0px 1px 2px rgba(60, 64, 67, 0.3), 0px 1px 3px 1px rgba(60, 64, 67, 0.15);\n",
              "      fill: #174EA6;\n",
              "    }\n",
              "\n",
              "    .colab-df-buttons div {\n",
              "      margin-bottom: 4px;\n",
              "    }\n",
              "\n",
              "    [theme=dark] .colab-df-convert {\n",
              "      background-color: #3B4455;\n",
              "      fill: #D2E3FC;\n",
              "    }\n",
              "\n",
              "    [theme=dark] .colab-df-convert:hover {\n",
              "      background-color: #434B5C;\n",
              "      box-shadow: 0px 1px 3px 1px rgba(0, 0, 0, 0.15);\n",
              "      filter: drop-shadow(0px 1px 2px rgba(0, 0, 0, 0.3));\n",
              "      fill: #FFFFFF;\n",
              "    }\n",
              "  </style>\n",
              "\n",
              "    <script>\n",
              "      const buttonEl =\n",
              "        document.querySelector('#df-59c77609-a805-4580-a253-f455790d3776 button.colab-df-convert');\n",
              "      buttonEl.style.display =\n",
              "        google.colab.kernel.accessAllowed ? 'block' : 'none';\n",
              "\n",
              "      async function convertToInteractive(key) {\n",
              "        const element = document.querySelector('#df-59c77609-a805-4580-a253-f455790d3776');\n",
              "        const dataTable =\n",
              "          await google.colab.kernel.invokeFunction('convertToInteractive',\n",
              "                                                    [key], {});\n",
              "        if (!dataTable) return;\n",
              "\n",
              "        const docLinkHtml = 'Like what you see? Visit the ' +\n",
              "          '<a target=\"_blank\" href=https://colab.research.google.com/notebooks/data_table.ipynb>data table notebook</a>'\n",
              "          + ' to learn more about interactive tables.';\n",
              "        element.innerHTML = '';\n",
              "        dataTable['output_type'] = 'display_data';\n",
              "        await google.colab.output.renderOutput(dataTable, element);\n",
              "        const docLink = document.createElement('div');\n",
              "        docLink.innerHTML = docLinkHtml;\n",
              "        element.appendChild(docLink);\n",
              "      }\n",
              "    </script>\n",
              "  </div>\n",
              "\n",
              "\n",
              "<div id=\"df-139af375-2af1-4a2a-a861-076a44de1f4f\">\n",
              "  <button class=\"colab-df-quickchart\" onclick=\"quickchart('df-139af375-2af1-4a2a-a861-076a44de1f4f')\"\n",
              "            title=\"Suggest charts\"\n",
              "            style=\"display:none;\">\n",
              "\n",
              "<svg xmlns=\"http://www.w3.org/2000/svg\" height=\"24px\"viewBox=\"0 0 24 24\"\n",
              "     width=\"24px\">\n",
              "    <g>\n",
              "        <path d=\"M19 3H5c-1.1 0-2 .9-2 2v14c0 1.1.9 2 2 2h14c1.1 0 2-.9 2-2V5c0-1.1-.9-2-2-2zM9 17H7v-7h2v7zm4 0h-2V7h2v10zm4 0h-2v-4h2v4z\"/>\n",
              "    </g>\n",
              "</svg>\n",
              "  </button>\n",
              "\n",
              "<style>\n",
              "  .colab-df-quickchart {\n",
              "      --bg-color: #E8F0FE;\n",
              "      --fill-color: #1967D2;\n",
              "      --hover-bg-color: #E2EBFA;\n",
              "      --hover-fill-color: #174EA6;\n",
              "      --disabled-fill-color: #AAA;\n",
              "      --disabled-bg-color: #DDD;\n",
              "  }\n",
              "\n",
              "  [theme=dark] .colab-df-quickchart {\n",
              "      --bg-color: #3B4455;\n",
              "      --fill-color: #D2E3FC;\n",
              "      --hover-bg-color: #434B5C;\n",
              "      --hover-fill-color: #FFFFFF;\n",
              "      --disabled-bg-color: #3B4455;\n",
              "      --disabled-fill-color: #666;\n",
              "  }\n",
              "\n",
              "  .colab-df-quickchart {\n",
              "    background-color: var(--bg-color);\n",
              "    border: none;\n",
              "    border-radius: 50%;\n",
              "    cursor: pointer;\n",
              "    display: none;\n",
              "    fill: var(--fill-color);\n",
              "    height: 32px;\n",
              "    padding: 0;\n",
              "    width: 32px;\n",
              "  }\n",
              "\n",
              "  .colab-df-quickchart:hover {\n",
              "    background-color: var(--hover-bg-color);\n",
              "    box-shadow: 0 1px 2px rgba(60, 64, 67, 0.3), 0 1px 3px 1px rgba(60, 64, 67, 0.15);\n",
              "    fill: var(--button-hover-fill-color);\n",
              "  }\n",
              "\n",
              "  .colab-df-quickchart-complete:disabled,\n",
              "  .colab-df-quickchart-complete:disabled:hover {\n",
              "    background-color: var(--disabled-bg-color);\n",
              "    fill: var(--disabled-fill-color);\n",
              "    box-shadow: none;\n",
              "  }\n",
              "\n",
              "  .colab-df-spinner {\n",
              "    border: 2px solid var(--fill-color);\n",
              "    border-color: transparent;\n",
              "    border-bottom-color: var(--fill-color);\n",
              "    animation:\n",
              "      spin 1s steps(1) infinite;\n",
              "  }\n",
              "\n",
              "  @keyframes spin {\n",
              "    0% {\n",
              "      border-color: transparent;\n",
              "      border-bottom-color: var(--fill-color);\n",
              "      border-left-color: var(--fill-color);\n",
              "    }\n",
              "    20% {\n",
              "      border-color: transparent;\n",
              "      border-left-color: var(--fill-color);\n",
              "      border-top-color: var(--fill-color);\n",
              "    }\n",
              "    30% {\n",
              "      border-color: transparent;\n",
              "      border-left-color: var(--fill-color);\n",
              "      border-top-color: var(--fill-color);\n",
              "      border-right-color: var(--fill-color);\n",
              "    }\n",
              "    40% {\n",
              "      border-color: transparent;\n",
              "      border-right-color: var(--fill-color);\n",
              "      border-top-color: var(--fill-color);\n",
              "    }\n",
              "    60% {\n",
              "      border-color: transparent;\n",
              "      border-right-color: var(--fill-color);\n",
              "    }\n",
              "    80% {\n",
              "      border-color: transparent;\n",
              "      border-right-color: var(--fill-color);\n",
              "      border-bottom-color: var(--fill-color);\n",
              "    }\n",
              "    90% {\n",
              "      border-color: transparent;\n",
              "      border-bottom-color: var(--fill-color);\n",
              "    }\n",
              "  }\n",
              "</style>\n",
              "\n",
              "  <script>\n",
              "    async function quickchart(key) {\n",
              "      const quickchartButtonEl =\n",
              "        document.querySelector('#' + key + ' button');\n",
              "      quickchartButtonEl.disabled = true;  // To prevent multiple clicks.\n",
              "      quickchartButtonEl.classList.add('colab-df-spinner');\n",
              "      try {\n",
              "        const charts = await google.colab.kernel.invokeFunction(\n",
              "            'suggestCharts', [key], {});\n",
              "      } catch (error) {\n",
              "        console.error('Error during call to suggestCharts:', error);\n",
              "      }\n",
              "      quickchartButtonEl.classList.remove('colab-df-spinner');\n",
              "      quickchartButtonEl.classList.add('colab-df-quickchart-complete');\n",
              "    }\n",
              "    (() => {\n",
              "      let quickchartButtonEl =\n",
              "        document.querySelector('#df-139af375-2af1-4a2a-a861-076a44de1f4f button');\n",
              "      quickchartButtonEl.style.display =\n",
              "        google.colab.kernel.accessAllowed ? 'block' : 'none';\n",
              "    })();\n",
              "  </script>\n",
              "</div>\n",
              "\n",
              "    </div>\n",
              "  </div>\n"
            ],
            "text/plain": [
              "      0         1         2         3         4         5         6      \\\n",
              "0  1.000000  0.000000  0.062838  0.000000  0.037561  0.080532  0.000000   \n",
              "1  0.000000  1.000000  0.009637  0.011831  0.000000  0.070491  0.014118   \n",
              "2  0.062838  0.009637  1.000000  0.000000  0.037764  0.000000  0.000000   \n",
              "3  0.000000  0.011831  0.000000  1.000000  0.000000  0.000000  0.164045   \n",
              "4  0.037561  0.000000  0.037764  0.000000  1.000000  0.014165  0.003405   \n",
              "5  0.080532  0.070491  0.000000  0.000000  0.014165  1.000000  0.000000   \n",
              "6  0.000000  0.014118  0.000000  0.164045  0.003405  0.000000  1.000000   \n",
              "7  0.000000  0.011036  0.000000  0.000000  0.013306  0.010437  0.000000   \n",
              "8  0.008430  0.016808  0.068458  0.000000  0.043908  0.021195  0.000000   \n",
              "9  0.015847  0.039493  0.036767  0.000000  0.000000  0.041501  0.000000   \n",
              "\n",
              "      7         8         9      ...     22723     22724     22725     22726  \\\n",
              "0  0.000000  0.008430  0.015847  ...  0.014212  0.000000  0.000000  0.000000   \n",
              "1  0.011036  0.016808  0.039493  ...  0.018890  0.000000  0.000000  0.031953   \n",
              "2  0.000000  0.068458  0.036767  ...  0.010991  0.045852  0.289263  0.020658   \n",
              "3  0.000000  0.000000  0.000000  ...  0.000000  0.000000  0.000000  0.000000   \n",
              "4  0.013306  0.043908  0.000000  ...  0.017082  0.017815  0.000000  0.006421   \n",
              "5  0.010437  0.021195  0.041501  ...  0.029776  0.000000  0.011020  0.000000   \n",
              "6  0.000000  0.000000  0.000000  ...  0.004294  0.000000  0.000000  0.000000   \n",
              "7  1.000000  0.052261  0.000000  ...  0.050345  0.000000  0.000000  0.000000   \n",
              "8  0.052261  1.000000  0.033249  ...  0.054313  0.059463  0.072257  0.028823   \n",
              "9  0.000000  0.033249  1.000000  ...  0.032030  0.082869  0.079026  0.009030   \n",
              "\n",
              "      22727     22728     22729     22730     22731     22732  \n",
              "0  0.000000  0.023435  0.017702  0.000000  0.000000  0.090688  \n",
              "1  0.047324  0.000000  0.011765  0.028739  0.000000  0.013393  \n",
              "2  0.041303  0.021749  0.000000  0.006370  0.008263  0.010391  \n",
              "3  0.000000  0.000000  0.011205  0.007820  0.055792  0.000000  \n",
              "4  0.000000  0.014084  0.039008  0.048263  0.006421  0.020186  \n",
              "5  0.128674  0.023568  0.051924  0.000000  0.000000  0.069668  \n",
              "6  0.000000  0.000000  0.000000  0.003733  0.007263  0.000000  \n",
              "7  0.021021  0.033207  0.041806  0.000000  0.018924  0.011898  \n",
              "8  0.032015  0.095884  0.149896  0.016665  0.007206  0.046815  \n",
              "9  0.000000  0.114877  0.000000  0.000000  0.000000  0.017032  \n",
              "\n",
              "[10 rows x 22733 columns]"
            ]
          },
          "execution_count": 25,
          "metadata": {},
          "output_type": "execute_result"
        }
      ],
      "source": [
        "user_similarity_df.head(10)"
      ]
    },
    {
      "cell_type": "code",
      "execution_count": 26,
      "metadata": {
        "id": "2aEjVLNXQPH1"
      },
      "outputs": [],
      "source": [
        "#Create an index map from the user_id to numerical indices\n",
        "user_index_map = {user_id: idx for idx, user_id in enumerate(aggregated_data['user_id'].unique())}"
      ]
    },
    {
      "cell_type": "code",
      "execution_count": 27,
      "metadata": {
        "id": "KxCLC_65YBTP"
      },
      "outputs": [],
      "source": [
        "user_ids_list = aggregated_data['user_id'].unique().tolist()"
      ]
    },
    {
      "cell_type": "code",
      "execution_count": 28,
      "metadata": {
        "id": "QcIQAu-Oatji"
      },
      "outputs": [],
      "source": [
        "def get_top_n_tracks(df, n):\n",
        "    \"\"\"\n",
        "    Function to get the top n tracks with the highest playcounts.\n",
        "\n",
        "    Parameters:\n",
        "    df (pandas.DataFrame): The DataFrame containing the track data.\n",
        "    n (int): The number of top tracks to return.\n",
        "\n",
        "    Returns:\n",
        "    pandas.DataFrame: A DataFrame containing the top n tracks and their total playcounts.\n",
        "    \"\"\"\n",
        "    # Group by track_id and sum the playcounts\n",
        "    track_playcounts = df.groupby('track_id')['playcount'].sum()\n",
        "\n",
        "    # Sort by playcount in descending order and get the top n\n",
        "    top_n_tracks = track_playcounts.sort_values(ascending=False).head(n)\n",
        "\n",
        "    # Convert to DataFrame and reset index\n",
        "    top_n_tracks_df = top_n_tracks.reset_index()\n",
        "\n",
        "    # Rename columns for clarity\n",
        "    top_n_tracks_df.columns = ['track_id', 'total_playcount']\n",
        "\n",
        "    return top_n_tracks_df"
      ]
    },
    {
      "cell_type": "code",
      "execution_count": 29,
      "metadata": {
        "id": "LmuLne3IRea_"
      },
      "outputs": [],
      "source": [
        "import random\n",
        "# Update the get_recommendations function to use indices\n",
        "def get_recommendations(user_id, n_recommendations=10):\n",
        "    # Map user_id to the corresponding index\n",
        "    user_idx = user_index_map.get(user_id, None)\n",
        "\n",
        "    #already_listened_songs = aggregated_data[aggregated_data['user_id'] == similar_user_id]\n",
        "\n",
        "    if user_idx is None:\n",
        "        #print(f\"User ID {user_id} not found.\")\n",
        "        return []\n",
        "\n",
        "    similar_users = user_similarity_df.iloc[user_idx].sort_values(ascending=False)[1:]  # Exclude the user itself\n",
        "    top_similar_users = similar_users.index[:n_recommendations-2]\n",
        "\n",
        "    len_sim = len(top_similar_users)\n",
        "    #print(len_sim)\n",
        "    if len_sim>7:\n",
        "        n=1\n",
        "    elif len_sim>3:\n",
        "        n=2\n",
        "    elif len_sim>2:\n",
        "        n=3\n",
        "    else:\n",
        "        n=len_sim\n",
        "\n",
        "    recommendations = set()\n",
        "    listened_songs = aggregated_data[aggregated_data['user_id'] == user_id]  # get the already listened songs\n",
        "    fav_songs = get_top_n_tracks(listened_songs, 2 )\n",
        "    #print(fav_songs)\n",
        "    recommendations.update(set(fav_songs['track_id'].tolist()))\n",
        "\n",
        "    rec_set_len=len(recommendations)\n",
        "\n",
        "    for similar_user in top_similar_users:\n",
        "        similar_user_id = aggregated_data['user_id'].unique()[similar_user]  # Get the actual user ID\n",
        "        similar_user_songs = aggregated_data[aggregated_data['user_id'] == similar_user_id]  # get the songs of each user\n",
        "        similar_user_song = get_top_n_tracks(similar_user_songs, n )\n",
        "        recommended_songs = similar_user_song['track_id'].tolist()\n",
        "\n",
        "        #print(recommended_songs)\n",
        "        recommendations.update(set(recommended_songs))\n",
        "        k=n\n",
        "        while (len(recommendations)<(rec_set_len+ n)):\n",
        "            #print(recommendations)\n",
        "            #print(\"len\",len(recommendations), rec_set_len, len(recommended_songs))\n",
        "            k+=1\n",
        "            similar_user_song = get_top_n_tracks(similar_user_songs, k )\n",
        "            recommended_songs = similar_user_song['track_id'].tolist()\n",
        "            #print(\"trying for k =\",k, \"tried id =\", recommended_songs)\n",
        "            recommendations.update(set(recommended_songs))\n",
        "\n",
        "            if len(recommendations)>=10: #infinite loop breaker\n",
        "                break\n",
        "\n",
        "        rec_set_len = len(recommendations)\n",
        "        #print(rec_set_len)\n",
        "\n",
        "    if len(recommendations)>10:\n",
        "        return random.sample(list(recommendations), 10)\n",
        "\n",
        "    return list(recommendations)"
      ]
    },
    {
      "cell_type": "code",
      "execution_count": 30,
      "metadata": {
        "colab": {
          "base_uri": "https://localhost:8080/"
        },
        "id": "uu59K6DkTdB2",
        "outputId": "3fd3e0d2-77a8-457e-f80a-71c7c09b70ae"
      },
      "outputs": [
        {
          "name": "stdout",
          "output_type": "stream",
          "text": [
            "Recommendations for user 0003a64f7a69e5b87a80b09c3772227185c235c7: ['TRAFUNV128F92CFEB2', 'TRTBNOP12903CDB267', 'TRJSTNN128F92E16AE', 'TRLKBRU128F42B18A3', 'TRRXFHO128EF3550BC', 'TRHLTZE128F92E16C7', 'TRNPEXS128F1460294', 'TRBVSQT128F427A82F', 'TRAVRKY128F429EA68', 'TRHGDIO128F9324EF2']\n"
          ]
        }
      ],
      "source": [
        "#  Get recommendations for a specific user\n",
        "user_id = aggregated_data['user_id'].iloc[10]  # Replace with actual user ID\n",
        "recommendations = get_recommendations(user_id)\n",
        "print(f\"Recommendations for user {user_id}: {recommendations}\")"
      ]
    },
    {
      "cell_type": "markdown",
      "metadata": {
        "id": "6dK22Y3E_twx"
      },
      "source": [
        "# Evaluating"
      ]
    },
    {
      "cell_type": "code",
      "execution_count": 31,
      "metadata": {
        "colab": {
          "base_uri": "https://localhost:8080/",
          "height": 206
        },
        "id": "AaSSB-93_tGm",
        "outputId": "1f3be8d5-9bc9-4a73-b8ab-a6c57831c6d0"
      },
      "outputs": [
        {
          "data": {
            "application/vnd.google.colaboratory.intrinsic+json": {
              "type": "dataframe",
              "variable_name": "test_set"
            },
            "text/html": [
              "\n",
              "  <div id=\"df-99b536f2-b417-40c4-8275-1ef7e30824f9\" class=\"colab-df-container\">\n",
              "    <div>\n",
              "<style scoped>\n",
              "    .dataframe tbody tr th:only-of-type {\n",
              "        vertical-align: middle;\n",
              "    }\n",
              "\n",
              "    .dataframe tbody tr th {\n",
              "        vertical-align: top;\n",
              "    }\n",
              "\n",
              "    .dataframe thead th {\n",
              "        text-align: right;\n",
              "    }\n",
              "</style>\n",
              "<table border=\"1\" class=\"dataframe\">\n",
              "  <thead>\n",
              "    <tr style=\"text-align: right;\">\n",
              "      <th></th>\n",
              "      <th>user_id</th>\n",
              "      <th>track_id</th>\n",
              "    </tr>\n",
              "  </thead>\n",
              "  <tbody>\n",
              "    <tr>\n",
              "      <th>0</th>\n",
              "      <td>0003a64f7a69e5b87a80b09c3772227185c235c7</td>\n",
              "      <td>TRTBNOP12903CDB267</td>\n",
              "    </tr>\n",
              "    <tr>\n",
              "      <th>1</th>\n",
              "      <td>0003a64f7a69e5b87a80b09c3772227185c235c7</td>\n",
              "      <td>TRBMCGS128F92D2C27</td>\n",
              "    </tr>\n",
              "    <tr>\n",
              "      <th>2</th>\n",
              "      <td>0003a64f7a69e5b87a80b09c3772227185c235c7</td>\n",
              "      <td>TRNPEXS128F1460294</td>\n",
              "    </tr>\n",
              "    <tr>\n",
              "      <th>3</th>\n",
              "      <td>0003a64f7a69e5b87a80b09c3772227185c235c7</td>\n",
              "      <td>TRRSBHA128F425E8B5</td>\n",
              "    </tr>\n",
              "    <tr>\n",
              "      <th>4</th>\n",
              "      <td>0003a64f7a69e5b87a80b09c3772227185c235c7</td>\n",
              "      <td>TRFMQJK128F9321BCC</td>\n",
              "    </tr>\n",
              "  </tbody>\n",
              "</table>\n",
              "</div>\n",
              "    <div class=\"colab-df-buttons\">\n",
              "\n",
              "  <div class=\"colab-df-container\">\n",
              "    <button class=\"colab-df-convert\" onclick=\"convertToInteractive('df-99b536f2-b417-40c4-8275-1ef7e30824f9')\"\n",
              "            title=\"Convert this dataframe to an interactive table.\"\n",
              "            style=\"display:none;\">\n",
              "\n",
              "  <svg xmlns=\"http://www.w3.org/2000/svg\" height=\"24px\" viewBox=\"0 -960 960 960\">\n",
              "    <path d=\"M120-120v-720h720v720H120Zm60-500h600v-160H180v160Zm220 220h160v-160H400v160Zm0 220h160v-160H400v160ZM180-400h160v-160H180v160Zm440 0h160v-160H620v160ZM180-180h160v-160H180v160Zm440 0h160v-160H620v160Z\"/>\n",
              "  </svg>\n",
              "    </button>\n",
              "\n",
              "  <style>\n",
              "    .colab-df-container {\n",
              "      display:flex;\n",
              "      gap: 12px;\n",
              "    }\n",
              "\n",
              "    .colab-df-convert {\n",
              "      background-color: #E8F0FE;\n",
              "      border: none;\n",
              "      border-radius: 50%;\n",
              "      cursor: pointer;\n",
              "      display: none;\n",
              "      fill: #1967D2;\n",
              "      height: 32px;\n",
              "      padding: 0 0 0 0;\n",
              "      width: 32px;\n",
              "    }\n",
              "\n",
              "    .colab-df-convert:hover {\n",
              "      background-color: #E2EBFA;\n",
              "      box-shadow: 0px 1px 2px rgba(60, 64, 67, 0.3), 0px 1px 3px 1px rgba(60, 64, 67, 0.15);\n",
              "      fill: #174EA6;\n",
              "    }\n",
              "\n",
              "    .colab-df-buttons div {\n",
              "      margin-bottom: 4px;\n",
              "    }\n",
              "\n",
              "    [theme=dark] .colab-df-convert {\n",
              "      background-color: #3B4455;\n",
              "      fill: #D2E3FC;\n",
              "    }\n",
              "\n",
              "    [theme=dark] .colab-df-convert:hover {\n",
              "      background-color: #434B5C;\n",
              "      box-shadow: 0px 1px 3px 1px rgba(0, 0, 0, 0.15);\n",
              "      filter: drop-shadow(0px 1px 2px rgba(0, 0, 0, 0.3));\n",
              "      fill: #FFFFFF;\n",
              "    }\n",
              "  </style>\n",
              "\n",
              "    <script>\n",
              "      const buttonEl =\n",
              "        document.querySelector('#df-99b536f2-b417-40c4-8275-1ef7e30824f9 button.colab-df-convert');\n",
              "      buttonEl.style.display =\n",
              "        google.colab.kernel.accessAllowed ? 'block' : 'none';\n",
              "\n",
              "      async function convertToInteractive(key) {\n",
              "        const element = document.querySelector('#df-99b536f2-b417-40c4-8275-1ef7e30824f9');\n",
              "        const dataTable =\n",
              "          await google.colab.kernel.invokeFunction('convertToInteractive',\n",
              "                                                    [key], {});\n",
              "        if (!dataTable) return;\n",
              "\n",
              "        const docLinkHtml = 'Like what you see? Visit the ' +\n",
              "          '<a target=\"_blank\" href=https://colab.research.google.com/notebooks/data_table.ipynb>data table notebook</a>'\n",
              "          + ' to learn more about interactive tables.';\n",
              "        element.innerHTML = '';\n",
              "        dataTable['output_type'] = 'display_data';\n",
              "        await google.colab.output.renderOutput(dataTable, element);\n",
              "        const docLink = document.createElement('div');\n",
              "        docLink.innerHTML = docLinkHtml;\n",
              "        element.appendChild(docLink);\n",
              "      }\n",
              "    </script>\n",
              "  </div>\n",
              "\n",
              "\n",
              "<div id=\"df-027a1662-c8ef-44fc-9422-6500ee502972\">\n",
              "  <button class=\"colab-df-quickchart\" onclick=\"quickchart('df-027a1662-c8ef-44fc-9422-6500ee502972')\"\n",
              "            title=\"Suggest charts\"\n",
              "            style=\"display:none;\">\n",
              "\n",
              "<svg xmlns=\"http://www.w3.org/2000/svg\" height=\"24px\"viewBox=\"0 0 24 24\"\n",
              "     width=\"24px\">\n",
              "    <g>\n",
              "        <path d=\"M19 3H5c-1.1 0-2 .9-2 2v14c0 1.1.9 2 2 2h14c1.1 0 2-.9 2-2V5c0-1.1-.9-2-2-2zM9 17H7v-7h2v7zm4 0h-2V7h2v10zm4 0h-2v-4h2v4z\"/>\n",
              "    </g>\n",
              "</svg>\n",
              "  </button>\n",
              "\n",
              "<style>\n",
              "  .colab-df-quickchart {\n",
              "      --bg-color: #E8F0FE;\n",
              "      --fill-color: #1967D2;\n",
              "      --hover-bg-color: #E2EBFA;\n",
              "      --hover-fill-color: #174EA6;\n",
              "      --disabled-fill-color: #AAA;\n",
              "      --disabled-bg-color: #DDD;\n",
              "  }\n",
              "\n",
              "  [theme=dark] .colab-df-quickchart {\n",
              "      --bg-color: #3B4455;\n",
              "      --fill-color: #D2E3FC;\n",
              "      --hover-bg-color: #434B5C;\n",
              "      --hover-fill-color: #FFFFFF;\n",
              "      --disabled-bg-color: #3B4455;\n",
              "      --disabled-fill-color: #666;\n",
              "  }\n",
              "\n",
              "  .colab-df-quickchart {\n",
              "    background-color: var(--bg-color);\n",
              "    border: none;\n",
              "    border-radius: 50%;\n",
              "    cursor: pointer;\n",
              "    display: none;\n",
              "    fill: var(--fill-color);\n",
              "    height: 32px;\n",
              "    padding: 0;\n",
              "    width: 32px;\n",
              "  }\n",
              "\n",
              "  .colab-df-quickchart:hover {\n",
              "    background-color: var(--hover-bg-color);\n",
              "    box-shadow: 0 1px 2px rgba(60, 64, 67, 0.3), 0 1px 3px 1px rgba(60, 64, 67, 0.15);\n",
              "    fill: var(--button-hover-fill-color);\n",
              "  }\n",
              "\n",
              "  .colab-df-quickchart-complete:disabled,\n",
              "  .colab-df-quickchart-complete:disabled:hover {\n",
              "    background-color: var(--disabled-bg-color);\n",
              "    fill: var(--disabled-fill-color);\n",
              "    box-shadow: none;\n",
              "  }\n",
              "\n",
              "  .colab-df-spinner {\n",
              "    border: 2px solid var(--fill-color);\n",
              "    border-color: transparent;\n",
              "    border-bottom-color: var(--fill-color);\n",
              "    animation:\n",
              "      spin 1s steps(1) infinite;\n",
              "  }\n",
              "\n",
              "  @keyframes spin {\n",
              "    0% {\n",
              "      border-color: transparent;\n",
              "      border-bottom-color: var(--fill-color);\n",
              "      border-left-color: var(--fill-color);\n",
              "    }\n",
              "    20% {\n",
              "      border-color: transparent;\n",
              "      border-left-color: var(--fill-color);\n",
              "      border-top-color: var(--fill-color);\n",
              "    }\n",
              "    30% {\n",
              "      border-color: transparent;\n",
              "      border-left-color: var(--fill-color);\n",
              "      border-top-color: var(--fill-color);\n",
              "      border-right-color: var(--fill-color);\n",
              "    }\n",
              "    40% {\n",
              "      border-color: transparent;\n",
              "      border-right-color: var(--fill-color);\n",
              "      border-top-color: var(--fill-color);\n",
              "    }\n",
              "    60% {\n",
              "      border-color: transparent;\n",
              "      border-right-color: var(--fill-color);\n",
              "    }\n",
              "    80% {\n",
              "      border-color: transparent;\n",
              "      border-right-color: var(--fill-color);\n",
              "      border-bottom-color: var(--fill-color);\n",
              "    }\n",
              "    90% {\n",
              "      border-color: transparent;\n",
              "      border-bottom-color: var(--fill-color);\n",
              "    }\n",
              "  }\n",
              "</style>\n",
              "\n",
              "  <script>\n",
              "    async function quickchart(key) {\n",
              "      const quickchartButtonEl =\n",
              "        document.querySelector('#' + key + ' button');\n",
              "      quickchartButtonEl.disabled = true;  // To prevent multiple clicks.\n",
              "      quickchartButtonEl.classList.add('colab-df-spinner');\n",
              "      try {\n",
              "        const charts = await google.colab.kernel.invokeFunction(\n",
              "            'suggestCharts', [key], {});\n",
              "      } catch (error) {\n",
              "        console.error('Error during call to suggestCharts:', error);\n",
              "      }\n",
              "      quickchartButtonEl.classList.remove('colab-df-spinner');\n",
              "      quickchartButtonEl.classList.add('colab-df-quickchart-complete');\n",
              "    }\n",
              "    (() => {\n",
              "      let quickchartButtonEl =\n",
              "        document.querySelector('#df-027a1662-c8ef-44fc-9422-6500ee502972 button');\n",
              "      quickchartButtonEl.style.display =\n",
              "        google.colab.kernel.accessAllowed ? 'block' : 'none';\n",
              "    })();\n",
              "  </script>\n",
              "</div>\n",
              "\n",
              "    </div>\n",
              "  </div>\n"
            ],
            "text/plain": [
              "                                    user_id            track_id\n",
              "0  0003a64f7a69e5b87a80b09c3772227185c235c7  TRTBNOP12903CDB267\n",
              "1  0003a64f7a69e5b87a80b09c3772227185c235c7  TRBMCGS128F92D2C27\n",
              "2  0003a64f7a69e5b87a80b09c3772227185c235c7  TRNPEXS128F1460294\n",
              "3  0003a64f7a69e5b87a80b09c3772227185c235c7  TRRSBHA128F425E8B5\n",
              "4  0003a64f7a69e5b87a80b09c3772227185c235c7  TRFMQJK128F9321BCC"
            ]
          },
          "execution_count": 31,
          "metadata": {},
          "output_type": "execute_result"
        }
      ],
      "source": [
        "test_set.head(5)"
      ]
    },
    {
      "cell_type": "code",
      "execution_count": 32,
      "metadata": {
        "colab": {
          "base_uri": "https://localhost:8080/"
        },
        "id": "AWoT3b1YVX9f",
        "outputId": "632e9b9b-1644-4a14-efeb-23563afbc7aa"
      },
      "outputs": [
        {
          "name": "stdout",
          "output_type": "stream",
          "text": [
            "['TRTBNOP12903CDB267', 'TRBMCGS128F92D2C27', 'TRNPEXS128F1460294', 'TRRSBHA128F425E8B5', 'TRFMQJK128F9321BCC', 'TRBROBA128F9321BC2', 'TRAFUNV128F92CFEB2', 'TRDPRSH128F9321BC6', 'TRAKKTI128F42B4F25', 'TRARTEH128F423DBC1']\n"
          ]
        }
      ],
      "source": [
        "# Specify the user_id you want to filter for\n",
        "specific_user_id = '0003a64f7a69e5b87a80b09c3772227185c235c7'\n",
        "\n",
        "# Filter test_set for the specific user and get the track_id column as a list\n",
        "track_ids = test_set[test_set['user_id'] == specific_user_id]['track_id'].tolist()\n",
        "\n",
        "# Output the list of track_ids\n",
        "print(track_ids)\n"
      ]
    },
    {
      "cell_type": "code",
      "execution_count": 33,
      "metadata": {
        "colab": {
          "base_uri": "https://localhost:8080/"
        },
        "id": "weqK8hktVlxJ",
        "outputId": "0bc97fa2-3fa9-455d-9b5b-7ba74565b887"
      },
      "outputs": [
        {
          "name": "stdout",
          "output_type": "stream",
          "text": [
            "['TRAFUNV128F92CFEB2', 'TRTBNOP12903CDB267', 'TRJSTNN128F92E16AE', 'TRLKBRU128F42B18A3', 'TRRXFHO128EF3550BC', 'TRHLTZE128F92E16C7', 'TRNPEXS128F1460294', 'TRBVSQT128F427A82F', 'TRAVRKY128F429EA68', 'TRHGDIO128F9324EF2']\n"
          ]
        }
      ],
      "source": [
        "recommendations = get_recommendations(specific_user_id)\n",
        "print(recommendations)"
      ]
    },
    {
      "cell_type": "code",
      "execution_count": 34,
      "metadata": {
        "id": "XDmigOjTU-JB"
      },
      "outputs": [],
      "source": [
        "def calculate_hit_percentage(evaluating_list, recommended_list):\n",
        "    # Convert lists to sets to find the intersection\n",
        "    evaluating_set = set(evaluating_list)\n",
        "    recommended_set = set(recommended_list)\n",
        "\n",
        "    # Find the intersection (hits) between the two sets\n",
        "    hits = evaluating_set.intersection(recommended_set)\n",
        "\n",
        "    # Calculate hit percentage\n",
        "    hit_percentage = (len(hits) / len(evaluating_list)) * 100 if evaluating_list else 0\n",
        "    return hit_percentage\n"
      ]
    },
    {
      "cell_type": "code",
      "execution_count": 35,
      "metadata": {
        "colab": {
          "base_uri": "https://localhost:8080/"
        },
        "id": "YlXlszN5VBWX",
        "outputId": "1464a538-3dbb-423e-9b0c-f44bc63c2869"
      },
      "outputs": [
        {
          "name": "stdout",
          "output_type": "stream",
          "text": [
            "Hit Percentage: 30.0%\n"
          ]
        }
      ],
      "source": [
        "hit_percentage = calculate_hit_percentage(track_ids, recommendations)\n",
        "print(f\"Hit Percentage: {hit_percentage}%\")"
      ]
    },
    {
      "cell_type": "code",
      "execution_count": 36,
      "metadata": {
        "colab": {
          "base_uri": "https://localhost:8080/"
        },
        "id": "hFOcCEHTZw5m",
        "outputId": "92872214-5590-4b32-c994-766fd9980c21"
      },
      "outputs": [
        {
          "name": "stdout",
          "output_type": "stream",
          "text": [
            "Requirement already satisfied: tqdm in /usr/local/lib/python3.10/dist-packages (4.66.5)\n"
          ]
        }
      ],
      "source": [
        "!pip install tqdm"
      ]
    },
    {
      "cell_type": "code",
      "execution_count": 37,
      "metadata": {
        "id": "yN6Gv2aDlQLk"
      },
      "outputs": [],
      "source": [
        "def select_random_items(data_list, percentage):\n",
        "    # Calculate the number of items to select\n",
        "    num_items_to_select = max(1, int(len(data_list) * percentage / 100))\n",
        "\n",
        "    # Use random.sample to select the specified percentage of items\n",
        "    selected_items = random.sample(data_list, num_items_to_select)\n",
        "\n",
        "    return selected_items"
      ]
    },
    {
      "cell_type": "code",
      "execution_count": 38,
      "metadata": {
        "colab": {
          "base_uri": "https://localhost:8080/"
        },
        "id": "ehIopjnLWT1O",
        "outputId": "5690355b-4627-4f31-ec8e-2c182ad8ffe2"
      },
      "outputs": [
        {
          "name": "stdout",
          "output_type": "stream",
          "text": [
            "\n",
            "Starting Hit Percentage Calculation...\n",
            "\n"
          ]
        },
        {
          "name": "stderr",
          "output_type": "stream",
          "text": [
            "Calculating Hit Percentages:   0%|          | 1/1136 [00:02<40:13,  2.13s/user]"
          ]
        },
        {
          "name": "stdout",
          "output_type": "stream",
          "text": [
            "Current Average Hit Percentage: 50.00%\n"
          ]
        },
        {
          "name": "stderr",
          "output_type": "stream",
          "text": [
            "Calculating Hit Percentages:   0%|          | 2/1136 [00:04<39:29,  2.09s/user]"
          ]
        },
        {
          "name": "stdout",
          "output_type": "stream",
          "text": [
            "Current Average Hit Percentage: 35.00%\n"
          ]
        },
        {
          "name": "stderr",
          "output_type": "stream",
          "text": [
            "Calculating Hit Percentages:   0%|          | 3/1136 [00:06<39:01,  2.07s/user]"
          ]
        },
        {
          "name": "stdout",
          "output_type": "stream",
          "text": [
            "Current Average Hit Percentage: 40.00%\n"
          ]
        },
        {
          "name": "stderr",
          "output_type": "stream",
          "text": [
            "Calculating Hit Percentages:   0%|          | 4/1136 [00:08<38:46,  2.06s/user]"
          ]
        },
        {
          "name": "stdout",
          "output_type": "stream",
          "text": [
            "Current Average Hit Percentage: 35.00%\n"
          ]
        },
        {
          "name": "stderr",
          "output_type": "stream",
          "text": [
            "Calculating Hit Percentages:   0%|          | 5/1136 [00:10<38:37,  2.05s/user]"
          ]
        },
        {
          "name": "stdout",
          "output_type": "stream",
          "text": [
            "Current Average Hit Percentage: 34.00%\n"
          ]
        },
        {
          "name": "stderr",
          "output_type": "stream",
          "text": [
            "Calculating Hit Percentages:   1%|          | 6/1136 [00:12<38:38,  2.05s/user]"
          ]
        },
        {
          "name": "stdout",
          "output_type": "stream",
          "text": [
            "Current Average Hit Percentage: 33.33%\n"
          ]
        },
        {
          "name": "stderr",
          "output_type": "stream",
          "text": [
            "Calculating Hit Percentages:   1%|          | 7/1136 [00:14<39:00,  2.07s/user]"
          ]
        },
        {
          "name": "stdout",
          "output_type": "stream",
          "text": [
            "Current Average Hit Percentage: 31.43%\n"
          ]
        },
        {
          "name": "stderr",
          "output_type": "stream",
          "text": [
            "Calculating Hit Percentages:   1%|          | 8/1136 [00:16<38:49,  2.07s/user]"
          ]
        },
        {
          "name": "stdout",
          "output_type": "stream",
          "text": [
            "Current Average Hit Percentage: 31.25%\n"
          ]
        },
        {
          "name": "stderr",
          "output_type": "stream",
          "text": [
            "Calculating Hit Percentages:   1%|          | 9/1136 [00:18<38:41,  2.06s/user]"
          ]
        },
        {
          "name": "stdout",
          "output_type": "stream",
          "text": [
            "Current Average Hit Percentage: 32.22%\n"
          ]
        },
        {
          "name": "stderr",
          "output_type": "stream",
          "text": [
            "Calculating Hit Percentages:   1%|          | 10/1136 [00:20<38:34,  2.06s/user]"
          ]
        },
        {
          "name": "stdout",
          "output_type": "stream",
          "text": [
            "Current Average Hit Percentage: 34.00%\n"
          ]
        },
        {
          "name": "stderr",
          "output_type": "stream",
          "text": [
            "Calculating Hit Percentages:   1%|          | 11/1136 [00:22<38:28,  2.05s/user]"
          ]
        },
        {
          "name": "stdout",
          "output_type": "stream",
          "text": [
            "Current Average Hit Percentage: 32.73%\n"
          ]
        },
        {
          "name": "stderr",
          "output_type": "stream",
          "text": [
            "Calculating Hit Percentages:   1%|          | 12/1136 [00:24<38:22,  2.05s/user]"
          ]
        },
        {
          "name": "stdout",
          "output_type": "stream",
          "text": [
            "Current Average Hit Percentage: 33.33%\n"
          ]
        },
        {
          "name": "stderr",
          "output_type": "stream",
          "text": [
            "Calculating Hit Percentages:   1%|          | 13/1136 [00:26<38:19,  2.05s/user]"
          ]
        },
        {
          "name": "stdout",
          "output_type": "stream",
          "text": [
            "Current Average Hit Percentage: 33.08%\n"
          ]
        },
        {
          "name": "stderr",
          "output_type": "stream",
          "text": [
            "Calculating Hit Percentages:   1%|          | 14/1136 [00:28<38:39,  2.07s/user]"
          ]
        },
        {
          "name": "stdout",
          "output_type": "stream",
          "text": [
            "Current Average Hit Percentage: 33.57%\n"
          ]
        },
        {
          "name": "stderr",
          "output_type": "stream",
          "text": [
            "Calculating Hit Percentages:   1%|▏         | 15/1136 [00:30<38:27,  2.06s/user]"
          ]
        },
        {
          "name": "stdout",
          "output_type": "stream",
          "text": [
            "Current Average Hit Percentage: 33.33%\n"
          ]
        },
        {
          "name": "stderr",
          "output_type": "stream",
          "text": [
            "Calculating Hit Percentages:   1%|▏         | 16/1136 [00:32<38:18,  2.05s/user]"
          ]
        },
        {
          "name": "stdout",
          "output_type": "stream",
          "text": [
            "Current Average Hit Percentage: 33.12%\n"
          ]
        },
        {
          "name": "stderr",
          "output_type": "stream",
          "text": [
            "Calculating Hit Percentages:   1%|▏         | 17/1136 [00:34<38:09,  2.05s/user]"
          ]
        },
        {
          "name": "stdout",
          "output_type": "stream",
          "text": [
            "Current Average Hit Percentage: 32.94%\n"
          ]
        },
        {
          "name": "stderr",
          "output_type": "stream",
          "text": [
            "Calculating Hit Percentages:   2%|▏         | 18/1136 [00:37<38:09,  2.05s/user]"
          ]
        },
        {
          "name": "stdout",
          "output_type": "stream",
          "text": [
            "Current Average Hit Percentage: 32.78%\n"
          ]
        },
        {
          "name": "stderr",
          "output_type": "stream",
          "text": [
            "Calculating Hit Percentages:   2%|▏         | 19/1136 [00:39<38:05,  2.05s/user]"
          ]
        },
        {
          "name": "stdout",
          "output_type": "stream",
          "text": [
            "Current Average Hit Percentage: 32.11%\n"
          ]
        },
        {
          "name": "stderr",
          "output_type": "stream",
          "text": [
            "Calculating Hit Percentages:   2%|▏         | 20/1136 [00:41<38:11,  2.05s/user]"
          ]
        },
        {
          "name": "stdout",
          "output_type": "stream",
          "text": [
            "Current Average Hit Percentage: 31.50%\n"
          ]
        },
        {
          "name": "stderr",
          "output_type": "stream",
          "text": [
            "Calculating Hit Percentages:   2%|▏         | 21/1136 [00:43<38:14,  2.06s/user]"
          ]
        },
        {
          "name": "stdout",
          "output_type": "stream",
          "text": [
            "Current Average Hit Percentage: 30.95%\n"
          ]
        },
        {
          "name": "stderr",
          "output_type": "stream",
          "text": [
            "Calculating Hit Percentages:   2%|▏         | 22/1136 [00:45<38:10,  2.06s/user]"
          ]
        },
        {
          "name": "stdout",
          "output_type": "stream",
          "text": [
            "Current Average Hit Percentage: 31.36%\n"
          ]
        },
        {
          "name": "stderr",
          "output_type": "stream",
          "text": [
            "Calculating Hit Percentages:   2%|▏         | 23/1136 [00:47<37:59,  2.05s/user]"
          ]
        },
        {
          "name": "stdout",
          "output_type": "stream",
          "text": [
            "Current Average Hit Percentage: 30.87%\n"
          ]
        },
        {
          "name": "stderr",
          "output_type": "stream",
          "text": [
            "Calculating Hit Percentages:   2%|▏         | 24/1136 [00:49<37:53,  2.04s/user]"
          ]
        },
        {
          "name": "stdout",
          "output_type": "stream",
          "text": [
            "Current Average Hit Percentage: 31.67%\n"
          ]
        },
        {
          "name": "stderr",
          "output_type": "stream",
          "text": [
            "Calculating Hit Percentages:   2%|▏         | 25/1136 [00:51<37:52,  2.05s/user]"
          ]
        },
        {
          "name": "stdout",
          "output_type": "stream",
          "text": [
            "Current Average Hit Percentage: 31.60%\n"
          ]
        },
        {
          "name": "stderr",
          "output_type": "stream",
          "text": [
            "Calculating Hit Percentages:   2%|▏         | 26/1136 [00:53<37:52,  2.05s/user]"
          ]
        },
        {
          "name": "stdout",
          "output_type": "stream",
          "text": [
            "Current Average Hit Percentage: 31.54%\n"
          ]
        },
        {
          "name": "stderr",
          "output_type": "stream",
          "text": [
            "Calculating Hit Percentages:   2%|▏         | 27/1136 [00:55<38:06,  2.06s/user]"
          ]
        },
        {
          "name": "stdout",
          "output_type": "stream",
          "text": [
            "Current Average Hit Percentage: 31.48%\n"
          ]
        },
        {
          "name": "stderr",
          "output_type": "stream",
          "text": [
            "Calculating Hit Percentages:   2%|▏         | 28/1136 [00:57<38:14,  2.07s/user]"
          ]
        },
        {
          "name": "stdout",
          "output_type": "stream",
          "text": [
            "Current Average Hit Percentage: 32.50%\n"
          ]
        },
        {
          "name": "stderr",
          "output_type": "stream",
          "text": [
            "Calculating Hit Percentages:   3%|▎         | 29/1136 [00:59<38:05,  2.06s/user]"
          ]
        },
        {
          "name": "stdout",
          "output_type": "stream",
          "text": [
            "Current Average Hit Percentage: 32.41%\n"
          ]
        },
        {
          "name": "stderr",
          "output_type": "stream",
          "text": [
            "Calculating Hit Percentages:   3%|▎         | 30/1136 [01:01<37:56,  2.06s/user]"
          ]
        },
        {
          "name": "stdout",
          "output_type": "stream",
          "text": [
            "Current Average Hit Percentage: 32.00%\n"
          ]
        },
        {
          "name": "stderr",
          "output_type": "stream",
          "text": [
            "Calculating Hit Percentages:   3%|▎         | 31/1136 [01:03<37:52,  2.06s/user]"
          ]
        },
        {
          "name": "stdout",
          "output_type": "stream",
          "text": [
            "Current Average Hit Percentage: 31.61%\n"
          ]
        },
        {
          "name": "stderr",
          "output_type": "stream",
          "text": [
            "Calculating Hit Percentages:   3%|▎         | 32/1136 [01:05<37:42,  2.05s/user]"
          ]
        },
        {
          "name": "stdout",
          "output_type": "stream",
          "text": [
            "Current Average Hit Percentage: 31.56%\n"
          ]
        },
        {
          "name": "stderr",
          "output_type": "stream",
          "text": [
            "Calculating Hit Percentages:   3%|▎         | 33/1136 [01:07<37:42,  2.05s/user]"
          ]
        },
        {
          "name": "stdout",
          "output_type": "stream",
          "text": [
            "Current Average Hit Percentage: 31.21%\n"
          ]
        },
        {
          "name": "stderr",
          "output_type": "stream",
          "text": [
            "Calculating Hit Percentages:   3%|▎         | 34/1136 [01:09<37:54,  2.06s/user]"
          ]
        },
        {
          "name": "stdout",
          "output_type": "stream",
          "text": [
            "Current Average Hit Percentage: 31.18%\n"
          ]
        },
        {
          "name": "stderr",
          "output_type": "stream",
          "text": [
            "Calculating Hit Percentages:   3%|▎         | 35/1136 [01:11<37:49,  2.06s/user]"
          ]
        },
        {
          "name": "stdout",
          "output_type": "stream",
          "text": [
            "Current Average Hit Percentage: 31.14%\n"
          ]
        },
        {
          "name": "stderr",
          "output_type": "stream",
          "text": [
            "Calculating Hit Percentages:   3%|▎         | 36/1136 [01:14<37:42,  2.06s/user]"
          ]
        },
        {
          "name": "stdout",
          "output_type": "stream",
          "text": [
            "Current Average Hit Percentage: 30.83%\n"
          ]
        },
        {
          "name": "stderr",
          "output_type": "stream",
          "text": [
            "Calculating Hit Percentages:   3%|▎         | 37/1136 [01:16<37:32,  2.05s/user]"
          ]
        },
        {
          "name": "stdout",
          "output_type": "stream",
          "text": [
            "Current Average Hit Percentage: 30.81%\n"
          ]
        },
        {
          "name": "stderr",
          "output_type": "stream",
          "text": [
            "Calculating Hit Percentages:   3%|▎         | 38/1136 [01:18<37:24,  2.04s/user]"
          ]
        },
        {
          "name": "stdout",
          "output_type": "stream",
          "text": [
            "Current Average Hit Percentage: 30.53%\n"
          ]
        },
        {
          "name": "stderr",
          "output_type": "stream",
          "text": [
            "Calculating Hit Percentages:   3%|▎         | 39/1136 [01:20<37:22,  2.04s/user]"
          ]
        },
        {
          "name": "stdout",
          "output_type": "stream",
          "text": [
            "Current Average Hit Percentage: 30.26%\n"
          ]
        },
        {
          "name": "stderr",
          "output_type": "stream",
          "text": [
            "Calculating Hit Percentages:   4%|▎         | 40/1136 [01:22<37:28,  2.05s/user]"
          ]
        },
        {
          "name": "stdout",
          "output_type": "stream",
          "text": [
            "Current Average Hit Percentage: 30.00%\n"
          ]
        },
        {
          "name": "stderr",
          "output_type": "stream",
          "text": [
            "Calculating Hit Percentages:   4%|▎         | 41/1136 [01:24<37:38,  2.06s/user]"
          ]
        },
        {
          "name": "stdout",
          "output_type": "stream",
          "text": [
            "Current Average Hit Percentage: 30.00%\n"
          ]
        },
        {
          "name": "stderr",
          "output_type": "stream",
          "text": [
            "Calculating Hit Percentages:   4%|▎         | 42/1136 [01:26<37:25,  2.05s/user]"
          ]
        },
        {
          "name": "stdout",
          "output_type": "stream",
          "text": [
            "Current Average Hit Percentage: 30.00%\n"
          ]
        },
        {
          "name": "stderr",
          "output_type": "stream",
          "text": [
            "Calculating Hit Percentages:   4%|▍         | 43/1136 [01:28<37:18,  2.05s/user]"
          ]
        },
        {
          "name": "stdout",
          "output_type": "stream",
          "text": [
            "Current Average Hit Percentage: 30.23%\n"
          ]
        },
        {
          "name": "stderr",
          "output_type": "stream",
          "text": [
            "Calculating Hit Percentages:   4%|▍         | 44/1136 [01:30<37:09,  2.04s/user]"
          ]
        },
        {
          "name": "stdout",
          "output_type": "stream",
          "text": [
            "Current Average Hit Percentage: 30.00%\n"
          ]
        },
        {
          "name": "stderr",
          "output_type": "stream",
          "text": [
            "Calculating Hit Percentages:   4%|▍         | 45/1136 [01:32<37:05,  2.04s/user]"
          ]
        },
        {
          "name": "stdout",
          "output_type": "stream",
          "text": [
            "Current Average Hit Percentage: 30.22%\n"
          ]
        },
        {
          "name": "stderr",
          "output_type": "stream",
          "text": [
            "Calculating Hit Percentages:   4%|▍         | 46/1136 [01:34<37:02,  2.04s/user]"
          ]
        },
        {
          "name": "stdout",
          "output_type": "stream",
          "text": [
            "Current Average Hit Percentage: 30.00%\n"
          ]
        },
        {
          "name": "stderr",
          "output_type": "stream",
          "text": [
            "Calculating Hit Percentages:   4%|▍         | 47/1136 [01:36<37:18,  2.06s/user]"
          ]
        },
        {
          "name": "stdout",
          "output_type": "stream",
          "text": [
            "Current Average Hit Percentage: 29.79%\n"
          ]
        },
        {
          "name": "stderr",
          "output_type": "stream",
          "text": [
            "Calculating Hit Percentages:   4%|▍         | 48/1136 [01:38<37:13,  2.05s/user]"
          ]
        },
        {
          "name": "stdout",
          "output_type": "stream",
          "text": [
            "Current Average Hit Percentage: 30.00%\n"
          ]
        },
        {
          "name": "stderr",
          "output_type": "stream",
          "text": [
            "Calculating Hit Percentages:   4%|▍         | 49/1136 [01:40<37:07,  2.05s/user]"
          ]
        },
        {
          "name": "stdout",
          "output_type": "stream",
          "text": [
            "Current Average Hit Percentage: 30.00%\n"
          ]
        },
        {
          "name": "stderr",
          "output_type": "stream",
          "text": [
            "Calculating Hit Percentages:   4%|▍         | 50/1136 [01:42<37:01,  2.05s/user]"
          ]
        },
        {
          "name": "stdout",
          "output_type": "stream",
          "text": [
            "Current Average Hit Percentage: 30.00%\n"
          ]
        },
        {
          "name": "stderr",
          "output_type": "stream",
          "text": [
            "Calculating Hit Percentages:   4%|▍         | 51/1136 [01:44<36:56,  2.04s/user]"
          ]
        },
        {
          "name": "stdout",
          "output_type": "stream",
          "text": [
            "Current Average Hit Percentage: 29.80%\n"
          ]
        },
        {
          "name": "stderr",
          "output_type": "stream",
          "text": [
            "Calculating Hit Percentages:   5%|▍         | 52/1136 [01:46<36:52,  2.04s/user]"
          ]
        },
        {
          "name": "stdout",
          "output_type": "stream",
          "text": [
            "Current Average Hit Percentage: 29.62%\n"
          ]
        },
        {
          "name": "stderr",
          "output_type": "stream",
          "text": [
            "Calculating Hit Percentages:   5%|▍         | 53/1136 [01:48<36:49,  2.04s/user]"
          ]
        },
        {
          "name": "stdout",
          "output_type": "stream",
          "text": [
            "Current Average Hit Percentage: 29.81%\n"
          ]
        },
        {
          "name": "stderr",
          "output_type": "stream",
          "text": [
            "Calculating Hit Percentages:   5%|▍         | 54/1136 [01:50<37:14,  2.06s/user]"
          ]
        },
        {
          "name": "stdout",
          "output_type": "stream",
          "text": [
            "Current Average Hit Percentage: 30.19%\n"
          ]
        },
        {
          "name": "stderr",
          "output_type": "stream",
          "text": [
            "Calculating Hit Percentages:   5%|▍         | 55/1136 [01:53<37:18,  2.07s/user]"
          ]
        },
        {
          "name": "stdout",
          "output_type": "stream",
          "text": [
            "Current Average Hit Percentage: 30.36%\n"
          ]
        },
        {
          "name": "stderr",
          "output_type": "stream",
          "text": [
            "Calculating Hit Percentages:   5%|▍         | 56/1136 [01:55<37:14,  2.07s/user]"
          ]
        },
        {
          "name": "stdout",
          "output_type": "stream",
          "text": [
            "Current Average Hit Percentage: 30.36%\n"
          ]
        },
        {
          "name": "stderr",
          "output_type": "stream",
          "text": [
            "Calculating Hit Percentages:   5%|▌         | 57/1136 [01:57<37:03,  2.06s/user]"
          ]
        },
        {
          "name": "stdout",
          "output_type": "stream",
          "text": [
            "Current Average Hit Percentage: 30.70%\n"
          ]
        },
        {
          "name": "stderr",
          "output_type": "stream",
          "text": [
            "Calculating Hit Percentages:   5%|▌         | 58/1136 [01:59<36:53,  2.05s/user]"
          ]
        },
        {
          "name": "stdout",
          "output_type": "stream",
          "text": [
            "Current Average Hit Percentage: 30.69%\n"
          ]
        },
        {
          "name": "stderr",
          "output_type": "stream",
          "text": [
            "Calculating Hit Percentages:   5%|▌         | 59/1136 [02:01<36:50,  2.05s/user]"
          ]
        },
        {
          "name": "stdout",
          "output_type": "stream",
          "text": [
            "Current Average Hit Percentage: 31.02%\n"
          ]
        },
        {
          "name": "stderr",
          "output_type": "stream",
          "text": [
            "Calculating Hit Percentages:   5%|▌         | 60/1136 [02:03<36:49,  2.05s/user]"
          ]
        },
        {
          "name": "stdout",
          "output_type": "stream",
          "text": [
            "Current Average Hit Percentage: 31.17%\n"
          ]
        },
        {
          "name": "stderr",
          "output_type": "stream",
          "text": [
            "Calculating Hit Percentages:   5%|▌         | 61/1136 [02:05<36:53,  2.06s/user]"
          ]
        },
        {
          "name": "stdout",
          "output_type": "stream",
          "text": [
            "Current Average Hit Percentage: 31.15%\n"
          ]
        },
        {
          "name": "stderr",
          "output_type": "stream",
          "text": [
            "Calculating Hit Percentages:   5%|▌         | 62/1136 [02:07<36:51,  2.06s/user]"
          ]
        },
        {
          "name": "stdout",
          "output_type": "stream",
          "text": [
            "Current Average Hit Percentage: 30.97%\n"
          ]
        },
        {
          "name": "stderr",
          "output_type": "stream",
          "text": [
            "Calculating Hit Percentages:   6%|▌         | 63/1136 [02:09<36:45,  2.06s/user]"
          ]
        },
        {
          "name": "stdout",
          "output_type": "stream",
          "text": [
            "Current Average Hit Percentage: 31.11%\n"
          ]
        },
        {
          "name": "stderr",
          "output_type": "stream",
          "text": [
            "Calculating Hit Percentages:   6%|▌         | 64/1136 [02:11<36:41,  2.05s/user]"
          ]
        },
        {
          "name": "stdout",
          "output_type": "stream",
          "text": [
            "Current Average Hit Percentage: 31.09%\n"
          ]
        },
        {
          "name": "stderr",
          "output_type": "stream",
          "text": [
            "Calculating Hit Percentages:   6%|▌         | 65/1136 [02:13<36:35,  2.05s/user]"
          ]
        },
        {
          "name": "stdout",
          "output_type": "stream",
          "text": [
            "Current Average Hit Percentage: 30.92%\n"
          ]
        },
        {
          "name": "stderr",
          "output_type": "stream",
          "text": [
            "Calculating Hit Percentages:   6%|▌         | 66/1136 [02:15<36:31,  2.05s/user]"
          ]
        },
        {
          "name": "stdout",
          "output_type": "stream",
          "text": [
            "Current Average Hit Percentage: 30.76%\n"
          ]
        },
        {
          "name": "stderr",
          "output_type": "stream",
          "text": [
            "Calculating Hit Percentages:   6%|▌         | 67/1136 [02:17<36:33,  2.05s/user]"
          ]
        },
        {
          "name": "stdout",
          "output_type": "stream",
          "text": [
            "Current Average Hit Percentage: 30.60%\n"
          ]
        },
        {
          "name": "stderr",
          "output_type": "stream",
          "text": [
            "Calculating Hit Percentages:   6%|▌         | 68/1136 [02:19<36:41,  2.06s/user]"
          ]
        },
        {
          "name": "stdout",
          "output_type": "stream",
          "text": [
            "Current Average Hit Percentage: 30.44%\n"
          ]
        },
        {
          "name": "stderr",
          "output_type": "stream",
          "text": [
            "Calculating Hit Percentages:   6%|▌         | 69/1136 [02:21<36:39,  2.06s/user]"
          ]
        },
        {
          "name": "stdout",
          "output_type": "stream",
          "text": [
            "Current Average Hit Percentage: 30.43%\n"
          ]
        },
        {
          "name": "stderr",
          "output_type": "stream",
          "text": [
            "Calculating Hit Percentages:   6%|▌         | 70/1136 [02:23<36:31,  2.06s/user]"
          ]
        },
        {
          "name": "stdout",
          "output_type": "stream",
          "text": [
            "Current Average Hit Percentage: 30.43%\n"
          ]
        },
        {
          "name": "stderr",
          "output_type": "stream",
          "text": [
            "Calculating Hit Percentages:   6%|▋         | 71/1136 [02:25<36:20,  2.05s/user]"
          ]
        },
        {
          "name": "stdout",
          "output_type": "stream",
          "text": [
            "Current Average Hit Percentage: 30.42%\n"
          ]
        },
        {
          "name": "stderr",
          "output_type": "stream",
          "text": [
            "Calculating Hit Percentages:   6%|▋         | 72/1136 [02:27<36:14,  2.04s/user]"
          ]
        },
        {
          "name": "stdout",
          "output_type": "stream",
          "text": [
            "Current Average Hit Percentage: 30.28%\n"
          ]
        },
        {
          "name": "stderr",
          "output_type": "stream",
          "text": [
            "Calculating Hit Percentages:   6%|▋         | 73/1136 [02:29<36:10,  2.04s/user]"
          ]
        },
        {
          "name": "stdout",
          "output_type": "stream",
          "text": [
            "Current Average Hit Percentage: 30.14%\n"
          ]
        },
        {
          "name": "stderr",
          "output_type": "stream",
          "text": [
            "Calculating Hit Percentages:   7%|▋         | 74/1136 [02:32<36:24,  2.06s/user]"
          ]
        },
        {
          "name": "stdout",
          "output_type": "stream",
          "text": [
            "Current Average Hit Percentage: 30.00%\n"
          ]
        },
        {
          "name": "stderr",
          "output_type": "stream",
          "text": [
            "Calculating Hit Percentages:   7%|▋         | 75/1136 [02:34<36:26,  2.06s/user]"
          ]
        },
        {
          "name": "stdout",
          "output_type": "stream",
          "text": [
            "Current Average Hit Percentage: 30.00%\n"
          ]
        },
        {
          "name": "stderr",
          "output_type": "stream",
          "text": [
            "Calculating Hit Percentages:   7%|▋         | 76/1136 [02:36<36:15,  2.05s/user]"
          ]
        },
        {
          "name": "stdout",
          "output_type": "stream",
          "text": [
            "Current Average Hit Percentage: 30.00%\n"
          ]
        },
        {
          "name": "stderr",
          "output_type": "stream",
          "text": [
            "Calculating Hit Percentages:   7%|▋         | 77/1136 [02:38<36:11,  2.05s/user]"
          ]
        },
        {
          "name": "stdout",
          "output_type": "stream",
          "text": [
            "Current Average Hit Percentage: 30.00%\n"
          ]
        },
        {
          "name": "stderr",
          "output_type": "stream",
          "text": [
            "Calculating Hit Percentages:   7%|▋         | 78/1136 [02:40<36:08,  2.05s/user]"
          ]
        },
        {
          "name": "stdout",
          "output_type": "stream",
          "text": [
            "Current Average Hit Percentage: 30.13%\n"
          ]
        },
        {
          "name": "stderr",
          "output_type": "stream",
          "text": [
            "Calculating Hit Percentages:   7%|▋         | 79/1136 [02:42<36:00,  2.04s/user]"
          ]
        },
        {
          "name": "stdout",
          "output_type": "stream",
          "text": [
            "Current Average Hit Percentage: 30.38%\n"
          ]
        },
        {
          "name": "stderr",
          "output_type": "stream",
          "text": [
            "Calculating Hit Percentages:   7%|▋         | 80/1136 [02:44<35:59,  2.04s/user]"
          ]
        },
        {
          "name": "stdout",
          "output_type": "stream",
          "text": [
            "Current Average Hit Percentage: 30.25%\n"
          ]
        },
        {
          "name": "stderr",
          "output_type": "stream",
          "text": [
            "Calculating Hit Percentages:   7%|▋         | 81/1136 [02:46<36:17,  2.06s/user]"
          ]
        },
        {
          "name": "stdout",
          "output_type": "stream",
          "text": [
            "Current Average Hit Percentage: 30.25%\n"
          ]
        },
        {
          "name": "stderr",
          "output_type": "stream",
          "text": [
            "Calculating Hit Percentages:   7%|▋         | 82/1136 [02:48<36:11,  2.06s/user]"
          ]
        },
        {
          "name": "stdout",
          "output_type": "stream",
          "text": [
            "Current Average Hit Percentage: 30.12%\n"
          ]
        },
        {
          "name": "stderr",
          "output_type": "stream",
          "text": [
            "Calculating Hit Percentages:   7%|▋         | 83/1136 [02:50<35:58,  2.05s/user]"
          ]
        },
        {
          "name": "stdout",
          "output_type": "stream",
          "text": [
            "Current Average Hit Percentage: 30.00%\n"
          ]
        },
        {
          "name": "stderr",
          "output_type": "stream",
          "text": [
            "Calculating Hit Percentages:   7%|▋         | 84/1136 [02:52<35:55,  2.05s/user]"
          ]
        },
        {
          "name": "stdout",
          "output_type": "stream",
          "text": [
            "Current Average Hit Percentage: 30.00%\n"
          ]
        },
        {
          "name": "stderr",
          "output_type": "stream",
          "text": [
            "Calculating Hit Percentages:   7%|▋         | 85/1136 [02:54<35:49,  2.04s/user]"
          ]
        },
        {
          "name": "stdout",
          "output_type": "stream",
          "text": [
            "Current Average Hit Percentage: 30.12%\n"
          ]
        },
        {
          "name": "stderr",
          "output_type": "stream",
          "text": [
            "Calculating Hit Percentages:   8%|▊         | 86/1136 [02:56<35:48,  2.05s/user]"
          ]
        },
        {
          "name": "stdout",
          "output_type": "stream",
          "text": [
            "Current Average Hit Percentage: 30.00%\n"
          ]
        },
        {
          "name": "stderr",
          "output_type": "stream",
          "text": [
            "Calculating Hit Percentages:   8%|▊         | 87/1136 [02:58<35:49,  2.05s/user]"
          ]
        },
        {
          "name": "stdout",
          "output_type": "stream",
          "text": [
            "Current Average Hit Percentage: 30.11%\n"
          ]
        },
        {
          "name": "stderr",
          "output_type": "stream",
          "text": [
            "Calculating Hit Percentages:   8%|▊         | 88/1136 [03:00<36:03,  2.06s/user]"
          ]
        },
        {
          "name": "stdout",
          "output_type": "stream",
          "text": [
            "Current Average Hit Percentage: 30.11%\n"
          ]
        },
        {
          "name": "stderr",
          "output_type": "stream",
          "text": [
            "Calculating Hit Percentages:   8%|▊         | 89/1136 [03:02<35:57,  2.06s/user]"
          ]
        },
        {
          "name": "stdout",
          "output_type": "stream",
          "text": [
            "Current Average Hit Percentage: 30.11%\n"
          ]
        },
        {
          "name": "stderr",
          "output_type": "stream",
          "text": [
            "Calculating Hit Percentages:   8%|▊         | 90/1136 [03:04<35:49,  2.06s/user]"
          ]
        },
        {
          "name": "stdout",
          "output_type": "stream",
          "text": [
            "Current Average Hit Percentage: 30.33%\n"
          ]
        },
        {
          "name": "stderr",
          "output_type": "stream",
          "text": [
            "Calculating Hit Percentages:   8%|▊         | 91/1136 [03:06<35:45,  2.05s/user]"
          ]
        },
        {
          "name": "stdout",
          "output_type": "stream",
          "text": [
            "Current Average Hit Percentage: 30.33%\n"
          ]
        },
        {
          "name": "stderr",
          "output_type": "stream",
          "text": [
            "Calculating Hit Percentages:   8%|▊         | 92/1136 [03:08<35:39,  2.05s/user]"
          ]
        },
        {
          "name": "stdout",
          "output_type": "stream",
          "text": [
            "Current Average Hit Percentage: 30.33%\n"
          ]
        },
        {
          "name": "stderr",
          "output_type": "stream",
          "text": [
            "Calculating Hit Percentages:   8%|▊         | 93/1136 [03:10<35:31,  2.04s/user]"
          ]
        },
        {
          "name": "stdout",
          "output_type": "stream",
          "text": [
            "Current Average Hit Percentage: 30.43%\n"
          ]
        },
        {
          "name": "stderr",
          "output_type": "stream",
          "text": [
            "Calculating Hit Percentages:   8%|▊         | 94/1136 [03:13<35:42,  2.06s/user]"
          ]
        },
        {
          "name": "stdout",
          "output_type": "stream",
          "text": [
            "Current Average Hit Percentage: 30.32%\n"
          ]
        },
        {
          "name": "stderr",
          "output_type": "stream",
          "text": [
            "Calculating Hit Percentages:   8%|▊         | 95/1136 [03:15<35:40,  2.06s/user]"
          ]
        },
        {
          "name": "stdout",
          "output_type": "stream",
          "text": [
            "Current Average Hit Percentage: 30.32%\n"
          ]
        },
        {
          "name": "stderr",
          "output_type": "stream",
          "text": [
            "Calculating Hit Percentages:   8%|▊         | 96/1136 [03:17<35:36,  2.05s/user]"
          ]
        },
        {
          "name": "stdout",
          "output_type": "stream",
          "text": [
            "Current Average Hit Percentage: 30.31%\n"
          ]
        },
        {
          "name": "stderr",
          "output_type": "stream",
          "text": [
            "Calculating Hit Percentages:   9%|▊         | 97/1136 [03:19<35:26,  2.05s/user]"
          ]
        },
        {
          "name": "stdout",
          "output_type": "stream",
          "text": [
            "Current Average Hit Percentage: 30.21%\n"
          ]
        },
        {
          "name": "stderr",
          "output_type": "stream",
          "text": [
            "Calculating Hit Percentages:   9%|▊         | 98/1136 [03:21<35:30,  2.05s/user]"
          ]
        },
        {
          "name": "stdout",
          "output_type": "stream",
          "text": [
            "Current Average Hit Percentage: 30.10%\n"
          ]
        },
        {
          "name": "stderr",
          "output_type": "stream",
          "text": [
            "Calculating Hit Percentages:   9%|▊         | 99/1136 [03:23<35:26,  2.05s/user]"
          ]
        },
        {
          "name": "stdout",
          "output_type": "stream",
          "text": [
            "Current Average Hit Percentage: 30.20%\n"
          ]
        },
        {
          "name": "stderr",
          "output_type": "stream",
          "text": [
            "Calculating Hit Percentages:   9%|▉         | 100/1136 [03:25<35:19,  2.05s/user]"
          ]
        },
        {
          "name": "stdout",
          "output_type": "stream",
          "text": [
            "Current Average Hit Percentage: 30.10%\n"
          ]
        },
        {
          "name": "stderr",
          "output_type": "stream",
          "text": [
            "Calculating Hit Percentages:   9%|▉         | 101/1136 [03:27<35:29,  2.06s/user]"
          ]
        },
        {
          "name": "stdout",
          "output_type": "stream",
          "text": [
            "Current Average Hit Percentage: 30.10%\n"
          ]
        },
        {
          "name": "stderr",
          "output_type": "stream",
          "text": [
            "Calculating Hit Percentages:   9%|▉         | 102/1136 [03:29<35:30,  2.06s/user]"
          ]
        },
        {
          "name": "stdout",
          "output_type": "stream",
          "text": [
            "Current Average Hit Percentage: 30.20%\n"
          ]
        },
        {
          "name": "stderr",
          "output_type": "stream",
          "text": [
            "Calculating Hit Percentages:   9%|▉         | 103/1136 [03:31<35:22,  2.05s/user]"
          ]
        },
        {
          "name": "stdout",
          "output_type": "stream",
          "text": [
            "Current Average Hit Percentage: 30.10%\n"
          ]
        },
        {
          "name": "stderr",
          "output_type": "stream",
          "text": [
            "Calculating Hit Percentages:   9%|▉         | 104/1136 [03:33<35:20,  2.06s/user]"
          ]
        },
        {
          "name": "stdout",
          "output_type": "stream",
          "text": [
            "Current Average Hit Percentage: 30.00%\n"
          ]
        },
        {
          "name": "stderr",
          "output_type": "stream",
          "text": [
            "Calculating Hit Percentages:   9%|▉         | 105/1136 [03:35<35:12,  2.05s/user]"
          ]
        },
        {
          "name": "stdout",
          "output_type": "stream",
          "text": [
            "Current Average Hit Percentage: 29.90%\n"
          ]
        },
        {
          "name": "stderr",
          "output_type": "stream",
          "text": [
            "Calculating Hit Percentages:   9%|▉         | 106/1136 [03:37<35:12,  2.05s/user]"
          ]
        },
        {
          "name": "stdout",
          "output_type": "stream",
          "text": [
            "Current Average Hit Percentage: 30.00%\n"
          ]
        },
        {
          "name": "stderr",
          "output_type": "stream",
          "text": [
            "Calculating Hit Percentages:   9%|▉         | 107/1136 [03:39<35:11,  2.05s/user]"
          ]
        },
        {
          "name": "stdout",
          "output_type": "stream",
          "text": [
            "Current Average Hit Percentage: 30.19%\n"
          ]
        },
        {
          "name": "stderr",
          "output_type": "stream",
          "text": [
            "Calculating Hit Percentages:  10%|▉         | 108/1136 [03:41<35:23,  2.07s/user]"
          ]
        },
        {
          "name": "stdout",
          "output_type": "stream",
          "text": [
            "Current Average Hit Percentage: 30.09%\n"
          ]
        },
        {
          "name": "stderr",
          "output_type": "stream",
          "text": [
            "Calculating Hit Percentages:  10%|▉         | 109/1136 [03:43<35:16,  2.06s/user]"
          ]
        },
        {
          "name": "stdout",
          "output_type": "stream",
          "text": [
            "Current Average Hit Percentage: 30.00%\n"
          ]
        },
        {
          "name": "stderr",
          "output_type": "stream",
          "text": [
            "Calculating Hit Percentages:  10%|▉         | 110/1136 [03:45<35:08,  2.06s/user]"
          ]
        },
        {
          "name": "stdout",
          "output_type": "stream",
          "text": [
            "Current Average Hit Percentage: 30.09%\n"
          ]
        },
        {
          "name": "stderr",
          "output_type": "stream",
          "text": [
            "Calculating Hit Percentages:  10%|▉         | 111/1136 [03:47<35:01,  2.05s/user]"
          ]
        },
        {
          "name": "stdout",
          "output_type": "stream",
          "text": [
            "Current Average Hit Percentage: 30.27%\n"
          ]
        },
        {
          "name": "stderr",
          "output_type": "stream",
          "text": [
            "Calculating Hit Percentages:  10%|▉         | 112/1136 [03:49<34:51,  2.04s/user]"
          ]
        },
        {
          "name": "stdout",
          "output_type": "stream",
          "text": [
            "Current Average Hit Percentage: 30.18%\n"
          ]
        },
        {
          "name": "stderr",
          "output_type": "stream",
          "text": [
            "Calculating Hit Percentages:  10%|▉         | 113/1136 [03:52<34:49,  2.04s/user]"
          ]
        },
        {
          "name": "stdout",
          "output_type": "stream",
          "text": [
            "Current Average Hit Percentage: 30.27%\n"
          ]
        },
        {
          "name": "stderr",
          "output_type": "stream",
          "text": [
            "Calculating Hit Percentages:  10%|█         | 114/1136 [03:54<35:01,  2.06s/user]"
          ]
        },
        {
          "name": "stdout",
          "output_type": "stream",
          "text": [
            "Current Average Hit Percentage: 30.18%\n"
          ]
        },
        {
          "name": "stderr",
          "output_type": "stream",
          "text": [
            "Calculating Hit Percentages:  10%|█         | 115/1136 [03:56<35:05,  2.06s/user]"
          ]
        },
        {
          "name": "stdout",
          "output_type": "stream",
          "text": [
            "Current Average Hit Percentage: 30.09%\n"
          ]
        },
        {
          "name": "stderr",
          "output_type": "stream",
          "text": [
            "Calculating Hit Percentages:  10%|█         | 116/1136 [03:58<35:02,  2.06s/user]"
          ]
        },
        {
          "name": "stdout",
          "output_type": "stream",
          "text": [
            "Current Average Hit Percentage: 30.26%\n"
          ]
        },
        {
          "name": "stderr",
          "output_type": "stream",
          "text": [
            "Calculating Hit Percentages:  10%|█         | 117/1136 [04:00<34:52,  2.05s/user]"
          ]
        },
        {
          "name": "stdout",
          "output_type": "stream",
          "text": [
            "Current Average Hit Percentage: 30.17%\n"
          ]
        },
        {
          "name": "stderr",
          "output_type": "stream",
          "text": [
            "Calculating Hit Percentages:  10%|█         | 118/1136 [04:02<34:48,  2.05s/user]"
          ]
        },
        {
          "name": "stdout",
          "output_type": "stream",
          "text": [
            "Current Average Hit Percentage: 30.34%\n"
          ]
        },
        {
          "name": "stderr",
          "output_type": "stream",
          "text": [
            "Calculating Hit Percentages:  10%|█         | 119/1136 [04:04<34:41,  2.05s/user]"
          ]
        },
        {
          "name": "stdout",
          "output_type": "stream",
          "text": [
            "Current Average Hit Percentage: 30.42%\n"
          ]
        },
        {
          "name": "stderr",
          "output_type": "stream",
          "text": [
            "Calculating Hit Percentages:  11%|█         | 120/1136 [04:06<34:37,  2.04s/user]"
          ]
        },
        {
          "name": "stdout",
          "output_type": "stream",
          "text": [
            "Current Average Hit Percentage: 30.50%\n"
          ]
        },
        {
          "name": "stderr",
          "output_type": "stream",
          "text": [
            "Calculating Hit Percentages:  11%|█         | 121/1136 [04:08<34:47,  2.06s/user]"
          ]
        },
        {
          "name": "stdout",
          "output_type": "stream",
          "text": [
            "Current Average Hit Percentage: 30.50%\n"
          ]
        },
        {
          "name": "stderr",
          "output_type": "stream",
          "text": [
            "Calculating Hit Percentages:  11%|█         | 122/1136 [04:10<34:48,  2.06s/user]"
          ]
        },
        {
          "name": "stdout",
          "output_type": "stream",
          "text": [
            "Current Average Hit Percentage: 30.41%\n"
          ]
        },
        {
          "name": "stderr",
          "output_type": "stream",
          "text": [
            "Calculating Hit Percentages:  11%|█         | 123/1136 [04:12<34:40,  2.05s/user]"
          ]
        },
        {
          "name": "stdout",
          "output_type": "stream",
          "text": [
            "Current Average Hit Percentage: 30.33%\n"
          ]
        },
        {
          "name": "stderr",
          "output_type": "stream",
          "text": [
            "Calculating Hit Percentages:  11%|█         | 124/1136 [04:14<34:31,  2.05s/user]"
          ]
        },
        {
          "name": "stdout",
          "output_type": "stream",
          "text": [
            "Current Average Hit Percentage: 30.24%\n"
          ]
        },
        {
          "name": "stderr",
          "output_type": "stream",
          "text": [
            "Calculating Hit Percentages:  11%|█         | 125/1136 [04:16<34:28,  2.05s/user]"
          ]
        },
        {
          "name": "stdout",
          "output_type": "stream",
          "text": [
            "Current Average Hit Percentage: 30.32%\n"
          ]
        },
        {
          "name": "stderr",
          "output_type": "stream",
          "text": [
            "Calculating Hit Percentages:  11%|█         | 126/1136 [04:18<34:21,  2.04s/user]"
          ]
        },
        {
          "name": "stdout",
          "output_type": "stream",
          "text": [
            "Current Average Hit Percentage: 30.32%\n"
          ]
        },
        {
          "name": "stderr",
          "output_type": "stream",
          "text": [
            "Calculating Hit Percentages:  11%|█         | 127/1136 [04:20<34:25,  2.05s/user]"
          ]
        },
        {
          "name": "stdout",
          "output_type": "stream",
          "text": [
            "Current Average Hit Percentage: 30.31%\n"
          ]
        },
        {
          "name": "stderr",
          "output_type": "stream",
          "text": [
            "Calculating Hit Percentages:  11%|█▏        | 128/1136 [04:22<34:39,  2.06s/user]"
          ]
        },
        {
          "name": "stdout",
          "output_type": "stream",
          "text": [
            "Current Average Hit Percentage: 30.31%\n"
          ]
        },
        {
          "name": "stderr",
          "output_type": "stream",
          "text": [
            "Calculating Hit Percentages:  11%|█▏        | 129/1136 [04:24<34:35,  2.06s/user]"
          ]
        },
        {
          "name": "stdout",
          "output_type": "stream",
          "text": [
            "Current Average Hit Percentage: 30.23%\n"
          ]
        },
        {
          "name": "stderr",
          "output_type": "stream",
          "text": [
            "Calculating Hit Percentages:  11%|█▏        | 130/1136 [04:26<34:26,  2.05s/user]"
          ]
        },
        {
          "name": "stdout",
          "output_type": "stream",
          "text": [
            "Current Average Hit Percentage: 30.15%\n"
          ]
        },
        {
          "name": "stderr",
          "output_type": "stream",
          "text": [
            "Calculating Hit Percentages:  12%|█▏        | 131/1136 [04:28<34:18,  2.05s/user]"
          ]
        },
        {
          "name": "stdout",
          "output_type": "stream",
          "text": [
            "Current Average Hit Percentage: 30.08%\n"
          ]
        },
        {
          "name": "stderr",
          "output_type": "stream",
          "text": [
            "Calculating Hit Percentages:  12%|█▏        | 132/1136 [04:31<34:11,  2.04s/user]"
          ]
        },
        {
          "name": "stdout",
          "output_type": "stream",
          "text": [
            "Current Average Hit Percentage: 30.08%\n"
          ]
        },
        {
          "name": "stderr",
          "output_type": "stream",
          "text": [
            "Calculating Hit Percentages:  12%|█▏        | 133/1136 [04:33<34:09,  2.04s/user]"
          ]
        },
        {
          "name": "stdout",
          "output_type": "stream",
          "text": [
            "Current Average Hit Percentage: 30.08%\n"
          ]
        },
        {
          "name": "stderr",
          "output_type": "stream",
          "text": [
            "Calculating Hit Percentages:  12%|█▏        | 134/1136 [04:35<34:10,  2.05s/user]"
          ]
        },
        {
          "name": "stdout",
          "output_type": "stream",
          "text": [
            "Current Average Hit Percentage: 30.00%\n"
          ]
        },
        {
          "name": "stderr",
          "output_type": "stream",
          "text": [
            "Calculating Hit Percentages:  12%|█▏        | 135/1136 [04:37<34:22,  2.06s/user]"
          ]
        },
        {
          "name": "stdout",
          "output_type": "stream",
          "text": [
            "Current Average Hit Percentage: 30.00%\n"
          ]
        },
        {
          "name": "stderr",
          "output_type": "stream",
          "text": [
            "Calculating Hit Percentages:  12%|█▏        | 136/1136 [04:39<34:16,  2.06s/user]"
          ]
        },
        {
          "name": "stdout",
          "output_type": "stream",
          "text": [
            "Current Average Hit Percentage: 30.00%\n"
          ]
        },
        {
          "name": "stderr",
          "output_type": "stream",
          "text": [
            "Calculating Hit Percentages:  12%|█▏        | 137/1136 [04:41<34:09,  2.05s/user]"
          ]
        },
        {
          "name": "stdout",
          "output_type": "stream",
          "text": [
            "Current Average Hit Percentage: 30.07%\n"
          ]
        },
        {
          "name": "stderr",
          "output_type": "stream",
          "text": [
            "Calculating Hit Percentages:  12%|█▏        | 138/1136 [04:43<34:07,  2.05s/user]"
          ]
        },
        {
          "name": "stdout",
          "output_type": "stream",
          "text": [
            "Current Average Hit Percentage: 30.00%\n"
          ]
        },
        {
          "name": "stderr",
          "output_type": "stream",
          "text": [
            "Calculating Hit Percentages:  12%|█▏        | 139/1136 [04:45<33:58,  2.04s/user]"
          ]
        },
        {
          "name": "stdout",
          "output_type": "stream",
          "text": [
            "Current Average Hit Percentage: 30.00%\n"
          ]
        },
        {
          "name": "stderr",
          "output_type": "stream",
          "text": [
            "Calculating Hit Percentages:  12%|█▏        | 140/1136 [04:47<33:54,  2.04s/user]"
          ]
        },
        {
          "name": "stdout",
          "output_type": "stream",
          "text": [
            "Current Average Hit Percentage: 29.93%\n"
          ]
        },
        {
          "name": "stderr",
          "output_type": "stream",
          "text": [
            "Calculating Hit Percentages:  12%|█▏        | 141/1136 [04:49<33:59,  2.05s/user]"
          ]
        },
        {
          "name": "stdout",
          "output_type": "stream",
          "text": [
            "Current Average Hit Percentage: 29.86%\n"
          ]
        },
        {
          "name": "stderr",
          "output_type": "stream",
          "text": [
            "Calculating Hit Percentages:  12%|█▎        | 142/1136 [04:51<34:10,  2.06s/user]"
          ]
        },
        {
          "name": "stdout",
          "output_type": "stream",
          "text": [
            "Current Average Hit Percentage: 29.79%\n"
          ]
        },
        {
          "name": "stderr",
          "output_type": "stream",
          "text": [
            "Calculating Hit Percentages:  13%|█▎        | 143/1136 [04:53<34:02,  2.06s/user]"
          ]
        },
        {
          "name": "stdout",
          "output_type": "stream",
          "text": [
            "Current Average Hit Percentage: 29.93%\n"
          ]
        },
        {
          "name": "stderr",
          "output_type": "stream",
          "text": [
            "Calculating Hit Percentages:  13%|█▎        | 144/1136 [04:55<33:55,  2.05s/user]"
          ]
        },
        {
          "name": "stdout",
          "output_type": "stream",
          "text": [
            "Current Average Hit Percentage: 29.93%\n"
          ]
        },
        {
          "name": "stderr",
          "output_type": "stream",
          "text": [
            "Calculating Hit Percentages:  13%|█▎        | 145/1136 [04:57<33:52,  2.05s/user]"
          ]
        },
        {
          "name": "stdout",
          "output_type": "stream",
          "text": [
            "Current Average Hit Percentage: 29.93%\n"
          ]
        },
        {
          "name": "stderr",
          "output_type": "stream",
          "text": [
            "Calculating Hit Percentages:  13%|█▎        | 146/1136 [04:59<33:47,  2.05s/user]"
          ]
        },
        {
          "name": "stdout",
          "output_type": "stream",
          "text": [
            "Current Average Hit Percentage: 29.86%\n"
          ]
        },
        {
          "name": "stderr",
          "output_type": "stream",
          "text": [
            "Calculating Hit Percentages:  13%|█▎        | 147/1136 [05:01<33:46,  2.05s/user]"
          ]
        },
        {
          "name": "stdout",
          "output_type": "stream",
          "text": [
            "Current Average Hit Percentage: 29.86%\n"
          ]
        },
        {
          "name": "stderr",
          "output_type": "stream",
          "text": [
            "Calculating Hit Percentages:  13%|█▎        | 148/1136 [05:03<34:06,  2.07s/user]"
          ]
        },
        {
          "name": "stdout",
          "output_type": "stream",
          "text": [
            "Current Average Hit Percentage: 29.86%\n"
          ]
        },
        {
          "name": "stderr",
          "output_type": "stream",
          "text": [
            "Calculating Hit Percentages:  13%|█▎        | 149/1136 [05:05<34:02,  2.07s/user]"
          ]
        },
        {
          "name": "stdout",
          "output_type": "stream",
          "text": [
            "Current Average Hit Percentage: 29.93%\n"
          ]
        },
        {
          "name": "stderr",
          "output_type": "stream",
          "text": [
            "Calculating Hit Percentages:  13%|█▎        | 150/1136 [05:08<33:54,  2.06s/user]"
          ]
        },
        {
          "name": "stdout",
          "output_type": "stream",
          "text": [
            "Current Average Hit Percentage: 30.13%\n"
          ]
        },
        {
          "name": "stderr",
          "output_type": "stream",
          "text": [
            "Calculating Hit Percentages:  13%|█▎        | 151/1136 [05:10<33:45,  2.06s/user]"
          ]
        },
        {
          "name": "stdout",
          "output_type": "stream",
          "text": [
            "Current Average Hit Percentage: 30.13%\n"
          ]
        },
        {
          "name": "stderr",
          "output_type": "stream",
          "text": [
            "Calculating Hit Percentages:  13%|█▎        | 152/1136 [05:12<33:38,  2.05s/user]"
          ]
        },
        {
          "name": "stdout",
          "output_type": "stream",
          "text": [
            "Current Average Hit Percentage: 30.26%\n"
          ]
        },
        {
          "name": "stderr",
          "output_type": "stream",
          "text": [
            "Calculating Hit Percentages:  13%|█▎        | 153/1136 [05:14<33:34,  2.05s/user]"
          ]
        },
        {
          "name": "stdout",
          "output_type": "stream",
          "text": [
            "Current Average Hit Percentage: 30.33%\n"
          ]
        },
        {
          "name": "stderr",
          "output_type": "stream",
          "text": [
            "Calculating Hit Percentages:  14%|█▎        | 154/1136 [05:16<33:36,  2.05s/user]"
          ]
        },
        {
          "name": "stdout",
          "output_type": "stream",
          "text": [
            "Current Average Hit Percentage: 30.32%\n"
          ]
        },
        {
          "name": "stderr",
          "output_type": "stream",
          "text": [
            "Calculating Hit Percentages:  14%|█▎        | 155/1136 [05:18<33:42,  2.06s/user]"
          ]
        },
        {
          "name": "stdout",
          "output_type": "stream",
          "text": [
            "Current Average Hit Percentage: 30.26%\n"
          ]
        },
        {
          "name": "stderr",
          "output_type": "stream",
          "text": [
            "Calculating Hit Percentages:  14%|█▎        | 156/1136 [05:20<33:36,  2.06s/user]"
          ]
        },
        {
          "name": "stdout",
          "output_type": "stream",
          "text": [
            "Current Average Hit Percentage: 30.26%\n"
          ]
        },
        {
          "name": "stderr",
          "output_type": "stream",
          "text": [
            "Calculating Hit Percentages:  14%|█▍        | 157/1136 [05:22<33:31,  2.05s/user]"
          ]
        },
        {
          "name": "stdout",
          "output_type": "stream",
          "text": [
            "Current Average Hit Percentage: 30.19%\n"
          ]
        },
        {
          "name": "stderr",
          "output_type": "stream",
          "text": [
            "Calculating Hit Percentages:  14%|█▍        | 158/1136 [05:24<33:24,  2.05s/user]"
          ]
        },
        {
          "name": "stdout",
          "output_type": "stream",
          "text": [
            "Current Average Hit Percentage: 30.25%\n"
          ]
        },
        {
          "name": "stderr",
          "output_type": "stream",
          "text": [
            "Calculating Hit Percentages:  14%|█▍        | 159/1136 [05:26<33:16,  2.04s/user]"
          ]
        },
        {
          "name": "stdout",
          "output_type": "stream",
          "text": [
            "Current Average Hit Percentage: 30.25%\n"
          ]
        },
        {
          "name": "stderr",
          "output_type": "stream",
          "text": [
            "Calculating Hit Percentages:  14%|█▍        | 160/1136 [05:28<33:13,  2.04s/user]"
          ]
        },
        {
          "name": "stdout",
          "output_type": "stream",
          "text": [
            "Current Average Hit Percentage: 30.19%\n"
          ]
        },
        {
          "name": "stderr",
          "output_type": "stream",
          "text": [
            "Calculating Hit Percentages:  14%|█▍        | 161/1136 [05:30<33:23,  2.06s/user]"
          ]
        },
        {
          "name": "stdout",
          "output_type": "stream",
          "text": [
            "Current Average Hit Percentage: 30.25%\n"
          ]
        },
        {
          "name": "stderr",
          "output_type": "stream",
          "text": [
            "Calculating Hit Percentages:  14%|█▍        | 162/1136 [05:32<33:29,  2.06s/user]"
          ]
        },
        {
          "name": "stdout",
          "output_type": "stream",
          "text": [
            "Current Average Hit Percentage: 30.19%\n"
          ]
        },
        {
          "name": "stderr",
          "output_type": "stream",
          "text": [
            "Calculating Hit Percentages:  14%|█▍        | 163/1136 [05:34<33:21,  2.06s/user]"
          ]
        },
        {
          "name": "stdout",
          "output_type": "stream",
          "text": [
            "Current Average Hit Percentage: 30.25%\n"
          ]
        },
        {
          "name": "stderr",
          "output_type": "stream",
          "text": [
            "Calculating Hit Percentages:  14%|█▍        | 164/1136 [05:36<33:12,  2.05s/user]"
          ]
        },
        {
          "name": "stdout",
          "output_type": "stream",
          "text": [
            "Current Average Hit Percentage: 30.24%\n"
          ]
        },
        {
          "name": "stderr",
          "output_type": "stream",
          "text": [
            "Calculating Hit Percentages:  15%|█▍        | 165/1136 [05:38<33:08,  2.05s/user]"
          ]
        },
        {
          "name": "stdout",
          "output_type": "stream",
          "text": [
            "Current Average Hit Percentage: 30.24%\n"
          ]
        },
        {
          "name": "stderr",
          "output_type": "stream",
          "text": [
            "Calculating Hit Percentages:  15%|█▍        | 166/1136 [05:40<33:03,  2.04s/user]"
          ]
        },
        {
          "name": "stdout",
          "output_type": "stream",
          "text": [
            "Current Average Hit Percentage: 30.24%\n"
          ]
        },
        {
          "name": "stderr",
          "output_type": "stream",
          "text": [
            "Calculating Hit Percentages:  15%|█▍        | 167/1136 [05:42<33:00,  2.04s/user]"
          ]
        },
        {
          "name": "stdout",
          "output_type": "stream",
          "text": [
            "Current Average Hit Percentage: 30.36%\n"
          ]
        },
        {
          "name": "stderr",
          "output_type": "stream",
          "text": [
            "Calculating Hit Percentages:  15%|█▍        | 168/1136 [05:44<33:10,  2.06s/user]"
          ]
        },
        {
          "name": "stdout",
          "output_type": "stream",
          "text": [
            "Current Average Hit Percentage: 30.36%\n"
          ]
        },
        {
          "name": "stderr",
          "output_type": "stream",
          "text": [
            "Calculating Hit Percentages:  15%|█▍        | 169/1136 [05:47<33:07,  2.06s/user]"
          ]
        },
        {
          "name": "stdout",
          "output_type": "stream",
          "text": [
            "Current Average Hit Percentage: 30.36%\n"
          ]
        },
        {
          "name": "stderr",
          "output_type": "stream",
          "text": [
            "Calculating Hit Percentages:  15%|█▍        | 170/1136 [05:49<33:02,  2.05s/user]"
          ]
        },
        {
          "name": "stdout",
          "output_type": "stream",
          "text": [
            "Current Average Hit Percentage: 30.35%\n"
          ]
        },
        {
          "name": "stderr",
          "output_type": "stream",
          "text": [
            "Calculating Hit Percentages:  15%|█▌        | 171/1136 [05:51<32:56,  2.05s/user]"
          ]
        },
        {
          "name": "stdout",
          "output_type": "stream",
          "text": [
            "Current Average Hit Percentage: 30.35%\n"
          ]
        },
        {
          "name": "stderr",
          "output_type": "stream",
          "text": [
            "Calculating Hit Percentages:  15%|█▌        | 172/1136 [05:53<32:52,  2.05s/user]"
          ]
        },
        {
          "name": "stdout",
          "output_type": "stream",
          "text": [
            "Current Average Hit Percentage: 30.35%\n"
          ]
        },
        {
          "name": "stderr",
          "output_type": "stream",
          "text": [
            "Calculating Hit Percentages:  15%|█▌        | 173/1136 [05:55<32:49,  2.04s/user]"
          ]
        },
        {
          "name": "stdout",
          "output_type": "stream",
          "text": [
            "Current Average Hit Percentage: 30.35%\n"
          ]
        },
        {
          "name": "stderr",
          "output_type": "stream",
          "text": [
            "Calculating Hit Percentages:  15%|█▌        | 174/1136 [05:57<32:47,  2.05s/user]"
          ]
        },
        {
          "name": "stdout",
          "output_type": "stream",
          "text": [
            "Current Average Hit Percentage: 30.29%\n"
          ]
        },
        {
          "name": "stderr",
          "output_type": "stream",
          "text": [
            "Calculating Hit Percentages:  15%|█▌        | 175/1136 [05:59<33:00,  2.06s/user]"
          ]
        },
        {
          "name": "stdout",
          "output_type": "stream",
          "text": [
            "Current Average Hit Percentage: 30.40%\n"
          ]
        },
        {
          "name": "stderr",
          "output_type": "stream",
          "text": [
            "Calculating Hit Percentages:  15%|█▌        | 176/1136 [06:01<32:54,  2.06s/user]"
          ]
        },
        {
          "name": "stdout",
          "output_type": "stream",
          "text": [
            "Current Average Hit Percentage: 30.34%\n"
          ]
        },
        {
          "name": "stderr",
          "output_type": "stream",
          "text": [
            "Calculating Hit Percentages:  16%|█▌        | 177/1136 [06:03<32:53,  2.06s/user]"
          ]
        },
        {
          "name": "stdout",
          "output_type": "stream",
          "text": [
            "Current Average Hit Percentage: 30.40%\n"
          ]
        },
        {
          "name": "stderr",
          "output_type": "stream",
          "text": [
            "Calculating Hit Percentages:  16%|█▌        | 178/1136 [06:05<32:46,  2.05s/user]"
          ]
        },
        {
          "name": "stdout",
          "output_type": "stream",
          "text": [
            "Current Average Hit Percentage: 30.39%\n"
          ]
        },
        {
          "name": "stderr",
          "output_type": "stream",
          "text": [
            "Calculating Hit Percentages:  16%|█▌        | 179/1136 [06:07<32:42,  2.05s/user]"
          ]
        },
        {
          "name": "stdout",
          "output_type": "stream",
          "text": [
            "Current Average Hit Percentage: 30.34%\n"
          ]
        },
        {
          "name": "stderr",
          "output_type": "stream",
          "text": [
            "Calculating Hit Percentages:  16%|█▌        | 180/1136 [06:09<32:37,  2.05s/user]"
          ]
        },
        {
          "name": "stdout",
          "output_type": "stream",
          "text": [
            "Current Average Hit Percentage: 30.28%\n"
          ]
        },
        {
          "name": "stderr",
          "output_type": "stream",
          "text": [
            "Calculating Hit Percentages:  16%|█▌        | 181/1136 [06:11<32:39,  2.05s/user]"
          ]
        },
        {
          "name": "stdout",
          "output_type": "stream",
          "text": [
            "Current Average Hit Percentage: 30.22%\n"
          ]
        },
        {
          "name": "stderr",
          "output_type": "stream",
          "text": [
            "Calculating Hit Percentages:  16%|█▌        | 182/1136 [06:13<32:48,  2.06s/user]"
          ]
        },
        {
          "name": "stdout",
          "output_type": "stream",
          "text": [
            "Current Average Hit Percentage: 30.27%\n"
          ]
        },
        {
          "name": "stderr",
          "output_type": "stream",
          "text": [
            "Calculating Hit Percentages:  16%|█▌        | 183/1136 [06:15<32:40,  2.06s/user]"
          ]
        },
        {
          "name": "stdout",
          "output_type": "stream",
          "text": [
            "Current Average Hit Percentage: 30.22%\n"
          ]
        },
        {
          "name": "stderr",
          "output_type": "stream",
          "text": [
            "Calculating Hit Percentages:  16%|█▌        | 184/1136 [06:17<32:32,  2.05s/user]"
          ]
        },
        {
          "name": "stdout",
          "output_type": "stream",
          "text": [
            "Current Average Hit Percentage: 30.22%\n"
          ]
        },
        {
          "name": "stderr",
          "output_type": "stream",
          "text": [
            "Calculating Hit Percentages:  16%|█▋        | 185/1136 [06:19<32:26,  2.05s/user]"
          ]
        },
        {
          "name": "stdout",
          "output_type": "stream",
          "text": [
            "Current Average Hit Percentage: 30.22%\n"
          ]
        },
        {
          "name": "stderr",
          "output_type": "stream",
          "text": [
            "Calculating Hit Percentages:  16%|█▋        | 186/1136 [06:21<32:30,  2.05s/user]"
          ]
        },
        {
          "name": "stdout",
          "output_type": "stream",
          "text": [
            "Current Average Hit Percentage: 30.22%\n"
          ]
        },
        {
          "name": "stderr",
          "output_type": "stream",
          "text": [
            "Calculating Hit Percentages:  16%|█▋        | 187/1136 [06:23<32:23,  2.05s/user]"
          ]
        },
        {
          "name": "stdout",
          "output_type": "stream",
          "text": [
            "Current Average Hit Percentage: 30.21%\n"
          ]
        },
        {
          "name": "stderr",
          "output_type": "stream",
          "text": [
            "Calculating Hit Percentages:  17%|█▋        | 188/1136 [06:26<32:28,  2.06s/user]"
          ]
        },
        {
          "name": "stdout",
          "output_type": "stream",
          "text": [
            "Current Average Hit Percentage: 30.21%\n"
          ]
        },
        {
          "name": "stderr",
          "output_type": "stream",
          "text": [
            "Calculating Hit Percentages:  17%|█▋        | 189/1136 [06:28<32:34,  2.06s/user]"
          ]
        },
        {
          "name": "stdout",
          "output_type": "stream",
          "text": [
            "Current Average Hit Percentage: 30.26%\n"
          ]
        },
        {
          "name": "stderr",
          "output_type": "stream",
          "text": [
            "Calculating Hit Percentages:  17%|█▋        | 190/1136 [06:30<32:24,  2.06s/user]"
          ]
        },
        {
          "name": "stdout",
          "output_type": "stream",
          "text": [
            "Current Average Hit Percentage: 30.21%\n"
          ]
        },
        {
          "name": "stderr",
          "output_type": "stream",
          "text": [
            "Calculating Hit Percentages:  17%|█▋        | 191/1136 [06:32<32:18,  2.05s/user]"
          ]
        },
        {
          "name": "stdout",
          "output_type": "stream",
          "text": [
            "Current Average Hit Percentage: 30.26%\n"
          ]
        },
        {
          "name": "stderr",
          "output_type": "stream",
          "text": [
            "Calculating Hit Percentages:  17%|█▋        | 192/1136 [06:34<32:15,  2.05s/user]"
          ]
        },
        {
          "name": "stdout",
          "output_type": "stream",
          "text": [
            "Current Average Hit Percentage: 30.26%\n"
          ]
        },
        {
          "name": "stderr",
          "output_type": "stream",
          "text": [
            "Calculating Hit Percentages:  17%|█▋        | 193/1136 [06:36<32:11,  2.05s/user]"
          ]
        },
        {
          "name": "stdout",
          "output_type": "stream",
          "text": [
            "Current Average Hit Percentage: 30.26%\n"
          ]
        },
        {
          "name": "stderr",
          "output_type": "stream",
          "text": [
            "Calculating Hit Percentages:  17%|█▋        | 194/1136 [06:38<32:11,  2.05s/user]"
          ]
        },
        {
          "name": "stdout",
          "output_type": "stream",
          "text": [
            "Current Average Hit Percentage: 30.21%\n"
          ]
        },
        {
          "name": "stderr",
          "output_type": "stream",
          "text": [
            "Calculating Hit Percentages:  17%|█▋        | 195/1136 [06:40<32:16,  2.06s/user]"
          ]
        },
        {
          "name": "stdout",
          "output_type": "stream",
          "text": [
            "Current Average Hit Percentage: 30.21%\n"
          ]
        },
        {
          "name": "stderr",
          "output_type": "stream",
          "text": [
            "Calculating Hit Percentages:  17%|█▋        | 196/1136 [06:42<32:16,  2.06s/user]"
          ]
        },
        {
          "name": "stdout",
          "output_type": "stream",
          "text": [
            "Current Average Hit Percentage: 30.26%\n"
          ]
        },
        {
          "name": "stderr",
          "output_type": "stream",
          "text": [
            "Calculating Hit Percentages:  17%|█▋        | 197/1136 [06:44<32:07,  2.05s/user]"
          ]
        },
        {
          "name": "stdout",
          "output_type": "stream",
          "text": [
            "Current Average Hit Percentage: 30.25%\n"
          ]
        },
        {
          "name": "stderr",
          "output_type": "stream",
          "text": [
            "Calculating Hit Percentages:  17%|█▋        | 198/1136 [06:46<31:59,  2.05s/user]"
          ]
        },
        {
          "name": "stdout",
          "output_type": "stream",
          "text": [
            "Current Average Hit Percentage: 30.20%\n"
          ]
        },
        {
          "name": "stderr",
          "output_type": "stream",
          "text": [
            "Calculating Hit Percentages:  18%|█▊        | 199/1136 [06:48<31:54,  2.04s/user]"
          ]
        },
        {
          "name": "stdout",
          "output_type": "stream",
          "text": [
            "Current Average Hit Percentage: 30.30%\n"
          ]
        },
        {
          "name": "stderr",
          "output_type": "stream",
          "text": [
            "Calculating Hit Percentages:  18%|█▊        | 200/1136 [06:50<31:47,  2.04s/user]"
          ]
        },
        {
          "name": "stdout",
          "output_type": "stream",
          "text": [
            "Current Average Hit Percentage: 30.25%\n"
          ]
        },
        {
          "name": "stderr",
          "output_type": "stream",
          "text": [
            "Calculating Hit Percentages:  18%|█▊        | 201/1136 [06:52<31:49,  2.04s/user]"
          ]
        },
        {
          "name": "stdout",
          "output_type": "stream",
          "text": [
            "Current Average Hit Percentage: 30.20%\n"
          ]
        },
        {
          "name": "stderr",
          "output_type": "stream",
          "text": [
            "Calculating Hit Percentages:  18%|█▊        | 202/1136 [06:54<32:05,  2.06s/user]"
          ]
        },
        {
          "name": "stdout",
          "output_type": "stream",
          "text": [
            "Current Average Hit Percentage: 30.15%\n"
          ]
        },
        {
          "name": "stderr",
          "output_type": "stream",
          "text": [
            "Calculating Hit Percentages:  18%|█▊        | 203/1136 [06:56<31:58,  2.06s/user]"
          ]
        },
        {
          "name": "stdout",
          "output_type": "stream",
          "text": [
            "Current Average Hit Percentage: 30.10%\n"
          ]
        },
        {
          "name": "stderr",
          "output_type": "stream",
          "text": [
            "Calculating Hit Percentages:  18%|█▊        | 204/1136 [06:58<31:54,  2.05s/user]"
          ]
        },
        {
          "name": "stdout",
          "output_type": "stream",
          "text": [
            "Current Average Hit Percentage: 30.05%\n"
          ]
        },
        {
          "name": "stderr",
          "output_type": "stream",
          "text": [
            "Calculating Hit Percentages:  18%|█▊        | 205/1136 [07:00<31:45,  2.05s/user]"
          ]
        },
        {
          "name": "stdout",
          "output_type": "stream",
          "text": [
            "Current Average Hit Percentage: 30.00%\n"
          ]
        },
        {
          "name": "stderr",
          "output_type": "stream",
          "text": [
            "Calculating Hit Percentages:  18%|█▊        | 206/1136 [07:02<31:42,  2.05s/user]"
          ]
        },
        {
          "name": "stdout",
          "output_type": "stream",
          "text": [
            "Current Average Hit Percentage: 30.00%\n"
          ]
        },
        {
          "name": "stderr",
          "output_type": "stream",
          "text": [
            "Calculating Hit Percentages:  18%|█▊        | 207/1136 [07:04<31:39,  2.05s/user]"
          ]
        },
        {
          "name": "stdout",
          "output_type": "stream",
          "text": [
            "Current Average Hit Percentage: 30.10%\n"
          ]
        },
        {
          "name": "stderr",
          "output_type": "stream",
          "text": [
            "Calculating Hit Percentages:  18%|█▊        | 208/1136 [07:07<31:47,  2.06s/user]"
          ]
        },
        {
          "name": "stdout",
          "output_type": "stream",
          "text": [
            "Current Average Hit Percentage: 30.10%\n"
          ]
        },
        {
          "name": "stderr",
          "output_type": "stream",
          "text": [
            "Calculating Hit Percentages:  18%|█▊        | 209/1136 [07:09<31:53,  2.06s/user]"
          ]
        },
        {
          "name": "stdout",
          "output_type": "stream",
          "text": [
            "Current Average Hit Percentage: 30.24%\n"
          ]
        },
        {
          "name": "stderr",
          "output_type": "stream",
          "text": [
            "Calculating Hit Percentages:  18%|█▊        | 210/1136 [07:11<31:44,  2.06s/user]"
          ]
        },
        {
          "name": "stdout",
          "output_type": "stream",
          "text": [
            "Current Average Hit Percentage: 30.19%\n"
          ]
        },
        {
          "name": "stderr",
          "output_type": "stream",
          "text": [
            "Calculating Hit Percentages:  19%|█▊        | 211/1136 [07:13<31:38,  2.05s/user]"
          ]
        },
        {
          "name": "stdout",
          "output_type": "stream",
          "text": [
            "Current Average Hit Percentage: 30.19%\n"
          ]
        },
        {
          "name": "stderr",
          "output_type": "stream",
          "text": [
            "Calculating Hit Percentages:  19%|█▊        | 212/1136 [07:15<31:30,  2.05s/user]"
          ]
        },
        {
          "name": "stdout",
          "output_type": "stream",
          "text": [
            "Current Average Hit Percentage: 30.19%\n"
          ]
        },
        {
          "name": "stderr",
          "output_type": "stream",
          "text": [
            "Calculating Hit Percentages:  19%|█▉        | 213/1136 [07:17<31:25,  2.04s/user]"
          ]
        },
        {
          "name": "stdout",
          "output_type": "stream",
          "text": [
            "Current Average Hit Percentage: 30.23%\n"
          ]
        },
        {
          "name": "stderr",
          "output_type": "stream",
          "text": [
            "Calculating Hit Percentages:  19%|█▉        | 214/1136 [07:19<31:20,  2.04s/user]"
          ]
        },
        {
          "name": "stdout",
          "output_type": "stream",
          "text": [
            "Current Average Hit Percentage: 30.19%\n"
          ]
        },
        {
          "name": "stderr",
          "output_type": "stream",
          "text": [
            "Calculating Hit Percentages:  19%|█▉        | 215/1136 [07:21<31:27,  2.05s/user]"
          ]
        },
        {
          "name": "stdout",
          "output_type": "stream",
          "text": [
            "Current Average Hit Percentage: 30.19%\n"
          ]
        },
        {
          "name": "stderr",
          "output_type": "stream",
          "text": [
            "Calculating Hit Percentages:  19%|█▉        | 216/1136 [07:23<31:29,  2.05s/user]"
          ]
        },
        {
          "name": "stdout",
          "output_type": "stream",
          "text": [
            "Current Average Hit Percentage: 30.19%\n"
          ]
        },
        {
          "name": "stderr",
          "output_type": "stream",
          "text": [
            "Calculating Hit Percentages:  19%|█▉        | 217/1136 [07:25<31:23,  2.05s/user]"
          ]
        },
        {
          "name": "stdout",
          "output_type": "stream",
          "text": [
            "Current Average Hit Percentage: 30.18%\n"
          ]
        },
        {
          "name": "stderr",
          "output_type": "stream",
          "text": [
            "Calculating Hit Percentages:  19%|█▉        | 218/1136 [07:27<31:18,  2.05s/user]"
          ]
        },
        {
          "name": "stdout",
          "output_type": "stream",
          "text": [
            "Current Average Hit Percentage: 30.14%\n"
          ]
        },
        {
          "name": "stderr",
          "output_type": "stream",
          "text": [
            "Calculating Hit Percentages:  19%|█▉        | 219/1136 [07:29<31:14,  2.04s/user]"
          ]
        },
        {
          "name": "stdout",
          "output_type": "stream",
          "text": [
            "Current Average Hit Percentage: 30.14%\n"
          ]
        },
        {
          "name": "stderr",
          "output_type": "stream",
          "text": [
            "Calculating Hit Percentages:  19%|█▉        | 220/1136 [07:31<31:09,  2.04s/user]"
          ]
        },
        {
          "name": "stdout",
          "output_type": "stream",
          "text": [
            "Current Average Hit Percentage: 30.14%\n"
          ]
        },
        {
          "name": "stderr",
          "output_type": "stream",
          "text": [
            "Calculating Hit Percentages:  19%|█▉        | 221/1136 [07:33<31:12,  2.05s/user]"
          ]
        },
        {
          "name": "stdout",
          "output_type": "stream",
          "text": [
            "Current Average Hit Percentage: 30.18%\n"
          ]
        },
        {
          "name": "stderr",
          "output_type": "stream",
          "text": [
            "Calculating Hit Percentages:  20%|█▉        | 222/1136 [07:35<31:27,  2.07s/user]"
          ]
        },
        {
          "name": "stdout",
          "output_type": "stream",
          "text": [
            "Current Average Hit Percentage: 30.18%\n"
          ]
        },
        {
          "name": "stderr",
          "output_type": "stream",
          "text": [
            "Calculating Hit Percentages:  20%|█▉        | 223/1136 [07:37<31:21,  2.06s/user]"
          ]
        },
        {
          "name": "stdout",
          "output_type": "stream",
          "text": [
            "Current Average Hit Percentage: 30.18%\n"
          ]
        },
        {
          "name": "stderr",
          "output_type": "stream",
          "text": [
            "Calculating Hit Percentages:  20%|█▉        | 224/1136 [07:39<31:13,  2.05s/user]"
          ]
        },
        {
          "name": "stdout",
          "output_type": "stream",
          "text": [
            "Current Average Hit Percentage: 30.13%\n"
          ]
        },
        {
          "name": "stderr",
          "output_type": "stream",
          "text": [
            "Calculating Hit Percentages:  20%|█▉        | 225/1136 [07:41<31:08,  2.05s/user]"
          ]
        },
        {
          "name": "stdout",
          "output_type": "stream",
          "text": [
            "Current Average Hit Percentage: 30.31%\n"
          ]
        },
        {
          "name": "stderr",
          "output_type": "stream",
          "text": [
            "Calculating Hit Percentages:  20%|█▉        | 226/1136 [07:43<31:04,  2.05s/user]"
          ]
        },
        {
          "name": "stdout",
          "output_type": "stream",
          "text": [
            "Current Average Hit Percentage: 30.27%\n"
          ]
        },
        {
          "name": "stderr",
          "output_type": "stream",
          "text": [
            "Calculating Hit Percentages:  20%|█▉        | 227/1136 [07:45<30:58,  2.04s/user]"
          ]
        },
        {
          "name": "stdout",
          "output_type": "stream",
          "text": [
            "Current Average Hit Percentage: 30.26%\n"
          ]
        },
        {
          "name": "stderr",
          "output_type": "stream",
          "text": [
            "Calculating Hit Percentages:  20%|██        | 228/1136 [07:48<31:04,  2.05s/user]"
          ]
        },
        {
          "name": "stdout",
          "output_type": "stream",
          "text": [
            "Current Average Hit Percentage: 30.22%\n"
          ]
        },
        {
          "name": "stderr",
          "output_type": "stream",
          "text": [
            "Calculating Hit Percentages:  20%|██        | 229/1136 [07:50<31:10,  2.06s/user]"
          ]
        },
        {
          "name": "stdout",
          "output_type": "stream",
          "text": [
            "Current Average Hit Percentage: 30.22%\n"
          ]
        },
        {
          "name": "stderr",
          "output_type": "stream",
          "text": [
            "Calculating Hit Percentages:  20%|██        | 230/1136 [07:52<31:05,  2.06s/user]"
          ]
        },
        {
          "name": "stdout",
          "output_type": "stream",
          "text": [
            "Current Average Hit Percentage: 30.22%\n"
          ]
        },
        {
          "name": "stderr",
          "output_type": "stream",
          "text": [
            "Calculating Hit Percentages:  20%|██        | 231/1136 [07:54<31:01,  2.06s/user]"
          ]
        },
        {
          "name": "stdout",
          "output_type": "stream",
          "text": [
            "Current Average Hit Percentage: 30.22%\n"
          ]
        },
        {
          "name": "stderr",
          "output_type": "stream",
          "text": [
            "Calculating Hit Percentages:  20%|██        | 232/1136 [07:56<30:56,  2.05s/user]"
          ]
        },
        {
          "name": "stdout",
          "output_type": "stream",
          "text": [
            "Current Average Hit Percentage: 30.17%\n"
          ]
        },
        {
          "name": "stderr",
          "output_type": "stream",
          "text": [
            "Calculating Hit Percentages:  21%|██        | 233/1136 [07:58<30:47,  2.05s/user]"
          ]
        },
        {
          "name": "stdout",
          "output_type": "stream",
          "text": [
            "Current Average Hit Percentage: 30.13%\n"
          ]
        },
        {
          "name": "stderr",
          "output_type": "stream",
          "text": [
            "Calculating Hit Percentages:  21%|██        | 234/1136 [08:00<30:42,  2.04s/user]"
          ]
        },
        {
          "name": "stdout",
          "output_type": "stream",
          "text": [
            "Current Average Hit Percentage: 30.09%\n"
          ]
        },
        {
          "name": "stderr",
          "output_type": "stream",
          "text": [
            "Calculating Hit Percentages:  21%|██        | 235/1136 [08:02<30:54,  2.06s/user]"
          ]
        },
        {
          "name": "stdout",
          "output_type": "stream",
          "text": [
            "Current Average Hit Percentage: 30.09%\n"
          ]
        },
        {
          "name": "stderr",
          "output_type": "stream",
          "text": [
            "Calculating Hit Percentages:  21%|██        | 236/1136 [08:04<30:55,  2.06s/user]"
          ]
        },
        {
          "name": "stdout",
          "output_type": "stream",
          "text": [
            "Current Average Hit Percentage: 30.08%\n"
          ]
        },
        {
          "name": "stderr",
          "output_type": "stream",
          "text": [
            "Calculating Hit Percentages:  21%|██        | 237/1136 [08:06<30:48,  2.06s/user]"
          ]
        },
        {
          "name": "stdout",
          "output_type": "stream",
          "text": [
            "Current Average Hit Percentage: 30.04%\n"
          ]
        },
        {
          "name": "stderr",
          "output_type": "stream",
          "text": [
            "Calculating Hit Percentages:  21%|██        | 238/1136 [08:08<30:41,  2.05s/user]"
          ]
        },
        {
          "name": "stdout",
          "output_type": "stream",
          "text": [
            "Current Average Hit Percentage: 30.00%\n"
          ]
        },
        {
          "name": "stderr",
          "output_type": "stream",
          "text": [
            "Calculating Hit Percentages:  21%|██        | 239/1136 [08:10<30:35,  2.05s/user]"
          ]
        },
        {
          "name": "stdout",
          "output_type": "stream",
          "text": [
            "Current Average Hit Percentage: 30.13%\n"
          ]
        },
        {
          "name": "stderr",
          "output_type": "stream",
          "text": [
            "Calculating Hit Percentages:  21%|██        | 240/1136 [08:12<30:33,  2.05s/user]"
          ]
        },
        {
          "name": "stdout",
          "output_type": "stream",
          "text": [
            "Current Average Hit Percentage: 30.29%\n"
          ]
        },
        {
          "name": "stderr",
          "output_type": "stream",
          "text": [
            "Calculating Hit Percentages:  21%|██        | 241/1136 [08:14<30:32,  2.05s/user]"
          ]
        },
        {
          "name": "stdout",
          "output_type": "stream",
          "text": [
            "Current Average Hit Percentage: 30.33%\n"
          ]
        },
        {
          "name": "stderr",
          "output_type": "stream",
          "text": [
            "Calculating Hit Percentages:  21%|██▏       | 242/1136 [08:16<30:41,  2.06s/user]"
          ]
        },
        {
          "name": "stdout",
          "output_type": "stream",
          "text": [
            "Current Average Hit Percentage: 30.33%\n"
          ]
        },
        {
          "name": "stderr",
          "output_type": "stream",
          "text": [
            "Calculating Hit Percentages:  21%|██▏       | 243/1136 [08:18<30:41,  2.06s/user]"
          ]
        },
        {
          "name": "stdout",
          "output_type": "stream",
          "text": [
            "Current Average Hit Percentage: 30.37%\n"
          ]
        },
        {
          "name": "stderr",
          "output_type": "stream",
          "text": [
            "Calculating Hit Percentages:  21%|██▏       | 244/1136 [08:20<30:36,  2.06s/user]"
          ]
        },
        {
          "name": "stdout",
          "output_type": "stream",
          "text": [
            "Current Average Hit Percentage: 30.37%\n"
          ]
        },
        {
          "name": "stderr",
          "output_type": "stream",
          "text": [
            "Calculating Hit Percentages:  22%|██▏       | 245/1136 [08:22<30:34,  2.06s/user]"
          ]
        },
        {
          "name": "stdout",
          "output_type": "stream",
          "text": [
            "Current Average Hit Percentage: 30.37%\n"
          ]
        },
        {
          "name": "stderr",
          "output_type": "stream",
          "text": [
            "Calculating Hit Percentages:  22%|██▏       | 246/1136 [08:25<30:25,  2.05s/user]"
          ]
        },
        {
          "name": "stdout",
          "output_type": "stream",
          "text": [
            "Current Average Hit Percentage: 30.33%\n"
          ]
        },
        {
          "name": "stderr",
          "output_type": "stream",
          "text": [
            "Calculating Hit Percentages:  22%|██▏       | 247/1136 [08:27<30:19,  2.05s/user]"
          ]
        },
        {
          "name": "stdout",
          "output_type": "stream",
          "text": [
            "Current Average Hit Percentage: 30.36%\n"
          ]
        },
        {
          "name": "stderr",
          "output_type": "stream",
          "text": [
            "Calculating Hit Percentages:  22%|██▏       | 248/1136 [08:29<30:19,  2.05s/user]"
          ]
        },
        {
          "name": "stdout",
          "output_type": "stream",
          "text": [
            "Current Average Hit Percentage: 30.36%\n"
          ]
        },
        {
          "name": "stderr",
          "output_type": "stream",
          "text": [
            "Calculating Hit Percentages:  22%|██▏       | 249/1136 [08:31<30:29,  2.06s/user]"
          ]
        },
        {
          "name": "stdout",
          "output_type": "stream",
          "text": [
            "Current Average Hit Percentage: 30.32%\n"
          ]
        },
        {
          "name": "stderr",
          "output_type": "stream",
          "text": [
            "Calculating Hit Percentages:  22%|██▏       | 250/1136 [08:33<30:34,  2.07s/user]"
          ]
        },
        {
          "name": "stdout",
          "output_type": "stream",
          "text": [
            "Current Average Hit Percentage: 30.32%\n"
          ]
        },
        {
          "name": "stderr",
          "output_type": "stream",
          "text": [
            "Calculating Hit Percentages:  22%|██▏       | 251/1136 [08:35<30:25,  2.06s/user]"
          ]
        },
        {
          "name": "stdout",
          "output_type": "stream",
          "text": [
            "Current Average Hit Percentage: 30.28%\n"
          ]
        },
        {
          "name": "stderr",
          "output_type": "stream",
          "text": [
            "Calculating Hit Percentages:  22%|██▏       | 252/1136 [08:37<30:23,  2.06s/user]"
          ]
        },
        {
          "name": "stdout",
          "output_type": "stream",
          "text": [
            "Current Average Hit Percentage: 30.32%\n"
          ]
        },
        {
          "name": "stderr",
          "output_type": "stream",
          "text": [
            "Calculating Hit Percentages:  22%|██▏       | 253/1136 [08:39<30:16,  2.06s/user]"
          ]
        },
        {
          "name": "stdout",
          "output_type": "stream",
          "text": [
            "Current Average Hit Percentage: 30.32%\n"
          ]
        },
        {
          "name": "stderr",
          "output_type": "stream",
          "text": [
            "Calculating Hit Percentages:  22%|██▏       | 254/1136 [08:41<30:10,  2.05s/user]"
          ]
        },
        {
          "name": "stdout",
          "output_type": "stream",
          "text": [
            "Current Average Hit Percentage: 30.28%\n"
          ]
        },
        {
          "name": "stderr",
          "output_type": "stream",
          "text": [
            "Calculating Hit Percentages:  22%|██▏       | 255/1136 [08:43<30:19,  2.07s/user]"
          ]
        },
        {
          "name": "stdout",
          "output_type": "stream",
          "text": [
            "Current Average Hit Percentage: 30.27%\n"
          ]
        },
        {
          "name": "stderr",
          "output_type": "stream",
          "text": [
            "Calculating Hit Percentages:  23%|██▎       | 256/1136 [08:45<30:22,  2.07s/user]"
          ]
        },
        {
          "name": "stdout",
          "output_type": "stream",
          "text": [
            "Current Average Hit Percentage: 30.27%\n"
          ]
        },
        {
          "name": "stderr",
          "output_type": "stream",
          "text": [
            "Calculating Hit Percentages:  23%|██▎       | 257/1136 [08:47<30:17,  2.07s/user]"
          ]
        },
        {
          "name": "stdout",
          "output_type": "stream",
          "text": [
            "Current Average Hit Percentage: 30.23%\n"
          ]
        },
        {
          "name": "stderr",
          "output_type": "stream",
          "text": [
            "Calculating Hit Percentages:  23%|██▎       | 258/1136 [08:49<30:08,  2.06s/user]"
          ]
        },
        {
          "name": "stdout",
          "output_type": "stream",
          "text": [
            "Current Average Hit Percentage: 30.19%\n"
          ]
        },
        {
          "name": "stderr",
          "output_type": "stream",
          "text": [
            "Calculating Hit Percentages:  23%|██▎       | 259/1136 [08:51<30:09,  2.06s/user]"
          ]
        },
        {
          "name": "stdout",
          "output_type": "stream",
          "text": [
            "Current Average Hit Percentage: 30.19%\n"
          ]
        },
        {
          "name": "stderr",
          "output_type": "stream",
          "text": [
            "Calculating Hit Percentages:  23%|██▎       | 260/1136 [08:53<30:05,  2.06s/user]"
          ]
        },
        {
          "name": "stdout",
          "output_type": "stream",
          "text": [
            "Current Average Hit Percentage: 30.15%\n"
          ]
        },
        {
          "name": "stderr",
          "output_type": "stream",
          "text": [
            "Calculating Hit Percentages:  23%|██▎       | 261/1136 [08:55<30:08,  2.07s/user]"
          ]
        },
        {
          "name": "stdout",
          "output_type": "stream",
          "text": [
            "Current Average Hit Percentage: 30.11%\n"
          ]
        },
        {
          "name": "stderr",
          "output_type": "stream",
          "text": [
            "Calculating Hit Percentages:  23%|██▎       | 262/1136 [08:58<30:24,  2.09s/user]"
          ]
        },
        {
          "name": "stdout",
          "output_type": "stream",
          "text": [
            "Current Average Hit Percentage: 30.11%\n"
          ]
        },
        {
          "name": "stderr",
          "output_type": "stream",
          "text": [
            "Calculating Hit Percentages:  23%|██▎       | 263/1136 [09:00<30:16,  2.08s/user]"
          ]
        },
        {
          "name": "stdout",
          "output_type": "stream",
          "text": [
            "Current Average Hit Percentage: 30.15%\n"
          ]
        },
        {
          "name": "stderr",
          "output_type": "stream",
          "text": [
            "Calculating Hit Percentages:  23%|██▎       | 264/1136 [09:02<30:09,  2.07s/user]"
          ]
        },
        {
          "name": "stdout",
          "output_type": "stream",
          "text": [
            "Current Average Hit Percentage: 30.11%\n"
          ]
        },
        {
          "name": "stderr",
          "output_type": "stream",
          "text": [
            "Calculating Hit Percentages:  23%|██▎       | 265/1136 [09:04<30:03,  2.07s/user]"
          ]
        },
        {
          "name": "stdout",
          "output_type": "stream",
          "text": [
            "Current Average Hit Percentage: 30.15%\n"
          ]
        },
        {
          "name": "stderr",
          "output_type": "stream",
          "text": [
            "Calculating Hit Percentages:  23%|██▎       | 266/1136 [09:06<30:00,  2.07s/user]"
          ]
        },
        {
          "name": "stdout",
          "output_type": "stream",
          "text": [
            "Current Average Hit Percentage: 30.11%\n"
          ]
        },
        {
          "name": "stderr",
          "output_type": "stream",
          "text": [
            "Calculating Hit Percentages:  24%|██▎       | 267/1136 [09:08<29:54,  2.07s/user]"
          ]
        },
        {
          "name": "stdout",
          "output_type": "stream",
          "text": [
            "Current Average Hit Percentage: 30.07%\n"
          ]
        },
        {
          "name": "stderr",
          "output_type": "stream",
          "text": [
            "Calculating Hit Percentages:  24%|██▎       | 268/1136 [09:10<29:56,  2.07s/user]"
          ]
        },
        {
          "name": "stdout",
          "output_type": "stream",
          "text": [
            "Current Average Hit Percentage: 30.04%\n"
          ]
        },
        {
          "name": "stderr",
          "output_type": "stream",
          "text": [
            "Calculating Hit Percentages:  24%|██▎       | 269/1136 [09:12<30:19,  2.10s/user]"
          ]
        },
        {
          "name": "stdout",
          "output_type": "stream",
          "text": [
            "Current Average Hit Percentage: 30.07%\n"
          ]
        },
        {
          "name": "stderr",
          "output_type": "stream",
          "text": [
            "Calculating Hit Percentages:  24%|██▍       | 270/1136 [09:14<30:09,  2.09s/user]"
          ]
        },
        {
          "name": "stdout",
          "output_type": "stream",
          "text": [
            "Current Average Hit Percentage: 30.07%\n"
          ]
        },
        {
          "name": "stderr",
          "output_type": "stream",
          "text": [
            "Calculating Hit Percentages:  24%|██▍       | 271/1136 [09:16<29:54,  2.07s/user]"
          ]
        },
        {
          "name": "stdout",
          "output_type": "stream",
          "text": [
            "Current Average Hit Percentage: 30.11%\n"
          ]
        },
        {
          "name": "stderr",
          "output_type": "stream",
          "text": [
            "Calculating Hit Percentages:  24%|██▍       | 272/1136 [09:18<29:44,  2.07s/user]"
          ]
        },
        {
          "name": "stdout",
          "output_type": "stream",
          "text": [
            "Current Average Hit Percentage: 30.11%\n"
          ]
        },
        {
          "name": "stderr",
          "output_type": "stream",
          "text": [
            "Calculating Hit Percentages:  24%|██▍       | 273/1136 [09:20<29:35,  2.06s/user]"
          ]
        },
        {
          "name": "stdout",
          "output_type": "stream",
          "text": [
            "Current Average Hit Percentage: 30.15%\n"
          ]
        },
        {
          "name": "stderr",
          "output_type": "stream",
          "text": [
            "Calculating Hit Percentages:  24%|██▍       | 274/1136 [09:22<29:29,  2.05s/user]"
          ]
        },
        {
          "name": "stdout",
          "output_type": "stream",
          "text": [
            "Current Average Hit Percentage: 30.18%\n"
          ]
        },
        {
          "name": "stderr",
          "output_type": "stream",
          "text": [
            "Calculating Hit Percentages:  24%|██▍       | 275/1136 [09:24<29:34,  2.06s/user]"
          ]
        },
        {
          "name": "stdout",
          "output_type": "stream",
          "text": [
            "Current Average Hit Percentage: 30.15%\n"
          ]
        },
        {
          "name": "stderr",
          "output_type": "stream",
          "text": [
            "Calculating Hit Percentages:  24%|██▍       | 276/1136 [09:27<29:31,  2.06s/user]"
          ]
        },
        {
          "name": "stdout",
          "output_type": "stream",
          "text": [
            "Current Average Hit Percentage: 30.22%\n"
          ]
        },
        {
          "name": "stderr",
          "output_type": "stream",
          "text": [
            "Calculating Hit Percentages:  24%|██▍       | 277/1136 [09:29<29:25,  2.06s/user]"
          ]
        },
        {
          "name": "stdout",
          "output_type": "stream",
          "text": [
            "Current Average Hit Percentage: 30.22%\n"
          ]
        },
        {
          "name": "stderr",
          "output_type": "stream",
          "text": [
            "Calculating Hit Percentages:  24%|██▍       | 278/1136 [09:31<29:20,  2.05s/user]"
          ]
        },
        {
          "name": "stdout",
          "output_type": "stream",
          "text": [
            "Current Average Hit Percentage: 30.25%\n"
          ]
        },
        {
          "name": "stderr",
          "output_type": "stream",
          "text": [
            "Calculating Hit Percentages:  25%|██▍       | 279/1136 [09:33<29:18,  2.05s/user]"
          ]
        },
        {
          "name": "stdout",
          "output_type": "stream",
          "text": [
            "Current Average Hit Percentage: 30.25%\n"
          ]
        },
        {
          "name": "stderr",
          "output_type": "stream",
          "text": [
            "Calculating Hit Percentages:  25%|██▍       | 280/1136 [09:35<29:12,  2.05s/user]"
          ]
        },
        {
          "name": "stdout",
          "output_type": "stream",
          "text": [
            "Current Average Hit Percentage: 30.25%\n"
          ]
        },
        {
          "name": "stderr",
          "output_type": "stream",
          "text": [
            "Calculating Hit Percentages:  25%|██▍       | 281/1136 [09:37<29:14,  2.05s/user]"
          ]
        },
        {
          "name": "stdout",
          "output_type": "stream",
          "text": [
            "Current Average Hit Percentage: 30.36%\n"
          ]
        },
        {
          "name": "stderr",
          "output_type": "stream",
          "text": [
            "Calculating Hit Percentages:  25%|██▍       | 282/1136 [09:39<29:27,  2.07s/user]"
          ]
        },
        {
          "name": "stdout",
          "output_type": "stream",
          "text": [
            "Current Average Hit Percentage: 30.39%\n"
          ]
        },
        {
          "name": "stderr",
          "output_type": "stream",
          "text": [
            "Calculating Hit Percentages:  25%|██▍       | 283/1136 [09:41<29:28,  2.07s/user]"
          ]
        },
        {
          "name": "stdout",
          "output_type": "stream",
          "text": [
            "Current Average Hit Percentage: 30.39%\n"
          ]
        },
        {
          "name": "stderr",
          "output_type": "stream",
          "text": [
            "Calculating Hit Percentages:  25%|██▌       | 284/1136 [09:43<29:20,  2.07s/user]"
          ]
        },
        {
          "name": "stdout",
          "output_type": "stream",
          "text": [
            "Current Average Hit Percentage: 30.39%\n"
          ]
        },
        {
          "name": "stderr",
          "output_type": "stream",
          "text": [
            "Calculating Hit Percentages:  25%|██▌       | 285/1136 [09:45<29:12,  2.06s/user]"
          ]
        },
        {
          "name": "stdout",
          "output_type": "stream",
          "text": [
            "Current Average Hit Percentage: 30.35%\n"
          ]
        },
        {
          "name": "stderr",
          "output_type": "stream",
          "text": [
            "Calculating Hit Percentages:  25%|██▌       | 286/1136 [09:47<29:08,  2.06s/user]"
          ]
        },
        {
          "name": "stdout",
          "output_type": "stream",
          "text": [
            "Current Average Hit Percentage: 30.31%\n"
          ]
        },
        {
          "name": "stderr",
          "output_type": "stream",
          "text": [
            "Calculating Hit Percentages:  25%|██▌       | 287/1136 [09:49<29:02,  2.05s/user]"
          ]
        },
        {
          "name": "stdout",
          "output_type": "stream",
          "text": [
            "Current Average Hit Percentage: 30.28%\n"
          ]
        },
        {
          "name": "stderr",
          "output_type": "stream",
          "text": [
            "Calculating Hit Percentages:  25%|██▌       | 288/1136 [09:51<29:03,  2.06s/user]"
          ]
        },
        {
          "name": "stdout",
          "output_type": "stream",
          "text": [
            "Current Average Hit Percentage: 30.31%\n"
          ]
        },
        {
          "name": "stderr",
          "output_type": "stream",
          "text": [
            "Calculating Hit Percentages:  25%|██▌       | 289/1136 [09:53<29:27,  2.09s/user]"
          ]
        },
        {
          "name": "stdout",
          "output_type": "stream",
          "text": [
            "Current Average Hit Percentage: 30.31%\n"
          ]
        },
        {
          "name": "stderr",
          "output_type": "stream",
          "text": [
            "Calculating Hit Percentages:  26%|██▌       | 290/1136 [09:55<29:23,  2.08s/user]"
          ]
        },
        {
          "name": "stdout",
          "output_type": "stream",
          "text": [
            "Current Average Hit Percentage: 30.28%\n"
          ]
        },
        {
          "name": "stderr",
          "output_type": "stream",
          "text": [
            "Calculating Hit Percentages:  26%|██▌       | 291/1136 [09:58<29:13,  2.08s/user]"
          ]
        },
        {
          "name": "stdout",
          "output_type": "stream",
          "text": [
            "Current Average Hit Percentage: 30.24%\n"
          ]
        },
        {
          "name": "stderr",
          "output_type": "stream",
          "text": [
            "Calculating Hit Percentages:  26%|██▌       | 292/1136 [10:00<29:04,  2.07s/user]"
          ]
        },
        {
          "name": "stdout",
          "output_type": "stream",
          "text": [
            "Current Average Hit Percentage: 30.21%\n"
          ]
        },
        {
          "name": "stderr",
          "output_type": "stream",
          "text": [
            "Calculating Hit Percentages:  26%|██▌       | 293/1136 [10:02<28:55,  2.06s/user]"
          ]
        },
        {
          "name": "stdout",
          "output_type": "stream",
          "text": [
            "Current Average Hit Percentage: 30.24%\n"
          ]
        },
        {
          "name": "stderr",
          "output_type": "stream",
          "text": [
            "Calculating Hit Percentages:  26%|██▌       | 294/1136 [10:04<28:48,  2.05s/user]"
          ]
        },
        {
          "name": "stdout",
          "output_type": "stream",
          "text": [
            "Current Average Hit Percentage: 30.20%\n"
          ]
        },
        {
          "name": "stderr",
          "output_type": "stream",
          "text": [
            "Calculating Hit Percentages:  26%|██▌       | 295/1136 [10:06<28:56,  2.07s/user]"
          ]
        },
        {
          "name": "stdout",
          "output_type": "stream",
          "text": [
            "Current Average Hit Percentage: 30.20%\n"
          ]
        },
        {
          "name": "stderr",
          "output_type": "stream",
          "text": [
            "Calculating Hit Percentages:  26%|██▌       | 296/1136 [10:08<28:59,  2.07s/user]"
          ]
        },
        {
          "name": "stdout",
          "output_type": "stream",
          "text": [
            "Current Average Hit Percentage: 30.24%\n"
          ]
        },
        {
          "name": "stderr",
          "output_type": "stream",
          "text": [
            "Calculating Hit Percentages:  26%|██▌       | 297/1136 [10:10<28:51,  2.06s/user]"
          ]
        },
        {
          "name": "stdout",
          "output_type": "stream",
          "text": [
            "Current Average Hit Percentage: 30.27%\n"
          ]
        },
        {
          "name": "stderr",
          "output_type": "stream",
          "text": [
            "Calculating Hit Percentages:  26%|██▌       | 298/1136 [10:12<28:43,  2.06s/user]"
          ]
        },
        {
          "name": "stdout",
          "output_type": "stream",
          "text": [
            "Current Average Hit Percentage: 30.27%\n"
          ]
        },
        {
          "name": "stderr",
          "output_type": "stream",
          "text": [
            "Calculating Hit Percentages:  26%|██▋       | 299/1136 [10:14<28:39,  2.05s/user]"
          ]
        },
        {
          "name": "stdout",
          "output_type": "stream",
          "text": [
            "Current Average Hit Percentage: 30.33%\n"
          ]
        },
        {
          "name": "stderr",
          "output_type": "stream",
          "text": [
            "Calculating Hit Percentages:  26%|██▋       | 300/1136 [10:16<28:32,  2.05s/user]"
          ]
        },
        {
          "name": "stdout",
          "output_type": "stream",
          "text": [
            "Current Average Hit Percentage: 30.33%\n"
          ]
        },
        {
          "name": "stderr",
          "output_type": "stream",
          "text": [
            "Calculating Hit Percentages:  26%|██▋       | 301/1136 [10:18<28:27,  2.05s/user]"
          ]
        },
        {
          "name": "stdout",
          "output_type": "stream",
          "text": [
            "Current Average Hit Percentage: 30.33%\n"
          ]
        },
        {
          "name": "stderr",
          "output_type": "stream",
          "text": [
            "Calculating Hit Percentages:  27%|██▋       | 302/1136 [10:20<28:33,  2.05s/user]"
          ]
        },
        {
          "name": "stdout",
          "output_type": "stream",
          "text": [
            "Current Average Hit Percentage: 30.33%\n"
          ]
        },
        {
          "name": "stderr",
          "output_type": "stream",
          "text": [
            "Calculating Hit Percentages:  27%|██▋       | 303/1136 [10:22<28:35,  2.06s/user]"
          ]
        },
        {
          "name": "stdout",
          "output_type": "stream",
          "text": [
            "Current Average Hit Percentage: 30.30%\n"
          ]
        },
        {
          "name": "stderr",
          "output_type": "stream",
          "text": [
            "Calculating Hit Percentages:  27%|██▋       | 304/1136 [10:24<28:29,  2.05s/user]"
          ]
        },
        {
          "name": "stdout",
          "output_type": "stream",
          "text": [
            "Current Average Hit Percentage: 30.23%\n"
          ]
        },
        {
          "name": "stderr",
          "output_type": "stream",
          "text": [
            "Calculating Hit Percentages:  27%|██▋       | 305/1136 [10:26<28:20,  2.05s/user]"
          ]
        },
        {
          "name": "stdout",
          "output_type": "stream",
          "text": [
            "Current Average Hit Percentage: 30.20%\n"
          ]
        },
        {
          "name": "stderr",
          "output_type": "stream",
          "text": [
            "Calculating Hit Percentages:  27%|██▋       | 306/1136 [10:28<28:17,  2.05s/user]"
          ]
        },
        {
          "name": "stdout",
          "output_type": "stream",
          "text": [
            "Current Average Hit Percentage: 30.20%\n"
          ]
        },
        {
          "name": "stderr",
          "output_type": "stream",
          "text": [
            "Calculating Hit Percentages:  27%|██▋       | 307/1136 [10:30<28:11,  2.04s/user]"
          ]
        },
        {
          "name": "stdout",
          "output_type": "stream",
          "text": [
            "Current Average Hit Percentage: 30.26%\n"
          ]
        },
        {
          "name": "stderr",
          "output_type": "stream",
          "text": [
            "Calculating Hit Percentages:  27%|██▋       | 308/1136 [10:32<28:12,  2.04s/user]"
          ]
        },
        {
          "name": "stdout",
          "output_type": "stream",
          "text": [
            "Current Average Hit Percentage: 30.23%\n"
          ]
        },
        {
          "name": "stderr",
          "output_type": "stream",
          "text": [
            "Calculating Hit Percentages:  27%|██▋       | 309/1136 [10:34<28:23,  2.06s/user]"
          ]
        },
        {
          "name": "stdout",
          "output_type": "stream",
          "text": [
            "Current Average Hit Percentage: 30.23%\n"
          ]
        },
        {
          "name": "stderr",
          "output_type": "stream",
          "text": [
            "Calculating Hit Percentages:  27%|██▋       | 310/1136 [10:37<28:18,  2.06s/user]"
          ]
        },
        {
          "name": "stdout",
          "output_type": "stream",
          "text": [
            "Current Average Hit Percentage: 30.19%\n"
          ]
        },
        {
          "name": "stderr",
          "output_type": "stream",
          "text": [
            "Calculating Hit Percentages:  27%|██▋       | 311/1136 [10:39<28:14,  2.05s/user]"
          ]
        },
        {
          "name": "stdout",
          "output_type": "stream",
          "text": [
            "Current Average Hit Percentage: 30.23%\n"
          ]
        },
        {
          "name": "stderr",
          "output_type": "stream",
          "text": [
            "Calculating Hit Percentages:  27%|██▋       | 312/1136 [10:41<28:08,  2.05s/user]"
          ]
        },
        {
          "name": "stdout",
          "output_type": "stream",
          "text": [
            "Current Average Hit Percentage: 30.22%\n"
          ]
        },
        {
          "name": "stderr",
          "output_type": "stream",
          "text": [
            "Calculating Hit Percentages:  28%|██▊       | 313/1136 [10:43<28:04,  2.05s/user]"
          ]
        },
        {
          "name": "stdout",
          "output_type": "stream",
          "text": [
            "Current Average Hit Percentage: 30.19%\n"
          ]
        },
        {
          "name": "stderr",
          "output_type": "stream",
          "text": [
            "Calculating Hit Percentages:  28%|██▊       | 314/1136 [10:45<28:03,  2.05s/user]"
          ]
        },
        {
          "name": "stdout",
          "output_type": "stream",
          "text": [
            "Current Average Hit Percentage: 30.25%\n"
          ]
        },
        {
          "name": "stderr",
          "output_type": "stream",
          "text": [
            "Calculating Hit Percentages:  28%|██▊       | 315/1136 [10:47<28:00,  2.05s/user]"
          ]
        },
        {
          "name": "stdout",
          "output_type": "stream",
          "text": [
            "Current Average Hit Percentage: 30.22%\n"
          ]
        },
        {
          "name": "stderr",
          "output_type": "stream",
          "text": [
            "Calculating Hit Percentages:  28%|██▊       | 316/1136 [10:49<28:06,  2.06s/user]"
          ]
        },
        {
          "name": "stdout",
          "output_type": "stream",
          "text": [
            "Current Average Hit Percentage: 30.19%\n"
          ]
        },
        {
          "name": "stderr",
          "output_type": "stream",
          "text": [
            "Calculating Hit Percentages:  28%|██▊       | 317/1136 [10:51<28:01,  2.05s/user]"
          ]
        },
        {
          "name": "stdout",
          "output_type": "stream",
          "text": [
            "Current Average Hit Percentage: 30.22%\n"
          ]
        },
        {
          "name": "stderr",
          "output_type": "stream",
          "text": [
            "Calculating Hit Percentages:  28%|██▊       | 318/1136 [10:53<27:59,  2.05s/user]"
          ]
        },
        {
          "name": "stdout",
          "output_type": "stream",
          "text": [
            "Current Average Hit Percentage: 30.22%\n"
          ]
        },
        {
          "name": "stderr",
          "output_type": "stream",
          "text": [
            "Calculating Hit Percentages:  28%|██▊       | 319/1136 [10:55<27:57,  2.05s/user]"
          ]
        },
        {
          "name": "stdout",
          "output_type": "stream",
          "text": [
            "Current Average Hit Percentage: 30.19%\n"
          ]
        },
        {
          "name": "stderr",
          "output_type": "stream",
          "text": [
            "Calculating Hit Percentages:  28%|██▊       | 320/1136 [10:57<27:53,  2.05s/user]"
          ]
        },
        {
          "name": "stdout",
          "output_type": "stream",
          "text": [
            "Current Average Hit Percentage: 30.19%\n"
          ]
        },
        {
          "name": "stderr",
          "output_type": "stream",
          "text": [
            "Calculating Hit Percentages:  28%|██▊       | 321/1136 [10:59<27:47,  2.05s/user]"
          ]
        },
        {
          "name": "stdout",
          "output_type": "stream",
          "text": [
            "Current Average Hit Percentage: 30.19%\n"
          ]
        },
        {
          "name": "stderr",
          "output_type": "stream",
          "text": [
            "Calculating Hit Percentages:  28%|██▊       | 322/1136 [11:01<27:57,  2.06s/user]"
          ]
        },
        {
          "name": "stdout",
          "output_type": "stream",
          "text": [
            "Current Average Hit Percentage: 30.19%\n"
          ]
        },
        {
          "name": "stderr",
          "output_type": "stream",
          "text": [
            "Calculating Hit Percentages:  28%|██▊       | 323/1136 [11:03<28:03,  2.07s/user]"
          ]
        },
        {
          "name": "stdout",
          "output_type": "stream",
          "text": [
            "Current Average Hit Percentage: 30.19%\n"
          ]
        },
        {
          "name": "stderr",
          "output_type": "stream",
          "text": [
            "Calculating Hit Percentages:  29%|██▊       | 324/1136 [11:05<27:55,  2.06s/user]"
          ]
        },
        {
          "name": "stdout",
          "output_type": "stream",
          "text": [
            "Current Average Hit Percentage: 30.19%\n"
          ]
        },
        {
          "name": "stderr",
          "output_type": "stream",
          "text": [
            "Calculating Hit Percentages:  29%|██▊       | 325/1136 [11:07<27:47,  2.06s/user]"
          ]
        },
        {
          "name": "stdout",
          "output_type": "stream",
          "text": [
            "Current Average Hit Percentage: 30.22%\n"
          ]
        },
        {
          "name": "stderr",
          "output_type": "stream",
          "text": [
            "Calculating Hit Percentages:  29%|██▊       | 326/1136 [11:09<27:41,  2.05s/user]"
          ]
        },
        {
          "name": "stdout",
          "output_type": "stream",
          "text": [
            "Current Average Hit Percentage: 30.21%\n"
          ]
        },
        {
          "name": "stderr",
          "output_type": "stream",
          "text": [
            "Calculating Hit Percentages:  29%|██▉       | 327/1136 [11:11<27:33,  2.04s/user]"
          ]
        },
        {
          "name": "stdout",
          "output_type": "stream",
          "text": [
            "Current Average Hit Percentage: 30.21%\n"
          ]
        },
        {
          "name": "stderr",
          "output_type": "stream",
          "text": [
            "Calculating Hit Percentages:  29%|██▉       | 328/1136 [11:13<27:34,  2.05s/user]"
          ]
        },
        {
          "name": "stdout",
          "output_type": "stream",
          "text": [
            "Current Average Hit Percentage: 30.21%\n"
          ]
        },
        {
          "name": "stderr",
          "output_type": "stream",
          "text": [
            "Calculating Hit Percentages:  29%|██▉       | 329/1136 [11:16<27:44,  2.06s/user]"
          ]
        },
        {
          "name": "stdout",
          "output_type": "stream",
          "text": [
            "Current Average Hit Percentage: 30.18%\n"
          ]
        },
        {
          "name": "stderr",
          "output_type": "stream",
          "text": [
            "Calculating Hit Percentages:  29%|██▉       | 330/1136 [11:18<27:41,  2.06s/user]"
          ]
        },
        {
          "name": "stdout",
          "output_type": "stream",
          "text": [
            "Current Average Hit Percentage: 30.21%\n"
          ]
        },
        {
          "name": "stderr",
          "output_type": "stream",
          "text": [
            "Calculating Hit Percentages:  29%|██▉       | 331/1136 [11:20<27:34,  2.06s/user]"
          ]
        },
        {
          "name": "stdout",
          "output_type": "stream",
          "text": [
            "Current Average Hit Percentage: 30.18%\n"
          ]
        },
        {
          "name": "stderr",
          "output_type": "stream",
          "text": [
            "Calculating Hit Percentages:  29%|██▉       | 332/1136 [11:22<27:31,  2.05s/user]"
          ]
        },
        {
          "name": "stdout",
          "output_type": "stream",
          "text": [
            "Current Average Hit Percentage: 30.18%\n"
          ]
        },
        {
          "name": "stderr",
          "output_type": "stream",
          "text": [
            "Calculating Hit Percentages:  29%|██▉       | 333/1136 [11:24<27:29,  2.05s/user]"
          ]
        },
        {
          "name": "stdout",
          "output_type": "stream",
          "text": [
            "Current Average Hit Percentage: 30.18%\n"
          ]
        },
        {
          "name": "stderr",
          "output_type": "stream",
          "text": [
            "Calculating Hit Percentages:  29%|██▉       | 334/1136 [11:26<27:21,  2.05s/user]"
          ]
        },
        {
          "name": "stdout",
          "output_type": "stream",
          "text": [
            "Current Average Hit Percentage: 30.15%\n"
          ]
        },
        {
          "name": "stderr",
          "output_type": "stream",
          "text": [
            "Calculating Hit Percentages:  29%|██▉       | 335/1136 [11:28<27:23,  2.05s/user]"
          ]
        },
        {
          "name": "stdout",
          "output_type": "stream",
          "text": [
            "Current Average Hit Percentage: 30.12%\n"
          ]
        },
        {
          "name": "stderr",
          "output_type": "stream",
          "text": [
            "Calculating Hit Percentages:  30%|██▉       | 336/1136 [11:30<27:29,  2.06s/user]"
          ]
        },
        {
          "name": "stdout",
          "output_type": "stream",
          "text": [
            "Current Average Hit Percentage: 30.09%\n"
          ]
        },
        {
          "name": "stderr",
          "output_type": "stream",
          "text": [
            "Calculating Hit Percentages:  30%|██▉       | 337/1136 [11:32<27:26,  2.06s/user]"
          ]
        },
        {
          "name": "stdout",
          "output_type": "stream",
          "text": [
            "Current Average Hit Percentage: 30.12%\n"
          ]
        },
        {
          "name": "stderr",
          "output_type": "stream",
          "text": [
            "Calculating Hit Percentages:  30%|██▉       | 338/1136 [11:34<27:19,  2.05s/user]"
          ]
        },
        {
          "name": "stdout",
          "output_type": "stream",
          "text": [
            "Current Average Hit Percentage: 30.09%\n"
          ]
        },
        {
          "name": "stderr",
          "output_type": "stream",
          "text": [
            "Calculating Hit Percentages:  30%|██▉       | 339/1136 [11:36<27:12,  2.05s/user]"
          ]
        },
        {
          "name": "stdout",
          "output_type": "stream",
          "text": [
            "Current Average Hit Percentage: 30.06%\n"
          ]
        },
        {
          "name": "stderr",
          "output_type": "stream",
          "text": [
            "Calculating Hit Percentages:  30%|██▉       | 340/1136 [11:38<27:10,  2.05s/user]"
          ]
        },
        {
          "name": "stdout",
          "output_type": "stream",
          "text": [
            "Current Average Hit Percentage: 30.18%\n"
          ]
        },
        {
          "name": "stderr",
          "output_type": "stream",
          "text": [
            "Calculating Hit Percentages:  30%|███       | 341/1136 [11:40<27:07,  2.05s/user]"
          ]
        },
        {
          "name": "stdout",
          "output_type": "stream",
          "text": [
            "Current Average Hit Percentage: 30.21%\n"
          ]
        },
        {
          "name": "stderr",
          "output_type": "stream",
          "text": [
            "Calculating Hit Percentages:  30%|███       | 342/1136 [11:42<27:09,  2.05s/user]"
          ]
        },
        {
          "name": "stdout",
          "output_type": "stream",
          "text": [
            "Current Average Hit Percentage: 30.18%\n"
          ]
        },
        {
          "name": "stderr",
          "output_type": "stream",
          "text": [
            "Calculating Hit Percentages:  30%|███       | 343/1136 [11:44<27:15,  2.06s/user]"
          ]
        },
        {
          "name": "stdout",
          "output_type": "stream",
          "text": [
            "Current Average Hit Percentage: 30.20%\n"
          ]
        },
        {
          "name": "stderr",
          "output_type": "stream",
          "text": [
            "Calculating Hit Percentages:  30%|███       | 344/1136 [11:46<27:10,  2.06s/user]"
          ]
        },
        {
          "name": "stdout",
          "output_type": "stream",
          "text": [
            "Current Average Hit Percentage: 30.20%\n"
          ]
        },
        {
          "name": "stderr",
          "output_type": "stream",
          "text": [
            "Calculating Hit Percentages:  30%|███       | 345/1136 [11:48<27:03,  2.05s/user]"
          ]
        },
        {
          "name": "stdout",
          "output_type": "stream",
          "text": [
            "Current Average Hit Percentage: 30.26%\n"
          ]
        },
        {
          "name": "stderr",
          "output_type": "stream",
          "text": [
            "Calculating Hit Percentages:  30%|███       | 346/1136 [11:50<26:58,  2.05s/user]"
          ]
        },
        {
          "name": "stdout",
          "output_type": "stream",
          "text": [
            "Current Average Hit Percentage: 30.26%\n"
          ]
        },
        {
          "name": "stderr",
          "output_type": "stream",
          "text": [
            "Calculating Hit Percentages:  31%|███       | 347/1136 [11:52<26:57,  2.05s/user]"
          ]
        },
        {
          "name": "stdout",
          "output_type": "stream",
          "text": [
            "Current Average Hit Percentage: 30.29%\n"
          ]
        },
        {
          "name": "stderr",
          "output_type": "stream",
          "text": [
            "Calculating Hit Percentages:  31%|███       | 348/1136 [11:55<26:56,  2.05s/user]"
          ]
        },
        {
          "name": "stdout",
          "output_type": "stream",
          "text": [
            "Current Average Hit Percentage: 30.29%\n"
          ]
        },
        {
          "name": "stderr",
          "output_type": "stream",
          "text": [
            "Calculating Hit Percentages:  31%|███       | 349/1136 [11:57<26:57,  2.06s/user]"
          ]
        },
        {
          "name": "stdout",
          "output_type": "stream",
          "text": [
            "Current Average Hit Percentage: 30.26%\n"
          ]
        },
        {
          "name": "stderr",
          "output_type": "stream",
          "text": [
            "Calculating Hit Percentages:  31%|███       | 350/1136 [11:59<26:56,  2.06s/user]"
          ]
        },
        {
          "name": "stdout",
          "output_type": "stream",
          "text": [
            "Current Average Hit Percentage: 30.26%\n"
          ]
        },
        {
          "name": "stderr",
          "output_type": "stream",
          "text": [
            "Calculating Hit Percentages:  31%|███       | 351/1136 [12:01<26:50,  2.05s/user]"
          ]
        },
        {
          "name": "stdout",
          "output_type": "stream",
          "text": [
            "Current Average Hit Percentage: 30.28%\n"
          ]
        },
        {
          "name": "stderr",
          "output_type": "stream",
          "text": [
            "Calculating Hit Percentages:  31%|███       | 352/1136 [12:03<26:47,  2.05s/user]"
          ]
        },
        {
          "name": "stdout",
          "output_type": "stream",
          "text": [
            "Current Average Hit Percentage: 30.28%\n"
          ]
        },
        {
          "name": "stderr",
          "output_type": "stream",
          "text": [
            "Calculating Hit Percentages:  31%|███       | 353/1136 [12:05<26:43,  2.05s/user]"
          ]
        },
        {
          "name": "stdout",
          "output_type": "stream",
          "text": [
            "Current Average Hit Percentage: 30.28%\n"
          ]
        },
        {
          "name": "stderr",
          "output_type": "stream",
          "text": [
            "Calculating Hit Percentages:  31%|███       | 354/1136 [12:07<26:39,  2.05s/user]"
          ]
        },
        {
          "name": "stdout",
          "output_type": "stream",
          "text": [
            "Current Average Hit Percentage: 30.28%\n"
          ]
        },
        {
          "name": "stderr",
          "output_type": "stream",
          "text": [
            "Calculating Hit Percentages:  31%|███▏      | 355/1136 [12:09<26:39,  2.05s/user]"
          ]
        },
        {
          "name": "stdout",
          "output_type": "stream",
          "text": [
            "Current Average Hit Percentage: 30.25%\n"
          ]
        },
        {
          "name": "stderr",
          "output_type": "stream",
          "text": [
            "Calculating Hit Percentages:  31%|███▏      | 356/1136 [12:11<26:46,  2.06s/user]"
          ]
        },
        {
          "name": "stdout",
          "output_type": "stream",
          "text": [
            "Current Average Hit Percentage: 30.28%\n"
          ]
        },
        {
          "name": "stderr",
          "output_type": "stream",
          "text": [
            "Calculating Hit Percentages:  31%|███▏      | 357/1136 [12:13<26:41,  2.06s/user]"
          ]
        },
        {
          "name": "stdout",
          "output_type": "stream",
          "text": [
            "Current Average Hit Percentage: 30.25%\n"
          ]
        },
        {
          "name": "stderr",
          "output_type": "stream",
          "text": [
            "Calculating Hit Percentages:  32%|███▏      | 358/1136 [12:15<26:36,  2.05s/user]"
          ]
        },
        {
          "name": "stdout",
          "output_type": "stream",
          "text": [
            "Current Average Hit Percentage: 30.31%\n"
          ]
        },
        {
          "name": "stderr",
          "output_type": "stream",
          "text": [
            "Calculating Hit Percentages:  32%|███▏      | 359/1136 [12:17<26:32,  2.05s/user]"
          ]
        },
        {
          "name": "stdout",
          "output_type": "stream",
          "text": [
            "Current Average Hit Percentage: 30.28%\n"
          ]
        },
        {
          "name": "stderr",
          "output_type": "stream",
          "text": [
            "Calculating Hit Percentages:  32%|███▏      | 360/1136 [12:19<26:26,  2.04s/user]"
          ]
        },
        {
          "name": "stdout",
          "output_type": "stream",
          "text": [
            "Current Average Hit Percentage: 30.25%\n"
          ]
        },
        {
          "name": "stderr",
          "output_type": "stream",
          "text": [
            "Calculating Hit Percentages:  32%|███▏      | 361/1136 [12:21<26:23,  2.04s/user]"
          ]
        },
        {
          "name": "stdout",
          "output_type": "stream",
          "text": [
            "Current Average Hit Percentage: 30.30%\n"
          ]
        },
        {
          "name": "stderr",
          "output_type": "stream",
          "text": [
            "Calculating Hit Percentages:  32%|███▏      | 362/1136 [12:23<26:24,  2.05s/user]"
          ]
        },
        {
          "name": "stdout",
          "output_type": "stream",
          "text": [
            "Current Average Hit Percentage: 30.28%\n"
          ]
        },
        {
          "name": "stderr",
          "output_type": "stream",
          "text": [
            "Calculating Hit Percentages:  32%|███▏      | 363/1136 [12:25<26:42,  2.07s/user]"
          ]
        },
        {
          "name": "stdout",
          "output_type": "stream",
          "text": [
            "Current Average Hit Percentage: 30.30%\n"
          ]
        },
        {
          "name": "stderr",
          "output_type": "stream",
          "text": [
            "Calculating Hit Percentages:  32%|███▏      | 364/1136 [12:27<26:40,  2.07s/user]"
          ]
        },
        {
          "name": "stdout",
          "output_type": "stream",
          "text": [
            "Current Average Hit Percentage: 30.33%\n"
          ]
        },
        {
          "name": "stderr",
          "output_type": "stream",
          "text": [
            "Calculating Hit Percentages:  32%|███▏      | 365/1136 [12:29<26:31,  2.06s/user]"
          ]
        },
        {
          "name": "stdout",
          "output_type": "stream",
          "text": [
            "Current Average Hit Percentage: 30.33%\n"
          ]
        },
        {
          "name": "stderr",
          "output_type": "stream",
          "text": [
            "Calculating Hit Percentages:  32%|███▏      | 366/1136 [12:32<26:25,  2.06s/user]"
          ]
        },
        {
          "name": "stdout",
          "output_type": "stream",
          "text": [
            "Current Average Hit Percentage: 30.36%\n"
          ]
        },
        {
          "name": "stderr",
          "output_type": "stream",
          "text": [
            "Calculating Hit Percentages:  32%|███▏      | 367/1136 [12:34<26:22,  2.06s/user]"
          ]
        },
        {
          "name": "stdout",
          "output_type": "stream",
          "text": [
            "Current Average Hit Percentage: 30.33%\n"
          ]
        },
        {
          "name": "stderr",
          "output_type": "stream",
          "text": [
            "Calculating Hit Percentages:  32%|███▏      | 368/1136 [12:36<26:16,  2.05s/user]"
          ]
        },
        {
          "name": "stdout",
          "output_type": "stream",
          "text": [
            "Current Average Hit Percentage: 30.35%\n"
          ]
        },
        {
          "name": "stderr",
          "output_type": "stream",
          "text": [
            "Calculating Hit Percentages:  32%|███▏      | 369/1136 [12:38<26:19,  2.06s/user]"
          ]
        },
        {
          "name": "stdout",
          "output_type": "stream",
          "text": [
            "Current Average Hit Percentage: 30.33%\n"
          ]
        },
        {
          "name": "stderr",
          "output_type": "stream",
          "text": [
            "Calculating Hit Percentages:  33%|███▎      | 370/1136 [12:40<26:22,  2.07s/user]"
          ]
        },
        {
          "name": "stdout",
          "output_type": "stream",
          "text": [
            "Current Average Hit Percentage: 30.30%\n"
          ]
        },
        {
          "name": "stderr",
          "output_type": "stream",
          "text": [
            "Calculating Hit Percentages:  33%|███▎      | 371/1136 [12:42<26:15,  2.06s/user]"
          ]
        },
        {
          "name": "stdout",
          "output_type": "stream",
          "text": [
            "Current Average Hit Percentage: 30.27%\n"
          ]
        },
        {
          "name": "stderr",
          "output_type": "stream",
          "text": [
            "Calculating Hit Percentages:  33%|███▎      | 372/1136 [12:44<26:10,  2.06s/user]"
          ]
        },
        {
          "name": "stdout",
          "output_type": "stream",
          "text": [
            "Current Average Hit Percentage: 30.27%\n"
          ]
        },
        {
          "name": "stderr",
          "output_type": "stream",
          "text": [
            "Calculating Hit Percentages:  33%|███▎      | 373/1136 [12:46<26:05,  2.05s/user]"
          ]
        },
        {
          "name": "stdout",
          "output_type": "stream",
          "text": [
            "Current Average Hit Percentage: 30.29%\n"
          ]
        },
        {
          "name": "stderr",
          "output_type": "stream",
          "text": [
            "Calculating Hit Percentages:  33%|███▎      | 374/1136 [12:48<26:01,  2.05s/user]"
          ]
        },
        {
          "name": "stdout",
          "output_type": "stream",
          "text": [
            "Current Average Hit Percentage: 30.27%\n"
          ]
        },
        {
          "name": "stderr",
          "output_type": "stream",
          "text": [
            "Calculating Hit Percentages:  33%|███▎      | 375/1136 [12:50<25:57,  2.05s/user]"
          ]
        },
        {
          "name": "stdout",
          "output_type": "stream",
          "text": [
            "Current Average Hit Percentage: 30.32%\n"
          ]
        },
        {
          "name": "stderr",
          "output_type": "stream",
          "text": [
            "Calculating Hit Percentages:  33%|███▎      | 376/1136 [12:52<26:12,  2.07s/user]"
          ]
        },
        {
          "name": "stdout",
          "output_type": "stream",
          "text": [
            "Current Average Hit Percentage: 30.32%\n"
          ]
        },
        {
          "name": "stderr",
          "output_type": "stream",
          "text": [
            "Calculating Hit Percentages:  33%|███▎      | 377/1136 [12:54<26:09,  2.07s/user]"
          ]
        },
        {
          "name": "stdout",
          "output_type": "stream",
          "text": [
            "Current Average Hit Percentage: 30.37%\n"
          ]
        },
        {
          "name": "stderr",
          "output_type": "stream",
          "text": [
            "Calculating Hit Percentages:  33%|███▎      | 378/1136 [12:56<26:02,  2.06s/user]"
          ]
        },
        {
          "name": "stdout",
          "output_type": "stream",
          "text": [
            "Current Average Hit Percentage: 30.34%\n"
          ]
        },
        {
          "name": "stderr",
          "output_type": "stream",
          "text": [
            "Calculating Hit Percentages:  33%|███▎      | 379/1136 [12:58<25:58,  2.06s/user]"
          ]
        },
        {
          "name": "stdout",
          "output_type": "stream",
          "text": [
            "Current Average Hit Percentage: 30.40%\n"
          ]
        },
        {
          "name": "stderr",
          "output_type": "stream",
          "text": [
            "Calculating Hit Percentages:  33%|███▎      | 380/1136 [13:00<25:51,  2.05s/user]"
          ]
        },
        {
          "name": "stdout",
          "output_type": "stream",
          "text": [
            "Current Average Hit Percentage: 30.37%\n"
          ]
        },
        {
          "name": "stderr",
          "output_type": "stream",
          "text": [
            "Calculating Hit Percentages:  34%|███▎      | 381/1136 [13:02<25:47,  2.05s/user]"
          ]
        },
        {
          "name": "stdout",
          "output_type": "stream",
          "text": [
            "Current Average Hit Percentage: 30.37%\n"
          ]
        },
        {
          "name": "stderr",
          "output_type": "stream",
          "text": [
            "Calculating Hit Percentages:  34%|███▎      | 382/1136 [13:04<25:48,  2.05s/user]"
          ]
        },
        {
          "name": "stdout",
          "output_type": "stream",
          "text": [
            "Current Average Hit Percentage: 30.37%\n"
          ]
        },
        {
          "name": "stderr",
          "output_type": "stream",
          "text": [
            "Calculating Hit Percentages:  34%|███▎      | 383/1136 [13:07<25:57,  2.07s/user]"
          ]
        },
        {
          "name": "stdout",
          "output_type": "stream",
          "text": [
            "Current Average Hit Percentage: 30.34%\n"
          ]
        },
        {
          "name": "stderr",
          "output_type": "stream",
          "text": [
            "Calculating Hit Percentages:  34%|███▍      | 384/1136 [13:09<25:58,  2.07s/user]"
          ]
        },
        {
          "name": "stdout",
          "output_type": "stream",
          "text": [
            "Current Average Hit Percentage: 30.34%\n"
          ]
        },
        {
          "name": "stderr",
          "output_type": "stream",
          "text": [
            "Calculating Hit Percentages:  34%|███▍      | 385/1136 [13:11<25:50,  2.06s/user]"
          ]
        },
        {
          "name": "stdout",
          "output_type": "stream",
          "text": [
            "Current Average Hit Percentage: 30.39%\n"
          ]
        },
        {
          "name": "stderr",
          "output_type": "stream",
          "text": [
            "Calculating Hit Percentages:  34%|███▍      | 386/1136 [13:13<25:43,  2.06s/user]"
          ]
        },
        {
          "name": "stdout",
          "output_type": "stream",
          "text": [
            "Current Average Hit Percentage: 30.41%\n"
          ]
        },
        {
          "name": "stderr",
          "output_type": "stream",
          "text": [
            "Calculating Hit Percentages:  34%|███▍      | 387/1136 [13:15<25:37,  2.05s/user]"
          ]
        },
        {
          "name": "stdout",
          "output_type": "stream",
          "text": [
            "Current Average Hit Percentage: 30.39%\n"
          ]
        },
        {
          "name": "stderr",
          "output_type": "stream",
          "text": [
            "Calculating Hit Percentages:  34%|███▍      | 388/1136 [13:17<25:33,  2.05s/user]"
          ]
        },
        {
          "name": "stdout",
          "output_type": "stream",
          "text": [
            "Current Average Hit Percentage: 30.36%\n"
          ]
        },
        {
          "name": "stderr",
          "output_type": "stream",
          "text": [
            "Calculating Hit Percentages:  34%|███▍      | 389/1136 [13:19<25:31,  2.05s/user]"
          ]
        },
        {
          "name": "stdout",
          "output_type": "stream",
          "text": [
            "Current Average Hit Percentage: 30.44%\n"
          ]
        },
        {
          "name": "stderr",
          "output_type": "stream",
          "text": [
            "Calculating Hit Percentages:  34%|███▍      | 390/1136 [13:21<25:46,  2.07s/user]"
          ]
        },
        {
          "name": "stdout",
          "output_type": "stream",
          "text": [
            "Current Average Hit Percentage: 30.41%\n"
          ]
        },
        {
          "name": "stderr",
          "output_type": "stream",
          "text": [
            "Calculating Hit Percentages:  34%|███▍      | 391/1136 [13:23<25:38,  2.07s/user]"
          ]
        },
        {
          "name": "stdout",
          "output_type": "stream",
          "text": [
            "Current Average Hit Percentage: 30.43%\n"
          ]
        },
        {
          "name": "stderr",
          "output_type": "stream",
          "text": [
            "Calculating Hit Percentages:  35%|███▍      | 392/1136 [13:25<25:31,  2.06s/user]"
          ]
        },
        {
          "name": "stdout",
          "output_type": "stream",
          "text": [
            "Current Average Hit Percentage: 30.46%\n"
          ]
        },
        {
          "name": "stderr",
          "output_type": "stream",
          "text": [
            "Calculating Hit Percentages:  35%|███▍      | 393/1136 [13:27<25:24,  2.05s/user]"
          ]
        },
        {
          "name": "stdout",
          "output_type": "stream",
          "text": [
            "Current Average Hit Percentage: 30.43%\n"
          ]
        },
        {
          "name": "stderr",
          "output_type": "stream",
          "text": [
            "Calculating Hit Percentages:  35%|███▍      | 394/1136 [13:29<25:18,  2.05s/user]"
          ]
        },
        {
          "name": "stdout",
          "output_type": "stream",
          "text": [
            "Current Average Hit Percentage: 30.46%\n"
          ]
        },
        {
          "name": "stderr",
          "output_type": "stream",
          "text": [
            "Calculating Hit Percentages:  35%|███▍      | 395/1136 [13:31<25:19,  2.05s/user]"
          ]
        },
        {
          "name": "stdout",
          "output_type": "stream",
          "text": [
            "Current Average Hit Percentage: 30.43%\n"
          ]
        },
        {
          "name": "stderr",
          "output_type": "stream",
          "text": [
            "Calculating Hit Percentages:  35%|███▍      | 396/1136 [13:33<25:29,  2.07s/user]"
          ]
        },
        {
          "name": "stdout",
          "output_type": "stream",
          "text": [
            "Current Average Hit Percentage: 30.40%\n"
          ]
        },
        {
          "name": "stderr",
          "output_type": "stream",
          "text": [
            "Calculating Hit Percentages:  35%|███▍      | 397/1136 [13:35<25:36,  2.08s/user]"
          ]
        },
        {
          "name": "stdout",
          "output_type": "stream",
          "text": [
            "Current Average Hit Percentage: 30.40%\n"
          ]
        },
        {
          "name": "stderr",
          "output_type": "stream",
          "text": [
            "Calculating Hit Percentages:  35%|███▌      | 398/1136 [13:37<25:29,  2.07s/user]"
          ]
        },
        {
          "name": "stdout",
          "output_type": "stream",
          "text": [
            "Current Average Hit Percentage: 30.40%\n"
          ]
        },
        {
          "name": "stderr",
          "output_type": "stream",
          "text": [
            "Calculating Hit Percentages:  35%|███▌      | 399/1136 [13:40<25:21,  2.06s/user]"
          ]
        },
        {
          "name": "stdout",
          "output_type": "stream",
          "text": [
            "Current Average Hit Percentage: 30.43%\n"
          ]
        },
        {
          "name": "stderr",
          "output_type": "stream",
          "text": [
            "Calculating Hit Percentages:  35%|███▌      | 400/1136 [13:42<25:17,  2.06s/user]"
          ]
        },
        {
          "name": "stdout",
          "output_type": "stream",
          "text": [
            "Current Average Hit Percentage: 30.43%\n"
          ]
        },
        {
          "name": "stderr",
          "output_type": "stream",
          "text": [
            "Calculating Hit Percentages:  35%|███▌      | 401/1136 [13:44<25:13,  2.06s/user]"
          ]
        },
        {
          "name": "stdout",
          "output_type": "stream",
          "text": [
            "Current Average Hit Percentage: 30.42%\n"
          ]
        },
        {
          "name": "stderr",
          "output_type": "stream",
          "text": [
            "Calculating Hit Percentages:  35%|███▌      | 402/1136 [13:46<25:08,  2.06s/user]"
          ]
        },
        {
          "name": "stdout",
          "output_type": "stream",
          "text": [
            "Current Average Hit Percentage: 30.45%\n"
          ]
        },
        {
          "name": "stderr",
          "output_type": "stream",
          "text": [
            "Calculating Hit Percentages:  35%|███▌      | 403/1136 [13:48<25:29,  2.09s/user]"
          ]
        },
        {
          "name": "stdout",
          "output_type": "stream",
          "text": [
            "Current Average Hit Percentage: 30.45%\n"
          ]
        },
        {
          "name": "stderr",
          "output_type": "stream",
          "text": [
            "Calculating Hit Percentages:  36%|███▌      | 404/1136 [13:50<25:26,  2.08s/user]"
          ]
        },
        {
          "name": "stdout",
          "output_type": "stream",
          "text": [
            "Current Average Hit Percentage: 30.42%\n"
          ]
        },
        {
          "name": "stderr",
          "output_type": "stream",
          "text": [
            "Calculating Hit Percentages:  36%|███▌      | 405/1136 [13:52<25:16,  2.08s/user]"
          ]
        },
        {
          "name": "stdout",
          "output_type": "stream",
          "text": [
            "Current Average Hit Percentage: 30.40%\n"
          ]
        },
        {
          "name": "stderr",
          "output_type": "stream",
          "text": [
            "Calculating Hit Percentages:  36%|███▌      | 406/1136 [13:54<25:10,  2.07s/user]"
          ]
        },
        {
          "name": "stdout",
          "output_type": "stream",
          "text": [
            "Current Average Hit Percentage: 30.37%\n"
          ]
        },
        {
          "name": "stderr",
          "output_type": "stream",
          "text": [
            "Calculating Hit Percentages:  36%|███▌      | 407/1136 [13:56<25:02,  2.06s/user]"
          ]
        },
        {
          "name": "stdout",
          "output_type": "stream",
          "text": [
            "Current Average Hit Percentage: 30.37%\n"
          ]
        },
        {
          "name": "stderr",
          "output_type": "stream",
          "text": [
            "Calculating Hit Percentages:  36%|███▌      | 408/1136 [13:58<24:56,  2.06s/user]"
          ]
        },
        {
          "name": "stdout",
          "output_type": "stream",
          "text": [
            "Current Average Hit Percentage: 30.34%\n"
          ]
        },
        {
          "name": "stderr",
          "output_type": "stream",
          "text": [
            "Calculating Hit Percentages:  36%|███▌      | 409/1136 [14:00<24:56,  2.06s/user]"
          ]
        },
        {
          "name": "stdout",
          "output_type": "stream",
          "text": [
            "Current Average Hit Percentage: 30.44%\n"
          ]
        },
        {
          "name": "stderr",
          "output_type": "stream",
          "text": [
            "Calculating Hit Percentages:  36%|███▌      | 410/1136 [14:02<25:07,  2.08s/user]"
          ]
        },
        {
          "name": "stdout",
          "output_type": "stream",
          "text": [
            "Current Average Hit Percentage: 30.49%\n"
          ]
        },
        {
          "name": "stderr",
          "output_type": "stream",
          "text": [
            "Calculating Hit Percentages:  36%|███▌      | 411/1136 [14:04<25:00,  2.07s/user]"
          ]
        },
        {
          "name": "stdout",
          "output_type": "stream",
          "text": [
            "Current Average Hit Percentage: 30.49%\n"
          ]
        },
        {
          "name": "stderr",
          "output_type": "stream",
          "text": [
            "Calculating Hit Percentages:  36%|███▋      | 412/1136 [14:06<24:51,  2.06s/user]"
          ]
        },
        {
          "name": "stdout",
          "output_type": "stream",
          "text": [
            "Current Average Hit Percentage: 30.51%\n"
          ]
        },
        {
          "name": "stderr",
          "output_type": "stream",
          "text": [
            "Calculating Hit Percentages:  36%|███▋      | 413/1136 [14:08<24:52,  2.06s/user]"
          ]
        },
        {
          "name": "stdout",
          "output_type": "stream",
          "text": [
            "Current Average Hit Percentage: 30.48%\n"
          ]
        },
        {
          "name": "stderr",
          "output_type": "stream",
          "text": [
            "Calculating Hit Percentages:  36%|███▋      | 414/1136 [14:10<24:45,  2.06s/user]"
          ]
        },
        {
          "name": "stdout",
          "output_type": "stream",
          "text": [
            "Current Average Hit Percentage: 30.46%\n"
          ]
        },
        {
          "name": "stderr",
          "output_type": "stream",
          "text": [
            "Calculating Hit Percentages:  37%|███▋      | 415/1136 [14:13<24:43,  2.06s/user]"
          ]
        },
        {
          "name": "stdout",
          "output_type": "stream",
          "text": [
            "Current Average Hit Percentage: 30.51%\n"
          ]
        },
        {
          "name": "stderr",
          "output_type": "stream",
          "text": [
            "Calculating Hit Percentages:  37%|███▋      | 416/1136 [14:15<24:49,  2.07s/user]"
          ]
        },
        {
          "name": "stdout",
          "output_type": "stream",
          "text": [
            "Current Average Hit Percentage: 30.48%\n"
          ]
        },
        {
          "name": "stderr",
          "output_type": "stream",
          "text": [
            "Calculating Hit Percentages:  37%|███▋      | 417/1136 [14:17<24:55,  2.08s/user]"
          ]
        },
        {
          "name": "stdout",
          "output_type": "stream",
          "text": [
            "Current Average Hit Percentage: 30.46%\n"
          ]
        },
        {
          "name": "stderr",
          "output_type": "stream",
          "text": [
            "Calculating Hit Percentages:  37%|███▋      | 418/1136 [14:19<24:50,  2.08s/user]"
          ]
        },
        {
          "name": "stdout",
          "output_type": "stream",
          "text": [
            "Current Average Hit Percentage: 30.45%\n"
          ]
        },
        {
          "name": "stderr",
          "output_type": "stream",
          "text": [
            "Calculating Hit Percentages:  37%|███▋      | 419/1136 [14:21<24:41,  2.07s/user]"
          ]
        },
        {
          "name": "stdout",
          "output_type": "stream",
          "text": [
            "Current Average Hit Percentage: 30.48%\n"
          ]
        },
        {
          "name": "stderr",
          "output_type": "stream",
          "text": [
            "Calculating Hit Percentages:  37%|███▋      | 420/1136 [14:23<24:36,  2.06s/user]"
          ]
        },
        {
          "name": "stdout",
          "output_type": "stream",
          "text": [
            "Current Average Hit Percentage: 30.48%\n"
          ]
        },
        {
          "name": "stderr",
          "output_type": "stream",
          "text": [
            "Calculating Hit Percentages:  37%|███▋      | 421/1136 [14:25<24:28,  2.05s/user]"
          ]
        },
        {
          "name": "stdout",
          "output_type": "stream",
          "text": [
            "Current Average Hit Percentage: 30.45%\n"
          ]
        },
        {
          "name": "stderr",
          "output_type": "stream",
          "text": [
            "Calculating Hit Percentages:  37%|███▋      | 422/1136 [14:27<24:22,  2.05s/user]"
          ]
        },
        {
          "name": "stdout",
          "output_type": "stream",
          "text": [
            "Current Average Hit Percentage: 30.45%\n"
          ]
        },
        {
          "name": "stderr",
          "output_type": "stream",
          "text": [
            "Calculating Hit Percentages:  37%|███▋      | 423/1136 [14:29<24:31,  2.06s/user]"
          ]
        },
        {
          "name": "stdout",
          "output_type": "stream",
          "text": [
            "Current Average Hit Percentage: 30.47%\n"
          ]
        },
        {
          "name": "stderr",
          "output_type": "stream",
          "text": [
            "Calculating Hit Percentages:  37%|███▋      | 424/1136 [14:31<24:30,  2.07s/user]"
          ]
        },
        {
          "name": "stdout",
          "output_type": "stream",
          "text": [
            "Current Average Hit Percentage: 30.52%\n"
          ]
        },
        {
          "name": "stderr",
          "output_type": "stream",
          "text": [
            "Calculating Hit Percentages:  37%|███▋      | 425/1136 [14:33<24:25,  2.06s/user]"
          ]
        },
        {
          "name": "stdout",
          "output_type": "stream",
          "text": [
            "Current Average Hit Percentage: 30.52%\n"
          ]
        },
        {
          "name": "stderr",
          "output_type": "stream",
          "text": [
            "Calculating Hit Percentages:  38%|███▊      | 426/1136 [14:35<24:17,  2.05s/user]"
          ]
        },
        {
          "name": "stdout",
          "output_type": "stream",
          "text": [
            "Current Average Hit Percentage: 30.49%\n"
          ]
        },
        {
          "name": "stderr",
          "output_type": "stream",
          "text": [
            "Calculating Hit Percentages:  38%|███▊      | 427/1136 [14:37<24:15,  2.05s/user]"
          ]
        },
        {
          "name": "stdout",
          "output_type": "stream",
          "text": [
            "Current Average Hit Percentage: 30.47%\n"
          ]
        },
        {
          "name": "stderr",
          "output_type": "stream",
          "text": [
            "Calculating Hit Percentages:  38%|███▊      | 428/1136 [14:39<24:09,  2.05s/user]"
          ]
        },
        {
          "name": "stdout",
          "output_type": "stream",
          "text": [
            "Current Average Hit Percentage: 30.44%\n"
          ]
        },
        {
          "name": "stderr",
          "output_type": "stream",
          "text": [
            "Calculating Hit Percentages:  38%|███▊      | 429/1136 [14:41<24:08,  2.05s/user]"
          ]
        },
        {
          "name": "stdout",
          "output_type": "stream",
          "text": [
            "Current Average Hit Percentage: 30.42%\n"
          ]
        },
        {
          "name": "stderr",
          "output_type": "stream",
          "text": [
            "Calculating Hit Percentages:  38%|███▊      | 430/1136 [14:44<24:24,  2.07s/user]"
          ]
        },
        {
          "name": "stdout",
          "output_type": "stream",
          "text": [
            "Current Average Hit Percentage: 30.42%\n"
          ]
        },
        {
          "name": "stderr",
          "output_type": "stream",
          "text": [
            "Calculating Hit Percentages:  38%|███▊      | 431/1136 [14:46<24:17,  2.07s/user]"
          ]
        },
        {
          "name": "stdout",
          "output_type": "stream",
          "text": [
            "Current Average Hit Percentage: 30.39%\n"
          ]
        },
        {
          "name": "stderr",
          "output_type": "stream",
          "text": [
            "Calculating Hit Percentages:  38%|███▊      | 432/1136 [14:48<24:16,  2.07s/user]"
          ]
        },
        {
          "name": "stdout",
          "output_type": "stream",
          "text": [
            "Current Average Hit Percentage: 30.46%\n"
          ]
        },
        {
          "name": "stderr",
          "output_type": "stream",
          "text": [
            "Calculating Hit Percentages:  38%|███▊      | 433/1136 [14:50<24:07,  2.06s/user]"
          ]
        },
        {
          "name": "stdout",
          "output_type": "stream",
          "text": [
            "Current Average Hit Percentage: 30.46%\n"
          ]
        },
        {
          "name": "stderr",
          "output_type": "stream",
          "text": [
            "Calculating Hit Percentages:  38%|███▊      | 434/1136 [14:52<24:00,  2.05s/user]"
          ]
        },
        {
          "name": "stdout",
          "output_type": "stream",
          "text": [
            "Current Average Hit Percentage: 30.46%\n"
          ]
        },
        {
          "name": "stderr",
          "output_type": "stream",
          "text": [
            "Calculating Hit Percentages:  38%|███▊      | 435/1136 [14:54<23:57,  2.05s/user]"
          ]
        },
        {
          "name": "stdout",
          "output_type": "stream",
          "text": [
            "Current Average Hit Percentage: 30.44%\n"
          ]
        },
        {
          "name": "stderr",
          "output_type": "stream",
          "text": [
            "Calculating Hit Percentages:  38%|███▊      | 436/1136 [14:56<23:59,  2.06s/user]"
          ]
        },
        {
          "name": "stdout",
          "output_type": "stream",
          "text": [
            "Current Average Hit Percentage: 30.44%\n"
          ]
        },
        {
          "name": "stderr",
          "output_type": "stream",
          "text": [
            "Calculating Hit Percentages:  38%|███▊      | 437/1136 [14:58<24:11,  2.08s/user]"
          ]
        },
        {
          "name": "stdout",
          "output_type": "stream",
          "text": [
            "Current Average Hit Percentage: 30.41%\n"
          ]
        },
        {
          "name": "stderr",
          "output_type": "stream",
          "text": [
            "Calculating Hit Percentages:  39%|███▊      | 438/1136 [15:00<24:03,  2.07s/user]"
          ]
        },
        {
          "name": "stdout",
          "output_type": "stream",
          "text": [
            "Current Average Hit Percentage: 30.39%\n"
          ]
        },
        {
          "name": "stderr",
          "output_type": "stream",
          "text": [
            "Calculating Hit Percentages:  39%|███▊      | 439/1136 [15:02<23:55,  2.06s/user]"
          ]
        },
        {
          "name": "stdout",
          "output_type": "stream",
          "text": [
            "Current Average Hit Percentage: 30.36%\n"
          ]
        },
        {
          "name": "stderr",
          "output_type": "stream",
          "text": [
            "Calculating Hit Percentages:  39%|███▊      | 440/1136 [15:04<23:48,  2.05s/user]"
          ]
        },
        {
          "name": "stdout",
          "output_type": "stream",
          "text": [
            "Current Average Hit Percentage: 30.36%\n"
          ]
        },
        {
          "name": "stderr",
          "output_type": "stream",
          "text": [
            "Calculating Hit Percentages:  39%|███▉      | 441/1136 [15:06<23:43,  2.05s/user]"
          ]
        },
        {
          "name": "stdout",
          "output_type": "stream",
          "text": [
            "Current Average Hit Percentage: 30.39%\n"
          ]
        },
        {
          "name": "stderr",
          "output_type": "stream",
          "text": [
            "Calculating Hit Percentages:  39%|███▉      | 442/1136 [15:08<23:40,  2.05s/user]"
          ]
        },
        {
          "name": "stdout",
          "output_type": "stream",
          "text": [
            "Current Average Hit Percentage: 30.36%\n"
          ]
        },
        {
          "name": "stderr",
          "output_type": "stream",
          "text": [
            "Calculating Hit Percentages:  39%|███▉      | 443/1136 [15:10<23:51,  2.07s/user]"
          ]
        },
        {
          "name": "stdout",
          "output_type": "stream",
          "text": [
            "Current Average Hit Percentage: 30.34%\n"
          ]
        },
        {
          "name": "stderr",
          "output_type": "stream",
          "text": [
            "Calculating Hit Percentages:  39%|███▉      | 444/1136 [15:12<23:52,  2.07s/user]"
          ]
        },
        {
          "name": "stdout",
          "output_type": "stream",
          "text": [
            "Current Average Hit Percentage: 30.32%\n"
          ]
        },
        {
          "name": "stderr",
          "output_type": "stream",
          "text": [
            "Calculating Hit Percentages:  39%|███▉      | 445/1136 [15:14<23:46,  2.06s/user]"
          ]
        },
        {
          "name": "stdout",
          "output_type": "stream",
          "text": [
            "Current Average Hit Percentage: 30.31%\n"
          ]
        },
        {
          "name": "stderr",
          "output_type": "stream",
          "text": [
            "Calculating Hit Percentages:  39%|███▉      | 446/1136 [15:16<23:41,  2.06s/user]"
          ]
        },
        {
          "name": "stdout",
          "output_type": "stream",
          "text": [
            "Current Average Hit Percentage: 30.29%\n"
          ]
        },
        {
          "name": "stderr",
          "output_type": "stream",
          "text": [
            "Calculating Hit Percentages:  39%|███▉      | 447/1136 [15:18<23:34,  2.05s/user]"
          ]
        },
        {
          "name": "stdout",
          "output_type": "stream",
          "text": [
            "Current Average Hit Percentage: 30.34%\n"
          ]
        },
        {
          "name": "stderr",
          "output_type": "stream",
          "text": [
            "Calculating Hit Percentages:  39%|███▉      | 448/1136 [15:21<23:31,  2.05s/user]"
          ]
        },
        {
          "name": "stdout",
          "output_type": "stream",
          "text": [
            "Current Average Hit Percentage: 30.33%\n"
          ]
        },
        {
          "name": "stderr",
          "output_type": "stream",
          "text": [
            "Calculating Hit Percentages:  40%|███▉      | 449/1136 [15:23<23:29,  2.05s/user]"
          ]
        },
        {
          "name": "stdout",
          "output_type": "stream",
          "text": [
            "Current Average Hit Percentage: 30.31%\n"
          ]
        },
        {
          "name": "stderr",
          "output_type": "stream",
          "text": [
            "Calculating Hit Percentages:  40%|███▉      | 450/1136 [15:25<23:43,  2.07s/user]"
          ]
        },
        {
          "name": "stdout",
          "output_type": "stream",
          "text": [
            "Current Average Hit Percentage: 30.36%\n"
          ]
        },
        {
          "name": "stderr",
          "output_type": "stream",
          "text": [
            "Calculating Hit Percentages:  40%|███▉      | 451/1136 [15:27<23:40,  2.07s/user]"
          ]
        },
        {
          "name": "stdout",
          "output_type": "stream",
          "text": [
            "Current Average Hit Percentage: 30.35%\n"
          ]
        },
        {
          "name": "stderr",
          "output_type": "stream",
          "text": [
            "Calculating Hit Percentages:  40%|███▉      | 452/1136 [15:29<23:32,  2.06s/user]"
          ]
        },
        {
          "name": "stdout",
          "output_type": "stream",
          "text": [
            "Current Average Hit Percentage: 30.40%\n"
          ]
        },
        {
          "name": "stderr",
          "output_type": "stream",
          "text": [
            "Calculating Hit Percentages:  40%|███▉      | 453/1136 [15:31<23:28,  2.06s/user]"
          ]
        },
        {
          "name": "stdout",
          "output_type": "stream",
          "text": [
            "Current Average Hit Percentage: 30.42%\n"
          ]
        },
        {
          "name": "stderr",
          "output_type": "stream",
          "text": [
            "Calculating Hit Percentages:  40%|███▉      | 454/1136 [15:33<23:24,  2.06s/user]"
          ]
        },
        {
          "name": "stdout",
          "output_type": "stream",
          "text": [
            "Current Average Hit Percentage: 30.44%\n"
          ]
        },
        {
          "name": "stderr",
          "output_type": "stream",
          "text": [
            "Calculating Hit Percentages:  40%|████      | 455/1136 [15:35<23:16,  2.05s/user]"
          ]
        },
        {
          "name": "stdout",
          "output_type": "stream",
          "text": [
            "Current Average Hit Percentage: 30.42%\n"
          ]
        },
        {
          "name": "stderr",
          "output_type": "stream",
          "text": [
            "Calculating Hit Percentages:  40%|████      | 456/1136 [15:37<23:15,  2.05s/user]"
          ]
        },
        {
          "name": "stdout",
          "output_type": "stream",
          "text": [
            "Current Average Hit Percentage: 30.39%\n"
          ]
        },
        {
          "name": "stderr",
          "output_type": "stream",
          "text": [
            "Calculating Hit Percentages:  40%|████      | 457/1136 [15:39<23:22,  2.06s/user]"
          ]
        },
        {
          "name": "stdout",
          "output_type": "stream",
          "text": [
            "Current Average Hit Percentage: 30.44%\n"
          ]
        },
        {
          "name": "stderr",
          "output_type": "stream",
          "text": [
            "Calculating Hit Percentages:  40%|████      | 458/1136 [15:41<23:18,  2.06s/user]"
          ]
        },
        {
          "name": "stdout",
          "output_type": "stream",
          "text": [
            "Current Average Hit Percentage: 30.46%\n"
          ]
        },
        {
          "name": "stderr",
          "output_type": "stream",
          "text": [
            "Calculating Hit Percentages:  40%|████      | 459/1136 [15:43<23:14,  2.06s/user]"
          ]
        },
        {
          "name": "stdout",
          "output_type": "stream",
          "text": [
            "Current Average Hit Percentage: 30.46%\n"
          ]
        },
        {
          "name": "stderr",
          "output_type": "stream",
          "text": [
            "Calculating Hit Percentages:  40%|████      | 460/1136 [15:45<23:06,  2.05s/user]"
          ]
        },
        {
          "name": "stdout",
          "output_type": "stream",
          "text": [
            "Current Average Hit Percentage: 30.46%\n"
          ]
        },
        {
          "name": "stderr",
          "output_type": "stream",
          "text": [
            "Calculating Hit Percentages:  41%|████      | 461/1136 [15:47<23:02,  2.05s/user]"
          ]
        },
        {
          "name": "stdout",
          "output_type": "stream",
          "text": [
            "Current Average Hit Percentage: 30.48%\n"
          ]
        },
        {
          "name": "stderr",
          "output_type": "stream",
          "text": [
            "Calculating Hit Percentages:  41%|████      | 462/1136 [15:49<22:57,  2.04s/user]"
          ]
        },
        {
          "name": "stdout",
          "output_type": "stream",
          "text": [
            "Current Average Hit Percentage: 30.45%\n"
          ]
        },
        {
          "name": "stderr",
          "output_type": "stream",
          "text": [
            "Calculating Hit Percentages:  41%|████      | 463/1136 [15:51<23:06,  2.06s/user]"
          ]
        },
        {
          "name": "stdout",
          "output_type": "stream",
          "text": [
            "Current Average Hit Percentage: 30.48%\n"
          ]
        },
        {
          "name": "stderr",
          "output_type": "stream",
          "text": [
            "Calculating Hit Percentages:  41%|████      | 464/1136 [15:54<23:08,  2.07s/user]"
          ]
        },
        {
          "name": "stdout",
          "output_type": "stream",
          "text": [
            "Current Average Hit Percentage: 30.52%\n"
          ]
        },
        {
          "name": "stderr",
          "output_type": "stream",
          "text": [
            "Calculating Hit Percentages:  41%|████      | 465/1136 [15:56<23:02,  2.06s/user]"
          ]
        },
        {
          "name": "stdout",
          "output_type": "stream",
          "text": [
            "Current Average Hit Percentage: 30.49%\n"
          ]
        },
        {
          "name": "stderr",
          "output_type": "stream",
          "text": [
            "Calculating Hit Percentages:  41%|████      | 466/1136 [15:58<22:58,  2.06s/user]"
          ]
        },
        {
          "name": "stdout",
          "output_type": "stream",
          "text": [
            "Current Average Hit Percentage: 30.49%\n"
          ]
        },
        {
          "name": "stderr",
          "output_type": "stream",
          "text": [
            "Calculating Hit Percentages:  41%|████      | 467/1136 [16:00<22:52,  2.05s/user]"
          ]
        },
        {
          "name": "stdout",
          "output_type": "stream",
          "text": [
            "Current Average Hit Percentage: 30.54%\n"
          ]
        },
        {
          "name": "stderr",
          "output_type": "stream",
          "text": [
            "Calculating Hit Percentages:  41%|████      | 468/1136 [16:02<22:48,  2.05s/user]"
          ]
        },
        {
          "name": "stdout",
          "output_type": "stream",
          "text": [
            "Current Average Hit Percentage: 30.53%\n"
          ]
        },
        {
          "name": "stderr",
          "output_type": "stream",
          "text": [
            "Calculating Hit Percentages:  41%|████▏     | 469/1136 [16:04<22:44,  2.05s/user]"
          ]
        },
        {
          "name": "stdout",
          "output_type": "stream",
          "text": [
            "Current Average Hit Percentage: 30.53%\n"
          ]
        },
        {
          "name": "stderr",
          "output_type": "stream",
          "text": [
            "Calculating Hit Percentages:  41%|████▏     | 470/1136 [16:06<22:49,  2.06s/user]"
          ]
        },
        {
          "name": "stdout",
          "output_type": "stream",
          "text": [
            "Current Average Hit Percentage: 30.51%\n"
          ]
        },
        {
          "name": "stderr",
          "output_type": "stream",
          "text": [
            "Calculating Hit Percentages:  41%|████▏     | 471/1136 [16:08<22:49,  2.06s/user]"
          ]
        },
        {
          "name": "stdout",
          "output_type": "stream",
          "text": [
            "Current Average Hit Percentage: 30.49%\n"
          ]
        },
        {
          "name": "stderr",
          "output_type": "stream",
          "text": [
            "Calculating Hit Percentages:  42%|████▏     | 472/1136 [16:10<22:44,  2.05s/user]"
          ]
        },
        {
          "name": "stdout",
          "output_type": "stream",
          "text": [
            "Current Average Hit Percentage: 30.49%\n"
          ]
        },
        {
          "name": "stderr",
          "output_type": "stream",
          "text": [
            "Calculating Hit Percentages:  42%|████▏     | 473/1136 [16:12<22:39,  2.05s/user]"
          ]
        },
        {
          "name": "stdout",
          "output_type": "stream",
          "text": [
            "Current Average Hit Percentage: 30.47%\n"
          ]
        },
        {
          "name": "stderr",
          "output_type": "stream",
          "text": [
            "Calculating Hit Percentages:  42%|████▏     | 474/1136 [16:14<22:34,  2.05s/user]"
          ]
        },
        {
          "name": "stdout",
          "output_type": "stream",
          "text": [
            "Current Average Hit Percentage: 30.44%\n"
          ]
        },
        {
          "name": "stderr",
          "output_type": "stream",
          "text": [
            "Calculating Hit Percentages:  42%|████▏     | 475/1136 [16:16<22:32,  2.05s/user]"
          ]
        },
        {
          "name": "stdout",
          "output_type": "stream",
          "text": [
            "Current Average Hit Percentage: 30.42%\n"
          ]
        },
        {
          "name": "stderr",
          "output_type": "stream",
          "text": [
            "Calculating Hit Percentages:  42%|████▏     | 476/1136 [16:18<22:33,  2.05s/user]"
          ]
        },
        {
          "name": "stdout",
          "output_type": "stream",
          "text": [
            "Current Average Hit Percentage: 30.40%\n"
          ]
        },
        {
          "name": "stderr",
          "output_type": "stream",
          "text": [
            "Calculating Hit Percentages:  42%|████▏     | 477/1136 [16:20<22:39,  2.06s/user]"
          ]
        },
        {
          "name": "stdout",
          "output_type": "stream",
          "text": [
            "Current Average Hit Percentage: 30.40%\n"
          ]
        },
        {
          "name": "stderr",
          "output_type": "stream",
          "text": [
            "Calculating Hit Percentages:  42%|████▏     | 478/1136 [16:22<22:38,  2.06s/user]"
          ]
        },
        {
          "name": "stdout",
          "output_type": "stream",
          "text": [
            "Current Average Hit Percentage: 30.40%\n"
          ]
        },
        {
          "name": "stderr",
          "output_type": "stream",
          "text": [
            "Calculating Hit Percentages:  42%|████▏     | 479/1136 [16:24<22:35,  2.06s/user]"
          ]
        },
        {
          "name": "stdout",
          "output_type": "stream",
          "text": [
            "Current Average Hit Percentage: 30.38%\n"
          ]
        },
        {
          "name": "stderr",
          "output_type": "stream",
          "text": [
            "Calculating Hit Percentages:  42%|████▏     | 480/1136 [16:26<22:30,  2.06s/user]"
          ]
        },
        {
          "name": "stdout",
          "output_type": "stream",
          "text": [
            "Current Average Hit Percentage: 30.38%\n"
          ]
        },
        {
          "name": "stderr",
          "output_type": "stream",
          "text": [
            "Calculating Hit Percentages:  42%|████▏     | 481/1136 [16:28<22:26,  2.06s/user]"
          ]
        },
        {
          "name": "stdout",
          "output_type": "stream",
          "text": [
            "Current Average Hit Percentage: 30.37%\n"
          ]
        },
        {
          "name": "stderr",
          "output_type": "stream",
          "text": [
            "Calculating Hit Percentages:  42%|████▏     | 482/1136 [16:30<22:24,  2.06s/user]"
          ]
        },
        {
          "name": "stdout",
          "output_type": "stream",
          "text": [
            "Current Average Hit Percentage: 30.41%\n"
          ]
        },
        {
          "name": "stderr",
          "output_type": "stream",
          "text": [
            "Calculating Hit Percentages:  43%|████▎     | 483/1136 [16:33<22:31,  2.07s/user]"
          ]
        },
        {
          "name": "stdout",
          "output_type": "stream",
          "text": [
            "Current Average Hit Percentage: 30.41%\n"
          ]
        },
        {
          "name": "stderr",
          "output_type": "stream",
          "text": [
            "Calculating Hit Percentages:  43%|████▎     | 484/1136 [16:35<22:30,  2.07s/user]"
          ]
        },
        {
          "name": "stdout",
          "output_type": "stream",
          "text": [
            "Current Average Hit Percentage: 30.39%\n"
          ]
        },
        {
          "name": "stderr",
          "output_type": "stream",
          "text": [
            "Calculating Hit Percentages:  43%|████▎     | 485/1136 [16:37<22:22,  2.06s/user]"
          ]
        },
        {
          "name": "stdout",
          "output_type": "stream",
          "text": [
            "Current Average Hit Percentage: 30.37%\n"
          ]
        },
        {
          "name": "stderr",
          "output_type": "stream",
          "text": [
            "Calculating Hit Percentages:  43%|████▎     | 486/1136 [16:39<22:14,  2.05s/user]"
          ]
        },
        {
          "name": "stdout",
          "output_type": "stream",
          "text": [
            "Current Average Hit Percentage: 30.39%\n"
          ]
        },
        {
          "name": "stderr",
          "output_type": "stream",
          "text": [
            "Calculating Hit Percentages:  43%|████▎     | 487/1136 [16:41<22:09,  2.05s/user]"
          ]
        },
        {
          "name": "stdout",
          "output_type": "stream",
          "text": [
            "Current Average Hit Percentage: 30.39%\n"
          ]
        },
        {
          "name": "stderr",
          "output_type": "stream",
          "text": [
            "Calculating Hit Percentages:  43%|████▎     | 488/1136 [16:43<22:06,  2.05s/user]"
          ]
        },
        {
          "name": "stdout",
          "output_type": "stream",
          "text": [
            "Current Average Hit Percentage: 30.37%\n"
          ]
        },
        {
          "name": "stderr",
          "output_type": "stream",
          "text": [
            "Calculating Hit Percentages:  43%|████▎     | 489/1136 [16:45<22:01,  2.04s/user]"
          ]
        },
        {
          "name": "stdout",
          "output_type": "stream",
          "text": [
            "Current Average Hit Percentage: 30.35%\n"
          ]
        },
        {
          "name": "stderr",
          "output_type": "stream",
          "text": [
            "Calculating Hit Percentages:  43%|████▎     | 490/1136 [16:47<22:09,  2.06s/user]"
          ]
        },
        {
          "name": "stdout",
          "output_type": "stream",
          "text": [
            "Current Average Hit Percentage: 30.33%\n"
          ]
        },
        {
          "name": "stderr",
          "output_type": "stream",
          "text": [
            "Calculating Hit Percentages:  43%|████▎     | 491/1136 [16:49<22:06,  2.06s/user]"
          ]
        },
        {
          "name": "stdout",
          "output_type": "stream",
          "text": [
            "Current Average Hit Percentage: 30.33%\n"
          ]
        },
        {
          "name": "stderr",
          "output_type": "stream",
          "text": [
            "Calculating Hit Percentages:  43%|████▎     | 492/1136 [16:51<22:03,  2.05s/user]"
          ]
        },
        {
          "name": "stdout",
          "output_type": "stream",
          "text": [
            "Current Average Hit Percentage: 30.30%\n"
          ]
        },
        {
          "name": "stderr",
          "output_type": "stream",
          "text": [
            "Calculating Hit Percentages:  43%|████▎     | 493/1136 [16:53<21:58,  2.05s/user]"
          ]
        },
        {
          "name": "stdout",
          "output_type": "stream",
          "text": [
            "Current Average Hit Percentage: 30.28%\n"
          ]
        },
        {
          "name": "stderr",
          "output_type": "stream",
          "text": [
            "Calculating Hit Percentages:  43%|████▎     | 494/1136 [16:55<21:56,  2.05s/user]"
          ]
        },
        {
          "name": "stdout",
          "output_type": "stream",
          "text": [
            "Current Average Hit Percentage: 30.26%\n"
          ]
        },
        {
          "name": "stderr",
          "output_type": "stream",
          "text": [
            "Calculating Hit Percentages:  44%|████▎     | 495/1136 [16:57<21:52,  2.05s/user]"
          ]
        },
        {
          "name": "stdout",
          "output_type": "stream",
          "text": [
            "Current Average Hit Percentage: 30.28%\n"
          ]
        },
        {
          "name": "stderr",
          "output_type": "stream",
          "text": [
            "Calculating Hit Percentages:  44%|████▎     | 496/1136 [16:59<21:49,  2.05s/user]"
          ]
        },
        {
          "name": "stdout",
          "output_type": "stream",
          "text": [
            "Current Average Hit Percentage: 30.34%\n"
          ]
        },
        {
          "name": "stderr",
          "output_type": "stream",
          "text": [
            "Calculating Hit Percentages:  44%|████▍     | 497/1136 [17:01<21:54,  2.06s/user]"
          ]
        },
        {
          "name": "stdout",
          "output_type": "stream",
          "text": [
            "Current Average Hit Percentage: 30.36%\n"
          ]
        },
        {
          "name": "stderr",
          "output_type": "stream",
          "text": [
            "Calculating Hit Percentages:  44%|████▍     | 498/1136 [17:03<21:51,  2.06s/user]"
          ]
        },
        {
          "name": "stdout",
          "output_type": "stream",
          "text": [
            "Current Average Hit Percentage: 30.34%\n"
          ]
        },
        {
          "name": "stderr",
          "output_type": "stream",
          "text": [
            "Calculating Hit Percentages:  44%|████▍     | 499/1136 [17:05<21:45,  2.05s/user]"
          ]
        },
        {
          "name": "stdout",
          "output_type": "stream",
          "text": [
            "Current Average Hit Percentage: 30.32%\n"
          ]
        },
        {
          "name": "stderr",
          "output_type": "stream",
          "text": [
            "Calculating Hit Percentages:  44%|████▍     | 500/1136 [17:07<21:40,  2.05s/user]"
          ]
        },
        {
          "name": "stdout",
          "output_type": "stream",
          "text": [
            "Current Average Hit Percentage: 30.34%\n"
          ]
        },
        {
          "name": "stderr",
          "output_type": "stream",
          "text": [
            "Calculating Hit Percentages:  44%|████▍     | 501/1136 [17:09<21:38,  2.05s/user]"
          ]
        },
        {
          "name": "stdout",
          "output_type": "stream",
          "text": [
            "Current Average Hit Percentage: 30.32%\n"
          ]
        },
        {
          "name": "stderr",
          "output_type": "stream",
          "text": [
            "Calculating Hit Percentages:  44%|████▍     | 502/1136 [17:12<21:37,  2.05s/user]"
          ]
        },
        {
          "name": "stdout",
          "output_type": "stream",
          "text": [
            "Current Average Hit Percentage: 30.32%\n"
          ]
        },
        {
          "name": "stderr",
          "output_type": "stream",
          "text": [
            "Calculating Hit Percentages:  44%|████▍     | 503/1136 [17:14<21:36,  2.05s/user]"
          ]
        },
        {
          "name": "stdout",
          "output_type": "stream",
          "text": [
            "Current Average Hit Percentage: 30.30%\n"
          ]
        },
        {
          "name": "stderr",
          "output_type": "stream",
          "text": [
            "Calculating Hit Percentages:  44%|████▍     | 504/1136 [17:16<21:46,  2.07s/user]"
          ]
        },
        {
          "name": "stdout",
          "output_type": "stream",
          "text": [
            "Current Average Hit Percentage: 30.28%\n"
          ]
        },
        {
          "name": "stderr",
          "output_type": "stream",
          "text": [
            "Calculating Hit Percentages:  44%|████▍     | 505/1136 [17:18<21:41,  2.06s/user]"
          ]
        },
        {
          "name": "stdout",
          "output_type": "stream",
          "text": [
            "Current Average Hit Percentage: 30.30%\n"
          ]
        },
        {
          "name": "stderr",
          "output_type": "stream",
          "text": [
            "Calculating Hit Percentages:  45%|████▍     | 506/1136 [17:20<21:33,  2.05s/user]"
          ]
        },
        {
          "name": "stdout",
          "output_type": "stream",
          "text": [
            "Current Average Hit Percentage: 30.28%\n"
          ]
        },
        {
          "name": "stderr",
          "output_type": "stream",
          "text": [
            "Calculating Hit Percentages:  45%|████▍     | 507/1136 [17:22<21:32,  2.05s/user]"
          ]
        },
        {
          "name": "stdout",
          "output_type": "stream",
          "text": [
            "Current Average Hit Percentage: 30.30%\n"
          ]
        },
        {
          "name": "stderr",
          "output_type": "stream",
          "text": [
            "Calculating Hit Percentages:  45%|████▍     | 508/1136 [17:24<21:28,  2.05s/user]"
          ]
        },
        {
          "name": "stdout",
          "output_type": "stream",
          "text": [
            "Current Average Hit Percentage: 30.28%\n"
          ]
        },
        {
          "name": "stderr",
          "output_type": "stream",
          "text": [
            "Calculating Hit Percentages:  45%|████▍     | 509/1136 [17:26<21:22,  2.04s/user]"
          ]
        },
        {
          "name": "stdout",
          "output_type": "stream",
          "text": [
            "Current Average Hit Percentage: 30.26%\n"
          ]
        },
        {
          "name": "stderr",
          "output_type": "stream",
          "text": [
            "Calculating Hit Percentages:  45%|████▍     | 510/1136 [17:28<21:27,  2.06s/user]"
          ]
        },
        {
          "name": "stdout",
          "output_type": "stream",
          "text": [
            "Current Average Hit Percentage: 30.25%\n"
          ]
        },
        {
          "name": "stderr",
          "output_type": "stream",
          "text": [
            "Calculating Hit Percentages:  45%|████▍     | 511/1136 [17:30<21:29,  2.06s/user]"
          ]
        },
        {
          "name": "stdout",
          "output_type": "stream",
          "text": [
            "Current Average Hit Percentage: 30.23%\n"
          ]
        },
        {
          "name": "stderr",
          "output_type": "stream",
          "text": [
            "Calculating Hit Percentages:  45%|████▌     | 512/1136 [17:32<21:24,  2.06s/user]"
          ]
        },
        {
          "name": "stdout",
          "output_type": "stream",
          "text": [
            "Current Average Hit Percentage: 30.21%\n"
          ]
        },
        {
          "name": "stderr",
          "output_type": "stream",
          "text": [
            "Calculating Hit Percentages:  45%|████▌     | 513/1136 [17:34<21:19,  2.05s/user]"
          ]
        },
        {
          "name": "stdout",
          "output_type": "stream",
          "text": [
            "Current Average Hit Percentage: 30.19%\n"
          ]
        },
        {
          "name": "stderr",
          "output_type": "stream",
          "text": [
            "Calculating Hit Percentages:  45%|████▌     | 514/1136 [17:36<21:14,  2.05s/user]"
          ]
        },
        {
          "name": "stdout",
          "output_type": "stream",
          "text": [
            "Current Average Hit Percentage: 30.21%\n"
          ]
        },
        {
          "name": "stderr",
          "output_type": "stream",
          "text": [
            "Calculating Hit Percentages:  45%|████▌     | 515/1136 [17:38<21:09,  2.04s/user]"
          ]
        },
        {
          "name": "stdout",
          "output_type": "stream",
          "text": [
            "Current Average Hit Percentage: 30.19%\n"
          ]
        },
        {
          "name": "stderr",
          "output_type": "stream",
          "text": [
            "Calculating Hit Percentages:  45%|████▌     | 516/1136 [17:40<21:06,  2.04s/user]"
          ]
        },
        {
          "name": "stdout",
          "output_type": "stream",
          "text": [
            "Current Average Hit Percentage: 30.25%\n"
          ]
        },
        {
          "name": "stderr",
          "output_type": "stream",
          "text": [
            "Calculating Hit Percentages:  46%|████▌     | 517/1136 [17:42<21:12,  2.06s/user]"
          ]
        },
        {
          "name": "stdout",
          "output_type": "stream",
          "text": [
            "Current Average Hit Percentage: 30.23%\n"
          ]
        },
        {
          "name": "stderr",
          "output_type": "stream",
          "text": [
            "Calculating Hit Percentages:  46%|████▌     | 518/1136 [17:44<21:13,  2.06s/user]"
          ]
        },
        {
          "name": "stdout",
          "output_type": "stream",
          "text": [
            "Current Average Hit Percentage: 30.23%\n"
          ]
        },
        {
          "name": "stderr",
          "output_type": "stream",
          "text": [
            "Calculating Hit Percentages:  46%|████▌     | 519/1136 [17:46<21:15,  2.07s/user]"
          ]
        },
        {
          "name": "stdout",
          "output_type": "stream",
          "text": [
            "Current Average Hit Percentage: 30.25%\n"
          ]
        },
        {
          "name": "stderr",
          "output_type": "stream",
          "text": [
            "Calculating Hit Percentages:  46%|████▌     | 520/1136 [17:49<21:08,  2.06s/user]"
          ]
        },
        {
          "name": "stdout",
          "output_type": "stream",
          "text": [
            "Current Average Hit Percentage: 30.29%\n"
          ]
        },
        {
          "name": "stderr",
          "output_type": "stream",
          "text": [
            "Calculating Hit Percentages:  46%|████▌     | 521/1136 [17:51<21:02,  2.05s/user]"
          ]
        },
        {
          "name": "stdout",
          "output_type": "stream",
          "text": [
            "Current Average Hit Percentage: 30.33%\n"
          ]
        },
        {
          "name": "stderr",
          "output_type": "stream",
          "text": [
            "Calculating Hit Percentages:  46%|████▌     | 522/1136 [17:53<20:56,  2.05s/user]"
          ]
        },
        {
          "name": "stdout",
          "output_type": "stream",
          "text": [
            "Current Average Hit Percentage: 30.31%\n"
          ]
        },
        {
          "name": "stderr",
          "output_type": "stream",
          "text": [
            "Calculating Hit Percentages:  46%|████▌     | 523/1136 [17:55<20:58,  2.05s/user]"
          ]
        },
        {
          "name": "stdout",
          "output_type": "stream",
          "text": [
            "Current Average Hit Percentage: 30.29%\n"
          ]
        },
        {
          "name": "stderr",
          "output_type": "stream",
          "text": [
            "Calculating Hit Percentages:  46%|████▌     | 524/1136 [17:57<21:08,  2.07s/user]"
          ]
        },
        {
          "name": "stdout",
          "output_type": "stream",
          "text": [
            "Current Average Hit Percentage: 30.32%\n"
          ]
        },
        {
          "name": "stderr",
          "output_type": "stream",
          "text": [
            "Calculating Hit Percentages:  46%|████▌     | 525/1136 [17:59<21:02,  2.07s/user]"
          ]
        },
        {
          "name": "stdout",
          "output_type": "stream",
          "text": [
            "Current Average Hit Percentage: 30.38%\n"
          ]
        },
        {
          "name": "stderr",
          "output_type": "stream",
          "text": [
            "Calculating Hit Percentages:  46%|████▋     | 526/1136 [18:01<21:02,  2.07s/user]"
          ]
        },
        {
          "name": "stdout",
          "output_type": "stream",
          "text": [
            "Current Average Hit Percentage: 30.38%\n"
          ]
        },
        {
          "name": "stderr",
          "output_type": "stream",
          "text": [
            "Calculating Hit Percentages:  46%|████▋     | 527/1136 [18:03<20:57,  2.07s/user]"
          ]
        },
        {
          "name": "stdout",
          "output_type": "stream",
          "text": [
            "Current Average Hit Percentage: 30.40%\n"
          ]
        },
        {
          "name": "stderr",
          "output_type": "stream",
          "text": [
            "Calculating Hit Percentages:  46%|████▋     | 528/1136 [18:05<20:53,  2.06s/user]"
          ]
        },
        {
          "name": "stdout",
          "output_type": "stream",
          "text": [
            "Current Average Hit Percentage: 30.38%\n"
          ]
        },
        {
          "name": "stderr",
          "output_type": "stream",
          "text": [
            "Calculating Hit Percentages:  47%|████▋     | 529/1136 [18:07<20:47,  2.06s/user]"
          ]
        },
        {
          "name": "stdout",
          "output_type": "stream",
          "text": [
            "Current Average Hit Percentage: 30.40%\n"
          ]
        },
        {
          "name": "stderr",
          "output_type": "stream",
          "text": [
            "Calculating Hit Percentages:  47%|████▋     | 530/1136 [18:09<20:47,  2.06s/user]"
          ]
        },
        {
          "name": "stdout",
          "output_type": "stream",
          "text": [
            "Current Average Hit Percentage: 30.38%\n"
          ]
        },
        {
          "name": "stderr",
          "output_type": "stream",
          "text": [
            "Calculating Hit Percentages:  47%|████▋     | 531/1136 [18:11<20:52,  2.07s/user]"
          ]
        },
        {
          "name": "stdout",
          "output_type": "stream",
          "text": [
            "Current Average Hit Percentage: 30.40%\n"
          ]
        },
        {
          "name": "stderr",
          "output_type": "stream",
          "text": [
            "Calculating Hit Percentages:  47%|████▋     | 532/1136 [18:13<20:47,  2.07s/user]"
          ]
        },
        {
          "name": "stdout",
          "output_type": "stream",
          "text": [
            "Current Average Hit Percentage: 30.39%\n"
          ]
        },
        {
          "name": "stderr",
          "output_type": "stream",
          "text": [
            "Calculating Hit Percentages:  47%|████▋     | 533/1136 [18:15<20:42,  2.06s/user]"
          ]
        },
        {
          "name": "stdout",
          "output_type": "stream",
          "text": [
            "Current Average Hit Percentage: 30.41%\n"
          ]
        },
        {
          "name": "stderr",
          "output_type": "stream",
          "text": [
            "Calculating Hit Percentages:  47%|████▋     | 534/1136 [18:17<20:34,  2.05s/user]"
          ]
        },
        {
          "name": "stdout",
          "output_type": "stream",
          "text": [
            "Current Average Hit Percentage: 30.41%\n"
          ]
        },
        {
          "name": "stderr",
          "output_type": "stream",
          "text": [
            "Calculating Hit Percentages:  47%|████▋     | 535/1136 [18:19<20:27,  2.04s/user]"
          ]
        },
        {
          "name": "stdout",
          "output_type": "stream",
          "text": [
            "Current Average Hit Percentage: 30.45%\n"
          ]
        },
        {
          "name": "stderr",
          "output_type": "stream",
          "text": [
            "Calculating Hit Percentages:  47%|████▋     | 536/1136 [18:21<20:24,  2.04s/user]"
          ]
        },
        {
          "name": "stdout",
          "output_type": "stream",
          "text": [
            "Current Average Hit Percentage: 30.41%\n"
          ]
        },
        {
          "name": "stderr",
          "output_type": "stream",
          "text": [
            "Calculating Hit Percentages:  47%|████▋     | 537/1136 [18:23<20:29,  2.05s/user]"
          ]
        },
        {
          "name": "stdout",
          "output_type": "stream",
          "text": [
            "Current Average Hit Percentage: 30.41%\n"
          ]
        },
        {
          "name": "stderr",
          "output_type": "stream",
          "text": [
            "Calculating Hit Percentages:  47%|████▋     | 538/1136 [18:26<20:36,  2.07s/user]"
          ]
        },
        {
          "name": "stdout",
          "output_type": "stream",
          "text": [
            "Current Average Hit Percentage: 30.41%\n"
          ]
        },
        {
          "name": "stderr",
          "output_type": "stream",
          "text": [
            "Calculating Hit Percentages:  47%|████▋     | 539/1136 [18:28<20:30,  2.06s/user]"
          ]
        },
        {
          "name": "stdout",
          "output_type": "stream",
          "text": [
            "Current Average Hit Percentage: 30.41%\n"
          ]
        },
        {
          "name": "stderr",
          "output_type": "stream",
          "text": [
            "Calculating Hit Percentages:  48%|████▊     | 540/1136 [18:30<20:22,  2.05s/user]"
          ]
        },
        {
          "name": "stdout",
          "output_type": "stream",
          "text": [
            "Current Average Hit Percentage: 30.41%\n"
          ]
        },
        {
          "name": "stderr",
          "output_type": "stream",
          "text": [
            "Calculating Hit Percentages:  48%|████▊     | 541/1136 [18:32<20:17,  2.05s/user]"
          ]
        },
        {
          "name": "stdout",
          "output_type": "stream",
          "text": [
            "Current Average Hit Percentage: 30.39%\n"
          ]
        },
        {
          "name": "stderr",
          "output_type": "stream",
          "text": [
            "Calculating Hit Percentages:  48%|████▊     | 542/1136 [18:34<20:13,  2.04s/user]"
          ]
        },
        {
          "name": "stdout",
          "output_type": "stream",
          "text": [
            "Current Average Hit Percentage: 30.44%\n"
          ]
        },
        {
          "name": "stderr",
          "output_type": "stream",
          "text": [
            "Calculating Hit Percentages:  48%|████▊     | 543/1136 [18:36<20:09,  2.04s/user]"
          ]
        },
        {
          "name": "stdout",
          "output_type": "stream",
          "text": [
            "Current Average Hit Percentage: 30.42%\n"
          ]
        },
        {
          "name": "stderr",
          "output_type": "stream",
          "text": [
            "Calculating Hit Percentages:  48%|████▊     | 544/1136 [18:38<20:18,  2.06s/user]"
          ]
        },
        {
          "name": "stdout",
          "output_type": "stream",
          "text": [
            "Current Average Hit Percentage: 30.40%\n"
          ]
        },
        {
          "name": "stderr",
          "output_type": "stream",
          "text": [
            "Calculating Hit Percentages:  48%|████▊     | 545/1136 [18:40<20:17,  2.06s/user]"
          ]
        },
        {
          "name": "stdout",
          "output_type": "stream",
          "text": [
            "Current Average Hit Percentage: 30.40%\n"
          ]
        },
        {
          "name": "stderr",
          "output_type": "stream",
          "text": [
            "Calculating Hit Percentages:  48%|████▊     | 546/1136 [18:42<20:12,  2.06s/user]"
          ]
        },
        {
          "name": "stdout",
          "output_type": "stream",
          "text": [
            "Current Average Hit Percentage: 30.40%\n"
          ]
        },
        {
          "name": "stderr",
          "output_type": "stream",
          "text": [
            "Calculating Hit Percentages:  48%|████▊     | 547/1136 [18:44<20:07,  2.05s/user]"
          ]
        },
        {
          "name": "stdout",
          "output_type": "stream",
          "text": [
            "Current Average Hit Percentage: 30.38%\n"
          ]
        },
        {
          "name": "stderr",
          "output_type": "stream",
          "text": [
            "Calculating Hit Percentages:  48%|████▊     | 548/1136 [18:46<20:03,  2.05s/user]"
          ]
        },
        {
          "name": "stdout",
          "output_type": "stream",
          "text": [
            "Current Average Hit Percentage: 30.36%\n"
          ]
        },
        {
          "name": "stderr",
          "output_type": "stream",
          "text": [
            "Calculating Hit Percentages:  48%|████▊     | 549/1136 [18:48<19:59,  2.04s/user]"
          ]
        },
        {
          "name": "stdout",
          "output_type": "stream",
          "text": [
            "Current Average Hit Percentage: 30.36%\n"
          ]
        },
        {
          "name": "stderr",
          "output_type": "stream",
          "text": [
            "Calculating Hit Percentages:  48%|████▊     | 550/1136 [18:50<19:54,  2.04s/user]"
          ]
        },
        {
          "name": "stdout",
          "output_type": "stream",
          "text": [
            "Current Average Hit Percentage: 30.35%\n"
          ]
        },
        {
          "name": "stderr",
          "output_type": "stream",
          "text": [
            "Calculating Hit Percentages:  49%|████▊     | 551/1136 [18:52<19:59,  2.05s/user]"
          ]
        },
        {
          "name": "stdout",
          "output_type": "stream",
          "text": [
            "Current Average Hit Percentage: 30.34%\n"
          ]
        },
        {
          "name": "stderr",
          "output_type": "stream",
          "text": [
            "Calculating Hit Percentages:  49%|████▊     | 552/1136 [18:54<19:57,  2.05s/user]"
          ]
        },
        {
          "name": "stdout",
          "output_type": "stream",
          "text": [
            "Current Average Hit Percentage: 30.33%\n"
          ]
        },
        {
          "name": "stderr",
          "output_type": "stream",
          "text": [
            "Calculating Hit Percentages:  49%|████▊     | 553/1136 [18:56<19:53,  2.05s/user]"
          ]
        },
        {
          "name": "stdout",
          "output_type": "stream",
          "text": [
            "Current Average Hit Percentage: 30.36%\n"
          ]
        },
        {
          "name": "stderr",
          "output_type": "stream",
          "text": [
            "Calculating Hit Percentages:  49%|████▉     | 554/1136 [18:58<19:50,  2.04s/user]"
          ]
        },
        {
          "name": "stdout",
          "output_type": "stream",
          "text": [
            "Current Average Hit Percentage: 30.38%\n"
          ]
        },
        {
          "name": "stderr",
          "output_type": "stream",
          "text": [
            "Calculating Hit Percentages:  49%|████▉     | 555/1136 [19:00<19:48,  2.05s/user]"
          ]
        },
        {
          "name": "stdout",
          "output_type": "stream",
          "text": [
            "Current Average Hit Percentage: 30.36%\n"
          ]
        },
        {
          "name": "stderr",
          "output_type": "stream",
          "text": [
            "Calculating Hit Percentages:  49%|████▉     | 556/1136 [19:02<19:45,  2.04s/user]"
          ]
        },
        {
          "name": "stdout",
          "output_type": "stream",
          "text": [
            "Current Average Hit Percentage: 30.38%\n"
          ]
        },
        {
          "name": "stderr",
          "output_type": "stream",
          "text": [
            "Calculating Hit Percentages:  49%|████▉     | 557/1136 [19:04<19:44,  2.05s/user]"
          ]
        },
        {
          "name": "stdout",
          "output_type": "stream",
          "text": [
            "Current Average Hit Percentage: 30.38%\n"
          ]
        },
        {
          "name": "stderr",
          "output_type": "stream",
          "text": [
            "Calculating Hit Percentages:  49%|████▉     | 558/1136 [19:07<19:49,  2.06s/user]"
          ]
        },
        {
          "name": "stdout",
          "output_type": "stream",
          "text": [
            "Current Average Hit Percentage: 30.36%\n"
          ]
        },
        {
          "name": "stderr",
          "output_type": "stream",
          "text": [
            "Calculating Hit Percentages:  49%|████▉     | 559/1136 [19:09<19:49,  2.06s/user]"
          ]
        },
        {
          "name": "stdout",
          "output_type": "stream",
          "text": [
            "Current Average Hit Percentage: 30.34%\n"
          ]
        },
        {
          "name": "stderr",
          "output_type": "stream",
          "text": [
            "Calculating Hit Percentages:  49%|████▉     | 560/1136 [19:11<19:41,  2.05s/user]"
          ]
        },
        {
          "name": "stdout",
          "output_type": "stream",
          "text": [
            "Current Average Hit Percentage: 30.32%\n"
          ]
        },
        {
          "name": "stderr",
          "output_type": "stream",
          "text": [
            "Calculating Hit Percentages:  49%|████▉     | 561/1136 [19:13<19:37,  2.05s/user]"
          ]
        },
        {
          "name": "stdout",
          "output_type": "stream",
          "text": [
            "Current Average Hit Percentage: 30.32%\n"
          ]
        },
        {
          "name": "stderr",
          "output_type": "stream",
          "text": [
            "Calculating Hit Percentages:  49%|████▉     | 562/1136 [19:15<19:32,  2.04s/user]"
          ]
        },
        {
          "name": "stdout",
          "output_type": "stream",
          "text": [
            "Current Average Hit Percentage: 30.30%\n"
          ]
        },
        {
          "name": "stderr",
          "output_type": "stream",
          "text": [
            "Calculating Hit Percentages:  50%|████▉     | 563/1136 [19:17<19:27,  2.04s/user]"
          ]
        },
        {
          "name": "stdout",
          "output_type": "stream",
          "text": [
            "Current Average Hit Percentage: 30.34%\n"
          ]
        },
        {
          "name": "stderr",
          "output_type": "stream",
          "text": [
            "Calculating Hit Percentages:  50%|████▉     | 564/1136 [19:19<19:29,  2.05s/user]"
          ]
        },
        {
          "name": "stdout",
          "output_type": "stream",
          "text": [
            "Current Average Hit Percentage: 30.34%\n"
          ]
        },
        {
          "name": "stderr",
          "output_type": "stream",
          "text": [
            "Calculating Hit Percentages:  50%|████▉     | 565/1136 [19:21<19:31,  2.05s/user]"
          ]
        },
        {
          "name": "stdout",
          "output_type": "stream",
          "text": [
            "Current Average Hit Percentage: 30.32%\n"
          ]
        },
        {
          "name": "stderr",
          "output_type": "stream",
          "text": [
            "Calculating Hit Percentages:  50%|████▉     | 566/1136 [19:23<19:27,  2.05s/user]"
          ]
        },
        {
          "name": "stdout",
          "output_type": "stream",
          "text": [
            "Current Average Hit Percentage: 30.39%\n"
          ]
        },
        {
          "name": "stderr",
          "output_type": "stream",
          "text": [
            "Calculating Hit Percentages:  50%|████▉     | 567/1136 [19:25<19:22,  2.04s/user]"
          ]
        },
        {
          "name": "stdout",
          "output_type": "stream",
          "text": [
            "Current Average Hit Percentage: 30.37%\n"
          ]
        },
        {
          "name": "stderr",
          "output_type": "stream",
          "text": [
            "Calculating Hit Percentages:  50%|█████     | 568/1136 [19:27<19:19,  2.04s/user]"
          ]
        },
        {
          "name": "stdout",
          "output_type": "stream",
          "text": [
            "Current Average Hit Percentage: 30.35%\n"
          ]
        },
        {
          "name": "stderr",
          "output_type": "stream",
          "text": [
            "Calculating Hit Percentages:  50%|█████     | 569/1136 [19:29<19:14,  2.04s/user]"
          ]
        },
        {
          "name": "stdout",
          "output_type": "stream",
          "text": [
            "Current Average Hit Percentage: 30.35%\n"
          ]
        },
        {
          "name": "stderr",
          "output_type": "stream",
          "text": [
            "Calculating Hit Percentages:  50%|█████     | 570/1136 [19:31<19:12,  2.04s/user]"
          ]
        },
        {
          "name": "stdout",
          "output_type": "stream",
          "text": [
            "Current Average Hit Percentage: 30.35%\n"
          ]
        },
        {
          "name": "stderr",
          "output_type": "stream",
          "text": [
            "Calculating Hit Percentages:  50%|█████     | 571/1136 [19:33<19:20,  2.05s/user]"
          ]
        },
        {
          "name": "stdout",
          "output_type": "stream",
          "text": [
            "Current Average Hit Percentage: 30.33%\n"
          ]
        },
        {
          "name": "stderr",
          "output_type": "stream",
          "text": [
            "Calculating Hit Percentages:  50%|█████     | 572/1136 [19:35<19:27,  2.07s/user]"
          ]
        },
        {
          "name": "stdout",
          "output_type": "stream",
          "text": [
            "Current Average Hit Percentage: 30.31%\n"
          ]
        },
        {
          "name": "stderr",
          "output_type": "stream",
          "text": [
            "Calculating Hit Percentages:  50%|█████     | 573/1136 [19:37<19:22,  2.07s/user]"
          ]
        },
        {
          "name": "stdout",
          "output_type": "stream",
          "text": [
            "Current Average Hit Percentage: 30.33%\n"
          ]
        },
        {
          "name": "stderr",
          "output_type": "stream",
          "text": [
            "Calculating Hit Percentages:  51%|█████     | 574/1136 [19:39<19:17,  2.06s/user]"
          ]
        },
        {
          "name": "stdout",
          "output_type": "stream",
          "text": [
            "Current Average Hit Percentage: 30.31%\n"
          ]
        },
        {
          "name": "stderr",
          "output_type": "stream",
          "text": [
            "Calculating Hit Percentages:  51%|█████     | 575/1136 [19:41<19:11,  2.05s/user]"
          ]
        },
        {
          "name": "stdout",
          "output_type": "stream",
          "text": [
            "Current Average Hit Percentage: 30.33%\n"
          ]
        },
        {
          "name": "stderr",
          "output_type": "stream",
          "text": [
            "Calculating Hit Percentages:  51%|█████     | 576/1136 [19:43<19:07,  2.05s/user]"
          ]
        },
        {
          "name": "stdout",
          "output_type": "stream",
          "text": [
            "Current Average Hit Percentage: 30.35%\n"
          ]
        },
        {
          "name": "stderr",
          "output_type": "stream",
          "text": [
            "Calculating Hit Percentages:  51%|█████     | 577/1136 [19:45<19:01,  2.04s/user]"
          ]
        },
        {
          "name": "stdout",
          "output_type": "stream",
          "text": [
            "Current Average Hit Percentage: 30.33%\n"
          ]
        },
        {
          "name": "stderr",
          "output_type": "stream",
          "text": [
            "Calculating Hit Percentages:  51%|█████     | 578/1136 [19:48<19:07,  2.06s/user]"
          ]
        },
        {
          "name": "stdout",
          "output_type": "stream",
          "text": [
            "Current Average Hit Percentage: 30.36%\n"
          ]
        },
        {
          "name": "stderr",
          "output_type": "stream",
          "text": [
            "Calculating Hit Percentages:  51%|█████     | 579/1136 [19:50<19:12,  2.07s/user]"
          ]
        },
        {
          "name": "stdout",
          "output_type": "stream",
          "text": [
            "Current Average Hit Percentage: 30.35%\n"
          ]
        },
        {
          "name": "stderr",
          "output_type": "stream",
          "text": [
            "Calculating Hit Percentages:  51%|█████     | 580/1136 [19:52<19:08,  2.06s/user]"
          ]
        },
        {
          "name": "stdout",
          "output_type": "stream",
          "text": [
            "Current Average Hit Percentage: 30.34%\n"
          ]
        },
        {
          "name": "stderr",
          "output_type": "stream",
          "text": [
            "Calculating Hit Percentages:  51%|█████     | 581/1136 [19:54<19:00,  2.05s/user]"
          ]
        },
        {
          "name": "stdout",
          "output_type": "stream",
          "text": [
            "Current Average Hit Percentage: 30.33%\n"
          ]
        },
        {
          "name": "stderr",
          "output_type": "stream",
          "text": [
            "Calculating Hit Percentages:  51%|█████     | 582/1136 [19:56<18:54,  2.05s/user]"
          ]
        },
        {
          "name": "stdout",
          "output_type": "stream",
          "text": [
            "Current Average Hit Percentage: 30.33%\n"
          ]
        },
        {
          "name": "stderr",
          "output_type": "stream",
          "text": [
            "Calculating Hit Percentages:  51%|█████▏    | 583/1136 [19:58<18:50,  2.05s/user]"
          ]
        },
        {
          "name": "stdout",
          "output_type": "stream",
          "text": [
            "Current Average Hit Percentage: 30.33%\n"
          ]
        },
        {
          "name": "stderr",
          "output_type": "stream",
          "text": [
            "Calculating Hit Percentages:  51%|█████▏    | 584/1136 [20:00<18:48,  2.04s/user]"
          ]
        },
        {
          "name": "stdout",
          "output_type": "stream",
          "text": [
            "Current Average Hit Percentage: 30.34%\n"
          ]
        },
        {
          "name": "stderr",
          "output_type": "stream",
          "text": [
            "Calculating Hit Percentages:  51%|█████▏    | 585/1136 [20:02<18:57,  2.06s/user]"
          ]
        },
        {
          "name": "stdout",
          "output_type": "stream",
          "text": [
            "Current Average Hit Percentage: 30.32%\n"
          ]
        },
        {
          "name": "stderr",
          "output_type": "stream",
          "text": [
            "Calculating Hit Percentages:  52%|█████▏    | 586/1136 [20:04<18:57,  2.07s/user]"
          ]
        },
        {
          "name": "stdout",
          "output_type": "stream",
          "text": [
            "Current Average Hit Percentage: 30.32%\n"
          ]
        },
        {
          "name": "stderr",
          "output_type": "stream",
          "text": [
            "Calculating Hit Percentages:  52%|█████▏    | 587/1136 [20:06<18:52,  2.06s/user]"
          ]
        },
        {
          "name": "stdout",
          "output_type": "stream",
          "text": [
            "Current Average Hit Percentage: 30.31%\n"
          ]
        },
        {
          "name": "stderr",
          "output_type": "stream",
          "text": [
            "Calculating Hit Percentages:  52%|█████▏    | 588/1136 [20:08<18:46,  2.06s/user]"
          ]
        },
        {
          "name": "stdout",
          "output_type": "stream",
          "text": [
            "Current Average Hit Percentage: 30.29%\n"
          ]
        },
        {
          "name": "stderr",
          "output_type": "stream",
          "text": [
            "Calculating Hit Percentages:  52%|█████▏    | 589/1136 [20:10<18:42,  2.05s/user]"
          ]
        },
        {
          "name": "stdout",
          "output_type": "stream",
          "text": [
            "Current Average Hit Percentage: 30.29%\n"
          ]
        },
        {
          "name": "stderr",
          "output_type": "stream",
          "text": [
            "Calculating Hit Percentages:  52%|█████▏    | 590/1136 [20:12<18:38,  2.05s/user]"
          ]
        },
        {
          "name": "stdout",
          "output_type": "stream",
          "text": [
            "Current Average Hit Percentage: 30.27%\n"
          ]
        },
        {
          "name": "stderr",
          "output_type": "stream",
          "text": [
            "Calculating Hit Percentages:  52%|█████▏    | 591/1136 [20:14<18:33,  2.04s/user]"
          ]
        },
        {
          "name": "stdout",
          "output_type": "stream",
          "text": [
            "Current Average Hit Percentage: 30.27%\n"
          ]
        },
        {
          "name": "stderr",
          "output_type": "stream",
          "text": [
            "Calculating Hit Percentages:  52%|█████▏    | 592/1136 [20:16<18:37,  2.05s/user]"
          ]
        },
        {
          "name": "stdout",
          "output_type": "stream",
          "text": [
            "Current Average Hit Percentage: 30.25%\n"
          ]
        },
        {
          "name": "stderr",
          "output_type": "stream",
          "text": [
            "Calculating Hit Percentages:  52%|█████▏    | 593/1136 [20:18<18:33,  2.05s/user]"
          ]
        },
        {
          "name": "stdout",
          "output_type": "stream",
          "text": [
            "Current Average Hit Percentage: 30.25%\n"
          ]
        },
        {
          "name": "stderr",
          "output_type": "stream",
          "text": [
            "Calculating Hit Percentages:  52%|█████▏    | 594/1136 [20:20<18:28,  2.05s/user]"
          ]
        },
        {
          "name": "stdout",
          "output_type": "stream",
          "text": [
            "Current Average Hit Percentage: 30.25%\n"
          ]
        },
        {
          "name": "stderr",
          "output_type": "stream",
          "text": [
            "Calculating Hit Percentages:  52%|█████▏    | 595/1136 [20:22<18:24,  2.04s/user]"
          ]
        },
        {
          "name": "stdout",
          "output_type": "stream",
          "text": [
            "Current Average Hit Percentage: 30.25%\n"
          ]
        },
        {
          "name": "stderr",
          "output_type": "stream",
          "text": [
            "Calculating Hit Percentages:  52%|█████▏    | 596/1136 [20:24<18:20,  2.04s/user]"
          ]
        },
        {
          "name": "stdout",
          "output_type": "stream",
          "text": [
            "Current Average Hit Percentage: 30.23%\n"
          ]
        },
        {
          "name": "stderr",
          "output_type": "stream",
          "text": [
            "Calculating Hit Percentages:  53%|█████▎    | 597/1136 [20:26<18:17,  2.04s/user]"
          ]
        },
        {
          "name": "stdout",
          "output_type": "stream",
          "text": [
            "Current Average Hit Percentage: 30.22%\n"
          ]
        },
        {
          "name": "stderr",
          "output_type": "stream",
          "text": [
            "Calculating Hit Percentages:  53%|█████▎    | 598/1136 [20:29<18:15,  2.04s/user]"
          ]
        },
        {
          "name": "stdout",
          "output_type": "stream",
          "text": [
            "Current Average Hit Percentage: 30.23%\n"
          ]
        },
        {
          "name": "stderr",
          "output_type": "stream",
          "text": [
            "Calculating Hit Percentages:  53%|█████▎    | 599/1136 [20:31<18:24,  2.06s/user]"
          ]
        },
        {
          "name": "stdout",
          "output_type": "stream",
          "text": [
            "Current Average Hit Percentage: 30.23%\n"
          ]
        },
        {
          "name": "stderr",
          "output_type": "stream",
          "text": [
            "Calculating Hit Percentages:  53%|█████▎    | 600/1136 [20:33<18:24,  2.06s/user]"
          ]
        },
        {
          "name": "stdout",
          "output_type": "stream",
          "text": [
            "Current Average Hit Percentage: 30.22%\n"
          ]
        },
        {
          "name": "stderr",
          "output_type": "stream",
          "text": [
            "Calculating Hit Percentages:  53%|█████▎    | 601/1136 [20:35<18:18,  2.05s/user]"
          ]
        },
        {
          "name": "stdout",
          "output_type": "stream",
          "text": [
            "Current Average Hit Percentage: 30.20%\n"
          ]
        },
        {
          "name": "stderr",
          "output_type": "stream",
          "text": [
            "Calculating Hit Percentages:  53%|█████▎    | 602/1136 [20:37<18:12,  2.05s/user]"
          ]
        },
        {
          "name": "stdout",
          "output_type": "stream",
          "text": [
            "Current Average Hit Percentage: 30.18%\n"
          ]
        },
        {
          "name": "stderr",
          "output_type": "stream",
          "text": [
            "Calculating Hit Percentages:  53%|█████▎    | 603/1136 [20:39<18:07,  2.04s/user]"
          ]
        },
        {
          "name": "stdout",
          "output_type": "stream",
          "text": [
            "Current Average Hit Percentage: 30.20%\n"
          ]
        },
        {
          "name": "stderr",
          "output_type": "stream",
          "text": [
            "Calculating Hit Percentages:  53%|█████▎    | 604/1136 [20:41<18:05,  2.04s/user]"
          ]
        },
        {
          "name": "stdout",
          "output_type": "stream",
          "text": [
            "Current Average Hit Percentage: 30.20%\n"
          ]
        },
        {
          "name": "stderr",
          "output_type": "stream",
          "text": [
            "Calculating Hit Percentages:  53%|█████▎    | 605/1136 [20:43<18:05,  2.04s/user]"
          ]
        },
        {
          "name": "stdout",
          "output_type": "stream",
          "text": [
            "Current Average Hit Percentage: 30.20%\n"
          ]
        },
        {
          "name": "stderr",
          "output_type": "stream",
          "text": [
            "Calculating Hit Percentages:  53%|█████▎    | 606/1136 [20:45<18:13,  2.06s/user]"
          ]
        },
        {
          "name": "stdout",
          "output_type": "stream",
          "text": [
            "Current Average Hit Percentage: 30.18%\n"
          ]
        },
        {
          "name": "stderr",
          "output_type": "stream",
          "text": [
            "Calculating Hit Percentages:  53%|█████▎    | 607/1136 [20:47<18:07,  2.06s/user]"
          ]
        },
        {
          "name": "stdout",
          "output_type": "stream",
          "text": [
            "Current Average Hit Percentage: 30.16%\n"
          ]
        },
        {
          "name": "stderr",
          "output_type": "stream",
          "text": [
            "Calculating Hit Percentages:  54%|█████▎    | 608/1136 [20:49<18:02,  2.05s/user]"
          ]
        },
        {
          "name": "stdout",
          "output_type": "stream",
          "text": [
            "Current Average Hit Percentage: 30.13%\n"
          ]
        },
        {
          "name": "stderr",
          "output_type": "stream",
          "text": [
            "Calculating Hit Percentages:  54%|█████▎    | 609/1136 [20:51<17:57,  2.05s/user]"
          ]
        },
        {
          "name": "stdout",
          "output_type": "stream",
          "text": [
            "Current Average Hit Percentage: 30.13%\n"
          ]
        },
        {
          "name": "stderr",
          "output_type": "stream",
          "text": [
            "Calculating Hit Percentages:  54%|█████▎    | 610/1136 [20:53<17:55,  2.05s/user]"
          ]
        },
        {
          "name": "stdout",
          "output_type": "stream",
          "text": [
            "Current Average Hit Percentage: 30.13%\n"
          ]
        },
        {
          "name": "stderr",
          "output_type": "stream",
          "text": [
            "Calculating Hit Percentages:  54%|█████▍    | 611/1136 [20:55<17:52,  2.04s/user]"
          ]
        },
        {
          "name": "stdout",
          "output_type": "stream",
          "text": [
            "Current Average Hit Percentage: 30.15%\n"
          ]
        },
        {
          "name": "stderr",
          "output_type": "stream",
          "text": [
            "Calculating Hit Percentages:  54%|█████▍    | 612/1136 [20:57<17:51,  2.05s/user]"
          ]
        },
        {
          "name": "stdout",
          "output_type": "stream",
          "text": [
            "Current Average Hit Percentage: 30.16%\n"
          ]
        },
        {
          "name": "stderr",
          "output_type": "stream",
          "text": [
            "Calculating Hit Percentages:  54%|█████▍    | 613/1136 [20:59<17:58,  2.06s/user]"
          ]
        },
        {
          "name": "stdout",
          "output_type": "stream",
          "text": [
            "Current Average Hit Percentage: 30.18%\n"
          ]
        },
        {
          "name": "stderr",
          "output_type": "stream",
          "text": [
            "Calculating Hit Percentages:  54%|█████▍    | 614/1136 [21:01<17:56,  2.06s/user]"
          ]
        },
        {
          "name": "stdout",
          "output_type": "stream",
          "text": [
            "Current Average Hit Percentage: 30.16%\n"
          ]
        },
        {
          "name": "stderr",
          "output_type": "stream",
          "text": [
            "Calculating Hit Percentages:  54%|█████▍    | 615/1136 [21:03<17:50,  2.05s/user]"
          ]
        },
        {
          "name": "stdout",
          "output_type": "stream",
          "text": [
            "Current Average Hit Percentage: 30.15%\n"
          ]
        },
        {
          "name": "stderr",
          "output_type": "stream",
          "text": [
            "Calculating Hit Percentages:  54%|█████▍    | 616/1136 [21:05<17:44,  2.05s/user]"
          ]
        },
        {
          "name": "stdout",
          "output_type": "stream",
          "text": [
            "Current Average Hit Percentage: 30.13%\n"
          ]
        },
        {
          "name": "stderr",
          "output_type": "stream",
          "text": [
            "Calculating Hit Percentages:  54%|█████▍    | 617/1136 [21:07<17:39,  2.04s/user]"
          ]
        },
        {
          "name": "stdout",
          "output_type": "stream",
          "text": [
            "Current Average Hit Percentage: 30.15%\n"
          ]
        },
        {
          "name": "stderr",
          "output_type": "stream",
          "text": [
            "Calculating Hit Percentages:  54%|█████▍    | 618/1136 [21:10<17:36,  2.04s/user]"
          ]
        },
        {
          "name": "stdout",
          "output_type": "stream",
          "text": [
            "Current Average Hit Percentage: 30.13%\n"
          ]
        },
        {
          "name": "stderr",
          "output_type": "stream",
          "text": [
            "Calculating Hit Percentages:  54%|█████▍    | 619/1136 [21:12<17:39,  2.05s/user]"
          ]
        },
        {
          "name": "stdout",
          "output_type": "stream",
          "text": [
            "Current Average Hit Percentage: 30.15%\n"
          ]
        },
        {
          "name": "stderr",
          "output_type": "stream",
          "text": [
            "Calculating Hit Percentages:  55%|█████▍    | 620/1136 [21:14<17:46,  2.07s/user]"
          ]
        },
        {
          "name": "stdout",
          "output_type": "stream",
          "text": [
            "Current Average Hit Percentage: 30.13%\n"
          ]
        },
        {
          "name": "stderr",
          "output_type": "stream",
          "text": [
            "Calculating Hit Percentages:  55%|█████▍    | 621/1136 [21:16<17:41,  2.06s/user]"
          ]
        },
        {
          "name": "stdout",
          "output_type": "stream",
          "text": [
            "Current Average Hit Percentage: 30.13%\n"
          ]
        },
        {
          "name": "stderr",
          "output_type": "stream",
          "text": [
            "Calculating Hit Percentages:  55%|█████▍    | 622/1136 [21:18<17:34,  2.05s/user]"
          ]
        },
        {
          "name": "stdout",
          "output_type": "stream",
          "text": [
            "Current Average Hit Percentage: 30.13%\n"
          ]
        },
        {
          "name": "stderr",
          "output_type": "stream",
          "text": [
            "Calculating Hit Percentages:  55%|█████▍    | 623/1136 [21:20<17:28,  2.04s/user]"
          ]
        },
        {
          "name": "stdout",
          "output_type": "stream",
          "text": [
            "Current Average Hit Percentage: 30.11%\n"
          ]
        },
        {
          "name": "stderr",
          "output_type": "stream",
          "text": [
            "Calculating Hit Percentages:  55%|█████▍    | 624/1136 [21:22<17:24,  2.04s/user]"
          ]
        },
        {
          "name": "stdout",
          "output_type": "stream",
          "text": [
            "Current Average Hit Percentage: 30.10%\n"
          ]
        },
        {
          "name": "stderr",
          "output_type": "stream",
          "text": [
            "Calculating Hit Percentages:  55%|█████▌    | 625/1136 [21:24<17:21,  2.04s/user]"
          ]
        },
        {
          "name": "stdout",
          "output_type": "stream",
          "text": [
            "Current Average Hit Percentage: 30.08%\n"
          ]
        },
        {
          "name": "stderr",
          "output_type": "stream",
          "text": [
            "Calculating Hit Percentages:  55%|█████▌    | 626/1136 [21:26<17:27,  2.05s/user]"
          ]
        },
        {
          "name": "stdout",
          "output_type": "stream",
          "text": [
            "Current Average Hit Percentage: 30.10%\n"
          ]
        },
        {
          "name": "stderr",
          "output_type": "stream",
          "text": [
            "Calculating Hit Percentages:  55%|█████▌    | 627/1136 [21:28<17:31,  2.07s/user]"
          ]
        },
        {
          "name": "stdout",
          "output_type": "stream",
          "text": [
            "Current Average Hit Percentage: 30.10%\n"
          ]
        },
        {
          "name": "stderr",
          "output_type": "stream",
          "text": [
            "Calculating Hit Percentages:  55%|█████▌    | 628/1136 [21:30<17:26,  2.06s/user]"
          ]
        },
        {
          "name": "stdout",
          "output_type": "stream",
          "text": [
            "Current Average Hit Percentage: 30.08%\n"
          ]
        },
        {
          "name": "stderr",
          "output_type": "stream",
          "text": [
            "Calculating Hit Percentages:  55%|█████▌    | 629/1136 [21:32<17:20,  2.05s/user]"
          ]
        },
        {
          "name": "stdout",
          "output_type": "stream",
          "text": [
            "Current Average Hit Percentage: 30.08%\n"
          ]
        },
        {
          "name": "stderr",
          "output_type": "stream",
          "text": [
            "Calculating Hit Percentages:  55%|█████▌    | 630/1136 [21:34<17:16,  2.05s/user]"
          ]
        },
        {
          "name": "stdout",
          "output_type": "stream",
          "text": [
            "Current Average Hit Percentage: 30.06%\n"
          ]
        },
        {
          "name": "stderr",
          "output_type": "stream",
          "text": [
            "Calculating Hit Percentages:  56%|█████▌    | 631/1136 [21:36<17:11,  2.04s/user]"
          ]
        },
        {
          "name": "stdout",
          "output_type": "stream",
          "text": [
            "Current Average Hit Percentage: 30.06%\n"
          ]
        },
        {
          "name": "stderr",
          "output_type": "stream",
          "text": [
            "Calculating Hit Percentages:  56%|█████▌    | 632/1136 [21:38<17:09,  2.04s/user]"
          ]
        },
        {
          "name": "stdout",
          "output_type": "stream",
          "text": [
            "Current Average Hit Percentage: 30.05%\n"
          ]
        },
        {
          "name": "stderr",
          "output_type": "stream",
          "text": [
            "Calculating Hit Percentages:  56%|█████▌    | 633/1136 [21:40<17:13,  2.05s/user]"
          ]
        },
        {
          "name": "stdout",
          "output_type": "stream",
          "text": [
            "Current Average Hit Percentage: 30.05%\n"
          ]
        },
        {
          "name": "stderr",
          "output_type": "stream",
          "text": [
            "Calculating Hit Percentages:  56%|█████▌    | 634/1136 [21:42<17:11,  2.05s/user]"
          ]
        },
        {
          "name": "stdout",
          "output_type": "stream",
          "text": [
            "Current Average Hit Percentage: 30.03%\n"
          ]
        },
        {
          "name": "stderr",
          "output_type": "stream",
          "text": [
            "Calculating Hit Percentages:  56%|█████▌    | 635/1136 [21:44<17:08,  2.05s/user]"
          ]
        },
        {
          "name": "stdout",
          "output_type": "stream",
          "text": [
            "Current Average Hit Percentage: 30.02%\n"
          ]
        },
        {
          "name": "stderr",
          "output_type": "stream",
          "text": [
            "Calculating Hit Percentages:  56%|█████▌    | 636/1136 [21:47<17:06,  2.05s/user]"
          ]
        },
        {
          "name": "stdout",
          "output_type": "stream",
          "text": [
            "Current Average Hit Percentage: 30.02%\n"
          ]
        },
        {
          "name": "stderr",
          "output_type": "stream",
          "text": [
            "Calculating Hit Percentages:  56%|█████▌    | 637/1136 [21:49<17:03,  2.05s/user]"
          ]
        },
        {
          "name": "stdout",
          "output_type": "stream",
          "text": [
            "Current Average Hit Percentage: 30.03%\n"
          ]
        },
        {
          "name": "stderr",
          "output_type": "stream",
          "text": [
            "Calculating Hit Percentages:  56%|█████▌    | 638/1136 [21:51<17:01,  2.05s/user]"
          ]
        },
        {
          "name": "stdout",
          "output_type": "stream",
          "text": [
            "Current Average Hit Percentage: 30.02%\n"
          ]
        },
        {
          "name": "stderr",
          "output_type": "stream",
          "text": [
            "Calculating Hit Percentages:  56%|█████▋    | 639/1136 [21:53<16:59,  2.05s/user]"
          ]
        },
        {
          "name": "stdout",
          "output_type": "stream",
          "text": [
            "Current Average Hit Percentage: 30.02%\n"
          ]
        },
        {
          "name": "stderr",
          "output_type": "stream",
          "text": [
            "Calculating Hit Percentages:  56%|█████▋    | 640/1136 [21:55<17:07,  2.07s/user]"
          ]
        },
        {
          "name": "stdout",
          "output_type": "stream",
          "text": [
            "Current Average Hit Percentage: 30.03%\n"
          ]
        },
        {
          "name": "stderr",
          "output_type": "stream",
          "text": [
            "Calculating Hit Percentages:  56%|█████▋    | 641/1136 [21:57<17:06,  2.07s/user]"
          ]
        },
        {
          "name": "stdout",
          "output_type": "stream",
          "text": [
            "Current Average Hit Percentage: 30.03%\n"
          ]
        },
        {
          "name": "stderr",
          "output_type": "stream",
          "text": [
            "Calculating Hit Percentages:  57%|█████▋    | 642/1136 [21:59<16:58,  2.06s/user]"
          ]
        },
        {
          "name": "stdout",
          "output_type": "stream",
          "text": [
            "Current Average Hit Percentage: 30.06%\n"
          ]
        },
        {
          "name": "stderr",
          "output_type": "stream",
          "text": [
            "Calculating Hit Percentages:  57%|█████▋    | 643/1136 [22:01<16:52,  2.05s/user]"
          ]
        },
        {
          "name": "stdout",
          "output_type": "stream",
          "text": [
            "Current Average Hit Percentage: 30.05%\n"
          ]
        },
        {
          "name": "stderr",
          "output_type": "stream",
          "text": [
            "Calculating Hit Percentages:  57%|█████▋    | 644/1136 [22:03<16:47,  2.05s/user]"
          ]
        },
        {
          "name": "stdout",
          "output_type": "stream",
          "text": [
            "Current Average Hit Percentage: 30.06%\n"
          ]
        },
        {
          "name": "stderr",
          "output_type": "stream",
          "text": [
            "Calculating Hit Percentages:  57%|█████▋    | 645/1136 [22:05<16:43,  2.04s/user]"
          ]
        },
        {
          "name": "stdout",
          "output_type": "stream",
          "text": [
            "Current Average Hit Percentage: 30.08%\n"
          ]
        },
        {
          "name": "stderr",
          "output_type": "stream",
          "text": [
            "Calculating Hit Percentages:  57%|█████▋    | 646/1136 [22:07<16:40,  2.04s/user]"
          ]
        },
        {
          "name": "stdout",
          "output_type": "stream",
          "text": [
            "Current Average Hit Percentage: 30.08%\n"
          ]
        },
        {
          "name": "stderr",
          "output_type": "stream",
          "text": [
            "Calculating Hit Percentages:  57%|█████▋    | 647/1136 [22:09<16:44,  2.05s/user]"
          ]
        },
        {
          "name": "stdout",
          "output_type": "stream",
          "text": [
            "Current Average Hit Percentage: 30.12%\n"
          ]
        },
        {
          "name": "stderr",
          "output_type": "stream",
          "text": [
            "Calculating Hit Percentages:  57%|█████▋    | 648/1136 [22:11<16:40,  2.05s/user]"
          ]
        },
        {
          "name": "stdout",
          "output_type": "stream",
          "text": [
            "Current Average Hit Percentage: 30.11%\n"
          ]
        },
        {
          "name": "stderr",
          "output_type": "stream",
          "text": [
            "Calculating Hit Percentages:  57%|█████▋    | 649/1136 [22:13<16:36,  2.05s/user]"
          ]
        },
        {
          "name": "stdout",
          "output_type": "stream",
          "text": [
            "Current Average Hit Percentage: 30.12%\n"
          ]
        },
        {
          "name": "stderr",
          "output_type": "stream",
          "text": [
            "Calculating Hit Percentages:  57%|█████▋    | 650/1136 [22:15<16:35,  2.05s/user]"
          ]
        },
        {
          "name": "stdout",
          "output_type": "stream",
          "text": [
            "Current Average Hit Percentage: 30.11%\n"
          ]
        },
        {
          "name": "stderr",
          "output_type": "stream",
          "text": [
            "Calculating Hit Percentages:  57%|█████▋    | 651/1136 [22:17<16:31,  2.04s/user]"
          ]
        },
        {
          "name": "stdout",
          "output_type": "stream",
          "text": [
            "Current Average Hit Percentage: 30.14%\n"
          ]
        },
        {
          "name": "stderr",
          "output_type": "stream",
          "text": [
            "Calculating Hit Percentages:  57%|█████▋    | 652/1136 [22:19<16:30,  2.05s/user]"
          ]
        },
        {
          "name": "stdout",
          "output_type": "stream",
          "text": [
            "Current Average Hit Percentage: 30.12%\n"
          ]
        },
        {
          "name": "stderr",
          "output_type": "stream",
          "text": [
            "Calculating Hit Percentages:  57%|█████▋    | 653/1136 [22:21<16:33,  2.06s/user]"
          ]
        },
        {
          "name": "stdout",
          "output_type": "stream",
          "text": [
            "Current Average Hit Percentage: 30.15%\n"
          ]
        },
        {
          "name": "stderr",
          "output_type": "stream",
          "text": [
            "Calculating Hit Percentages:  58%|█████▊    | 654/1136 [22:23<16:32,  2.06s/user]"
          ]
        },
        {
          "name": "stdout",
          "output_type": "stream",
          "text": [
            "Current Average Hit Percentage: 30.18%\n"
          ]
        },
        {
          "name": "stderr",
          "output_type": "stream",
          "text": [
            "Calculating Hit Percentages:  58%|█████▊    | 655/1136 [22:26<16:28,  2.06s/user]"
          ]
        },
        {
          "name": "stdout",
          "output_type": "stream",
          "text": [
            "Current Average Hit Percentage: 30.17%\n"
          ]
        },
        {
          "name": "stderr",
          "output_type": "stream",
          "text": [
            "Calculating Hit Percentages:  58%|█████▊    | 656/1136 [22:28<16:23,  2.05s/user]"
          ]
        },
        {
          "name": "stdout",
          "output_type": "stream",
          "text": [
            "Current Average Hit Percentage: 30.15%\n"
          ]
        },
        {
          "name": "stderr",
          "output_type": "stream",
          "text": [
            "Calculating Hit Percentages:  58%|█████▊    | 657/1136 [22:30<16:19,  2.04s/user]"
          ]
        },
        {
          "name": "stdout",
          "output_type": "stream",
          "text": [
            "Current Average Hit Percentage: 30.14%\n"
          ]
        },
        {
          "name": "stderr",
          "output_type": "stream",
          "text": [
            "Calculating Hit Percentages:  58%|█████▊    | 658/1136 [22:32<16:15,  2.04s/user]"
          ]
        },
        {
          "name": "stdout",
          "output_type": "stream",
          "text": [
            "Current Average Hit Percentage: 30.12%\n"
          ]
        },
        {
          "name": "stderr",
          "output_type": "stream",
          "text": [
            "Calculating Hit Percentages:  58%|█████▊    | 659/1136 [22:34<16:14,  2.04s/user]"
          ]
        },
        {
          "name": "stdout",
          "output_type": "stream",
          "text": [
            "Current Average Hit Percentage: 30.11%\n"
          ]
        },
        {
          "name": "stderr",
          "output_type": "stream",
          "text": [
            "Calculating Hit Percentages:  58%|█████▊    | 660/1136 [22:36<16:18,  2.06s/user]"
          ]
        },
        {
          "name": "stdout",
          "output_type": "stream",
          "text": [
            "Current Average Hit Percentage: 30.09%\n"
          ]
        },
        {
          "name": "stderr",
          "output_type": "stream",
          "text": [
            "Calculating Hit Percentages:  58%|█████▊    | 661/1136 [22:38<16:16,  2.05s/user]"
          ]
        },
        {
          "name": "stdout",
          "output_type": "stream",
          "text": [
            "Current Average Hit Percentage: 30.08%\n"
          ]
        },
        {
          "name": "stderr",
          "output_type": "stream",
          "text": [
            "Calculating Hit Percentages:  58%|█████▊    | 662/1136 [22:40<16:10,  2.05s/user]"
          ]
        },
        {
          "name": "stdout",
          "output_type": "stream",
          "text": [
            "Current Average Hit Percentage: 30.06%\n"
          ]
        },
        {
          "name": "stderr",
          "output_type": "stream",
          "text": [
            "Calculating Hit Percentages:  58%|█████▊    | 663/1136 [22:42<16:06,  2.04s/user]"
          ]
        },
        {
          "name": "stdout",
          "output_type": "stream",
          "text": [
            "Current Average Hit Percentage: 30.08%\n"
          ]
        },
        {
          "name": "stderr",
          "output_type": "stream",
          "text": [
            "Calculating Hit Percentages:  58%|█████▊    | 664/1136 [22:44<16:03,  2.04s/user]"
          ]
        },
        {
          "name": "stdout",
          "output_type": "stream",
          "text": [
            "Current Average Hit Percentage: 30.06%\n"
          ]
        },
        {
          "name": "stderr",
          "output_type": "stream",
          "text": [
            "Calculating Hit Percentages:  59%|█████▊    | 665/1136 [22:46<15:59,  2.04s/user]"
          ]
        },
        {
          "name": "stdout",
          "output_type": "stream",
          "text": [
            "Current Average Hit Percentage: 30.05%\n"
          ]
        },
        {
          "name": "stderr",
          "output_type": "stream",
          "text": [
            "Calculating Hit Percentages:  59%|█████▊    | 666/1136 [22:48<15:56,  2.04s/user]"
          ]
        },
        {
          "name": "stdout",
          "output_type": "stream",
          "text": [
            "Current Average Hit Percentage: 30.06%\n"
          ]
        },
        {
          "name": "stderr",
          "output_type": "stream",
          "text": [
            "Calculating Hit Percentages:  59%|█████▊    | 667/1136 [22:50<15:59,  2.05s/user]"
          ]
        },
        {
          "name": "stdout",
          "output_type": "stream",
          "text": [
            "Current Average Hit Percentage: 30.07%\n"
          ]
        },
        {
          "name": "stderr",
          "output_type": "stream",
          "text": [
            "Calculating Hit Percentages:  59%|█████▉    | 668/1136 [22:52<16:02,  2.06s/user]"
          ]
        },
        {
          "name": "stdout",
          "output_type": "stream",
          "text": [
            "Current Average Hit Percentage: 30.09%\n"
          ]
        },
        {
          "name": "stderr",
          "output_type": "stream",
          "text": [
            "Calculating Hit Percentages:  59%|█████▉    | 669/1136 [22:54<15:59,  2.05s/user]"
          ]
        },
        {
          "name": "stdout",
          "output_type": "stream",
          "text": [
            "Current Average Hit Percentage: 30.09%\n"
          ]
        },
        {
          "name": "stderr",
          "output_type": "stream",
          "text": [
            "Calculating Hit Percentages:  59%|█████▉    | 670/1136 [22:56<15:55,  2.05s/user]"
          ]
        },
        {
          "name": "stdout",
          "output_type": "stream",
          "text": [
            "Current Average Hit Percentage: 30.10%\n"
          ]
        },
        {
          "name": "stderr",
          "output_type": "stream",
          "text": [
            "Calculating Hit Percentages:  59%|█████▉    | 671/1136 [22:58<15:52,  2.05s/user]"
          ]
        },
        {
          "name": "stdout",
          "output_type": "stream",
          "text": [
            "Current Average Hit Percentage: 30.12%\n"
          ]
        },
        {
          "name": "stderr",
          "output_type": "stream",
          "text": [
            "Calculating Hit Percentages:  59%|█████▉    | 672/1136 [23:00<15:48,  2.04s/user]"
          ]
        },
        {
          "name": "stdout",
          "output_type": "stream",
          "text": [
            "Current Average Hit Percentage: 30.12%\n"
          ]
        },
        {
          "name": "stderr",
          "output_type": "stream",
          "text": [
            "Calculating Hit Percentages:  59%|█████▉    | 673/1136 [23:02<15:46,  2.05s/user]"
          ]
        },
        {
          "name": "stdout",
          "output_type": "stream",
          "text": [
            "Current Average Hit Percentage: 30.15%\n"
          ]
        },
        {
          "name": "stderr",
          "output_type": "stream",
          "text": [
            "Calculating Hit Percentages:  59%|█████▉    | 674/1136 [23:04<15:50,  2.06s/user]"
          ]
        },
        {
          "name": "stdout",
          "output_type": "stream",
          "text": [
            "Current Average Hit Percentage: 30.19%\n"
          ]
        },
        {
          "name": "stderr",
          "output_type": "stream",
          "text": [
            "Calculating Hit Percentages:  59%|█████▉    | 675/1136 [23:06<15:46,  2.05s/user]"
          ]
        },
        {
          "name": "stdout",
          "output_type": "stream",
          "text": [
            "Current Average Hit Percentage: 30.18%\n"
          ]
        },
        {
          "name": "stderr",
          "output_type": "stream",
          "text": [
            "Calculating Hit Percentages:  60%|█████▉    | 676/1136 [23:09<15:45,  2.06s/user]"
          ]
        },
        {
          "name": "stdout",
          "output_type": "stream",
          "text": [
            "Current Average Hit Percentage: 30.19%\n"
          ]
        },
        {
          "name": "stderr",
          "output_type": "stream",
          "text": [
            "Calculating Hit Percentages:  60%|█████▉    | 677/1136 [23:11<15:41,  2.05s/user]"
          ]
        },
        {
          "name": "stdout",
          "output_type": "stream",
          "text": [
            "Current Average Hit Percentage: 30.22%\n"
          ]
        },
        {
          "name": "stderr",
          "output_type": "stream",
          "text": [
            "Calculating Hit Percentages:  60%|█████▉    | 678/1136 [23:13<15:38,  2.05s/user]"
          ]
        },
        {
          "name": "stdout",
          "output_type": "stream",
          "text": [
            "Current Average Hit Percentage: 30.21%\n"
          ]
        },
        {
          "name": "stderr",
          "output_type": "stream",
          "text": [
            "Calculating Hit Percentages:  60%|█████▉    | 679/1136 [23:15<15:33,  2.04s/user]"
          ]
        },
        {
          "name": "stdout",
          "output_type": "stream",
          "text": [
            "Current Average Hit Percentage: 30.19%\n"
          ]
        },
        {
          "name": "stderr",
          "output_type": "stream",
          "text": [
            "Calculating Hit Percentages:  60%|█████▉    | 680/1136 [23:17<15:33,  2.05s/user]"
          ]
        },
        {
          "name": "stdout",
          "output_type": "stream",
          "text": [
            "Current Average Hit Percentage: 30.18%\n"
          ]
        },
        {
          "name": "stderr",
          "output_type": "stream",
          "text": [
            "Calculating Hit Percentages:  60%|█████▉    | 681/1136 [23:19<15:33,  2.05s/user]"
          ]
        },
        {
          "name": "stdout",
          "output_type": "stream",
          "text": [
            "Current Average Hit Percentage: 30.18%\n"
          ]
        },
        {
          "name": "stderr",
          "output_type": "stream",
          "text": [
            "Calculating Hit Percentages:  60%|██████    | 682/1136 [23:21<15:30,  2.05s/user]"
          ]
        },
        {
          "name": "stdout",
          "output_type": "stream",
          "text": [
            "Current Average Hit Percentage: 30.19%\n"
          ]
        },
        {
          "name": "stderr",
          "output_type": "stream",
          "text": [
            "Calculating Hit Percentages:  60%|██████    | 683/1136 [23:23<15:26,  2.05s/user]"
          ]
        },
        {
          "name": "stdout",
          "output_type": "stream",
          "text": [
            "Current Average Hit Percentage: 30.18%\n"
          ]
        },
        {
          "name": "stderr",
          "output_type": "stream",
          "text": [
            "Calculating Hit Percentages:  60%|██████    | 684/1136 [23:25<15:25,  2.05s/user]"
          ]
        },
        {
          "name": "stdout",
          "output_type": "stream",
          "text": [
            "Current Average Hit Percentage: 30.19%\n"
          ]
        },
        {
          "name": "stderr",
          "output_type": "stream",
          "text": [
            "Calculating Hit Percentages:  60%|██████    | 685/1136 [23:27<15:22,  2.05s/user]"
          ]
        },
        {
          "name": "stdout",
          "output_type": "stream",
          "text": [
            "Current Average Hit Percentage: 30.18%\n"
          ]
        },
        {
          "name": "stderr",
          "output_type": "stream",
          "text": [
            "Calculating Hit Percentages:  60%|██████    | 686/1136 [23:29<15:19,  2.04s/user]"
          ]
        },
        {
          "name": "stdout",
          "output_type": "stream",
          "text": [
            "Current Average Hit Percentage: 30.17%\n"
          ]
        },
        {
          "name": "stderr",
          "output_type": "stream",
          "text": [
            "Calculating Hit Percentages:  60%|██████    | 687/1136 [23:31<15:24,  2.06s/user]"
          ]
        },
        {
          "name": "stdout",
          "output_type": "stream",
          "text": [
            "Current Average Hit Percentage: 30.16%\n"
          ]
        },
        {
          "name": "stderr",
          "output_type": "stream",
          "text": [
            "Calculating Hit Percentages:  61%|██████    | 688/1136 [23:33<15:25,  2.06s/user]"
          ]
        },
        {
          "name": "stdout",
          "output_type": "stream",
          "text": [
            "Current Average Hit Percentage: 30.16%\n"
          ]
        },
        {
          "name": "stderr",
          "output_type": "stream",
          "text": [
            "Calculating Hit Percentages:  61%|██████    | 689/1136 [23:35<15:19,  2.06s/user]"
          ]
        },
        {
          "name": "stdout",
          "output_type": "stream",
          "text": [
            "Current Average Hit Percentage: 30.15%\n"
          ]
        },
        {
          "name": "stderr",
          "output_type": "stream",
          "text": [
            "Calculating Hit Percentages:  61%|██████    | 690/1136 [23:37<15:14,  2.05s/user]"
          ]
        },
        {
          "name": "stdout",
          "output_type": "stream",
          "text": [
            "Current Average Hit Percentage: 30.14%\n"
          ]
        },
        {
          "name": "stderr",
          "output_type": "stream",
          "text": [
            "Calculating Hit Percentages:  61%|██████    | 691/1136 [23:39<15:09,  2.04s/user]"
          ]
        },
        {
          "name": "stdout",
          "output_type": "stream",
          "text": [
            "Current Average Hit Percentage: 30.13%\n"
          ]
        },
        {
          "name": "stderr",
          "output_type": "stream",
          "text": [
            "Calculating Hit Percentages:  61%|██████    | 692/1136 [23:41<15:06,  2.04s/user]"
          ]
        },
        {
          "name": "stdout",
          "output_type": "stream",
          "text": [
            "Current Average Hit Percentage: 30.14%\n"
          ]
        },
        {
          "name": "stderr",
          "output_type": "stream",
          "text": [
            "Calculating Hit Percentages:  61%|██████    | 693/1136 [23:43<15:05,  2.05s/user]"
          ]
        },
        {
          "name": "stdout",
          "output_type": "stream",
          "text": [
            "Current Average Hit Percentage: 30.17%\n"
          ]
        },
        {
          "name": "stderr",
          "output_type": "stream",
          "text": [
            "Calculating Hit Percentages:  61%|██████    | 694/1136 [23:45<15:10,  2.06s/user]"
          ]
        },
        {
          "name": "stdout",
          "output_type": "stream",
          "text": [
            "Current Average Hit Percentage: 30.17%\n"
          ]
        },
        {
          "name": "stderr",
          "output_type": "stream",
          "text": [
            "Calculating Hit Percentages:  61%|██████    | 695/1136 [23:47<15:10,  2.06s/user]"
          ]
        },
        {
          "name": "stdout",
          "output_type": "stream",
          "text": [
            "Current Average Hit Percentage: 30.17%\n"
          ]
        },
        {
          "name": "stderr",
          "output_type": "stream",
          "text": [
            "Calculating Hit Percentages:  61%|██████▏   | 696/1136 [23:50<15:05,  2.06s/user]"
          ]
        },
        {
          "name": "stdout",
          "output_type": "stream",
          "text": [
            "Current Average Hit Percentage: 30.17%\n"
          ]
        },
        {
          "name": "stderr",
          "output_type": "stream",
          "text": [
            "Calculating Hit Percentages:  61%|██████▏   | 697/1136 [23:52<15:00,  2.05s/user]"
          ]
        },
        {
          "name": "stdout",
          "output_type": "stream",
          "text": [
            "Current Average Hit Percentage: 30.16%\n"
          ]
        },
        {
          "name": "stderr",
          "output_type": "stream",
          "text": [
            "Calculating Hit Percentages:  61%|██████▏   | 698/1136 [23:54<14:56,  2.05s/user]"
          ]
        },
        {
          "name": "stdout",
          "output_type": "stream",
          "text": [
            "Current Average Hit Percentage: 30.14%\n"
          ]
        },
        {
          "name": "stderr",
          "output_type": "stream",
          "text": [
            "Calculating Hit Percentages:  62%|██████▏   | 699/1136 [23:56<14:52,  2.04s/user]"
          ]
        },
        {
          "name": "stdout",
          "output_type": "stream",
          "text": [
            "Current Average Hit Percentage: 30.13%\n"
          ]
        },
        {
          "name": "stderr",
          "output_type": "stream",
          "text": [
            "Calculating Hit Percentages:  62%|██████▏   | 700/1136 [23:58<14:53,  2.05s/user]"
          ]
        },
        {
          "name": "stdout",
          "output_type": "stream",
          "text": [
            "Current Average Hit Percentage: 30.11%\n"
          ]
        },
        {
          "name": "stderr",
          "output_type": "stream",
          "text": [
            "Calculating Hit Percentages:  62%|██████▏   | 701/1136 [24:00<15:00,  2.07s/user]"
          ]
        },
        {
          "name": "stdout",
          "output_type": "stream",
          "text": [
            "Current Average Hit Percentage: 30.13%\n"
          ]
        },
        {
          "name": "stderr",
          "output_type": "stream",
          "text": [
            "Calculating Hit Percentages:  62%|██████▏   | 702/1136 [24:02<15:02,  2.08s/user]"
          ]
        },
        {
          "name": "stdout",
          "output_type": "stream",
          "text": [
            "Current Average Hit Percentage: 30.14%\n"
          ]
        },
        {
          "name": "stderr",
          "output_type": "stream",
          "text": [
            "Calculating Hit Percentages:  62%|██████▏   | 703/1136 [24:04<14:54,  2.07s/user]"
          ]
        },
        {
          "name": "stdout",
          "output_type": "stream",
          "text": [
            "Current Average Hit Percentage: 30.16%\n"
          ]
        },
        {
          "name": "stderr",
          "output_type": "stream",
          "text": [
            "Calculating Hit Percentages:  62%|██████▏   | 704/1136 [24:06<14:49,  2.06s/user]"
          ]
        },
        {
          "name": "stdout",
          "output_type": "stream",
          "text": [
            "Current Average Hit Percentage: 30.16%\n"
          ]
        },
        {
          "name": "stderr",
          "output_type": "stream",
          "text": [
            "Calculating Hit Percentages:  62%|██████▏   | 705/1136 [24:08<14:44,  2.05s/user]"
          ]
        },
        {
          "name": "stdout",
          "output_type": "stream",
          "text": [
            "Current Average Hit Percentage: 30.16%\n"
          ]
        },
        {
          "name": "stderr",
          "output_type": "stream",
          "text": [
            "Calculating Hit Percentages:  62%|██████▏   | 706/1136 [24:10<14:41,  2.05s/user]"
          ]
        },
        {
          "name": "stdout",
          "output_type": "stream",
          "text": [
            "Current Average Hit Percentage: 30.16%\n"
          ]
        },
        {
          "name": "stderr",
          "output_type": "stream",
          "text": [
            "Calculating Hit Percentages:  62%|██████▏   | 707/1136 [24:12<14:38,  2.05s/user]"
          ]
        },
        {
          "name": "stdout",
          "output_type": "stream",
          "text": [
            "Current Average Hit Percentage: 30.14%\n"
          ]
        },
        {
          "name": "stderr",
          "output_type": "stream",
          "text": [
            "Calculating Hit Percentages:  62%|██████▏   | 708/1136 [24:14<14:40,  2.06s/user]"
          ]
        },
        {
          "name": "stdout",
          "output_type": "stream",
          "text": [
            "Current Average Hit Percentage: 30.14%\n"
          ]
        },
        {
          "name": "stderr",
          "output_type": "stream",
          "text": [
            "Calculating Hit Percentages:  62%|██████▏   | 709/1136 [24:16<14:37,  2.05s/user]"
          ]
        },
        {
          "name": "stdout",
          "output_type": "stream",
          "text": [
            "Current Average Hit Percentage: 30.13%\n"
          ]
        },
        {
          "name": "stderr",
          "output_type": "stream",
          "text": [
            "Calculating Hit Percentages:  62%|██████▎   | 710/1136 [24:18<14:33,  2.05s/user]"
          ]
        },
        {
          "name": "stdout",
          "output_type": "stream",
          "text": [
            "Current Average Hit Percentage: 30.11%\n"
          ]
        },
        {
          "name": "stderr",
          "output_type": "stream",
          "text": [
            "Calculating Hit Percentages:  63%|██████▎   | 711/1136 [24:20<14:29,  2.05s/user]"
          ]
        },
        {
          "name": "stdout",
          "output_type": "stream",
          "text": [
            "Current Average Hit Percentage: 30.13%\n"
          ]
        },
        {
          "name": "stderr",
          "output_type": "stream",
          "text": [
            "Calculating Hit Percentages:  63%|██████▎   | 712/1136 [24:22<14:27,  2.05s/user]"
          ]
        },
        {
          "name": "stdout",
          "output_type": "stream",
          "text": [
            "Current Average Hit Percentage: 30.14%\n"
          ]
        },
        {
          "name": "stderr",
          "output_type": "stream",
          "text": [
            "Calculating Hit Percentages:  63%|██████▎   | 713/1136 [24:24<14:24,  2.04s/user]"
          ]
        },
        {
          "name": "stdout",
          "output_type": "stream",
          "text": [
            "Current Average Hit Percentage: 30.15%\n"
          ]
        },
        {
          "name": "stderr",
          "output_type": "stream",
          "text": [
            "Calculating Hit Percentages:  63%|██████▎   | 714/1136 [24:26<14:22,  2.04s/user]"
          ]
        },
        {
          "name": "stdout",
          "output_type": "stream",
          "text": [
            "Current Average Hit Percentage: 30.14%\n"
          ]
        },
        {
          "name": "stderr",
          "output_type": "stream",
          "text": [
            "Calculating Hit Percentages:  63%|██████▎   | 715/1136 [24:29<14:25,  2.06s/user]"
          ]
        },
        {
          "name": "stdout",
          "output_type": "stream",
          "text": [
            "Current Average Hit Percentage: 30.13%\n"
          ]
        },
        {
          "name": "stderr",
          "output_type": "stream",
          "text": [
            "Calculating Hit Percentages:  63%|██████▎   | 716/1136 [24:31<14:23,  2.06s/user]"
          ]
        },
        {
          "name": "stdout",
          "output_type": "stream",
          "text": [
            "Current Average Hit Percentage: 30.13%\n"
          ]
        },
        {
          "name": "stderr",
          "output_type": "stream",
          "text": [
            "Calculating Hit Percentages:  63%|██████▎   | 717/1136 [24:33<14:21,  2.06s/user]"
          ]
        },
        {
          "name": "stdout",
          "output_type": "stream",
          "text": [
            "Current Average Hit Percentage: 30.11%\n"
          ]
        },
        {
          "name": "stderr",
          "output_type": "stream",
          "text": [
            "Calculating Hit Percentages:  63%|██████▎   | 718/1136 [24:35<14:16,  2.05s/user]"
          ]
        },
        {
          "name": "stdout",
          "output_type": "stream",
          "text": [
            "Current Average Hit Percentage: 30.10%\n"
          ]
        },
        {
          "name": "stderr",
          "output_type": "stream",
          "text": [
            "Calculating Hit Percentages:  63%|██████▎   | 719/1136 [24:37<14:13,  2.05s/user]"
          ]
        },
        {
          "name": "stdout",
          "output_type": "stream",
          "text": [
            "Current Average Hit Percentage: 30.10%\n"
          ]
        },
        {
          "name": "stderr",
          "output_type": "stream",
          "text": [
            "Calculating Hit Percentages:  63%|██████▎   | 720/1136 [24:39<14:11,  2.05s/user]"
          ]
        },
        {
          "name": "stdout",
          "output_type": "stream",
          "text": [
            "Current Average Hit Percentage: 30.10%\n"
          ]
        },
        {
          "name": "stderr",
          "output_type": "stream",
          "text": [
            "Calculating Hit Percentages:  63%|██████▎   | 721/1136 [24:41<14:13,  2.06s/user]"
          ]
        },
        {
          "name": "stdout",
          "output_type": "stream",
          "text": [
            "Current Average Hit Percentage: 30.08%\n"
          ]
        },
        {
          "name": "stderr",
          "output_type": "stream",
          "text": [
            "Calculating Hit Percentages:  64%|██████▎   | 722/1136 [24:43<14:17,  2.07s/user]"
          ]
        },
        {
          "name": "stdout",
          "output_type": "stream",
          "text": [
            "Current Average Hit Percentage: 30.08%\n"
          ]
        },
        {
          "name": "stderr",
          "output_type": "stream",
          "text": [
            "Calculating Hit Percentages:  64%|██████▎   | 723/1136 [24:45<14:12,  2.06s/user]"
          ]
        },
        {
          "name": "stdout",
          "output_type": "stream",
          "text": [
            "Current Average Hit Percentage: 30.07%\n"
          ]
        },
        {
          "name": "stderr",
          "output_type": "stream",
          "text": [
            "Calculating Hit Percentages:  64%|██████▎   | 724/1136 [24:47<14:08,  2.06s/user]"
          ]
        },
        {
          "name": "stdout",
          "output_type": "stream",
          "text": [
            "Current Average Hit Percentage: 30.06%\n"
          ]
        },
        {
          "name": "stderr",
          "output_type": "stream",
          "text": [
            "Calculating Hit Percentages:  64%|██████▍   | 725/1136 [24:49<14:02,  2.05s/user]"
          ]
        },
        {
          "name": "stdout",
          "output_type": "stream",
          "text": [
            "Current Average Hit Percentage: 30.07%\n"
          ]
        },
        {
          "name": "stderr",
          "output_type": "stream",
          "text": [
            "Calculating Hit Percentages:  64%|██████▍   | 726/1136 [24:51<13:59,  2.05s/user]"
          ]
        },
        {
          "name": "stdout",
          "output_type": "stream",
          "text": [
            "Current Average Hit Percentage: 30.08%\n"
          ]
        },
        {
          "name": "stderr",
          "output_type": "stream",
          "text": [
            "Calculating Hit Percentages:  64%|██████▍   | 727/1136 [24:53<13:57,  2.05s/user]"
          ]
        },
        {
          "name": "stdout",
          "output_type": "stream",
          "text": [
            "Current Average Hit Percentage: 30.10%\n"
          ]
        },
        {
          "name": "stderr",
          "output_type": "stream",
          "text": [
            "Calculating Hit Percentages:  64%|██████▍   | 728/1136 [24:55<14:03,  2.07s/user]"
          ]
        },
        {
          "name": "stdout",
          "output_type": "stream",
          "text": [
            "Current Average Hit Percentage: 30.10%\n"
          ]
        },
        {
          "name": "stderr",
          "output_type": "stream",
          "text": [
            "Calculating Hit Percentages:  64%|██████▍   | 729/1136 [24:57<14:04,  2.07s/user]"
          ]
        },
        {
          "name": "stdout",
          "output_type": "stream",
          "text": [
            "Current Average Hit Percentage: 30.12%\n"
          ]
        },
        {
          "name": "stderr",
          "output_type": "stream",
          "text": [
            "Calculating Hit Percentages:  64%|██████▍   | 730/1136 [24:59<13:59,  2.07s/user]"
          ]
        },
        {
          "name": "stdout",
          "output_type": "stream",
          "text": [
            "Current Average Hit Percentage: 30.11%\n"
          ]
        },
        {
          "name": "stderr",
          "output_type": "stream",
          "text": [
            "Calculating Hit Percentages:  64%|██████▍   | 731/1136 [25:01<13:54,  2.06s/user]"
          ]
        },
        {
          "name": "stdout",
          "output_type": "stream",
          "text": [
            "Current Average Hit Percentage: 30.14%\n"
          ]
        },
        {
          "name": "stderr",
          "output_type": "stream",
          "text": [
            "Calculating Hit Percentages:  64%|██████▍   | 732/1136 [25:04<13:51,  2.06s/user]"
          ]
        },
        {
          "name": "stdout",
          "output_type": "stream",
          "text": [
            "Current Average Hit Percentage: 30.14%\n"
          ]
        },
        {
          "name": "stderr",
          "output_type": "stream",
          "text": [
            "Calculating Hit Percentages:  65%|██████▍   | 733/1136 [25:06<13:46,  2.05s/user]"
          ]
        },
        {
          "name": "stdout",
          "output_type": "stream",
          "text": [
            "Current Average Hit Percentage: 30.14%\n"
          ]
        },
        {
          "name": "stderr",
          "output_type": "stream",
          "text": [
            "Calculating Hit Percentages:  65%|██████▍   | 734/1136 [25:08<13:43,  2.05s/user]"
          ]
        },
        {
          "name": "stdout",
          "output_type": "stream",
          "text": [
            "Current Average Hit Percentage: 30.14%\n"
          ]
        },
        {
          "name": "stderr",
          "output_type": "stream",
          "text": [
            "Calculating Hit Percentages:  65%|██████▍   | 735/1136 [25:10<13:52,  2.08s/user]"
          ]
        },
        {
          "name": "stdout",
          "output_type": "stream",
          "text": [
            "Current Average Hit Percentage: 30.16%\n"
          ]
        },
        {
          "name": "stderr",
          "output_type": "stream",
          "text": [
            "Calculating Hit Percentages:  65%|██████▍   | 736/1136 [25:12<13:48,  2.07s/user]"
          ]
        },
        {
          "name": "stdout",
          "output_type": "stream",
          "text": [
            "Current Average Hit Percentage: 30.16%\n"
          ]
        },
        {
          "name": "stderr",
          "output_type": "stream",
          "text": [
            "Calculating Hit Percentages:  65%|██████▍   | 737/1136 [25:14<13:41,  2.06s/user]"
          ]
        },
        {
          "name": "stdout",
          "output_type": "stream",
          "text": [
            "Current Average Hit Percentage: 30.15%\n"
          ]
        },
        {
          "name": "stderr",
          "output_type": "stream",
          "text": [
            "Calculating Hit Percentages:  65%|██████▍   | 738/1136 [25:16<13:36,  2.05s/user]"
          ]
        },
        {
          "name": "stdout",
          "output_type": "stream",
          "text": [
            "Current Average Hit Percentage: 30.14%\n"
          ]
        },
        {
          "name": "stderr",
          "output_type": "stream",
          "text": [
            "Calculating Hit Percentages:  65%|██████▌   | 739/1136 [25:18<13:32,  2.05s/user]"
          ]
        },
        {
          "name": "stdout",
          "output_type": "stream",
          "text": [
            "Current Average Hit Percentage: 30.12%\n"
          ]
        },
        {
          "name": "stderr",
          "output_type": "stream",
          "text": [
            "Calculating Hit Percentages:  65%|██████▌   | 740/1136 [25:20<13:28,  2.04s/user]"
          ]
        },
        {
          "name": "stdout",
          "output_type": "stream",
          "text": [
            "Current Average Hit Percentage: 30.12%\n"
          ]
        },
        {
          "name": "stderr",
          "output_type": "stream",
          "text": [
            "Calculating Hit Percentages:  65%|██████▌   | 741/1136 [25:22<13:28,  2.05s/user]"
          ]
        },
        {
          "name": "stdout",
          "output_type": "stream",
          "text": [
            "Current Average Hit Percentage: 30.12%\n"
          ]
        },
        {
          "name": "stderr",
          "output_type": "stream",
          "text": [
            "Calculating Hit Percentages:  65%|██████▌   | 742/1136 [25:24<13:33,  2.06s/user]"
          ]
        },
        {
          "name": "stdout",
          "output_type": "stream",
          "text": [
            "Current Average Hit Percentage: 30.13%\n"
          ]
        },
        {
          "name": "stderr",
          "output_type": "stream",
          "text": [
            "Calculating Hit Percentages:  65%|██████▌   | 743/1136 [25:26<13:29,  2.06s/user]"
          ]
        },
        {
          "name": "stdout",
          "output_type": "stream",
          "text": [
            "Current Average Hit Percentage: 30.13%\n"
          ]
        },
        {
          "name": "stderr",
          "output_type": "stream",
          "text": [
            "Calculating Hit Percentages:  65%|██████▌   | 744/1136 [25:28<13:26,  2.06s/user]"
          ]
        },
        {
          "name": "stdout",
          "output_type": "stream",
          "text": [
            "Current Average Hit Percentage: 30.15%\n"
          ]
        },
        {
          "name": "stderr",
          "output_type": "stream",
          "text": [
            "Calculating Hit Percentages:  66%|██████▌   | 745/1136 [25:30<13:22,  2.05s/user]"
          ]
        },
        {
          "name": "stdout",
          "output_type": "stream",
          "text": [
            "Current Average Hit Percentage: 30.13%\n"
          ]
        },
        {
          "name": "stderr",
          "output_type": "stream",
          "text": [
            "Calculating Hit Percentages:  66%|██████▌   | 746/1136 [25:32<13:19,  2.05s/user]"
          ]
        },
        {
          "name": "stdout",
          "output_type": "stream",
          "text": [
            "Current Average Hit Percentage: 30.13%\n"
          ]
        },
        {
          "name": "stderr",
          "output_type": "stream",
          "text": [
            "Calculating Hit Percentages:  66%|██████▌   | 747/1136 [25:34<13:17,  2.05s/user]"
          ]
        },
        {
          "name": "stdout",
          "output_type": "stream",
          "text": [
            "Current Average Hit Percentage: 30.13%\n"
          ]
        },
        {
          "name": "stderr",
          "output_type": "stream",
          "text": [
            "Calculating Hit Percentages:  66%|██████▌   | 748/1136 [25:36<13:17,  2.05s/user]"
          ]
        },
        {
          "name": "stdout",
          "output_type": "stream",
          "text": [
            "Current Average Hit Percentage: 30.12%\n"
          ]
        },
        {
          "name": "stderr",
          "output_type": "stream",
          "text": [
            "Calculating Hit Percentages:  66%|██████▌   | 749/1136 [25:38<13:18,  2.06s/user]"
          ]
        },
        {
          "name": "stdout",
          "output_type": "stream",
          "text": [
            "Current Average Hit Percentage: 30.12%\n"
          ]
        },
        {
          "name": "stderr",
          "output_type": "stream",
          "text": [
            "Calculating Hit Percentages:  66%|██████▌   | 750/1136 [25:41<13:15,  2.06s/user]"
          ]
        },
        {
          "name": "stdout",
          "output_type": "stream",
          "text": [
            "Current Average Hit Percentage: 30.12%\n"
          ]
        },
        {
          "name": "stderr",
          "output_type": "stream",
          "text": [
            "Calculating Hit Percentages:  66%|██████▌   | 751/1136 [25:43<13:10,  2.05s/user]"
          ]
        },
        {
          "name": "stdout",
          "output_type": "stream",
          "text": [
            "Current Average Hit Percentage: 30.12%\n"
          ]
        },
        {
          "name": "stderr",
          "output_type": "stream",
          "text": [
            "Calculating Hit Percentages:  66%|██████▌   | 752/1136 [25:45<13:05,  2.05s/user]"
          ]
        },
        {
          "name": "stdout",
          "output_type": "stream",
          "text": [
            "Current Average Hit Percentage: 30.12%\n"
          ]
        },
        {
          "name": "stderr",
          "output_type": "stream",
          "text": [
            "Calculating Hit Percentages:  66%|██████▋   | 753/1136 [25:47<13:01,  2.04s/user]"
          ]
        },
        {
          "name": "stdout",
          "output_type": "stream",
          "text": [
            "Current Average Hit Percentage: 30.11%\n"
          ]
        },
        {
          "name": "stderr",
          "output_type": "stream",
          "text": [
            "Calculating Hit Percentages:  66%|██████▋   | 754/1136 [25:49<12:58,  2.04s/user]"
          ]
        },
        {
          "name": "stdout",
          "output_type": "stream",
          "text": [
            "Current Average Hit Percentage: 30.09%\n"
          ]
        },
        {
          "name": "stderr",
          "output_type": "stream",
          "text": [
            "Calculating Hit Percentages:  66%|██████▋   | 755/1136 [25:51<13:00,  2.05s/user]"
          ]
        },
        {
          "name": "stdout",
          "output_type": "stream",
          "text": [
            "Current Average Hit Percentage: 30.12%\n"
          ]
        },
        {
          "name": "stderr",
          "output_type": "stream",
          "text": [
            "Calculating Hit Percentages:  67%|██████▋   | 756/1136 [25:53<12:58,  2.05s/user]"
          ]
        },
        {
          "name": "stdout",
          "output_type": "stream",
          "text": [
            "Current Average Hit Percentage: 30.13%\n"
          ]
        },
        {
          "name": "stderr",
          "output_type": "stream",
          "text": [
            "Calculating Hit Percentages:  67%|██████▋   | 757/1136 [25:55<12:56,  2.05s/user]"
          ]
        },
        {
          "name": "stdout",
          "output_type": "stream",
          "text": [
            "Current Average Hit Percentage: 30.13%\n"
          ]
        },
        {
          "name": "stderr",
          "output_type": "stream",
          "text": [
            "Calculating Hit Percentages:  67%|██████▋   | 758/1136 [25:57<12:52,  2.04s/user]"
          ]
        },
        {
          "name": "stdout",
          "output_type": "stream",
          "text": [
            "Current Average Hit Percentage: 30.13%\n"
          ]
        },
        {
          "name": "stderr",
          "output_type": "stream",
          "text": [
            "Calculating Hit Percentages:  67%|██████▋   | 759/1136 [25:59<12:49,  2.04s/user]"
          ]
        },
        {
          "name": "stdout",
          "output_type": "stream",
          "text": [
            "Current Average Hit Percentage: 30.12%\n"
          ]
        },
        {
          "name": "stderr",
          "output_type": "stream",
          "text": [
            "Calculating Hit Percentages:  67%|██████▋   | 760/1136 [26:01<12:47,  2.04s/user]"
          ]
        },
        {
          "name": "stdout",
          "output_type": "stream",
          "text": [
            "Current Average Hit Percentage: 30.14%\n"
          ]
        },
        {
          "name": "stderr",
          "output_type": "stream",
          "text": [
            "Calculating Hit Percentages:  67%|██████▋   | 761/1136 [26:03<12:45,  2.04s/user]"
          ]
        },
        {
          "name": "stdout",
          "output_type": "stream",
          "text": [
            "Current Average Hit Percentage: 30.13%\n"
          ]
        },
        {
          "name": "stderr",
          "output_type": "stream",
          "text": [
            "Calculating Hit Percentages:  67%|██████▋   | 762/1136 [26:05<12:49,  2.06s/user]"
          ]
        },
        {
          "name": "stdout",
          "output_type": "stream",
          "text": [
            "Current Average Hit Percentage: 30.13%\n"
          ]
        },
        {
          "name": "stderr",
          "output_type": "stream",
          "text": [
            "Calculating Hit Percentages:  67%|██████▋   | 763/1136 [26:07<12:50,  2.07s/user]"
          ]
        },
        {
          "name": "stdout",
          "output_type": "stream",
          "text": [
            "Current Average Hit Percentage: 30.13%\n"
          ]
        },
        {
          "name": "stderr",
          "output_type": "stream",
          "text": [
            "Calculating Hit Percentages:  67%|██████▋   | 764/1136 [26:09<12:47,  2.06s/user]"
          ]
        },
        {
          "name": "stdout",
          "output_type": "stream",
          "text": [
            "Current Average Hit Percentage: 30.12%\n"
          ]
        },
        {
          "name": "stderr",
          "output_type": "stream",
          "text": [
            "Calculating Hit Percentages:  67%|██████▋   | 765/1136 [26:11<12:43,  2.06s/user]"
          ]
        },
        {
          "name": "stdout",
          "output_type": "stream",
          "text": [
            "Current Average Hit Percentage: 30.13%\n"
          ]
        },
        {
          "name": "stderr",
          "output_type": "stream",
          "text": [
            "Calculating Hit Percentages:  67%|██████▋   | 766/1136 [26:13<12:38,  2.05s/user]"
          ]
        },
        {
          "name": "stdout",
          "output_type": "stream",
          "text": [
            "Current Average Hit Percentage: 30.12%\n"
          ]
        },
        {
          "name": "stderr",
          "output_type": "stream",
          "text": [
            "Calculating Hit Percentages:  68%|██████▊   | 767/1136 [26:15<12:34,  2.04s/user]"
          ]
        },
        {
          "name": "stdout",
          "output_type": "stream",
          "text": [
            "Current Average Hit Percentage: 30.12%\n"
          ]
        },
        {
          "name": "stderr",
          "output_type": "stream",
          "text": [
            "Calculating Hit Percentages:  68%|██████▊   | 768/1136 [26:17<12:32,  2.04s/user]"
          ]
        },
        {
          "name": "stdout",
          "output_type": "stream",
          "text": [
            "Current Average Hit Percentage: 30.10%\n"
          ]
        },
        {
          "name": "stderr",
          "output_type": "stream",
          "text": [
            "Calculating Hit Percentages:  68%|██████▊   | 769/1136 [26:19<12:36,  2.06s/user]"
          ]
        },
        {
          "name": "stdout",
          "output_type": "stream",
          "text": [
            "Current Average Hit Percentage: 30.09%\n"
          ]
        },
        {
          "name": "stderr",
          "output_type": "stream",
          "text": [
            "Calculating Hit Percentages:  68%|██████▊   | 770/1136 [26:22<12:38,  2.07s/user]"
          ]
        },
        {
          "name": "stdout",
          "output_type": "stream",
          "text": [
            "Current Average Hit Percentage: 30.10%\n"
          ]
        },
        {
          "name": "stderr",
          "output_type": "stream",
          "text": [
            "Calculating Hit Percentages:  68%|██████▊   | 771/1136 [26:24<12:32,  2.06s/user]"
          ]
        },
        {
          "name": "stdout",
          "output_type": "stream",
          "text": [
            "Current Average Hit Percentage: 30.12%\n"
          ]
        },
        {
          "name": "stderr",
          "output_type": "stream",
          "text": [
            "Calculating Hit Percentages:  68%|██████▊   | 772/1136 [26:26<12:28,  2.06s/user]"
          ]
        },
        {
          "name": "stdout",
          "output_type": "stream",
          "text": [
            "Current Average Hit Percentage: 30.13%\n"
          ]
        },
        {
          "name": "stderr",
          "output_type": "stream",
          "text": [
            "Calculating Hit Percentages:  68%|██████▊   | 773/1136 [26:28<12:24,  2.05s/user]"
          ]
        },
        {
          "name": "stdout",
          "output_type": "stream",
          "text": [
            "Current Average Hit Percentage: 30.12%\n"
          ]
        },
        {
          "name": "stderr",
          "output_type": "stream",
          "text": [
            "Calculating Hit Percentages:  68%|██████▊   | 774/1136 [26:30<12:19,  2.04s/user]"
          ]
        },
        {
          "name": "stdout",
          "output_type": "stream",
          "text": [
            "Current Average Hit Percentage: 30.12%\n"
          ]
        },
        {
          "name": "stderr",
          "output_type": "stream",
          "text": [
            "Calculating Hit Percentages:  68%|██████▊   | 775/1136 [26:32<12:17,  2.04s/user]"
          ]
        },
        {
          "name": "stdout",
          "output_type": "stream",
          "text": [
            "Current Average Hit Percentage: 30.10%\n"
          ]
        },
        {
          "name": "stderr",
          "output_type": "stream",
          "text": [
            "Calculating Hit Percentages:  68%|██████▊   | 776/1136 [26:34<12:18,  2.05s/user]"
          ]
        },
        {
          "name": "stdout",
          "output_type": "stream",
          "text": [
            "Current Average Hit Percentage: 30.10%\n"
          ]
        },
        {
          "name": "stderr",
          "output_type": "stream",
          "text": [
            "Calculating Hit Percentages:  68%|██████▊   | 777/1136 [26:36<12:15,  2.05s/user]"
          ]
        },
        {
          "name": "stdout",
          "output_type": "stream",
          "text": [
            "Current Average Hit Percentage: 30.12%\n"
          ]
        },
        {
          "name": "stderr",
          "output_type": "stream",
          "text": [
            "Calculating Hit Percentages:  68%|██████▊   | 778/1136 [26:38<12:11,  2.04s/user]"
          ]
        },
        {
          "name": "stdout",
          "output_type": "stream",
          "text": [
            "Current Average Hit Percentage: 30.12%\n"
          ]
        },
        {
          "name": "stderr",
          "output_type": "stream",
          "text": [
            "Calculating Hit Percentages:  69%|██████▊   | 779/1136 [26:40<12:08,  2.04s/user]"
          ]
        },
        {
          "name": "stdout",
          "output_type": "stream",
          "text": [
            "Current Average Hit Percentage: 30.13%\n"
          ]
        },
        {
          "name": "stderr",
          "output_type": "stream",
          "text": [
            "Calculating Hit Percentages:  69%|██████▊   | 780/1136 [26:42<12:07,  2.04s/user]"
          ]
        },
        {
          "name": "stdout",
          "output_type": "stream",
          "text": [
            "Current Average Hit Percentage: 30.12%\n"
          ]
        },
        {
          "name": "stderr",
          "output_type": "stream",
          "text": [
            "Calculating Hit Percentages:  69%|██████▉   | 781/1136 [26:44<12:06,  2.05s/user]"
          ]
        },
        {
          "name": "stdout",
          "output_type": "stream",
          "text": [
            "Current Average Hit Percentage: 30.12%\n"
          ]
        },
        {
          "name": "stderr",
          "output_type": "stream",
          "text": [
            "Calculating Hit Percentages:  69%|██████▉   | 782/1136 [26:46<12:07,  2.05s/user]"
          ]
        },
        {
          "name": "stdout",
          "output_type": "stream",
          "text": [
            "Current Average Hit Percentage: 30.13%\n"
          ]
        },
        {
          "name": "stderr",
          "output_type": "stream",
          "text": [
            "Calculating Hit Percentages:  69%|██████▉   | 783/1136 [26:48<12:12,  2.08s/user]"
          ]
        },
        {
          "name": "stdout",
          "output_type": "stream",
          "text": [
            "Current Average Hit Percentage: 30.11%\n"
          ]
        },
        {
          "name": "stderr",
          "output_type": "stream",
          "text": [
            "Calculating Hit Percentages:  69%|██████▉   | 784/1136 [26:50<12:08,  2.07s/user]"
          ]
        },
        {
          "name": "stdout",
          "output_type": "stream",
          "text": [
            "Current Average Hit Percentage: 30.11%\n"
          ]
        },
        {
          "name": "stderr",
          "output_type": "stream",
          "text": [
            "Calculating Hit Percentages:  69%|██████▉   | 785/1136 [26:52<12:03,  2.06s/user]"
          ]
        },
        {
          "name": "stdout",
          "output_type": "stream",
          "text": [
            "Current Average Hit Percentage: 30.11%\n"
          ]
        },
        {
          "name": "stderr",
          "output_type": "stream",
          "text": [
            "Calculating Hit Percentages:  69%|██████▉   | 786/1136 [26:54<11:59,  2.06s/user]"
          ]
        },
        {
          "name": "stdout",
          "output_type": "stream",
          "text": [
            "Current Average Hit Percentage: 30.10%\n"
          ]
        },
        {
          "name": "stderr",
          "output_type": "stream",
          "text": [
            "Calculating Hit Percentages:  69%|██████▉   | 787/1136 [26:56<11:56,  2.05s/user]"
          ]
        },
        {
          "name": "stdout",
          "output_type": "stream",
          "text": [
            "Current Average Hit Percentage: 30.10%\n"
          ]
        },
        {
          "name": "stderr",
          "output_type": "stream",
          "text": [
            "Calculating Hit Percentages:  69%|██████▉   | 788/1136 [26:58<11:52,  2.05s/user]"
          ]
        },
        {
          "name": "stdout",
          "output_type": "stream",
          "text": [
            "Current Average Hit Percentage: 30.09%\n"
          ]
        },
        {
          "name": "stderr",
          "output_type": "stream",
          "text": [
            "Calculating Hit Percentages:  69%|██████▉   | 789/1136 [27:01<11:50,  2.05s/user]"
          ]
        },
        {
          "name": "stdout",
          "output_type": "stream",
          "text": [
            "Current Average Hit Percentage: 30.09%\n"
          ]
        },
        {
          "name": "stderr",
          "output_type": "stream",
          "text": [
            "Calculating Hit Percentages:  70%|██████▉   | 790/1136 [27:03<11:55,  2.07s/user]"
          ]
        },
        {
          "name": "stdout",
          "output_type": "stream",
          "text": [
            "Current Average Hit Percentage: 30.09%\n"
          ]
        },
        {
          "name": "stderr",
          "output_type": "stream",
          "text": [
            "Calculating Hit Percentages:  70%|██████▉   | 791/1136 [27:05<11:51,  2.06s/user]"
          ]
        },
        {
          "name": "stdout",
          "output_type": "stream",
          "text": [
            "Current Average Hit Percentage: 30.08%\n"
          ]
        },
        {
          "name": "stderr",
          "output_type": "stream",
          "text": [
            "Calculating Hit Percentages:  70%|██████▉   | 792/1136 [27:07<11:46,  2.05s/user]"
          ]
        },
        {
          "name": "stdout",
          "output_type": "stream",
          "text": [
            "Current Average Hit Percentage: 30.06%\n"
          ]
        },
        {
          "name": "stderr",
          "output_type": "stream",
          "text": [
            "Calculating Hit Percentages:  70%|██████▉   | 793/1136 [27:09<11:42,  2.05s/user]"
          ]
        },
        {
          "name": "stdout",
          "output_type": "stream",
          "text": [
            "Current Average Hit Percentage: 30.06%\n"
          ]
        },
        {
          "name": "stderr",
          "output_type": "stream",
          "text": [
            "Calculating Hit Percentages:  70%|██████▉   | 794/1136 [27:11<11:39,  2.05s/user]"
          ]
        },
        {
          "name": "stdout",
          "output_type": "stream",
          "text": [
            "Current Average Hit Percentage: 30.08%\n"
          ]
        },
        {
          "name": "stderr",
          "output_type": "stream",
          "text": [
            "Calculating Hit Percentages:  70%|██████▉   | 795/1136 [27:13<11:36,  2.04s/user]"
          ]
        },
        {
          "name": "stdout",
          "output_type": "stream",
          "text": [
            "Current Average Hit Percentage: 30.06%\n"
          ]
        },
        {
          "name": "stderr",
          "output_type": "stream",
          "text": [
            "Calculating Hit Percentages:  70%|███████   | 796/1136 [27:15<11:36,  2.05s/user]"
          ]
        },
        {
          "name": "stdout",
          "output_type": "stream",
          "text": [
            "Current Average Hit Percentage: 30.08%\n"
          ]
        },
        {
          "name": "stderr",
          "output_type": "stream",
          "text": [
            "Calculating Hit Percentages:  70%|███████   | 797/1136 [27:17<11:41,  2.07s/user]"
          ]
        },
        {
          "name": "stdout",
          "output_type": "stream",
          "text": [
            "Current Average Hit Percentage: 30.08%\n"
          ]
        },
        {
          "name": "stderr",
          "output_type": "stream",
          "text": [
            "Calculating Hit Percentages:  70%|███████   | 798/1136 [27:19<11:36,  2.06s/user]"
          ]
        },
        {
          "name": "stdout",
          "output_type": "stream",
          "text": [
            "Current Average Hit Percentage: 30.08%\n"
          ]
        },
        {
          "name": "stderr",
          "output_type": "stream",
          "text": [
            "Calculating Hit Percentages:  70%|███████   | 799/1136 [27:21<11:31,  2.05s/user]"
          ]
        },
        {
          "name": "stdout",
          "output_type": "stream",
          "text": [
            "Current Average Hit Percentage: 30.08%\n"
          ]
        },
        {
          "name": "stderr",
          "output_type": "stream",
          "text": [
            "Calculating Hit Percentages:  70%|███████   | 800/1136 [27:23<11:27,  2.05s/user]"
          ]
        },
        {
          "name": "stdout",
          "output_type": "stream",
          "text": [
            "Current Average Hit Percentage: 30.06%\n"
          ]
        },
        {
          "name": "stderr",
          "output_type": "stream",
          "text": [
            "Calculating Hit Percentages:  71%|███████   | 801/1136 [27:25<11:22,  2.04s/user]"
          ]
        },
        {
          "name": "stdout",
          "output_type": "stream",
          "text": [
            "Current Average Hit Percentage: 30.09%\n"
          ]
        },
        {
          "name": "stderr",
          "output_type": "stream",
          "text": [
            "Calculating Hit Percentages:  71%|███████   | 802/1136 [27:27<11:20,  2.04s/user]"
          ]
        },
        {
          "name": "stdout",
          "output_type": "stream",
          "text": [
            "Current Average Hit Percentage: 30.07%\n"
          ]
        },
        {
          "name": "stderr",
          "output_type": "stream",
          "text": [
            "Calculating Hit Percentages:  71%|███████   | 803/1136 [27:29<11:20,  2.04s/user]"
          ]
        },
        {
          "name": "stdout",
          "output_type": "stream",
          "text": [
            "Current Average Hit Percentage: 30.09%\n"
          ]
        },
        {
          "name": "stderr",
          "output_type": "stream",
          "text": [
            "Calculating Hit Percentages:  71%|███████   | 804/1136 [27:31<11:23,  2.06s/user]"
          ]
        },
        {
          "name": "stdout",
          "output_type": "stream",
          "text": [
            "Current Average Hit Percentage: 30.07%\n"
          ]
        },
        {
          "name": "stderr",
          "output_type": "stream",
          "text": [
            "Calculating Hit Percentages:  71%|███████   | 805/1136 [27:33<11:20,  2.06s/user]"
          ]
        },
        {
          "name": "stdout",
          "output_type": "stream",
          "text": [
            "Current Average Hit Percentage: 30.06%\n"
          ]
        },
        {
          "name": "stderr",
          "output_type": "stream",
          "text": [
            "Calculating Hit Percentages:  71%|███████   | 806/1136 [27:35<11:17,  2.05s/user]"
          ]
        },
        {
          "name": "stdout",
          "output_type": "stream",
          "text": [
            "Current Average Hit Percentage: 30.06%\n"
          ]
        },
        {
          "name": "stderr",
          "output_type": "stream",
          "text": [
            "Calculating Hit Percentages:  71%|███████   | 807/1136 [27:37<11:12,  2.04s/user]"
          ]
        },
        {
          "name": "stdout",
          "output_type": "stream",
          "text": [
            "Current Average Hit Percentage: 30.06%\n"
          ]
        },
        {
          "name": "stderr",
          "output_type": "stream",
          "text": [
            "Calculating Hit Percentages:  71%|███████   | 808/1136 [27:39<11:10,  2.04s/user]"
          ]
        },
        {
          "name": "stdout",
          "output_type": "stream",
          "text": [
            "Current Average Hit Percentage: 30.06%\n"
          ]
        },
        {
          "name": "stderr",
          "output_type": "stream",
          "text": [
            "Calculating Hit Percentages:  71%|███████   | 809/1136 [27:42<11:07,  2.04s/user]"
          ]
        },
        {
          "name": "stdout",
          "output_type": "stream",
          "text": [
            "Current Average Hit Percentage: 30.06%\n"
          ]
        },
        {
          "name": "stderr",
          "output_type": "stream",
          "text": [
            "Calculating Hit Percentages:  71%|███████▏  | 810/1136 [27:44<11:17,  2.08s/user]"
          ]
        },
        {
          "name": "stdout",
          "output_type": "stream",
          "text": [
            "Current Average Hit Percentage: 30.06%\n"
          ]
        },
        {
          "name": "stderr",
          "output_type": "stream",
          "text": [
            "Calculating Hit Percentages:  71%|███████▏  | 811/1136 [27:46<11:18,  2.09s/user]"
          ]
        },
        {
          "name": "stdout",
          "output_type": "stream",
          "text": [
            "Current Average Hit Percentage: 30.05%\n"
          ]
        },
        {
          "name": "stderr",
          "output_type": "stream",
          "text": [
            "Calculating Hit Percentages:  71%|███████▏  | 812/1136 [27:48<11:14,  2.08s/user]"
          ]
        },
        {
          "name": "stdout",
          "output_type": "stream",
          "text": [
            "Current Average Hit Percentage: 30.06%\n"
          ]
        },
        {
          "name": "stderr",
          "output_type": "stream",
          "text": [
            "Calculating Hit Percentages:  72%|███████▏  | 813/1136 [27:50<11:08,  2.07s/user]"
          ]
        },
        {
          "name": "stdout",
          "output_type": "stream",
          "text": [
            "Current Average Hit Percentage: 30.05%\n"
          ]
        },
        {
          "name": "stderr",
          "output_type": "stream",
          "text": [
            "Calculating Hit Percentages:  72%|███████▏  | 814/1136 [27:52<11:05,  2.07s/user]"
          ]
        },
        {
          "name": "stdout",
          "output_type": "stream",
          "text": [
            "Current Average Hit Percentage: 30.05%\n"
          ]
        },
        {
          "name": "stderr",
          "output_type": "stream",
          "text": [
            "Calculating Hit Percentages:  72%|███████▏  | 815/1136 [27:54<11:02,  2.06s/user]"
          ]
        },
        {
          "name": "stdout",
          "output_type": "stream",
          "text": [
            "Current Average Hit Percentage: 30.05%\n"
          ]
        },
        {
          "name": "stderr",
          "output_type": "stream",
          "text": [
            "Calculating Hit Percentages:  72%|███████▏  | 816/1136 [27:56<11:01,  2.07s/user]"
          ]
        },
        {
          "name": "stdout",
          "output_type": "stream",
          "text": [
            "Current Average Hit Percentage: 30.04%\n"
          ]
        },
        {
          "name": "stderr",
          "output_type": "stream",
          "text": [
            "Calculating Hit Percentages:  72%|███████▏  | 817/1136 [27:58<11:04,  2.08s/user]"
          ]
        },
        {
          "name": "stdout",
          "output_type": "stream",
          "text": [
            "Current Average Hit Percentage: 30.04%\n"
          ]
        },
        {
          "name": "stderr",
          "output_type": "stream",
          "text": [
            "Calculating Hit Percentages:  72%|███████▏  | 818/1136 [28:00<11:05,  2.09s/user]"
          ]
        },
        {
          "name": "stdout",
          "output_type": "stream",
          "text": [
            "Current Average Hit Percentage: 30.04%\n"
          ]
        },
        {
          "name": "stderr",
          "output_type": "stream",
          "text": [
            "Calculating Hit Percentages:  72%|███████▏  | 819/1136 [28:02<10:59,  2.08s/user]"
          ]
        },
        {
          "name": "stdout",
          "output_type": "stream",
          "text": [
            "Current Average Hit Percentage: 30.04%\n"
          ]
        },
        {
          "name": "stderr",
          "output_type": "stream",
          "text": [
            "Calculating Hit Percentages:  72%|███████▏  | 820/1136 [28:04<10:53,  2.07s/user]"
          ]
        },
        {
          "name": "stdout",
          "output_type": "stream",
          "text": [
            "Current Average Hit Percentage: 30.02%\n"
          ]
        },
        {
          "name": "stderr",
          "output_type": "stream",
          "text": [
            "Calculating Hit Percentages:  72%|███████▏  | 821/1136 [28:06<10:49,  2.06s/user]"
          ]
        },
        {
          "name": "stdout",
          "output_type": "stream",
          "text": [
            "Current Average Hit Percentage: 30.01%\n"
          ]
        },
        {
          "name": "stderr",
          "output_type": "stream",
          "text": [
            "Calculating Hit Percentages:  72%|███████▏  | 822/1136 [28:08<10:44,  2.05s/user]"
          ]
        },
        {
          "name": "stdout",
          "output_type": "stream",
          "text": [
            "Current Average Hit Percentage: 30.01%\n"
          ]
        },
        {
          "name": "stderr",
          "output_type": "stream",
          "text": [
            "Calculating Hit Percentages:  72%|███████▏  | 823/1136 [28:11<10:42,  2.05s/user]"
          ]
        },
        {
          "name": "stdout",
          "output_type": "stream",
          "text": [
            "Current Average Hit Percentage: 30.00%\n"
          ]
        },
        {
          "name": "stderr",
          "output_type": "stream",
          "text": [
            "Calculating Hit Percentages:  73%|███████▎  | 824/1136 [28:13<10:52,  2.09s/user]"
          ]
        },
        {
          "name": "stdout",
          "output_type": "stream",
          "text": [
            "Current Average Hit Percentage: 30.00%\n"
          ]
        },
        {
          "name": "stderr",
          "output_type": "stream",
          "text": [
            "Calculating Hit Percentages:  73%|███████▎  | 825/1136 [28:15<10:50,  2.09s/user]"
          ]
        },
        {
          "name": "stdout",
          "output_type": "stream",
          "text": [
            "Current Average Hit Percentage: 29.99%\n"
          ]
        },
        {
          "name": "stderr",
          "output_type": "stream",
          "text": [
            "Calculating Hit Percentages:  73%|███████▎  | 826/1136 [28:17<10:44,  2.08s/user]"
          ]
        },
        {
          "name": "stdout",
          "output_type": "stream",
          "text": [
            "Current Average Hit Percentage: 29.99%\n"
          ]
        },
        {
          "name": "stderr",
          "output_type": "stream",
          "text": [
            "Calculating Hit Percentages:  73%|███████▎  | 827/1136 [28:19<10:38,  2.07s/user]"
          ]
        },
        {
          "name": "stdout",
          "output_type": "stream",
          "text": [
            "Current Average Hit Percentage: 29.98%\n"
          ]
        },
        {
          "name": "stderr",
          "output_type": "stream",
          "text": [
            "Calculating Hit Percentages:  73%|███████▎  | 828/1136 [28:21<10:35,  2.06s/user]"
          ]
        },
        {
          "name": "stdout",
          "output_type": "stream",
          "text": [
            "Current Average Hit Percentage: 29.98%\n"
          ]
        },
        {
          "name": "stderr",
          "output_type": "stream",
          "text": [
            "Calculating Hit Percentages:  73%|███████▎  | 829/1136 [28:23<10:33,  2.06s/user]"
          ]
        },
        {
          "name": "stdout",
          "output_type": "stream",
          "text": [
            "Current Average Hit Percentage: 29.96%\n"
          ]
        },
        {
          "name": "stderr",
          "output_type": "stream",
          "text": [
            "Calculating Hit Percentages:  73%|███████▎  | 830/1136 [28:25<10:32,  2.07s/user]"
          ]
        },
        {
          "name": "stdout",
          "output_type": "stream",
          "text": [
            "Current Average Hit Percentage: 29.96%\n"
          ]
        },
        {
          "name": "stderr",
          "output_type": "stream",
          "text": [
            "Calculating Hit Percentages:  73%|███████▎  | 831/1136 [28:27<10:43,  2.11s/user]"
          ]
        },
        {
          "name": "stdout",
          "output_type": "stream",
          "text": [
            "Current Average Hit Percentage: 29.95%\n"
          ]
        },
        {
          "name": "stderr",
          "output_type": "stream",
          "text": [
            "Calculating Hit Percentages:  73%|███████▎  | 832/1136 [28:29<10:37,  2.10s/user]"
          ]
        },
        {
          "name": "stdout",
          "output_type": "stream",
          "text": [
            "Current Average Hit Percentage: 29.94%\n"
          ]
        },
        {
          "name": "stderr",
          "output_type": "stream",
          "text": [
            "Calculating Hit Percentages:  73%|███████▎  | 833/1136 [28:31<10:30,  2.08s/user]"
          ]
        },
        {
          "name": "stdout",
          "output_type": "stream",
          "text": [
            "Current Average Hit Percentage: 29.94%\n"
          ]
        },
        {
          "name": "stderr",
          "output_type": "stream",
          "text": [
            "Calculating Hit Percentages:  73%|███████▎  | 834/1136 [28:33<10:25,  2.07s/user]"
          ]
        },
        {
          "name": "stdout",
          "output_type": "stream",
          "text": [
            "Current Average Hit Percentage: 29.98%\n"
          ]
        },
        {
          "name": "stderr",
          "output_type": "stream",
          "text": [
            "Calculating Hit Percentages:  74%|███████▎  | 835/1136 [28:36<10:21,  2.06s/user]"
          ]
        },
        {
          "name": "stdout",
          "output_type": "stream",
          "text": [
            "Current Average Hit Percentage: 29.99%\n"
          ]
        },
        {
          "name": "stderr",
          "output_type": "stream",
          "text": [
            "Calculating Hit Percentages:  74%|███████▎  | 836/1136 [28:38<10:17,  2.06s/user]"
          ]
        },
        {
          "name": "stdout",
          "output_type": "stream",
          "text": [
            "Current Average Hit Percentage: 29.98%\n"
          ]
        },
        {
          "name": "stderr",
          "output_type": "stream",
          "text": [
            "Calculating Hit Percentages:  74%|███████▎  | 837/1136 [28:40<10:20,  2.08s/user]"
          ]
        },
        {
          "name": "stdout",
          "output_type": "stream",
          "text": [
            "Current Average Hit Percentage: 29.99%\n"
          ]
        },
        {
          "name": "stderr",
          "output_type": "stream",
          "text": [
            "Calculating Hit Percentages:  74%|███████▍  | 838/1136 [28:42<10:27,  2.11s/user]"
          ]
        },
        {
          "name": "stdout",
          "output_type": "stream",
          "text": [
            "Current Average Hit Percentage: 29.98%\n"
          ]
        },
        {
          "name": "stderr",
          "output_type": "stream",
          "text": [
            "Calculating Hit Percentages:  74%|███████▍  | 839/1136 [28:44<10:21,  2.09s/user]"
          ]
        },
        {
          "name": "stdout",
          "output_type": "stream",
          "text": [
            "Current Average Hit Percentage: 29.98%\n"
          ]
        },
        {
          "name": "stderr",
          "output_type": "stream",
          "text": [
            "Calculating Hit Percentages:  74%|███████▍  | 840/1136 [28:46<10:14,  2.07s/user]"
          ]
        },
        {
          "name": "stdout",
          "output_type": "stream",
          "text": [
            "Current Average Hit Percentage: 29.98%\n"
          ]
        },
        {
          "name": "stderr",
          "output_type": "stream",
          "text": [
            "Calculating Hit Percentages:  74%|███████▍  | 841/1136 [28:48<10:08,  2.06s/user]"
          ]
        },
        {
          "name": "stdout",
          "output_type": "stream",
          "text": [
            "Current Average Hit Percentage: 29.96%\n"
          ]
        },
        {
          "name": "stderr",
          "output_type": "stream",
          "text": [
            "Calculating Hit Percentages:  74%|███████▍  | 842/1136 [28:50<10:03,  2.05s/user]"
          ]
        },
        {
          "name": "stdout",
          "output_type": "stream",
          "text": [
            "Current Average Hit Percentage: 29.96%\n"
          ]
        },
        {
          "name": "stderr",
          "output_type": "stream",
          "text": [
            "Calculating Hit Percentages:  74%|███████▍  | 843/1136 [28:52<10:01,  2.05s/user]"
          ]
        },
        {
          "name": "stdout",
          "output_type": "stream",
          "text": [
            "Current Average Hit Percentage: 29.95%\n"
          ]
        },
        {
          "name": "stderr",
          "output_type": "stream",
          "text": [
            "Calculating Hit Percentages:  74%|███████▍  | 844/1136 [28:54<10:04,  2.07s/user]"
          ]
        },
        {
          "name": "stdout",
          "output_type": "stream",
          "text": [
            "Current Average Hit Percentage: 29.94%\n"
          ]
        },
        {
          "name": "stderr",
          "output_type": "stream",
          "text": [
            "Calculating Hit Percentages:  74%|███████▍  | 845/1136 [28:56<10:09,  2.09s/user]"
          ]
        },
        {
          "name": "stdout",
          "output_type": "stream",
          "text": [
            "Current Average Hit Percentage: 29.95%\n"
          ]
        },
        {
          "name": "stderr",
          "output_type": "stream",
          "text": [
            "Calculating Hit Percentages:  74%|███████▍  | 846/1136 [28:58<10:04,  2.08s/user]"
          ]
        },
        {
          "name": "stdout",
          "output_type": "stream",
          "text": [
            "Current Average Hit Percentage: 29.95%\n"
          ]
        },
        {
          "name": "stderr",
          "output_type": "stream",
          "text": [
            "Calculating Hit Percentages:  75%|███████▍  | 847/1136 [29:01<10:09,  2.11s/user]"
          ]
        },
        {
          "name": "stdout",
          "output_type": "stream",
          "text": [
            "Current Average Hit Percentage: 29.95%\n"
          ]
        },
        {
          "name": "stderr",
          "output_type": "stream",
          "text": [
            "Calculating Hit Percentages:  75%|███████▍  | 848/1136 [29:03<10:02,  2.09s/user]"
          ]
        },
        {
          "name": "stdout",
          "output_type": "stream",
          "text": [
            "Current Average Hit Percentage: 29.94%\n"
          ]
        },
        {
          "name": "stderr",
          "output_type": "stream",
          "text": [
            "Calculating Hit Percentages:  75%|███████▍  | 849/1136 [29:05<09:55,  2.08s/user]"
          ]
        },
        {
          "name": "stdout",
          "output_type": "stream",
          "text": [
            "Current Average Hit Percentage: 29.94%\n"
          ]
        },
        {
          "name": "stderr",
          "output_type": "stream",
          "text": [
            "Calculating Hit Percentages:  75%|███████▍  | 850/1136 [29:07<09:51,  2.07s/user]"
          ]
        },
        {
          "name": "stdout",
          "output_type": "stream",
          "text": [
            "Current Average Hit Percentage: 29.93%\n"
          ]
        },
        {
          "name": "stderr",
          "output_type": "stream",
          "text": [
            "Calculating Hit Percentages:  75%|███████▍  | 851/1136 [29:09<09:56,  2.09s/user]"
          ]
        },
        {
          "name": "stdout",
          "output_type": "stream",
          "text": [
            "Current Average Hit Percentage: 29.94%\n"
          ]
        },
        {
          "name": "stderr",
          "output_type": "stream",
          "text": [
            "Calculating Hit Percentages:  75%|███████▌  | 852/1136 [29:11<09:54,  2.09s/user]"
          ]
        },
        {
          "name": "stdout",
          "output_type": "stream",
          "text": [
            "Current Average Hit Percentage: 29.95%\n"
          ]
        },
        {
          "name": "stderr",
          "output_type": "stream",
          "text": [
            "Calculating Hit Percentages:  75%|███████▌  | 853/1136 [29:13<09:49,  2.08s/user]"
          ]
        },
        {
          "name": "stdout",
          "output_type": "stream",
          "text": [
            "Current Average Hit Percentage: 29.94%\n"
          ]
        },
        {
          "name": "stderr",
          "output_type": "stream",
          "text": [
            "Calculating Hit Percentages:  75%|███████▌  | 854/1136 [29:15<09:42,  2.07s/user]"
          ]
        },
        {
          "name": "stdout",
          "output_type": "stream",
          "text": [
            "Current Average Hit Percentage: 29.94%\n"
          ]
        },
        {
          "name": "stderr",
          "output_type": "stream",
          "text": [
            "Calculating Hit Percentages:  75%|███████▌  | 855/1136 [29:17<09:38,  2.06s/user]"
          ]
        },
        {
          "name": "stdout",
          "output_type": "stream",
          "text": [
            "Current Average Hit Percentage: 29.94%\n"
          ]
        },
        {
          "name": "stderr",
          "output_type": "stream",
          "text": [
            "Calculating Hit Percentages:  75%|███████▌  | 856/1136 [29:19<09:34,  2.05s/user]"
          ]
        },
        {
          "name": "stdout",
          "output_type": "stream",
          "text": [
            "Current Average Hit Percentage: 29.94%\n"
          ]
        },
        {
          "name": "stderr",
          "output_type": "stream",
          "text": [
            "Calculating Hit Percentages:  75%|███████▌  | 857/1136 [29:21<09:31,  2.05s/user]"
          ]
        },
        {
          "name": "stdout",
          "output_type": "stream",
          "text": [
            "Current Average Hit Percentage: 29.94%\n"
          ]
        },
        {
          "name": "stderr",
          "output_type": "stream",
          "text": [
            "Calculating Hit Percentages:  76%|███████▌  | 858/1136 [29:23<09:40,  2.09s/user]"
          ]
        },
        {
          "name": "stdout",
          "output_type": "stream",
          "text": [
            "Current Average Hit Percentage: 29.93%\n"
          ]
        },
        {
          "name": "stderr",
          "output_type": "stream",
          "text": [
            "Calculating Hit Percentages:  76%|███████▌  | 859/1136 [29:25<09:41,  2.10s/user]"
          ]
        },
        {
          "name": "stdout",
          "output_type": "stream",
          "text": [
            "Current Average Hit Percentage: 29.94%\n"
          ]
        },
        {
          "name": "stderr",
          "output_type": "stream",
          "text": [
            "Calculating Hit Percentages:  76%|███████▌  | 860/1136 [29:27<09:35,  2.09s/user]"
          ]
        },
        {
          "name": "stdout",
          "output_type": "stream",
          "text": [
            "Current Average Hit Percentage: 29.93%\n"
          ]
        },
        {
          "name": "stderr",
          "output_type": "stream",
          "text": [
            "Calculating Hit Percentages:  76%|███████▌  | 861/1136 [29:30<09:30,  2.07s/user]"
          ]
        },
        {
          "name": "stdout",
          "output_type": "stream",
          "text": [
            "Current Average Hit Percentage: 29.93%\n"
          ]
        },
        {
          "name": "stderr",
          "output_type": "stream",
          "text": [
            "Calculating Hit Percentages:  76%|███████▌  | 862/1136 [29:32<09:26,  2.07s/user]"
          ]
        },
        {
          "name": "stdout",
          "output_type": "stream",
          "text": [
            "Current Average Hit Percentage: 29.92%\n"
          ]
        },
        {
          "name": "stderr",
          "output_type": "stream",
          "text": [
            "Calculating Hit Percentages:  76%|███████▌  | 863/1136 [29:34<09:23,  2.06s/user]"
          ]
        },
        {
          "name": "stdout",
          "output_type": "stream",
          "text": [
            "Current Average Hit Percentage: 29.91%\n"
          ]
        },
        {
          "name": "stderr",
          "output_type": "stream",
          "text": [
            "Calculating Hit Percentages:  76%|███████▌  | 864/1136 [29:36<09:21,  2.06s/user]"
          ]
        },
        {
          "name": "stdout",
          "output_type": "stream",
          "text": [
            "Current Average Hit Percentage: 29.92%\n"
          ]
        },
        {
          "name": "stderr",
          "output_type": "stream",
          "text": [
            "Calculating Hit Percentages:  76%|███████▌  | 865/1136 [29:38<09:34,  2.12s/user]"
          ]
        },
        {
          "name": "stdout",
          "output_type": "stream",
          "text": [
            "Current Average Hit Percentage: 29.93%\n"
          ]
        },
        {
          "name": "stderr",
          "output_type": "stream",
          "text": [
            "Calculating Hit Percentages:  76%|███████▌  | 866/1136 [29:40<09:28,  2.11s/user]"
          ]
        },
        {
          "name": "stdout",
          "output_type": "stream",
          "text": [
            "Current Average Hit Percentage: 29.92%\n"
          ]
        },
        {
          "name": "stderr",
          "output_type": "stream",
          "text": [
            "Calculating Hit Percentages:  76%|███████▋  | 867/1136 [29:42<09:22,  2.09s/user]"
          ]
        },
        {
          "name": "stdout",
          "output_type": "stream",
          "text": [
            "Current Average Hit Percentage: 29.91%\n"
          ]
        },
        {
          "name": "stderr",
          "output_type": "stream",
          "text": [
            "Calculating Hit Percentages:  76%|███████▋  | 868/1136 [29:44<09:16,  2.07s/user]"
          ]
        },
        {
          "name": "stdout",
          "output_type": "stream",
          "text": [
            "Current Average Hit Percentage: 29.92%\n"
          ]
        },
        {
          "name": "stderr",
          "output_type": "stream",
          "text": [
            "Calculating Hit Percentages:  76%|███████▋  | 869/1136 [29:46<09:11,  2.06s/user]"
          ]
        },
        {
          "name": "stdout",
          "output_type": "stream",
          "text": [
            "Current Average Hit Percentage: 29.91%\n"
          ]
        },
        {
          "name": "stderr",
          "output_type": "stream",
          "text": [
            "Calculating Hit Percentages:  77%|███████▋  | 870/1136 [29:48<09:07,  2.06s/user]"
          ]
        },
        {
          "name": "stdout",
          "output_type": "stream",
          "text": [
            "Current Average Hit Percentage: 29.91%\n"
          ]
        },
        {
          "name": "stderr",
          "output_type": "stream",
          "text": [
            "Calculating Hit Percentages:  77%|███████▋  | 871/1136 [29:50<09:05,  2.06s/user]"
          ]
        },
        {
          "name": "stdout",
          "output_type": "stream",
          "text": [
            "Current Average Hit Percentage: 29.91%\n"
          ]
        },
        {
          "name": "stderr",
          "output_type": "stream",
          "text": [
            "Calculating Hit Percentages:  77%|███████▋  | 872/1136 [29:52<09:08,  2.08s/user]"
          ]
        },
        {
          "name": "stdout",
          "output_type": "stream",
          "text": [
            "Current Average Hit Percentage: 29.90%\n"
          ]
        },
        {
          "name": "stderr",
          "output_type": "stream",
          "text": [
            "Calculating Hit Percentages:  77%|███████▋  | 873/1136 [29:54<09:07,  2.08s/user]"
          ]
        },
        {
          "name": "stdout",
          "output_type": "stream",
          "text": [
            "Current Average Hit Percentage: 29.92%\n"
          ]
        },
        {
          "name": "stderr",
          "output_type": "stream",
          "text": [
            "Calculating Hit Percentages:  77%|███████▋  | 874/1136 [29:57<09:01,  2.07s/user]"
          ]
        },
        {
          "name": "stdout",
          "output_type": "stream",
          "text": [
            "Current Average Hit Percentage: 29.93%\n"
          ]
        },
        {
          "name": "stderr",
          "output_type": "stream",
          "text": [
            "Calculating Hit Percentages:  77%|███████▋  | 875/1136 [29:59<08:57,  2.06s/user]"
          ]
        },
        {
          "name": "stdout",
          "output_type": "stream",
          "text": [
            "Current Average Hit Percentage: 29.92%\n"
          ]
        },
        {
          "name": "stderr",
          "output_type": "stream",
          "text": [
            "Calculating Hit Percentages:  77%|███████▋  | 876/1136 [30:01<08:53,  2.05s/user]"
          ]
        },
        {
          "name": "stdout",
          "output_type": "stream",
          "text": [
            "Current Average Hit Percentage: 29.91%\n"
          ]
        },
        {
          "name": "stderr",
          "output_type": "stream",
          "text": [
            "Calculating Hit Percentages:  77%|███████▋  | 877/1136 [30:03<08:51,  2.05s/user]"
          ]
        },
        {
          "name": "stdout",
          "output_type": "stream",
          "text": [
            "Current Average Hit Percentage: 29.92%\n"
          ]
        },
        {
          "name": "stderr",
          "output_type": "stream",
          "text": [
            "Calculating Hit Percentages:  77%|███████▋  | 878/1136 [30:05<08:50,  2.05s/user]"
          ]
        },
        {
          "name": "stdout",
          "output_type": "stream",
          "text": [
            "Current Average Hit Percentage: 29.93%\n"
          ]
        },
        {
          "name": "stderr",
          "output_type": "stream",
          "text": [
            "Calculating Hit Percentages:  77%|███████▋  | 879/1136 [30:07<08:53,  2.08s/user]"
          ]
        },
        {
          "name": "stdout",
          "output_type": "stream",
          "text": [
            "Current Average Hit Percentage: 29.95%\n"
          ]
        },
        {
          "name": "stderr",
          "output_type": "stream",
          "text": [
            "Calculating Hit Percentages:  77%|███████▋  | 880/1136 [30:09<08:50,  2.07s/user]"
          ]
        },
        {
          "name": "stdout",
          "output_type": "stream",
          "text": [
            "Current Average Hit Percentage: 29.94%\n"
          ]
        },
        {
          "name": "stderr",
          "output_type": "stream",
          "text": [
            "Calculating Hit Percentages:  78%|███████▊  | 881/1136 [30:11<08:46,  2.07s/user]"
          ]
        },
        {
          "name": "stdout",
          "output_type": "stream",
          "text": [
            "Current Average Hit Percentage: 29.94%\n"
          ]
        },
        {
          "name": "stderr",
          "output_type": "stream",
          "text": [
            "Calculating Hit Percentages:  78%|███████▊  | 882/1136 [30:13<08:42,  2.06s/user]"
          ]
        },
        {
          "name": "stdout",
          "output_type": "stream",
          "text": [
            "Current Average Hit Percentage: 29.93%\n"
          ]
        },
        {
          "name": "stderr",
          "output_type": "stream",
          "text": [
            "Calculating Hit Percentages:  78%|███████▊  | 883/1136 [30:15<08:38,  2.05s/user]"
          ]
        },
        {
          "name": "stdout",
          "output_type": "stream",
          "text": [
            "Current Average Hit Percentage: 29.92%\n"
          ]
        },
        {
          "name": "stderr",
          "output_type": "stream",
          "text": [
            "Calculating Hit Percentages:  78%|███████▊  | 884/1136 [30:17<08:35,  2.05s/user]"
          ]
        },
        {
          "name": "stdout",
          "output_type": "stream",
          "text": [
            "Current Average Hit Percentage: 29.93%\n"
          ]
        },
        {
          "name": "stderr",
          "output_type": "stream",
          "text": [
            "Calculating Hit Percentages:  78%|███████▊  | 885/1136 [30:19<08:38,  2.07s/user]"
          ]
        },
        {
          "name": "stdout",
          "output_type": "stream",
          "text": [
            "Current Average Hit Percentage: 29.92%\n"
          ]
        },
        {
          "name": "stderr",
          "output_type": "stream",
          "text": [
            "Calculating Hit Percentages:  78%|███████▊  | 886/1136 [30:21<08:39,  2.08s/user]"
          ]
        },
        {
          "name": "stdout",
          "output_type": "stream",
          "text": [
            "Current Average Hit Percentage: 29.91%\n"
          ]
        },
        {
          "name": "stderr",
          "output_type": "stream",
          "text": [
            "Calculating Hit Percentages:  78%|███████▊  | 887/1136 [30:23<08:36,  2.07s/user]"
          ]
        },
        {
          "name": "stdout",
          "output_type": "stream",
          "text": [
            "Current Average Hit Percentage: 29.91%\n"
          ]
        },
        {
          "name": "stderr",
          "output_type": "stream",
          "text": [
            "Calculating Hit Percentages:  78%|███████▊  | 888/1136 [30:25<08:31,  2.06s/user]"
          ]
        },
        {
          "name": "stdout",
          "output_type": "stream",
          "text": [
            "Current Average Hit Percentage: 29.90%\n"
          ]
        },
        {
          "name": "stderr",
          "output_type": "stream",
          "text": [
            "Calculating Hit Percentages:  78%|███████▊  | 889/1136 [30:27<08:28,  2.06s/user]"
          ]
        },
        {
          "name": "stdout",
          "output_type": "stream",
          "text": [
            "Current Average Hit Percentage: 29.90%\n"
          ]
        },
        {
          "name": "stderr",
          "output_type": "stream",
          "text": [
            "Calculating Hit Percentages:  78%|███████▊  | 890/1136 [30:29<08:27,  2.06s/user]"
          ]
        },
        {
          "name": "stdout",
          "output_type": "stream",
          "text": [
            "Current Average Hit Percentage: 29.91%\n"
          ]
        },
        {
          "name": "stderr",
          "output_type": "stream",
          "text": [
            "Calculating Hit Percentages:  78%|███████▊  | 891/1136 [30:32<08:26,  2.07s/user]"
          ]
        },
        {
          "name": "stdout",
          "output_type": "stream",
          "text": [
            "Current Average Hit Percentage: 29.90%\n"
          ]
        },
        {
          "name": "stderr",
          "output_type": "stream",
          "text": [
            "Calculating Hit Percentages:  79%|███████▊  | 892/1136 [30:34<08:32,  2.10s/user]"
          ]
        },
        {
          "name": "stdout",
          "output_type": "stream",
          "text": [
            "Current Average Hit Percentage: 29.90%\n"
          ]
        },
        {
          "name": "stderr",
          "output_type": "stream",
          "text": [
            "Calculating Hit Percentages:  79%|███████▊  | 893/1136 [30:36<08:31,  2.10s/user]"
          ]
        },
        {
          "name": "stdout",
          "output_type": "stream",
          "text": [
            "Current Average Hit Percentage: 29.90%\n"
          ]
        },
        {
          "name": "stderr",
          "output_type": "stream",
          "text": [
            "Calculating Hit Percentages:  79%|███████▊  | 894/1136 [30:38<08:25,  2.09s/user]"
          ]
        },
        {
          "name": "stdout",
          "output_type": "stream",
          "text": [
            "Current Average Hit Percentage: 29.90%\n"
          ]
        },
        {
          "name": "stderr",
          "output_type": "stream",
          "text": [
            "Calculating Hit Percentages:  79%|███████▉  | 895/1136 [30:40<08:21,  2.08s/user]"
          ]
        },
        {
          "name": "stdout",
          "output_type": "stream",
          "text": [
            "Current Average Hit Percentage: 29.91%\n"
          ]
        },
        {
          "name": "stderr",
          "output_type": "stream",
          "text": [
            "Calculating Hit Percentages:  79%|███████▉  | 896/1136 [30:42<08:16,  2.07s/user]"
          ]
        },
        {
          "name": "stdout",
          "output_type": "stream",
          "text": [
            "Current Average Hit Percentage: 29.90%\n"
          ]
        },
        {
          "name": "stderr",
          "output_type": "stream",
          "text": [
            "Calculating Hit Percentages:  79%|███████▉  | 897/1136 [30:44<08:11,  2.05s/user]"
          ]
        },
        {
          "name": "stdout",
          "output_type": "stream",
          "text": [
            "Current Average Hit Percentage: 29.89%\n"
          ]
        },
        {
          "name": "stderr",
          "output_type": "stream",
          "text": [
            "Calculating Hit Percentages:  79%|███████▉  | 898/1136 [30:46<08:08,  2.05s/user]"
          ]
        },
        {
          "name": "stdout",
          "output_type": "stream",
          "text": [
            "Current Average Hit Percentage: 29.89%\n"
          ]
        },
        {
          "name": "stderr",
          "output_type": "stream",
          "text": [
            "Calculating Hit Percentages:  79%|███████▉  | 899/1136 [30:48<08:13,  2.08s/user]"
          ]
        },
        {
          "name": "stdout",
          "output_type": "stream",
          "text": [
            "Current Average Hit Percentage: 29.89%\n"
          ]
        },
        {
          "name": "stderr",
          "output_type": "stream",
          "text": [
            "Calculating Hit Percentages:  79%|███████▉  | 900/1136 [30:50<08:09,  2.08s/user]"
          ]
        },
        {
          "name": "stdout",
          "output_type": "stream",
          "text": [
            "Current Average Hit Percentage: 29.89%\n"
          ]
        },
        {
          "name": "stderr",
          "output_type": "stream",
          "text": [
            "Calculating Hit Percentages:  79%|███████▉  | 901/1136 [30:52<08:07,  2.07s/user]"
          ]
        },
        {
          "name": "stdout",
          "output_type": "stream",
          "text": [
            "Current Average Hit Percentage: 29.89%\n"
          ]
        },
        {
          "name": "stderr",
          "output_type": "stream",
          "text": [
            "Calculating Hit Percentages:  79%|███████▉  | 902/1136 [30:54<08:04,  2.07s/user]"
          ]
        },
        {
          "name": "stdout",
          "output_type": "stream",
          "text": [
            "Current Average Hit Percentage: 29.89%\n"
          ]
        },
        {
          "name": "stderr",
          "output_type": "stream",
          "text": [
            "Calculating Hit Percentages:  79%|███████▉  | 903/1136 [30:56<08:00,  2.06s/user]"
          ]
        },
        {
          "name": "stdout",
          "output_type": "stream",
          "text": [
            "Current Average Hit Percentage: 29.90%\n"
          ]
        },
        {
          "name": "stderr",
          "output_type": "stream",
          "text": [
            "Calculating Hit Percentages:  80%|███████▉  | 904/1136 [30:58<07:56,  2.05s/user]"
          ]
        },
        {
          "name": "stdout",
          "output_type": "stream",
          "text": [
            "Current Average Hit Percentage: 29.90%\n"
          ]
        },
        {
          "name": "stderr",
          "output_type": "stream",
          "text": [
            "Calculating Hit Percentages:  80%|███████▉  | 905/1136 [31:01<07:54,  2.06s/user]"
          ]
        },
        {
          "name": "stdout",
          "output_type": "stream",
          "text": [
            "Current Average Hit Percentage: 29.89%\n"
          ]
        },
        {
          "name": "stderr",
          "output_type": "stream",
          "text": [
            "Calculating Hit Percentages:  80%|███████▉  | 906/1136 [31:03<07:59,  2.08s/user]"
          ]
        },
        {
          "name": "stdout",
          "output_type": "stream",
          "text": [
            "Current Average Hit Percentage: 29.88%\n"
          ]
        },
        {
          "name": "stderr",
          "output_type": "stream",
          "text": [
            "Calculating Hit Percentages:  80%|███████▉  | 907/1136 [31:05<07:55,  2.07s/user]"
          ]
        },
        {
          "name": "stdout",
          "output_type": "stream",
          "text": [
            "Current Average Hit Percentage: 29.89%\n"
          ]
        },
        {
          "name": "stderr",
          "output_type": "stream",
          "text": [
            "Calculating Hit Percentages:  80%|███████▉  | 908/1136 [31:07<07:50,  2.07s/user]"
          ]
        },
        {
          "name": "stdout",
          "output_type": "stream",
          "text": [
            "Current Average Hit Percentage: 29.88%\n"
          ]
        },
        {
          "name": "stderr",
          "output_type": "stream",
          "text": [
            "Calculating Hit Percentages:  80%|████████  | 909/1136 [31:09<07:47,  2.06s/user]"
          ]
        },
        {
          "name": "stdout",
          "output_type": "stream",
          "text": [
            "Current Average Hit Percentage: 29.90%\n"
          ]
        },
        {
          "name": "stderr",
          "output_type": "stream",
          "text": [
            "Calculating Hit Percentages:  80%|████████  | 910/1136 [31:11<07:44,  2.06s/user]"
          ]
        },
        {
          "name": "stdout",
          "output_type": "stream",
          "text": [
            "Current Average Hit Percentage: 29.90%\n"
          ]
        },
        {
          "name": "stderr",
          "output_type": "stream",
          "text": [
            "Calculating Hit Percentages:  80%|████████  | 911/1136 [31:13<07:41,  2.05s/user]"
          ]
        },
        {
          "name": "stdout",
          "output_type": "stream",
          "text": [
            "Current Average Hit Percentage: 29.91%\n"
          ]
        },
        {
          "name": "stderr",
          "output_type": "stream",
          "text": [
            "Calculating Hit Percentages:  80%|████████  | 912/1136 [31:15<07:39,  2.05s/user]"
          ]
        },
        {
          "name": "stdout",
          "output_type": "stream",
          "text": [
            "Current Average Hit Percentage: 29.91%\n"
          ]
        },
        {
          "name": "stderr",
          "output_type": "stream",
          "text": [
            "Calculating Hit Percentages:  80%|████████  | 913/1136 [31:17<07:42,  2.07s/user]"
          ]
        },
        {
          "name": "stdout",
          "output_type": "stream",
          "text": [
            "Current Average Hit Percentage: 29.90%\n"
          ]
        },
        {
          "name": "stderr",
          "output_type": "stream",
          "text": [
            "Calculating Hit Percentages:  80%|████████  | 914/1136 [31:19<07:38,  2.07s/user]"
          ]
        },
        {
          "name": "stdout",
          "output_type": "stream",
          "text": [
            "Current Average Hit Percentage: 29.89%\n"
          ]
        },
        {
          "name": "stderr",
          "output_type": "stream",
          "text": [
            "Calculating Hit Percentages:  81%|████████  | 915/1136 [31:21<07:34,  2.06s/user]"
          ]
        },
        {
          "name": "stdout",
          "output_type": "stream",
          "text": [
            "Current Average Hit Percentage: 29.90%\n"
          ]
        },
        {
          "name": "stderr",
          "output_type": "stream",
          "text": [
            "Calculating Hit Percentages:  81%|████████  | 916/1136 [31:23<07:31,  2.05s/user]"
          ]
        },
        {
          "name": "stdout",
          "output_type": "stream",
          "text": [
            "Current Average Hit Percentage: 29.91%\n"
          ]
        },
        {
          "name": "stderr",
          "output_type": "stream",
          "text": [
            "Calculating Hit Percentages:  81%|████████  | 917/1136 [31:25<07:27,  2.05s/user]"
          ]
        },
        {
          "name": "stdout",
          "output_type": "stream",
          "text": [
            "Current Average Hit Percentage: 29.91%\n"
          ]
        },
        {
          "name": "stderr",
          "output_type": "stream",
          "text": [
            "Calculating Hit Percentages:  81%|████████  | 918/1136 [31:27<07:25,  2.04s/user]"
          ]
        },
        {
          "name": "stdout",
          "output_type": "stream",
          "text": [
            "Current Average Hit Percentage: 29.90%\n"
          ]
        },
        {
          "name": "stderr",
          "output_type": "stream",
          "text": [
            "Calculating Hit Percentages:  81%|████████  | 919/1136 [31:29<07:26,  2.06s/user]"
          ]
        },
        {
          "name": "stdout",
          "output_type": "stream",
          "text": [
            "Current Average Hit Percentage: 29.91%\n"
          ]
        },
        {
          "name": "stderr",
          "output_type": "stream",
          "text": [
            "Calculating Hit Percentages:  81%|████████  | 920/1136 [31:32<07:29,  2.08s/user]"
          ]
        },
        {
          "name": "stdout",
          "output_type": "stream",
          "text": [
            "Current Average Hit Percentage: 29.91%\n"
          ]
        },
        {
          "name": "stderr",
          "output_type": "stream",
          "text": [
            "Calculating Hit Percentages:  81%|████████  | 921/1136 [31:34<07:25,  2.07s/user]"
          ]
        },
        {
          "name": "stdout",
          "output_type": "stream",
          "text": [
            "Current Average Hit Percentage: 29.91%\n"
          ]
        },
        {
          "name": "stderr",
          "output_type": "stream",
          "text": [
            "Calculating Hit Percentages:  81%|████████  | 922/1136 [31:36<07:21,  2.06s/user]"
          ]
        },
        {
          "name": "stdout",
          "output_type": "stream",
          "text": [
            "Current Average Hit Percentage: 29.90%\n"
          ]
        },
        {
          "name": "stderr",
          "output_type": "stream",
          "text": [
            "Calculating Hit Percentages:  81%|████████▏ | 923/1136 [31:38<07:17,  2.05s/user]"
          ]
        },
        {
          "name": "stdout",
          "output_type": "stream",
          "text": [
            "Current Average Hit Percentage: 29.89%\n"
          ]
        },
        {
          "name": "stderr",
          "output_type": "stream",
          "text": [
            "Calculating Hit Percentages:  81%|████████▏ | 924/1136 [31:40<07:14,  2.05s/user]"
          ]
        },
        {
          "name": "stdout",
          "output_type": "stream",
          "text": [
            "Current Average Hit Percentage: 29.88%\n"
          ]
        },
        {
          "name": "stderr",
          "output_type": "stream",
          "text": [
            "Calculating Hit Percentages:  81%|████████▏ | 925/1136 [31:42<07:12,  2.05s/user]"
          ]
        },
        {
          "name": "stdout",
          "output_type": "stream",
          "text": [
            "Current Average Hit Percentage: 29.90%\n"
          ]
        },
        {
          "name": "stderr",
          "output_type": "stream",
          "text": [
            "Calculating Hit Percentages:  82%|████████▏ | 926/1136 [31:44<07:12,  2.06s/user]"
          ]
        },
        {
          "name": "stdout",
          "output_type": "stream",
          "text": [
            "Current Average Hit Percentage: 29.89%\n"
          ]
        },
        {
          "name": "stderr",
          "output_type": "stream",
          "text": [
            "Calculating Hit Percentages:  82%|████████▏ | 927/1136 [31:46<07:13,  2.07s/user]"
          ]
        },
        {
          "name": "stdout",
          "output_type": "stream",
          "text": [
            "Current Average Hit Percentage: 29.89%\n"
          ]
        },
        {
          "name": "stderr",
          "output_type": "stream",
          "text": [
            "Calculating Hit Percentages:  82%|████████▏ | 928/1136 [31:48<07:09,  2.07s/user]"
          ]
        },
        {
          "name": "stdout",
          "output_type": "stream",
          "text": [
            "Current Average Hit Percentage: 29.90%\n"
          ]
        },
        {
          "name": "stderr",
          "output_type": "stream",
          "text": [
            "Calculating Hit Percentages:  82%|████████▏ | 929/1136 [31:50<07:05,  2.05s/user]"
          ]
        },
        {
          "name": "stdout",
          "output_type": "stream",
          "text": [
            "Current Average Hit Percentage: 29.89%\n"
          ]
        },
        {
          "name": "stderr",
          "output_type": "stream",
          "text": [
            "Calculating Hit Percentages:  82%|████████▏ | 930/1136 [31:52<07:02,  2.05s/user]"
          ]
        },
        {
          "name": "stdout",
          "output_type": "stream",
          "text": [
            "Current Average Hit Percentage: 29.88%\n"
          ]
        },
        {
          "name": "stderr",
          "output_type": "stream",
          "text": [
            "Calculating Hit Percentages:  82%|████████▏ | 931/1136 [31:54<07:00,  2.05s/user]"
          ]
        },
        {
          "name": "stdout",
          "output_type": "stream",
          "text": [
            "Current Average Hit Percentage: 29.88%\n"
          ]
        },
        {
          "name": "stderr",
          "output_type": "stream",
          "text": [
            "Calculating Hit Percentages:  82%|████████▏ | 932/1136 [31:56<07:00,  2.06s/user]"
          ]
        },
        {
          "name": "stdout",
          "output_type": "stream",
          "text": [
            "Current Average Hit Percentage: 29.87%\n"
          ]
        },
        {
          "name": "stderr",
          "output_type": "stream",
          "text": [
            "Calculating Hit Percentages:  82%|████████▏ | 933/1136 [31:58<07:01,  2.08s/user]"
          ]
        },
        {
          "name": "stdout",
          "output_type": "stream",
          "text": [
            "Current Average Hit Percentage: 29.86%\n"
          ]
        },
        {
          "name": "stderr",
          "output_type": "stream",
          "text": [
            "Calculating Hit Percentages:  82%|████████▏ | 934/1136 [32:00<07:02,  2.09s/user]"
          ]
        },
        {
          "name": "stdout",
          "output_type": "stream",
          "text": [
            "Current Average Hit Percentage: 29.90%\n"
          ]
        },
        {
          "name": "stderr",
          "output_type": "stream",
          "text": [
            "Calculating Hit Percentages:  82%|████████▏ | 935/1136 [32:02<06:59,  2.08s/user]"
          ]
        },
        {
          "name": "stdout",
          "output_type": "stream",
          "text": [
            "Current Average Hit Percentage: 29.95%\n"
          ]
        },
        {
          "name": "stderr",
          "output_type": "stream",
          "text": [
            "Calculating Hit Percentages:  82%|████████▏ | 936/1136 [32:05<06:54,  2.07s/user]"
          ]
        },
        {
          "name": "stdout",
          "output_type": "stream",
          "text": [
            "Current Average Hit Percentage: 29.94%\n"
          ]
        },
        {
          "name": "stderr",
          "output_type": "stream",
          "text": [
            "Calculating Hit Percentages:  82%|████████▏ | 937/1136 [32:07<06:51,  2.07s/user]"
          ]
        },
        {
          "name": "stdout",
          "output_type": "stream",
          "text": [
            "Current Average Hit Percentage: 29.95%\n"
          ]
        },
        {
          "name": "stderr",
          "output_type": "stream",
          "text": [
            "Calculating Hit Percentages:  83%|████████▎ | 938/1136 [32:09<06:49,  2.07s/user]"
          ]
        },
        {
          "name": "stdout",
          "output_type": "stream",
          "text": [
            "Current Average Hit Percentage: 29.94%\n"
          ]
        },
        {
          "name": "stderr",
          "output_type": "stream",
          "text": [
            "Calculating Hit Percentages:  83%|████████▎ | 939/1136 [32:11<06:47,  2.07s/user]"
          ]
        },
        {
          "name": "stdout",
          "output_type": "stream",
          "text": [
            "Current Average Hit Percentage: 29.94%\n"
          ]
        },
        {
          "name": "stderr",
          "output_type": "stream",
          "text": [
            "Calculating Hit Percentages:  83%|████████▎ | 940/1136 [32:13<06:49,  2.09s/user]"
          ]
        },
        {
          "name": "stdout",
          "output_type": "stream",
          "text": [
            "Current Average Hit Percentage: 29.94%\n"
          ]
        },
        {
          "name": "stderr",
          "output_type": "stream",
          "text": [
            "Calculating Hit Percentages:  83%|████████▎ | 941/1136 [32:15<06:47,  2.09s/user]"
          ]
        },
        {
          "name": "stdout",
          "output_type": "stream",
          "text": [
            "Current Average Hit Percentage: 29.94%\n"
          ]
        },
        {
          "name": "stderr",
          "output_type": "stream",
          "text": [
            "Calculating Hit Percentages:  83%|████████▎ | 942/1136 [32:17<06:42,  2.07s/user]"
          ]
        },
        {
          "name": "stdout",
          "output_type": "stream",
          "text": [
            "Current Average Hit Percentage: 29.93%\n"
          ]
        },
        {
          "name": "stderr",
          "output_type": "stream",
          "text": [
            "Calculating Hit Percentages:  83%|████████▎ | 943/1136 [32:19<06:38,  2.06s/user]"
          ]
        },
        {
          "name": "stdout",
          "output_type": "stream",
          "text": [
            "Current Average Hit Percentage: 29.95%\n"
          ]
        },
        {
          "name": "stderr",
          "output_type": "stream",
          "text": [
            "Calculating Hit Percentages:  83%|████████▎ | 944/1136 [32:21<06:35,  2.06s/user]"
          ]
        },
        {
          "name": "stdout",
          "output_type": "stream",
          "text": [
            "Current Average Hit Percentage: 29.94%\n"
          ]
        },
        {
          "name": "stderr",
          "output_type": "stream",
          "text": [
            "Calculating Hit Percentages:  83%|████████▎ | 945/1136 [32:23<06:31,  2.05s/user]"
          ]
        },
        {
          "name": "stdout",
          "output_type": "stream",
          "text": [
            "Current Average Hit Percentage: 29.94%\n"
          ]
        },
        {
          "name": "stderr",
          "output_type": "stream",
          "text": [
            "Calculating Hit Percentages:  83%|████████▎ | 946/1136 [32:25<06:28,  2.05s/user]"
          ]
        },
        {
          "name": "stdout",
          "output_type": "stream",
          "text": [
            "Current Average Hit Percentage: 29.93%\n"
          ]
        },
        {
          "name": "stderr",
          "output_type": "stream",
          "text": [
            "Calculating Hit Percentages:  83%|████████▎ | 947/1136 [32:27<06:30,  2.07s/user]"
          ]
        },
        {
          "name": "stdout",
          "output_type": "stream",
          "text": [
            "Current Average Hit Percentage: 29.92%\n"
          ]
        },
        {
          "name": "stderr",
          "output_type": "stream",
          "text": [
            "Calculating Hit Percentages:  83%|████████▎ | 948/1136 [32:29<06:28,  2.07s/user]"
          ]
        },
        {
          "name": "stdout",
          "output_type": "stream",
          "text": [
            "Current Average Hit Percentage: 29.92%\n"
          ]
        },
        {
          "name": "stderr",
          "output_type": "stream",
          "text": [
            "Calculating Hit Percentages:  84%|████████▎ | 949/1136 [32:31<06:25,  2.06s/user]"
          ]
        },
        {
          "name": "stdout",
          "output_type": "stream",
          "text": [
            "Current Average Hit Percentage: 29.91%\n"
          ]
        },
        {
          "name": "stderr",
          "output_type": "stream",
          "text": [
            "Calculating Hit Percentages:  84%|████████▎ | 950/1136 [32:33<06:22,  2.05s/user]"
          ]
        },
        {
          "name": "stdout",
          "output_type": "stream",
          "text": [
            "Current Average Hit Percentage: 29.91%\n"
          ]
        },
        {
          "name": "stderr",
          "output_type": "stream",
          "text": [
            "Calculating Hit Percentages:  84%|████████▎ | 951/1136 [32:35<06:19,  2.05s/user]"
          ]
        },
        {
          "name": "stdout",
          "output_type": "stream",
          "text": [
            "Current Average Hit Percentage: 29.91%\n"
          ]
        },
        {
          "name": "stderr",
          "output_type": "stream",
          "text": [
            "Calculating Hit Percentages:  84%|████████▍ | 952/1136 [32:38<06:16,  2.05s/user]"
          ]
        },
        {
          "name": "stdout",
          "output_type": "stream",
          "text": [
            "Current Average Hit Percentage: 29.91%\n"
          ]
        },
        {
          "name": "stderr",
          "output_type": "stream",
          "text": [
            "Calculating Hit Percentages:  84%|████████▍ | 953/1136 [32:40<06:14,  2.05s/user]"
          ]
        },
        {
          "name": "stdout",
          "output_type": "stream",
          "text": [
            "Current Average Hit Percentage: 29.92%\n"
          ]
        },
        {
          "name": "stderr",
          "output_type": "stream",
          "text": [
            "Calculating Hit Percentages:  84%|████████▍ | 954/1136 [32:42<06:15,  2.07s/user]"
          ]
        },
        {
          "name": "stdout",
          "output_type": "stream",
          "text": [
            "Current Average Hit Percentage: 29.93%\n"
          ]
        },
        {
          "name": "stderr",
          "output_type": "stream",
          "text": [
            "Calculating Hit Percentages:  84%|████████▍ | 955/1136 [32:44<06:13,  2.06s/user]"
          ]
        },
        {
          "name": "stdout",
          "output_type": "stream",
          "text": [
            "Current Average Hit Percentage: 29.94%\n"
          ]
        },
        {
          "name": "stderr",
          "output_type": "stream",
          "text": [
            "Calculating Hit Percentages:  84%|████████▍ | 956/1136 [32:46<06:10,  2.06s/user]"
          ]
        },
        {
          "name": "stdout",
          "output_type": "stream",
          "text": [
            "Current Average Hit Percentage: 29.93%\n"
          ]
        },
        {
          "name": "stderr",
          "output_type": "stream",
          "text": [
            "Calculating Hit Percentages:  84%|████████▍ | 957/1136 [32:48<06:07,  2.05s/user]"
          ]
        },
        {
          "name": "stdout",
          "output_type": "stream",
          "text": [
            "Current Average Hit Percentage: 29.94%\n"
          ]
        },
        {
          "name": "stderr",
          "output_type": "stream",
          "text": [
            "Calculating Hit Percentages:  84%|████████▍ | 958/1136 [32:50<06:04,  2.05s/user]"
          ]
        },
        {
          "name": "stdout",
          "output_type": "stream",
          "text": [
            "Current Average Hit Percentage: 29.95%\n"
          ]
        },
        {
          "name": "stderr",
          "output_type": "stream",
          "text": [
            "Calculating Hit Percentages:  84%|████████▍ | 959/1136 [32:52<06:01,  2.04s/user]"
          ]
        },
        {
          "name": "stdout",
          "output_type": "stream",
          "text": [
            "Current Average Hit Percentage: 29.95%\n"
          ]
        },
        {
          "name": "stderr",
          "output_type": "stream",
          "text": [
            "Calculating Hit Percentages:  85%|████████▍ | 960/1136 [32:54<06:00,  2.05s/user]"
          ]
        },
        {
          "name": "stdout",
          "output_type": "stream",
          "text": [
            "Current Average Hit Percentage: 29.97%\n"
          ]
        },
        {
          "name": "stderr",
          "output_type": "stream",
          "text": [
            "Calculating Hit Percentages:  85%|████████▍ | 961/1136 [32:56<06:01,  2.07s/user]"
          ]
        },
        {
          "name": "stdout",
          "output_type": "stream",
          "text": [
            "Current Average Hit Percentage: 29.97%\n"
          ]
        },
        {
          "name": "stderr",
          "output_type": "stream",
          "text": [
            "Calculating Hit Percentages:  85%|████████▍ | 962/1136 [32:58<06:00,  2.07s/user]"
          ]
        },
        {
          "name": "stdout",
          "output_type": "stream",
          "text": [
            "Current Average Hit Percentage: 29.98%\n"
          ]
        },
        {
          "name": "stderr",
          "output_type": "stream",
          "text": [
            "Calculating Hit Percentages:  85%|████████▍ | 963/1136 [33:00<05:56,  2.06s/user]"
          ]
        },
        {
          "name": "stdout",
          "output_type": "stream",
          "text": [
            "Current Average Hit Percentage: 29.97%\n"
          ]
        },
        {
          "name": "stderr",
          "output_type": "stream",
          "text": [
            "Calculating Hit Percentages:  85%|████████▍ | 964/1136 [33:02<05:53,  2.05s/user]"
          ]
        },
        {
          "name": "stdout",
          "output_type": "stream",
          "text": [
            "Current Average Hit Percentage: 29.96%\n"
          ]
        },
        {
          "name": "stderr",
          "output_type": "stream",
          "text": [
            "Calculating Hit Percentages:  85%|████████▍ | 965/1136 [33:04<05:50,  2.05s/user]"
          ]
        },
        {
          "name": "stdout",
          "output_type": "stream",
          "text": [
            "Current Average Hit Percentage: 29.97%\n"
          ]
        },
        {
          "name": "stderr",
          "output_type": "stream",
          "text": [
            "Calculating Hit Percentages:  85%|████████▌ | 966/1136 [33:06<05:48,  2.05s/user]"
          ]
        },
        {
          "name": "stdout",
          "output_type": "stream",
          "text": [
            "Current Average Hit Percentage: 29.97%\n"
          ]
        },
        {
          "name": "stderr",
          "output_type": "stream",
          "text": [
            "Calculating Hit Percentages:  85%|████████▌ | 967/1136 [33:08<05:47,  2.06s/user]"
          ]
        },
        {
          "name": "stdout",
          "output_type": "stream",
          "text": [
            "Current Average Hit Percentage: 29.97%\n"
          ]
        },
        {
          "name": "stderr",
          "output_type": "stream",
          "text": [
            "Calculating Hit Percentages:  85%|████████▌ | 968/1136 [33:11<05:51,  2.09s/user]"
          ]
        },
        {
          "name": "stdout",
          "output_type": "stream",
          "text": [
            "Current Average Hit Percentage: 29.99%\n"
          ]
        },
        {
          "name": "stderr",
          "output_type": "stream",
          "text": [
            "Calculating Hit Percentages:  85%|████████▌ | 969/1136 [33:13<05:48,  2.09s/user]"
          ]
        },
        {
          "name": "stdout",
          "output_type": "stream",
          "text": [
            "Current Average Hit Percentage: 30.00%\n"
          ]
        },
        {
          "name": "stderr",
          "output_type": "stream",
          "text": [
            "Calculating Hit Percentages:  85%|████████▌ | 970/1136 [33:15<05:44,  2.07s/user]"
          ]
        },
        {
          "name": "stdout",
          "output_type": "stream",
          "text": [
            "Current Average Hit Percentage: 30.00%\n"
          ]
        },
        {
          "name": "stderr",
          "output_type": "stream",
          "text": [
            "Calculating Hit Percentages:  85%|████████▌ | 971/1136 [33:17<05:40,  2.07s/user]"
          ]
        },
        {
          "name": "stdout",
          "output_type": "stream",
          "text": [
            "Current Average Hit Percentage: 29.99%\n"
          ]
        },
        {
          "name": "stderr",
          "output_type": "stream",
          "text": [
            "Calculating Hit Percentages:  86%|████████▌ | 972/1136 [33:19<05:37,  2.06s/user]"
          ]
        },
        {
          "name": "stdout",
          "output_type": "stream",
          "text": [
            "Current Average Hit Percentage: 29.99%\n"
          ]
        },
        {
          "name": "stderr",
          "output_type": "stream",
          "text": [
            "Calculating Hit Percentages:  86%|████████▌ | 973/1136 [33:21<05:34,  2.05s/user]"
          ]
        },
        {
          "name": "stdout",
          "output_type": "stream",
          "text": [
            "Current Average Hit Percentage: 30.00%\n"
          ]
        },
        {
          "name": "stderr",
          "output_type": "stream",
          "text": [
            "Calculating Hit Percentages:  86%|████████▌ | 974/1136 [33:23<05:34,  2.07s/user]"
          ]
        },
        {
          "name": "stdout",
          "output_type": "stream",
          "text": [
            "Current Average Hit Percentage: 29.99%\n"
          ]
        },
        {
          "name": "stderr",
          "output_type": "stream",
          "text": [
            "Calculating Hit Percentages:  86%|████████▌ | 975/1136 [33:25<05:34,  2.08s/user]"
          ]
        },
        {
          "name": "stdout",
          "output_type": "stream",
          "text": [
            "Current Average Hit Percentage: 29.99%\n"
          ]
        },
        {
          "name": "stderr",
          "output_type": "stream",
          "text": [
            "Calculating Hit Percentages:  86%|████████▌ | 976/1136 [33:27<05:30,  2.07s/user]"
          ]
        },
        {
          "name": "stdout",
          "output_type": "stream",
          "text": [
            "Current Average Hit Percentage: 30.00%\n"
          ]
        },
        {
          "name": "stderr",
          "output_type": "stream",
          "text": [
            "Calculating Hit Percentages:  86%|████████▌ | 977/1136 [33:29<05:26,  2.05s/user]"
          ]
        },
        {
          "name": "stdout",
          "output_type": "stream",
          "text": [
            "Current Average Hit Percentage: 30.00%\n"
          ]
        },
        {
          "name": "stderr",
          "output_type": "stream",
          "text": [
            "Calculating Hit Percentages:  86%|████████▌ | 978/1136 [33:31<05:23,  2.05s/user]"
          ]
        },
        {
          "name": "stdout",
          "output_type": "stream",
          "text": [
            "Current Average Hit Percentage: 30.00%\n"
          ]
        },
        {
          "name": "stderr",
          "output_type": "stream",
          "text": [
            "Calculating Hit Percentages:  86%|████████▌ | 979/1136 [33:33<05:20,  2.04s/user]"
          ]
        },
        {
          "name": "stdout",
          "output_type": "stream",
          "text": [
            "Current Average Hit Percentage: 30.00%\n"
          ]
        },
        {
          "name": "stderr",
          "output_type": "stream",
          "text": [
            "Calculating Hit Percentages:  86%|████████▋ | 980/1136 [33:35<05:18,  2.04s/user]"
          ]
        },
        {
          "name": "stdout",
          "output_type": "stream",
          "text": [
            "Current Average Hit Percentage: 30.00%\n"
          ]
        },
        {
          "name": "stderr",
          "output_type": "stream",
          "text": [
            "Calculating Hit Percentages:  86%|████████▋ | 981/1136 [33:37<05:19,  2.06s/user]"
          ]
        },
        {
          "name": "stdout",
          "output_type": "stream",
          "text": [
            "Current Average Hit Percentage: 30.01%\n"
          ]
        },
        {
          "name": "stderr",
          "output_type": "stream",
          "text": [
            "Calculating Hit Percentages:  86%|████████▋ | 982/1136 [33:39<05:19,  2.07s/user]"
          ]
        },
        {
          "name": "stdout",
          "output_type": "stream",
          "text": [
            "Current Average Hit Percentage: 30.03%\n"
          ]
        },
        {
          "name": "stderr",
          "output_type": "stream",
          "text": [
            "Calculating Hit Percentages:  87%|████████▋ | 983/1136 [33:41<05:16,  2.07s/user]"
          ]
        },
        {
          "name": "stdout",
          "output_type": "stream",
          "text": [
            "Current Average Hit Percentage: 30.05%\n"
          ]
        },
        {
          "name": "stderr",
          "output_type": "stream",
          "text": [
            "Calculating Hit Percentages:  87%|████████▋ | 984/1136 [33:43<05:13,  2.06s/user]"
          ]
        },
        {
          "name": "stdout",
          "output_type": "stream",
          "text": [
            "Current Average Hit Percentage: 30.06%\n"
          ]
        },
        {
          "name": "stderr",
          "output_type": "stream",
          "text": [
            "Calculating Hit Percentages:  87%|████████▋ | 985/1136 [33:46<05:10,  2.05s/user]"
          ]
        },
        {
          "name": "stdout",
          "output_type": "stream",
          "text": [
            "Current Average Hit Percentage: 30.05%\n"
          ]
        },
        {
          "name": "stderr",
          "output_type": "stream",
          "text": [
            "Calculating Hit Percentages:  87%|████████▋ | 986/1136 [33:48<05:07,  2.05s/user]"
          ]
        },
        {
          "name": "stdout",
          "output_type": "stream",
          "text": [
            "Current Average Hit Percentage: 30.03%\n"
          ]
        },
        {
          "name": "stderr",
          "output_type": "stream",
          "text": [
            "Calculating Hit Percentages:  87%|████████▋ | 987/1136 [33:50<05:04,  2.05s/user]"
          ]
        },
        {
          "name": "stdout",
          "output_type": "stream",
          "text": [
            "Current Average Hit Percentage: 30.04%\n"
          ]
        },
        {
          "name": "stderr",
          "output_type": "stream",
          "text": [
            "Calculating Hit Percentages:  87%|████████▋ | 988/1136 [33:52<05:05,  2.07s/user]"
          ]
        },
        {
          "name": "stdout",
          "output_type": "stream",
          "text": [
            "Current Average Hit Percentage: 30.04%\n"
          ]
        },
        {
          "name": "stderr",
          "output_type": "stream",
          "text": [
            "Calculating Hit Percentages:  87%|████████▋ | 989/1136 [33:54<05:04,  2.07s/user]"
          ]
        },
        {
          "name": "stdout",
          "output_type": "stream",
          "text": [
            "Current Average Hit Percentage: 30.04%\n"
          ]
        },
        {
          "name": "stderr",
          "output_type": "stream",
          "text": [
            "Calculating Hit Percentages:  87%|████████▋ | 990/1136 [33:56<05:01,  2.07s/user]"
          ]
        },
        {
          "name": "stdout",
          "output_type": "stream",
          "text": [
            "Current Average Hit Percentage: 30.05%\n"
          ]
        },
        {
          "name": "stderr",
          "output_type": "stream",
          "text": [
            "Calculating Hit Percentages:  87%|████████▋ | 991/1136 [33:58<04:58,  2.06s/user]"
          ]
        },
        {
          "name": "stdout",
          "output_type": "stream",
          "text": [
            "Current Average Hit Percentage: 30.04%\n"
          ]
        },
        {
          "name": "stderr",
          "output_type": "stream",
          "text": [
            "Calculating Hit Percentages:  87%|████████▋ | 992/1136 [34:00<04:55,  2.05s/user]"
          ]
        },
        {
          "name": "stdout",
          "output_type": "stream",
          "text": [
            "Current Average Hit Percentage: 30.03%\n"
          ]
        },
        {
          "name": "stderr",
          "output_type": "stream",
          "text": [
            "Calculating Hit Percentages:  87%|████████▋ | 993/1136 [34:02<04:52,  2.05s/user]"
          ]
        },
        {
          "name": "stdout",
          "output_type": "stream",
          "text": [
            "Current Average Hit Percentage: 30.02%\n"
          ]
        },
        {
          "name": "stderr",
          "output_type": "stream",
          "text": [
            "Calculating Hit Percentages:  88%|████████▊ | 994/1136 [34:04<04:49,  2.04s/user]"
          ]
        },
        {
          "name": "stdout",
          "output_type": "stream",
          "text": [
            "Current Average Hit Percentage: 30.02%\n"
          ]
        },
        {
          "name": "stderr",
          "output_type": "stream",
          "text": [
            "Calculating Hit Percentages:  88%|████████▊ | 995/1136 [34:06<04:49,  2.05s/user]"
          ]
        },
        {
          "name": "stdout",
          "output_type": "stream",
          "text": [
            "Current Average Hit Percentage: 30.02%\n"
          ]
        },
        {
          "name": "stderr",
          "output_type": "stream",
          "text": [
            "Calculating Hit Percentages:  88%|████████▊ | 996/1136 [34:08<04:48,  2.06s/user]"
          ]
        },
        {
          "name": "stdout",
          "output_type": "stream",
          "text": [
            "Current Average Hit Percentage: 30.02%\n"
          ]
        },
        {
          "name": "stderr",
          "output_type": "stream",
          "text": [
            "Calculating Hit Percentages:  88%|████████▊ | 997/1136 [34:10<04:46,  2.06s/user]"
          ]
        },
        {
          "name": "stdout",
          "output_type": "stream",
          "text": [
            "Current Average Hit Percentage: 30.02%\n"
          ]
        },
        {
          "name": "stderr",
          "output_type": "stream",
          "text": [
            "Calculating Hit Percentages:  88%|████████▊ | 998/1136 [34:12<04:44,  2.06s/user]"
          ]
        },
        {
          "name": "stdout",
          "output_type": "stream",
          "text": [
            "Current Average Hit Percentage: 30.05%\n"
          ]
        },
        {
          "name": "stderr",
          "output_type": "stream",
          "text": [
            "Calculating Hit Percentages:  88%|████████▊ | 999/1136 [34:14<04:41,  2.06s/user]"
          ]
        },
        {
          "name": "stdout",
          "output_type": "stream",
          "text": [
            "Current Average Hit Percentage: 30.05%\n"
          ]
        },
        {
          "name": "stderr",
          "output_type": "stream",
          "text": [
            "Calculating Hit Percentages:  88%|████████▊ | 1000/1136 [34:16<04:40,  2.06s/user]"
          ]
        },
        {
          "name": "stdout",
          "output_type": "stream",
          "text": [
            "Current Average Hit Percentage: 30.05%\n"
          ]
        },
        {
          "name": "stderr",
          "output_type": "stream",
          "text": [
            "Calculating Hit Percentages:  88%|████████▊ | 1001/1136 [34:18<04:39,  2.07s/user]"
          ]
        },
        {
          "name": "stdout",
          "output_type": "stream",
          "text": [
            "Current Average Hit Percentage: 30.05%\n"
          ]
        },
        {
          "name": "stderr",
          "output_type": "stream",
          "text": [
            "Calculating Hit Percentages:  88%|████████▊ | 1002/1136 [34:21<04:40,  2.10s/user]"
          ]
        },
        {
          "name": "stdout",
          "output_type": "stream",
          "text": [
            "Current Average Hit Percentage: 30.04%\n"
          ]
        },
        {
          "name": "stderr",
          "output_type": "stream",
          "text": [
            "Calculating Hit Percentages:  88%|████████▊ | 1003/1136 [34:23<04:38,  2.10s/user]"
          ]
        },
        {
          "name": "stdout",
          "output_type": "stream",
          "text": [
            "Current Average Hit Percentage: 30.04%\n"
          ]
        },
        {
          "name": "stderr",
          "output_type": "stream",
          "text": [
            "Calculating Hit Percentages:  88%|████████▊ | 1004/1136 [34:25<04:34,  2.08s/user]"
          ]
        },
        {
          "name": "stdout",
          "output_type": "stream",
          "text": [
            "Current Average Hit Percentage: 30.04%\n"
          ]
        },
        {
          "name": "stderr",
          "output_type": "stream",
          "text": [
            "Calculating Hit Percentages:  88%|████████▊ | 1005/1136 [34:27<04:31,  2.07s/user]"
          ]
        },
        {
          "name": "stdout",
          "output_type": "stream",
          "text": [
            "Current Average Hit Percentage: 30.03%\n"
          ]
        },
        {
          "name": "stderr",
          "output_type": "stream",
          "text": [
            "Calculating Hit Percentages:  89%|████████▊ | 1006/1136 [34:29<04:28,  2.06s/user]"
          ]
        },
        {
          "name": "stdout",
          "output_type": "stream",
          "text": [
            "Current Average Hit Percentage: 30.02%\n"
          ]
        },
        {
          "name": "stderr",
          "output_type": "stream",
          "text": [
            "Calculating Hit Percentages:  89%|████████▊ | 1007/1136 [34:31<04:25,  2.06s/user]"
          ]
        },
        {
          "name": "stdout",
          "output_type": "stream",
          "text": [
            "Current Average Hit Percentage: 30.01%\n"
          ]
        },
        {
          "name": "stderr",
          "output_type": "stream",
          "text": [
            "Calculating Hit Percentages:  89%|████████▊ | 1008/1136 [34:33<04:24,  2.06s/user]"
          ]
        },
        {
          "name": "stdout",
          "output_type": "stream",
          "text": [
            "Current Average Hit Percentage: 30.00%\n"
          ]
        },
        {
          "name": "stderr",
          "output_type": "stream",
          "text": [
            "Calculating Hit Percentages:  89%|████████▉ | 1009/1136 [34:35<04:26,  2.10s/user]"
          ]
        },
        {
          "name": "stdout",
          "output_type": "stream",
          "text": [
            "Current Average Hit Percentage: 29.99%\n"
          ]
        },
        {
          "name": "stderr",
          "output_type": "stream",
          "text": [
            "Calculating Hit Percentages:  89%|████████▉ | 1010/1136 [34:37<04:25,  2.11s/user]"
          ]
        },
        {
          "name": "stdout",
          "output_type": "stream",
          "text": [
            "Current Average Hit Percentage: 29.99%\n"
          ]
        },
        {
          "name": "stderr",
          "output_type": "stream",
          "text": [
            "Calculating Hit Percentages:  89%|████████▉ | 1011/1136 [34:39<04:20,  2.09s/user]"
          ]
        },
        {
          "name": "stdout",
          "output_type": "stream",
          "text": [
            "Current Average Hit Percentage: 30.00%\n"
          ]
        },
        {
          "name": "stderr",
          "output_type": "stream",
          "text": [
            "Calculating Hit Percentages:  89%|████████▉ | 1012/1136 [34:41<04:17,  2.07s/user]"
          ]
        },
        {
          "name": "stdout",
          "output_type": "stream",
          "text": [
            "Current Average Hit Percentage: 30.00%\n"
          ]
        },
        {
          "name": "stderr",
          "output_type": "stream",
          "text": [
            "Calculating Hit Percentages:  89%|████████▉ | 1013/1136 [34:43<04:13,  2.06s/user]"
          ]
        },
        {
          "name": "stdout",
          "output_type": "stream",
          "text": [
            "Current Average Hit Percentage: 30.00%\n"
          ]
        },
        {
          "name": "stderr",
          "output_type": "stream",
          "text": [
            "Calculating Hit Percentages:  89%|████████▉ | 1014/1136 [34:45<04:10,  2.05s/user]"
          ]
        },
        {
          "name": "stdout",
          "output_type": "stream",
          "text": [
            "Current Average Hit Percentage: 30.01%\n"
          ]
        },
        {
          "name": "stderr",
          "output_type": "stream",
          "text": [
            "Calculating Hit Percentages:  89%|████████▉ | 1015/1136 [34:48<04:09,  2.06s/user]"
          ]
        },
        {
          "name": "stdout",
          "output_type": "stream",
          "text": [
            "Current Average Hit Percentage: 30.00%\n"
          ]
        },
        {
          "name": "stderr",
          "output_type": "stream",
          "text": [
            "Calculating Hit Percentages:  89%|████████▉ | 1016/1136 [34:50<04:10,  2.09s/user]"
          ]
        },
        {
          "name": "stdout",
          "output_type": "stream",
          "text": [
            "Current Average Hit Percentage: 29.99%\n"
          ]
        },
        {
          "name": "stderr",
          "output_type": "stream",
          "text": [
            "Calculating Hit Percentages:  90%|████████▉ | 1017/1136 [34:52<04:07,  2.08s/user]"
          ]
        },
        {
          "name": "stdout",
          "output_type": "stream",
          "text": [
            "Current Average Hit Percentage: 30.00%\n"
          ]
        },
        {
          "name": "stderr",
          "output_type": "stream",
          "text": [
            "Calculating Hit Percentages:  90%|████████▉ | 1018/1136 [34:54<04:04,  2.07s/user]"
          ]
        },
        {
          "name": "stdout",
          "output_type": "stream",
          "text": [
            "Current Average Hit Percentage: 30.00%\n"
          ]
        },
        {
          "name": "stderr",
          "output_type": "stream",
          "text": [
            "Calculating Hit Percentages:  90%|████████▉ | 1019/1136 [34:56<04:01,  2.06s/user]"
          ]
        },
        {
          "name": "stdout",
          "output_type": "stream",
          "text": [
            "Current Average Hit Percentage: 29.99%\n"
          ]
        },
        {
          "name": "stderr",
          "output_type": "stream",
          "text": [
            "Calculating Hit Percentages:  90%|████████▉ | 1020/1136 [34:58<03:58,  2.05s/user]"
          ]
        },
        {
          "name": "stdout",
          "output_type": "stream",
          "text": [
            "Current Average Hit Percentage: 29.99%\n"
          ]
        },
        {
          "name": "stderr",
          "output_type": "stream",
          "text": [
            "Calculating Hit Percentages:  90%|████████▉ | 1021/1136 [35:00<03:56,  2.05s/user]"
          ]
        },
        {
          "name": "stdout",
          "output_type": "stream",
          "text": [
            "Current Average Hit Percentage: 30.01%\n"
          ]
        },
        {
          "name": "stderr",
          "output_type": "stream",
          "text": [
            "Calculating Hit Percentages:  90%|████████▉ | 1022/1136 [35:02<03:57,  2.08s/user]"
          ]
        },
        {
          "name": "stdout",
          "output_type": "stream",
          "text": [
            "Current Average Hit Percentage: 30.01%\n"
          ]
        },
        {
          "name": "stderr",
          "output_type": "stream",
          "text": [
            "Calculating Hit Percentages:  90%|█████████ | 1023/1136 [35:04<03:57,  2.10s/user]"
          ]
        },
        {
          "name": "stdout",
          "output_type": "stream",
          "text": [
            "Current Average Hit Percentage: 30.02%\n"
          ]
        },
        {
          "name": "stderr",
          "output_type": "stream",
          "text": [
            "Calculating Hit Percentages:  90%|█████████ | 1024/1136 [35:06<03:53,  2.09s/user]"
          ]
        },
        {
          "name": "stdout",
          "output_type": "stream",
          "text": [
            "Current Average Hit Percentage: 30.01%\n"
          ]
        },
        {
          "name": "stderr",
          "output_type": "stream",
          "text": [
            "Calculating Hit Percentages:  90%|█████████ | 1025/1136 [35:08<03:49,  2.07s/user]"
          ]
        },
        {
          "name": "stdout",
          "output_type": "stream",
          "text": [
            "Current Average Hit Percentage: 30.01%\n"
          ]
        },
        {
          "name": "stderr",
          "output_type": "stream",
          "text": [
            "Calculating Hit Percentages:  90%|█████████ | 1026/1136 [35:10<03:46,  2.06s/user]"
          ]
        },
        {
          "name": "stdout",
          "output_type": "stream",
          "text": [
            "Current Average Hit Percentage: 30.02%\n"
          ]
        },
        {
          "name": "stderr",
          "output_type": "stream",
          "text": [
            "Calculating Hit Percentages:  90%|█████████ | 1027/1136 [35:12<03:44,  2.06s/user]"
          ]
        },
        {
          "name": "stdout",
          "output_type": "stream",
          "text": [
            "Current Average Hit Percentage: 30.04%\n"
          ]
        },
        {
          "name": "stderr",
          "output_type": "stream",
          "text": [
            "Calculating Hit Percentages:  90%|█████████ | 1028/1136 [35:14<03:42,  2.06s/user]"
          ]
        },
        {
          "name": "stdout",
          "output_type": "stream",
          "text": [
            "Current Average Hit Percentage: 30.05%\n"
          ]
        },
        {
          "name": "stderr",
          "output_type": "stream",
          "text": [
            "Calculating Hit Percentages:  91%|█████████ | 1029/1136 [35:17<03:41,  2.07s/user]"
          ]
        },
        {
          "name": "stdout",
          "output_type": "stream",
          "text": [
            "Current Average Hit Percentage: 30.04%\n"
          ]
        },
        {
          "name": "stderr",
          "output_type": "stream",
          "text": [
            "Calculating Hit Percentages:  91%|█████████ | 1030/1136 [35:19<03:38,  2.06s/user]"
          ]
        },
        {
          "name": "stdout",
          "output_type": "stream",
          "text": [
            "Current Average Hit Percentage: 30.03%\n"
          ]
        },
        {
          "name": "stderr",
          "output_type": "stream",
          "text": [
            "Calculating Hit Percentages:  91%|█████████ | 1031/1136 [35:21<03:36,  2.06s/user]"
          ]
        },
        {
          "name": "stdout",
          "output_type": "stream",
          "text": [
            "Current Average Hit Percentage: 30.02%\n"
          ]
        },
        {
          "name": "stderr",
          "output_type": "stream",
          "text": [
            "Calculating Hit Percentages:  91%|█████████ | 1032/1136 [35:23<03:34,  2.06s/user]"
          ]
        },
        {
          "name": "stdout",
          "output_type": "stream",
          "text": [
            "Current Average Hit Percentage: 30.03%\n"
          ]
        },
        {
          "name": "stderr",
          "output_type": "stream",
          "text": [
            "Calculating Hit Percentages:  91%|█████████ | 1033/1136 [35:25<03:31,  2.06s/user]"
          ]
        },
        {
          "name": "stdout",
          "output_type": "stream",
          "text": [
            "Current Average Hit Percentage: 30.05%\n"
          ]
        },
        {
          "name": "stderr",
          "output_type": "stream",
          "text": [
            "Calculating Hit Percentages:  91%|█████████ | 1034/1136 [35:27<03:28,  2.05s/user]"
          ]
        },
        {
          "name": "stdout",
          "output_type": "stream",
          "text": [
            "Current Average Hit Percentage: 30.06%\n"
          ]
        },
        {
          "name": "stderr",
          "output_type": "stream",
          "text": [
            "Calculating Hit Percentages:  91%|█████████ | 1035/1136 [35:29<03:26,  2.05s/user]"
          ]
        },
        {
          "name": "stdout",
          "output_type": "stream",
          "text": [
            "Current Average Hit Percentage: 30.06%\n"
          ]
        },
        {
          "name": "stderr",
          "output_type": "stream",
          "text": [
            "Calculating Hit Percentages:  91%|█████████ | 1036/1136 [35:31<03:29,  2.09s/user]"
          ]
        },
        {
          "name": "stdout",
          "output_type": "stream",
          "text": [
            "Current Average Hit Percentage: 30.06%\n"
          ]
        },
        {
          "name": "stderr",
          "output_type": "stream",
          "text": [
            "Calculating Hit Percentages:  91%|█████████▏| 1037/1136 [35:33<03:27,  2.10s/user]"
          ]
        },
        {
          "name": "stdout",
          "output_type": "stream",
          "text": [
            "Current Average Hit Percentage: 30.05%\n"
          ]
        },
        {
          "name": "stderr",
          "output_type": "stream",
          "text": [
            "Calculating Hit Percentages:  91%|█████████▏| 1038/1136 [35:35<03:23,  2.08s/user]"
          ]
        },
        {
          "name": "stdout",
          "output_type": "stream",
          "text": [
            "Current Average Hit Percentage: 30.06%\n"
          ]
        },
        {
          "name": "stderr",
          "output_type": "stream",
          "text": [
            "Calculating Hit Percentages:  91%|█████████▏| 1039/1136 [35:37<03:20,  2.07s/user]"
          ]
        },
        {
          "name": "stdout",
          "output_type": "stream",
          "text": [
            "Current Average Hit Percentage: 30.05%\n"
          ]
        },
        {
          "name": "stderr",
          "output_type": "stream",
          "text": [
            "Calculating Hit Percentages:  92%|█████████▏| 1040/1136 [35:39<03:17,  2.05s/user]"
          ]
        },
        {
          "name": "stdout",
          "output_type": "stream",
          "text": [
            "Current Average Hit Percentage: 30.06%\n"
          ]
        },
        {
          "name": "stderr",
          "output_type": "stream",
          "text": [
            "Calculating Hit Percentages:  92%|█████████▏| 1041/1136 [35:41<03:15,  2.06s/user]"
          ]
        },
        {
          "name": "stdout",
          "output_type": "stream",
          "text": [
            "Current Average Hit Percentage: 30.07%\n"
          ]
        },
        {
          "name": "stderr",
          "output_type": "stream",
          "text": [
            "Calculating Hit Percentages:  92%|█████████▏| 1042/1136 [35:43<03:14,  2.07s/user]"
          ]
        },
        {
          "name": "stdout",
          "output_type": "stream",
          "text": [
            "Current Average Hit Percentage: 30.06%\n"
          ]
        },
        {
          "name": "stderr",
          "output_type": "stream",
          "text": [
            "Calculating Hit Percentages:  92%|█████████▏| 1043/1136 [35:45<03:13,  2.08s/user]"
          ]
        },
        {
          "name": "stdout",
          "output_type": "stream",
          "text": [
            "Current Average Hit Percentage: 30.06%\n"
          ]
        },
        {
          "name": "stderr",
          "output_type": "stream",
          "text": [
            "Calculating Hit Percentages:  92%|█████████▏| 1044/1136 [35:48<03:10,  2.07s/user]"
          ]
        },
        {
          "name": "stdout",
          "output_type": "stream",
          "text": [
            "Current Average Hit Percentage: 30.05%\n"
          ]
        },
        {
          "name": "stderr",
          "output_type": "stream",
          "text": [
            "Calculating Hit Percentages:  92%|█████████▏| 1045/1136 [35:50<03:08,  2.07s/user]"
          ]
        },
        {
          "name": "stdout",
          "output_type": "stream",
          "text": [
            "Current Average Hit Percentage: 30.04%\n"
          ]
        },
        {
          "name": "stderr",
          "output_type": "stream",
          "text": [
            "Calculating Hit Percentages:  92%|█████████▏| 1046/1136 [35:52<03:06,  2.07s/user]"
          ]
        },
        {
          "name": "stdout",
          "output_type": "stream",
          "text": [
            "Current Average Hit Percentage: 30.03%\n"
          ]
        },
        {
          "name": "stderr",
          "output_type": "stream",
          "text": [
            "Calculating Hit Percentages:  92%|█████████▏| 1047/1136 [35:54<03:04,  2.07s/user]"
          ]
        },
        {
          "name": "stdout",
          "output_type": "stream",
          "text": [
            "Current Average Hit Percentage: 30.02%\n"
          ]
        },
        {
          "name": "stderr",
          "output_type": "stream",
          "text": [
            "Calculating Hit Percentages:  92%|█████████▏| 1048/1136 [35:56<03:02,  2.07s/user]"
          ]
        },
        {
          "name": "stdout",
          "output_type": "stream",
          "text": [
            "Current Average Hit Percentage: 30.02%\n"
          ]
        },
        {
          "name": "stderr",
          "output_type": "stream",
          "text": [
            "Calculating Hit Percentages:  92%|█████████▏| 1049/1136 [35:58<03:01,  2.09s/user]"
          ]
        },
        {
          "name": "stdout",
          "output_type": "stream",
          "text": [
            "Current Average Hit Percentage: 30.02%\n"
          ]
        },
        {
          "name": "stderr",
          "output_type": "stream",
          "text": [
            "Calculating Hit Percentages:  92%|█████████▏| 1050/1136 [36:00<02:59,  2.09s/user]"
          ]
        },
        {
          "name": "stdout",
          "output_type": "stream",
          "text": [
            "Current Average Hit Percentage: 30.02%\n"
          ]
        },
        {
          "name": "stderr",
          "output_type": "stream",
          "text": [
            "Calculating Hit Percentages:  93%|█████████▎| 1051/1136 [36:02<02:56,  2.08s/user]"
          ]
        },
        {
          "name": "stdout",
          "output_type": "stream",
          "text": [
            "Current Average Hit Percentage: 30.02%\n"
          ]
        },
        {
          "name": "stderr",
          "output_type": "stream",
          "text": [
            "Calculating Hit Percentages:  93%|█████████▎| 1052/1136 [36:04<02:53,  2.07s/user]"
          ]
        },
        {
          "name": "stdout",
          "output_type": "stream",
          "text": [
            "Current Average Hit Percentage: 30.02%\n"
          ]
        },
        {
          "name": "stderr",
          "output_type": "stream",
          "text": [
            "Calculating Hit Percentages:  93%|█████████▎| 1053/1136 [36:06<02:50,  2.06s/user]"
          ]
        },
        {
          "name": "stdout",
          "output_type": "stream",
          "text": [
            "Current Average Hit Percentage: 30.03%\n"
          ]
        },
        {
          "name": "stderr",
          "output_type": "stream",
          "text": [
            "Calculating Hit Percentages:  93%|█████████▎| 1054/1136 [36:08<02:48,  2.06s/user]"
          ]
        },
        {
          "name": "stdout",
          "output_type": "stream",
          "text": [
            "Current Average Hit Percentage: 30.04%\n"
          ]
        },
        {
          "name": "stderr",
          "output_type": "stream",
          "text": [
            "Calculating Hit Percentages:  93%|█████████▎| 1055/1136 [36:10<02:46,  2.06s/user]"
          ]
        },
        {
          "name": "stdout",
          "output_type": "stream",
          "text": [
            "Current Average Hit Percentage: 30.05%\n"
          ]
        },
        {
          "name": "stderr",
          "output_type": "stream",
          "text": [
            "Calculating Hit Percentages:  93%|█████████▎| 1056/1136 [36:12<02:45,  2.07s/user]"
          ]
        },
        {
          "name": "stdout",
          "output_type": "stream",
          "text": [
            "Current Average Hit Percentage: 30.04%\n"
          ]
        },
        {
          "name": "stderr",
          "output_type": "stream",
          "text": [
            "Calculating Hit Percentages:  93%|█████████▎| 1057/1136 [36:14<02:43,  2.08s/user]"
          ]
        },
        {
          "name": "stdout",
          "output_type": "stream",
          "text": [
            "Current Average Hit Percentage: 30.04%\n"
          ]
        },
        {
          "name": "stderr",
          "output_type": "stream",
          "text": [
            "Calculating Hit Percentages:  93%|█████████▎| 1058/1136 [36:17<02:41,  2.07s/user]"
          ]
        },
        {
          "name": "stdout",
          "output_type": "stream",
          "text": [
            "Current Average Hit Percentage: 30.04%\n"
          ]
        },
        {
          "name": "stderr",
          "output_type": "stream",
          "text": [
            "Calculating Hit Percentages:  93%|█████████▎| 1059/1136 [36:19<02:38,  2.06s/user]"
          ]
        },
        {
          "name": "stdout",
          "output_type": "stream",
          "text": [
            "Current Average Hit Percentage: 30.03%\n"
          ]
        },
        {
          "name": "stderr",
          "output_type": "stream",
          "text": [
            "Calculating Hit Percentages:  93%|█████████▎| 1060/1136 [36:21<02:36,  2.05s/user]"
          ]
        },
        {
          "name": "stdout",
          "output_type": "stream",
          "text": [
            "Current Average Hit Percentage: 30.02%\n"
          ]
        },
        {
          "name": "stderr",
          "output_type": "stream",
          "text": [
            "Calculating Hit Percentages:  93%|█████████▎| 1061/1136 [36:23<02:33,  2.05s/user]"
          ]
        },
        {
          "name": "stdout",
          "output_type": "stream",
          "text": [
            "Current Average Hit Percentage: 30.01%\n"
          ]
        },
        {
          "name": "stderr",
          "output_type": "stream",
          "text": [
            "Calculating Hit Percentages:  93%|█████████▎| 1062/1136 [36:25<02:31,  2.05s/user]"
          ]
        },
        {
          "name": "stdout",
          "output_type": "stream",
          "text": [
            "Current Average Hit Percentage: 30.00%\n"
          ]
        },
        {
          "name": "stderr",
          "output_type": "stream",
          "text": [
            "Calculating Hit Percentages:  94%|█████████▎| 1063/1136 [36:27<02:31,  2.08s/user]"
          ]
        },
        {
          "name": "stdout",
          "output_type": "stream",
          "text": [
            "Current Average Hit Percentage: 30.00%\n"
          ]
        },
        {
          "name": "stderr",
          "output_type": "stream",
          "text": [
            "Calculating Hit Percentages:  94%|█████████▎| 1064/1136 [36:29<02:29,  2.08s/user]"
          ]
        },
        {
          "name": "stdout",
          "output_type": "stream",
          "text": [
            "Current Average Hit Percentage: 30.00%\n"
          ]
        },
        {
          "name": "stderr",
          "output_type": "stream",
          "text": [
            "Calculating Hit Percentages:  94%|█████████▍| 1065/1136 [36:31<02:26,  2.07s/user]"
          ]
        },
        {
          "name": "stdout",
          "output_type": "stream",
          "text": [
            "Current Average Hit Percentage: 30.01%\n"
          ]
        },
        {
          "name": "stderr",
          "output_type": "stream",
          "text": [
            "Calculating Hit Percentages:  94%|█████████▍| 1066/1136 [36:33<02:24,  2.06s/user]"
          ]
        },
        {
          "name": "stdout",
          "output_type": "stream",
          "text": [
            "Current Average Hit Percentage: 30.00%\n"
          ]
        },
        {
          "name": "stderr",
          "output_type": "stream",
          "text": [
            "Calculating Hit Percentages:  94%|█████████▍| 1067/1136 [36:35<02:22,  2.06s/user]"
          ]
        },
        {
          "name": "stdout",
          "output_type": "stream",
          "text": [
            "Current Average Hit Percentage: 30.00%\n"
          ]
        },
        {
          "name": "stderr",
          "output_type": "stream",
          "text": [
            "Calculating Hit Percentages:  94%|█████████▍| 1068/1136 [36:37<02:19,  2.05s/user]"
          ]
        },
        {
          "name": "stdout",
          "output_type": "stream",
          "text": [
            "Current Average Hit Percentage: 30.00%\n"
          ]
        },
        {
          "name": "stderr",
          "output_type": "stream",
          "text": [
            "Calculating Hit Percentages:  94%|█████████▍| 1069/1136 [36:39<02:17,  2.06s/user]"
          ]
        },
        {
          "name": "stdout",
          "output_type": "stream",
          "text": [
            "Current Average Hit Percentage: 30.02%\n"
          ]
        },
        {
          "name": "stderr",
          "output_type": "stream",
          "text": [
            "Calculating Hit Percentages:  94%|█████████▍| 1070/1136 [36:41<02:16,  2.07s/user]"
          ]
        },
        {
          "name": "stdout",
          "output_type": "stream",
          "text": [
            "Current Average Hit Percentage: 30.02%\n"
          ]
        },
        {
          "name": "stderr",
          "output_type": "stream",
          "text": [
            "Calculating Hit Percentages:  94%|█████████▍| 1071/1136 [36:43<02:14,  2.07s/user]"
          ]
        },
        {
          "name": "stdout",
          "output_type": "stream",
          "text": [
            "Current Average Hit Percentage: 30.01%\n"
          ]
        },
        {
          "name": "stderr",
          "output_type": "stream",
          "text": [
            "Calculating Hit Percentages:  94%|█████████▍| 1072/1136 [36:45<02:11,  2.06s/user]"
          ]
        },
        {
          "name": "stdout",
          "output_type": "stream",
          "text": [
            "Current Average Hit Percentage: 30.00%\n"
          ]
        },
        {
          "name": "stderr",
          "output_type": "stream",
          "text": [
            "Calculating Hit Percentages:  94%|█████████▍| 1073/1136 [36:47<02:09,  2.05s/user]"
          ]
        },
        {
          "name": "stdout",
          "output_type": "stream",
          "text": [
            "Current Average Hit Percentage: 29.99%\n"
          ]
        },
        {
          "name": "stderr",
          "output_type": "stream",
          "text": [
            "Calculating Hit Percentages:  95%|█████████▍| 1074/1136 [36:49<02:07,  2.05s/user]"
          ]
        },
        {
          "name": "stdout",
          "output_type": "stream",
          "text": [
            "Current Average Hit Percentage: 30.00%\n"
          ]
        },
        {
          "name": "stderr",
          "output_type": "stream",
          "text": [
            "Calculating Hit Percentages:  95%|█████████▍| 1075/1136 [36:52<02:04,  2.05s/user]"
          ]
        },
        {
          "name": "stdout",
          "output_type": "stream",
          "text": [
            "Current Average Hit Percentage: 30.00%\n"
          ]
        },
        {
          "name": "stderr",
          "output_type": "stream",
          "text": [
            "Calculating Hit Percentages:  95%|█████████▍| 1076/1136 [36:54<02:03,  2.06s/user]"
          ]
        },
        {
          "name": "stdout",
          "output_type": "stream",
          "text": [
            "Current Average Hit Percentage: 30.00%\n"
          ]
        },
        {
          "name": "stderr",
          "output_type": "stream",
          "text": [
            "Calculating Hit Percentages:  95%|█████████▍| 1077/1136 [36:56<02:02,  2.07s/user]"
          ]
        },
        {
          "name": "stdout",
          "output_type": "stream",
          "text": [
            "Current Average Hit Percentage: 29.99%\n"
          ]
        },
        {
          "name": "stderr",
          "output_type": "stream",
          "text": [
            "Calculating Hit Percentages:  95%|█████████▍| 1078/1136 [36:58<02:00,  2.07s/user]"
          ]
        },
        {
          "name": "stdout",
          "output_type": "stream",
          "text": [
            "Current Average Hit Percentage: 29.99%\n"
          ]
        },
        {
          "name": "stderr",
          "output_type": "stream",
          "text": [
            "Calculating Hit Percentages:  95%|█████████▍| 1079/1136 [37:00<01:57,  2.06s/user]"
          ]
        },
        {
          "name": "stdout",
          "output_type": "stream",
          "text": [
            "Current Average Hit Percentage: 29.99%\n"
          ]
        },
        {
          "name": "stderr",
          "output_type": "stream",
          "text": [
            "Calculating Hit Percentages:  95%|█████████▌| 1080/1136 [37:02<01:55,  2.06s/user]"
          ]
        },
        {
          "name": "stdout",
          "output_type": "stream",
          "text": [
            "Current Average Hit Percentage: 29.98%\n"
          ]
        },
        {
          "name": "stderr",
          "output_type": "stream",
          "text": [
            "Calculating Hit Percentages:  95%|█████████▌| 1081/1136 [37:04<01:52,  2.05s/user]"
          ]
        },
        {
          "name": "stdout",
          "output_type": "stream",
          "text": [
            "Current Average Hit Percentage: 29.97%\n"
          ]
        },
        {
          "name": "stderr",
          "output_type": "stream",
          "text": [
            "Calculating Hit Percentages:  95%|█████████▌| 1082/1136 [37:06<01:50,  2.05s/user]"
          ]
        },
        {
          "name": "stdout",
          "output_type": "stream",
          "text": [
            "Current Average Hit Percentage: 29.96%\n"
          ]
        },
        {
          "name": "stderr",
          "output_type": "stream",
          "text": [
            "Calculating Hit Percentages:  95%|█████████▌| 1083/1136 [37:08<01:48,  2.05s/user]"
          ]
        },
        {
          "name": "stdout",
          "output_type": "stream",
          "text": [
            "Current Average Hit Percentage: 29.95%\n"
          ]
        },
        {
          "name": "stderr",
          "output_type": "stream",
          "text": [
            "Calculating Hit Percentages:  95%|█████████▌| 1084/1136 [37:10<01:47,  2.07s/user]"
          ]
        },
        {
          "name": "stdout",
          "output_type": "stream",
          "text": [
            "Current Average Hit Percentage: 29.95%\n"
          ]
        },
        {
          "name": "stderr",
          "output_type": "stream",
          "text": [
            "Calculating Hit Percentages:  96%|█████████▌| 1085/1136 [37:12<01:45,  2.07s/user]"
          ]
        },
        {
          "name": "stdout",
          "output_type": "stream",
          "text": [
            "Current Average Hit Percentage: 29.95%\n"
          ]
        },
        {
          "name": "stderr",
          "output_type": "stream",
          "text": [
            "Calculating Hit Percentages:  96%|█████████▌| 1086/1136 [37:14<01:43,  2.06s/user]"
          ]
        },
        {
          "name": "stdout",
          "output_type": "stream",
          "text": [
            "Current Average Hit Percentage: 29.94%\n"
          ]
        },
        {
          "name": "stderr",
          "output_type": "stream",
          "text": [
            "Calculating Hit Percentages:  96%|█████████▌| 1087/1136 [37:16<01:40,  2.06s/user]"
          ]
        },
        {
          "name": "stdout",
          "output_type": "stream",
          "text": [
            "Current Average Hit Percentage: 29.94%\n"
          ]
        },
        {
          "name": "stderr",
          "output_type": "stream",
          "text": [
            "Calculating Hit Percentages:  96%|█████████▌| 1088/1136 [37:18<01:38,  2.05s/user]"
          ]
        },
        {
          "name": "stdout",
          "output_type": "stream",
          "text": [
            "Current Average Hit Percentage: 29.94%\n"
          ]
        },
        {
          "name": "stderr",
          "output_type": "stream",
          "text": [
            "Calculating Hit Percentages:  96%|█████████▌| 1089/1136 [37:20<01:35,  2.04s/user]"
          ]
        },
        {
          "name": "stdout",
          "output_type": "stream",
          "text": [
            "Current Average Hit Percentage: 29.93%\n"
          ]
        },
        {
          "name": "stderr",
          "output_type": "stream",
          "text": [
            "Calculating Hit Percentages:  96%|█████████▌| 1090/1136 [37:22<01:34,  2.05s/user]"
          ]
        },
        {
          "name": "stdout",
          "output_type": "stream",
          "text": [
            "Current Average Hit Percentage: 29.93%\n"
          ]
        },
        {
          "name": "stderr",
          "output_type": "stream",
          "text": [
            "Calculating Hit Percentages:  96%|█████████▌| 1091/1136 [37:25<01:33,  2.09s/user]"
          ]
        },
        {
          "name": "stdout",
          "output_type": "stream",
          "text": [
            "Current Average Hit Percentage: 29.92%\n"
          ]
        },
        {
          "name": "stderr",
          "output_type": "stream",
          "text": [
            "Calculating Hit Percentages:  96%|█████████▌| 1092/1136 [37:27<01:31,  2.08s/user]"
          ]
        },
        {
          "name": "stdout",
          "output_type": "stream",
          "text": [
            "Current Average Hit Percentage: 29.92%\n"
          ]
        },
        {
          "name": "stderr",
          "output_type": "stream",
          "text": [
            "Calculating Hit Percentages:  96%|█████████▌| 1093/1136 [37:29<01:28,  2.06s/user]"
          ]
        },
        {
          "name": "stdout",
          "output_type": "stream",
          "text": [
            "Current Average Hit Percentage: 29.92%\n"
          ]
        },
        {
          "name": "stderr",
          "output_type": "stream",
          "text": [
            "Calculating Hit Percentages:  96%|█████████▋| 1094/1136 [37:31<01:26,  2.06s/user]"
          ]
        },
        {
          "name": "stdout",
          "output_type": "stream",
          "text": [
            "Current Average Hit Percentage: 29.91%\n"
          ]
        },
        {
          "name": "stderr",
          "output_type": "stream",
          "text": [
            "Calculating Hit Percentages:  96%|█████████▋| 1095/1136 [37:33<01:24,  2.05s/user]"
          ]
        },
        {
          "name": "stdout",
          "output_type": "stream",
          "text": [
            "Current Average Hit Percentage: 29.91%\n"
          ]
        },
        {
          "name": "stderr",
          "output_type": "stream",
          "text": [
            "Calculating Hit Percentages:  96%|█████████▋| 1096/1136 [37:35<01:21,  2.05s/user]"
          ]
        },
        {
          "name": "stdout",
          "output_type": "stream",
          "text": [
            "Current Average Hit Percentage: 29.91%\n"
          ]
        },
        {
          "name": "stderr",
          "output_type": "stream",
          "text": [
            "Calculating Hit Percentages:  97%|█████████▋| 1097/1136 [37:37<01:20,  2.06s/user]"
          ]
        },
        {
          "name": "stdout",
          "output_type": "stream",
          "text": [
            "Current Average Hit Percentage: 29.90%\n"
          ]
        },
        {
          "name": "stderr",
          "output_type": "stream",
          "text": [
            "Calculating Hit Percentages:  97%|█████████▋| 1098/1136 [37:39<01:19,  2.10s/user]"
          ]
        },
        {
          "name": "stdout",
          "output_type": "stream",
          "text": [
            "Current Average Hit Percentage: 29.90%\n"
          ]
        },
        {
          "name": "stderr",
          "output_type": "stream",
          "text": [
            "Calculating Hit Percentages:  97%|█████████▋| 1099/1136 [37:41<01:17,  2.09s/user]"
          ]
        },
        {
          "name": "stdout",
          "output_type": "stream",
          "text": [
            "Current Average Hit Percentage: 29.89%\n"
          ]
        },
        {
          "name": "stderr",
          "output_type": "stream",
          "text": [
            "Calculating Hit Percentages:  97%|█████████▋| 1100/1136 [37:43<01:14,  2.07s/user]"
          ]
        },
        {
          "name": "stdout",
          "output_type": "stream",
          "text": [
            "Current Average Hit Percentage: 29.89%\n"
          ]
        },
        {
          "name": "stderr",
          "output_type": "stream",
          "text": [
            "Calculating Hit Percentages:  97%|█████████▋| 1101/1136 [37:45<01:12,  2.06s/user]"
          ]
        },
        {
          "name": "stdout",
          "output_type": "stream",
          "text": [
            "Current Average Hit Percentage: 29.90%\n"
          ]
        },
        {
          "name": "stderr",
          "output_type": "stream",
          "text": [
            "Calculating Hit Percentages:  97%|█████████▋| 1102/1136 [37:47<01:09,  2.05s/user]"
          ]
        },
        {
          "name": "stdout",
          "output_type": "stream",
          "text": [
            "Current Average Hit Percentage: 29.91%\n"
          ]
        },
        {
          "name": "stderr",
          "output_type": "stream",
          "text": [
            "Calculating Hit Percentages:  97%|█████████▋| 1103/1136 [37:49<01:07,  2.04s/user]"
          ]
        },
        {
          "name": "stdout",
          "output_type": "stream",
          "text": [
            "Current Average Hit Percentage: 29.91%\n"
          ]
        },
        {
          "name": "stderr",
          "output_type": "stream",
          "text": [
            "Calculating Hit Percentages:  97%|█████████▋| 1104/1136 [37:51<01:06,  2.07s/user]"
          ]
        },
        {
          "name": "stdout",
          "output_type": "stream",
          "text": [
            "Current Average Hit Percentage: 29.90%\n"
          ]
        },
        {
          "name": "stderr",
          "output_type": "stream",
          "text": [
            "Calculating Hit Percentages:  97%|█████████▋| 1105/1136 [37:53<01:04,  2.07s/user]"
          ]
        },
        {
          "name": "stdout",
          "output_type": "stream",
          "text": [
            "Current Average Hit Percentage: 29.90%\n"
          ]
        },
        {
          "name": "stderr",
          "output_type": "stream",
          "text": [
            "Calculating Hit Percentages:  97%|█████████▋| 1106/1136 [37:55<01:01,  2.06s/user]"
          ]
        },
        {
          "name": "stdout",
          "output_type": "stream",
          "text": [
            "Current Average Hit Percentage: 29.90%\n"
          ]
        },
        {
          "name": "stderr",
          "output_type": "stream",
          "text": [
            "Calculating Hit Percentages:  97%|█████████▋| 1107/1136 [37:58<00:59,  2.06s/user]"
          ]
        },
        {
          "name": "stdout",
          "output_type": "stream",
          "text": [
            "Current Average Hit Percentage: 29.89%\n"
          ]
        },
        {
          "name": "stderr",
          "output_type": "stream",
          "text": [
            "Calculating Hit Percentages:  98%|█████████▊| 1108/1136 [38:00<00:57,  2.05s/user]"
          ]
        },
        {
          "name": "stdout",
          "output_type": "stream",
          "text": [
            "Current Average Hit Percentage: 29.89%\n"
          ]
        },
        {
          "name": "stderr",
          "output_type": "stream",
          "text": [
            "Calculating Hit Percentages:  98%|█████████▊| 1109/1136 [38:02<00:55,  2.05s/user]"
          ]
        },
        {
          "name": "stdout",
          "output_type": "stream",
          "text": [
            "Current Average Hit Percentage: 29.90%\n"
          ]
        },
        {
          "name": "stderr",
          "output_type": "stream",
          "text": [
            "Calculating Hit Percentages:  98%|█████████▊| 1110/1136 [38:04<00:53,  2.05s/user]"
          ]
        },
        {
          "name": "stdout",
          "output_type": "stream",
          "text": [
            "Current Average Hit Percentage: 29.89%\n"
          ]
        },
        {
          "name": "stderr",
          "output_type": "stream",
          "text": [
            "Calculating Hit Percentages:  98%|█████████▊| 1111/1136 [38:06<00:52,  2.08s/user]"
          ]
        },
        {
          "name": "stdout",
          "output_type": "stream",
          "text": [
            "Current Average Hit Percentage: 29.88%\n"
          ]
        },
        {
          "name": "stderr",
          "output_type": "stream",
          "text": [
            "Calculating Hit Percentages:  98%|█████████▊| 1112/1136 [38:08<00:50,  2.09s/user]"
          ]
        },
        {
          "name": "stdout",
          "output_type": "stream",
          "text": [
            "Current Average Hit Percentage: 29.87%\n"
          ]
        },
        {
          "name": "stderr",
          "output_type": "stream",
          "text": [
            "Calculating Hit Percentages:  98%|█████████▊| 1113/1136 [38:10<00:47,  2.08s/user]"
          ]
        },
        {
          "name": "stdout",
          "output_type": "stream",
          "text": [
            "Current Average Hit Percentage: 29.87%\n"
          ]
        },
        {
          "name": "stderr",
          "output_type": "stream",
          "text": [
            "Calculating Hit Percentages:  98%|█████████▊| 1114/1136 [38:12<00:45,  2.07s/user]"
          ]
        },
        {
          "name": "stdout",
          "output_type": "stream",
          "text": [
            "Current Average Hit Percentage: 29.87%\n"
          ]
        },
        {
          "name": "stderr",
          "output_type": "stream",
          "text": [
            "Calculating Hit Percentages:  98%|█████████▊| 1115/1136 [38:14<00:43,  2.06s/user]"
          ]
        },
        {
          "name": "stdout",
          "output_type": "stream",
          "text": [
            "Current Average Hit Percentage: 29.86%\n"
          ]
        },
        {
          "name": "stderr",
          "output_type": "stream",
          "text": [
            "Calculating Hit Percentages:  98%|█████████▊| 1116/1136 [38:16<00:41,  2.05s/user]"
          ]
        },
        {
          "name": "stdout",
          "output_type": "stream",
          "text": [
            "Current Average Hit Percentage: 29.85%\n"
          ]
        },
        {
          "name": "stderr",
          "output_type": "stream",
          "text": [
            "Calculating Hit Percentages:  98%|█████████▊| 1117/1136 [38:18<00:38,  2.05s/user]"
          ]
        },
        {
          "name": "stdout",
          "output_type": "stream",
          "text": [
            "Current Average Hit Percentage: 29.85%\n"
          ]
        },
        {
          "name": "stderr",
          "output_type": "stream",
          "text": [
            "Calculating Hit Percentages:  98%|█████████▊| 1118/1136 [38:20<00:37,  2.07s/user]"
          ]
        },
        {
          "name": "stdout",
          "output_type": "stream",
          "text": [
            "Current Average Hit Percentage: 29.84%\n"
          ]
        },
        {
          "name": "stderr",
          "output_type": "stream",
          "text": [
            "Calculating Hit Percentages:  99%|█████████▊| 1119/1136 [38:22<00:35,  2.06s/user]"
          ]
        },
        {
          "name": "stdout",
          "output_type": "stream",
          "text": [
            "Current Average Hit Percentage: 29.83%\n"
          ]
        },
        {
          "name": "stderr",
          "output_type": "stream",
          "text": [
            "Calculating Hit Percentages:  99%|█████████▊| 1120/1136 [38:24<00:32,  2.05s/user]"
          ]
        },
        {
          "name": "stdout",
          "output_type": "stream",
          "text": [
            "Current Average Hit Percentage: 29.82%\n"
          ]
        },
        {
          "name": "stderr",
          "output_type": "stream",
          "text": [
            "Calculating Hit Percentages:  99%|█████████▊| 1121/1136 [38:26<00:30,  2.05s/user]"
          ]
        },
        {
          "name": "stdout",
          "output_type": "stream",
          "text": [
            "Current Average Hit Percentage: 29.83%\n"
          ]
        },
        {
          "name": "stderr",
          "output_type": "stream",
          "text": [
            "Calculating Hit Percentages:  99%|█████████▉| 1122/1136 [38:28<00:28,  2.04s/user]"
          ]
        },
        {
          "name": "stdout",
          "output_type": "stream",
          "text": [
            "Current Average Hit Percentage: 29.83%\n"
          ]
        },
        {
          "name": "stderr",
          "output_type": "stream",
          "text": [
            "Calculating Hit Percentages:  99%|█████████▉| 1123/1136 [38:30<00:26,  2.04s/user]"
          ]
        },
        {
          "name": "stdout",
          "output_type": "stream",
          "text": [
            "Current Average Hit Percentage: 29.83%\n"
          ]
        },
        {
          "name": "stderr",
          "output_type": "stream",
          "text": [
            "Calculating Hit Percentages:  99%|█████████▉| 1124/1136 [38:33<00:24,  2.06s/user]"
          ]
        },
        {
          "name": "stdout",
          "output_type": "stream",
          "text": [
            "Current Average Hit Percentage: 29.85%\n"
          ]
        },
        {
          "name": "stderr",
          "output_type": "stream",
          "text": [
            "Calculating Hit Percentages:  99%|█████████▉| 1125/1136 [38:35<00:22,  2.09s/user]"
          ]
        },
        {
          "name": "stdout",
          "output_type": "stream",
          "text": [
            "Current Average Hit Percentage: 29.84%\n"
          ]
        },
        {
          "name": "stderr",
          "output_type": "stream",
          "text": [
            "Calculating Hit Percentages:  99%|█████████▉| 1126/1136 [38:37<00:20,  2.08s/user]"
          ]
        },
        {
          "name": "stdout",
          "output_type": "stream",
          "text": [
            "Current Average Hit Percentage: 29.85%\n"
          ]
        },
        {
          "name": "stderr",
          "output_type": "stream",
          "text": [
            "Calculating Hit Percentages:  99%|█████████▉| 1127/1136 [38:39<00:18,  2.06s/user]"
          ]
        },
        {
          "name": "stdout",
          "output_type": "stream",
          "text": [
            "Current Average Hit Percentage: 29.87%\n"
          ]
        },
        {
          "name": "stderr",
          "output_type": "stream",
          "text": [
            "Calculating Hit Percentages:  99%|█████████▉| 1128/1136 [38:41<00:16,  2.06s/user]"
          ]
        },
        {
          "name": "stdout",
          "output_type": "stream",
          "text": [
            "Current Average Hit Percentage: 29.88%\n"
          ]
        },
        {
          "name": "stderr",
          "output_type": "stream",
          "text": [
            "Calculating Hit Percentages:  99%|█████████▉| 1129/1136 [38:43<00:14,  2.04s/user]"
          ]
        },
        {
          "name": "stdout",
          "output_type": "stream",
          "text": [
            "Current Average Hit Percentage: 29.88%\n"
          ]
        },
        {
          "name": "stderr",
          "output_type": "stream",
          "text": [
            "Calculating Hit Percentages:  99%|█████████▉| 1130/1136 [38:45<00:12,  2.03s/user]"
          ]
        },
        {
          "name": "stdout",
          "output_type": "stream",
          "text": [
            "Current Average Hit Percentage: 29.88%\n"
          ]
        },
        {
          "name": "stderr",
          "output_type": "stream",
          "text": [
            "Calculating Hit Percentages: 100%|█████████▉| 1131/1136 [38:47<00:10,  2.04s/user]"
          ]
        },
        {
          "name": "stdout",
          "output_type": "stream",
          "text": [
            "Current Average Hit Percentage: 29.88%\n"
          ]
        },
        {
          "name": "stderr",
          "output_type": "stream",
          "text": [
            "Calculating Hit Percentages: 100%|█████████▉| 1132/1136 [38:49<00:08,  2.07s/user]"
          ]
        },
        {
          "name": "stdout",
          "output_type": "stream",
          "text": [
            "Current Average Hit Percentage: 29.89%\n"
          ]
        },
        {
          "name": "stderr",
          "output_type": "stream",
          "text": [
            "Calculating Hit Percentages: 100%|█████████▉| 1133/1136 [38:51<00:06,  2.05s/user]"
          ]
        },
        {
          "name": "stdout",
          "output_type": "stream",
          "text": [
            "Current Average Hit Percentage: 29.88%\n"
          ]
        },
        {
          "name": "stderr",
          "output_type": "stream",
          "text": [
            "Calculating Hit Percentages: 100%|█████████▉| 1134/1136 [38:53<00:04,  2.04s/user]"
          ]
        },
        {
          "name": "stdout",
          "output_type": "stream",
          "text": [
            "Current Average Hit Percentage: 29.88%\n"
          ]
        },
        {
          "name": "stderr",
          "output_type": "stream",
          "text": [
            "Calculating Hit Percentages: 100%|█████████▉| 1135/1136 [38:55<00:02,  2.03s/user]"
          ]
        },
        {
          "name": "stdout",
          "output_type": "stream",
          "text": [
            "Current Average Hit Percentage: 29.87%\n"
          ]
        },
        {
          "name": "stderr",
          "output_type": "stream",
          "text": [
            "Calculating Hit Percentages: 100%|██████████| 1136/1136 [38:57<00:00,  2.06s/user]"
          ]
        },
        {
          "name": "stdout",
          "output_type": "stream",
          "text": [
            "Current Average Hit Percentage: 29.87%\n",
            "\n",
            "Calculation Complete!\n",
            "Total Users Processed: 1136\n",
            "Average Hit Percentage: 29.87%\n",
            "\n"
          ]
        },
        {
          "name": "stderr",
          "output_type": "stream",
          "text": [
            "\n"
          ]
        }
      ],
      "source": [
        "from tqdm import tqdm\n",
        "\n",
        "def calculate_average_hit_percentage(user_ids_list, test_set_df):\n",
        "    total_hit_percentage = 0\n",
        "    individual_hit_percentages = []\n",
        "\n",
        "    print(\"\\nStarting Hit Percentage Calculation...\\n\")\n",
        "\n",
        "    # Loop through each user_id to calculate the hit percentage with a progress bar\n",
        "    for user_id in tqdm(user_ids_list, desc=\"Calculating Hit Percentages\", unit=\"user\"):\n",
        "        # Get the list of recommended tracks for the current user\n",
        "        recommended_list = get_recommendations(user_id)\n",
        "\n",
        "        # Get actual track_ids for the current user\n",
        "        user_tracks = test_set_df[test_set_df['user_id'] == user_id]['track_id'].tolist()\n",
        "\n",
        "        # Calculate hit percentage for this user\n",
        "        user_hit_percentage = calculate_hit_percentage(user_tracks, recommended_list)\n",
        "        individual_hit_percentages.append(user_hit_percentage)\n",
        "\n",
        "        # Add to the total hit percentage\n",
        "        total_hit_percentage += user_hit_percentage\n",
        "\n",
        "        # Update progress bar with cumulative average hit percentage\n",
        "        cumulative_average = total_hit_percentage / len(individual_hit_percentages)\n",
        "        tqdm.write(f\"Current Average Hit Percentage: {cumulative_average:.2f}%\")\n",
        "\n",
        "    # Calculate the average hit percentage across all users\n",
        "    average_hit_percentage = total_hit_percentage / len(user_ids_list) if user_ids_list else 0\n",
        "\n",
        "    # Final Summary\n",
        "    print(\"\\nCalculation Complete!\")\n",
        "    print(f\"Total Users Processed: {len(user_ids_list)}\")\n",
        "    print(f\"Average Hit Percentage: {average_hit_percentage:.2f}%\\n\")\n",
        "\n",
        "    return average_hit_percentage, individual_hit_percentages\n",
        "\n",
        "#randmly select 5% of users for testing\n",
        "selected_items = select_random_items(user_ids_list, 5)\n",
        "# Run the function\n",
        "average_hit_percentage, individual_hit_percentages = calculate_average_hit_percentage(selected_items, test_set)\n"
      ]
    },
    {
      "cell_type": "markdown",
      "metadata": {
        "id": "DXeGXd0jUmnh"
      },
      "source": [
        "Save for later otherwise we wud hv to use TPU always"
      ]
    },
    {
      "cell_type": "code",
      "execution_count": 39,
      "metadata": {
        "id": "-K2FJNYaUN-X"
      },
      "outputs": [],
      "source": [
        "# Save the user_similarity_df as a CSV file\n",
        "# user_similarity_df.to_csv('user_similarity.csv', index=False)\n",
        "\n",
        "# Save the dictionary as a pickle file\n",
        "with open('user_index_map.pkl', 'wb') as f:\n",
        "    pickle.dump(user_index_map, f)"
      ]
    },
    {
      "cell_type": "markdown",
      "metadata": {
        "id": "eKxa0MJvZui9"
      },
      "source": [
        "## To update the model"
      ]
    },
    {
      "cell_type": "code",
      "execution_count": 40,
      "metadata": {
        "id": "NETjsbFWZtvM"
      },
      "outputs": [],
      "source": [
        "new_interactions = aggregated_data.copy().drop(\"rating\", axis=1).sample(frac=0.05, random_state=42).reset_index(drop=True) # just an example for the demonstration"
      ]
    },
    {
      "cell_type": "code",
      "execution_count": 41,
      "metadata": {
        "colab": {
          "base_uri": "https://localhost:8080/",
          "height": 206
        },
        "id": "4cZNfdQmbOYG",
        "outputId": "dd8da5b2-7cec-4f84-de3b-f8d56be83cdd"
      },
      "outputs": [
        {
          "data": {
            "application/vnd.google.colaboratory.intrinsic+json": {
              "summary": "{\n  \"name\": \"new_interactions\",\n  \"rows\": 86165,\n  \"fields\": [\n    {\n      \"column\": \"user_id\",\n      \"properties\": {\n        \"dtype\": \"category\",\n        \"num_unique_values\": 21957,\n        \"samples\": [\n          \"e55bb574c6b57d47e0369cd09b6eb6860fbb60c9\",\n          \"e39dc431cedf2e177692e6f5abbed19a92b96e82\",\n          \"f60c518dc753ae5bff41876fc607e2baa14ee4b5\"\n        ],\n        \"semantic_type\": \"\",\n        \"description\": \"\"\n      }\n    },\n    {\n      \"column\": \"track_id\",\n      \"properties\": {\n        \"dtype\": \"category\",\n        \"num_unique_values\": 14495,\n        \"samples\": [\n          \"TRTROHI128F9355DF0\",\n          \"TRNOZVE128E0786327\",\n          \"TRKDIMX128F428BB9F\"\n        ],\n        \"semantic_type\": \"\",\n        \"description\": \"\"\n      }\n    },\n    {\n      \"column\": \"playcount\",\n      \"properties\": {\n        \"dtype\": \"number\",\n        \"std\": 3.2127733325951953,\n        \"min\": 1.0,\n        \"max\": 281.0,\n        \"num_unique_values\": 73,\n        \"samples\": [\n          4.0,\n          50.0,\n          12.0\n        ],\n        \"semantic_type\": \"\",\n        \"description\": \"\"\n      }\n    }\n  ]\n}",
              "type": "dataframe",
              "variable_name": "new_interactions"
            },
            "text/html": [
              "\n",
              "  <div id=\"df-bbbdf3e7-fe67-4239-8a88-01ad8133be73\" class=\"colab-df-container\">\n",
              "    <div>\n",
              "<style scoped>\n",
              "    .dataframe tbody tr th:only-of-type {\n",
              "        vertical-align: middle;\n",
              "    }\n",
              "\n",
              "    .dataframe tbody tr th {\n",
              "        vertical-align: top;\n",
              "    }\n",
              "\n",
              "    .dataframe thead th {\n",
              "        text-align: right;\n",
              "    }\n",
              "</style>\n",
              "<table border=\"1\" class=\"dataframe\">\n",
              "  <thead>\n",
              "    <tr style=\"text-align: right;\">\n",
              "      <th></th>\n",
              "      <th>user_id</th>\n",
              "      <th>track_id</th>\n",
              "      <th>playcount</th>\n",
              "    </tr>\n",
              "  </thead>\n",
              "  <tbody>\n",
              "    <tr>\n",
              "      <th>0</th>\n",
              "      <td>cfbbee8765cd5c2b02113cc265df08876bb74e68</td>\n",
              "      <td>TRWLWEG128EF342B75</td>\n",
              "      <td>1.0</td>\n",
              "    </tr>\n",
              "    <tr>\n",
              "      <th>1</th>\n",
              "      <td>491d048e26c51fcda0744355bf191d4ccf36f118</td>\n",
              "      <td>TRRLNWO128F92F2485</td>\n",
              "      <td>1.0</td>\n",
              "    </tr>\n",
              "    <tr>\n",
              "      <th>2</th>\n",
              "      <td>ed1278ef84681b10ee1ef3fceeae39f0552e0b17</td>\n",
              "      <td>TRXODKF128F9329E17</td>\n",
              "      <td>1.0</td>\n",
              "    </tr>\n",
              "    <tr>\n",
              "      <th>3</th>\n",
              "      <td>ac760d1e6e8eb6456d543796470bef507bf71acf</td>\n",
              "      <td>TRGVHXP128E0793B8F</td>\n",
              "      <td>1.0</td>\n",
              "    </tr>\n",
              "    <tr>\n",
              "      <th>4</th>\n",
              "      <td>a9184b1e9a89364e3fe2852468510e746c1809f2</td>\n",
              "      <td>TRVAJRE128EF343907</td>\n",
              "      <td>1.0</td>\n",
              "    </tr>\n",
              "  </tbody>\n",
              "</table>\n",
              "</div>\n",
              "    <div class=\"colab-df-buttons\">\n",
              "\n",
              "  <div class=\"colab-df-container\">\n",
              "    <button class=\"colab-df-convert\" onclick=\"convertToInteractive('df-bbbdf3e7-fe67-4239-8a88-01ad8133be73')\"\n",
              "            title=\"Convert this dataframe to an interactive table.\"\n",
              "            style=\"display:none;\">\n",
              "\n",
              "  <svg xmlns=\"http://www.w3.org/2000/svg\" height=\"24px\" viewBox=\"0 -960 960 960\">\n",
              "    <path d=\"M120-120v-720h720v720H120Zm60-500h600v-160H180v160Zm220 220h160v-160H400v160Zm0 220h160v-160H400v160ZM180-400h160v-160H180v160Zm440 0h160v-160H620v160ZM180-180h160v-160H180v160Zm440 0h160v-160H620v160Z\"/>\n",
              "  </svg>\n",
              "    </button>\n",
              "\n",
              "  <style>\n",
              "    .colab-df-container {\n",
              "      display:flex;\n",
              "      gap: 12px;\n",
              "    }\n",
              "\n",
              "    .colab-df-convert {\n",
              "      background-color: #E8F0FE;\n",
              "      border: none;\n",
              "      border-radius: 50%;\n",
              "      cursor: pointer;\n",
              "      display: none;\n",
              "      fill: #1967D2;\n",
              "      height: 32px;\n",
              "      padding: 0 0 0 0;\n",
              "      width: 32px;\n",
              "    }\n",
              "\n",
              "    .colab-df-convert:hover {\n",
              "      background-color: #E2EBFA;\n",
              "      box-shadow: 0px 1px 2px rgba(60, 64, 67, 0.3), 0px 1px 3px 1px rgba(60, 64, 67, 0.15);\n",
              "      fill: #174EA6;\n",
              "    }\n",
              "\n",
              "    .colab-df-buttons div {\n",
              "      margin-bottom: 4px;\n",
              "    }\n",
              "\n",
              "    [theme=dark] .colab-df-convert {\n",
              "      background-color: #3B4455;\n",
              "      fill: #D2E3FC;\n",
              "    }\n",
              "\n",
              "    [theme=dark] .colab-df-convert:hover {\n",
              "      background-color: #434B5C;\n",
              "      box-shadow: 0px 1px 3px 1px rgba(0, 0, 0, 0.15);\n",
              "      filter: drop-shadow(0px 1px 2px rgba(0, 0, 0, 0.3));\n",
              "      fill: #FFFFFF;\n",
              "    }\n",
              "  </style>\n",
              "\n",
              "    <script>\n",
              "      const buttonEl =\n",
              "        document.querySelector('#df-bbbdf3e7-fe67-4239-8a88-01ad8133be73 button.colab-df-convert');\n",
              "      buttonEl.style.display =\n",
              "        google.colab.kernel.accessAllowed ? 'block' : 'none';\n",
              "\n",
              "      async function convertToInteractive(key) {\n",
              "        const element = document.querySelector('#df-bbbdf3e7-fe67-4239-8a88-01ad8133be73');\n",
              "        const dataTable =\n",
              "          await google.colab.kernel.invokeFunction('convertToInteractive',\n",
              "                                                    [key], {});\n",
              "        if (!dataTable) return;\n",
              "\n",
              "        const docLinkHtml = 'Like what you see? Visit the ' +\n",
              "          '<a target=\"_blank\" href=https://colab.research.google.com/notebooks/data_table.ipynb>data table notebook</a>'\n",
              "          + ' to learn more about interactive tables.';\n",
              "        element.innerHTML = '';\n",
              "        dataTable['output_type'] = 'display_data';\n",
              "        await google.colab.output.renderOutput(dataTable, element);\n",
              "        const docLink = document.createElement('div');\n",
              "        docLink.innerHTML = docLinkHtml;\n",
              "        element.appendChild(docLink);\n",
              "      }\n",
              "    </script>\n",
              "  </div>\n",
              "\n",
              "\n",
              "<div id=\"df-5638b518-7ba2-459f-a73d-dd9ae3d6e574\">\n",
              "  <button class=\"colab-df-quickchart\" onclick=\"quickchart('df-5638b518-7ba2-459f-a73d-dd9ae3d6e574')\"\n",
              "            title=\"Suggest charts\"\n",
              "            style=\"display:none;\">\n",
              "\n",
              "<svg xmlns=\"http://www.w3.org/2000/svg\" height=\"24px\"viewBox=\"0 0 24 24\"\n",
              "     width=\"24px\">\n",
              "    <g>\n",
              "        <path d=\"M19 3H5c-1.1 0-2 .9-2 2v14c0 1.1.9 2 2 2h14c1.1 0 2-.9 2-2V5c0-1.1-.9-2-2-2zM9 17H7v-7h2v7zm4 0h-2V7h2v10zm4 0h-2v-4h2v4z\"/>\n",
              "    </g>\n",
              "</svg>\n",
              "  </button>\n",
              "\n",
              "<style>\n",
              "  .colab-df-quickchart {\n",
              "      --bg-color: #E8F0FE;\n",
              "      --fill-color: #1967D2;\n",
              "      --hover-bg-color: #E2EBFA;\n",
              "      --hover-fill-color: #174EA6;\n",
              "      --disabled-fill-color: #AAA;\n",
              "      --disabled-bg-color: #DDD;\n",
              "  }\n",
              "\n",
              "  [theme=dark] .colab-df-quickchart {\n",
              "      --bg-color: #3B4455;\n",
              "      --fill-color: #D2E3FC;\n",
              "      --hover-bg-color: #434B5C;\n",
              "      --hover-fill-color: #FFFFFF;\n",
              "      --disabled-bg-color: #3B4455;\n",
              "      --disabled-fill-color: #666;\n",
              "  }\n",
              "\n",
              "  .colab-df-quickchart {\n",
              "    background-color: var(--bg-color);\n",
              "    border: none;\n",
              "    border-radius: 50%;\n",
              "    cursor: pointer;\n",
              "    display: none;\n",
              "    fill: var(--fill-color);\n",
              "    height: 32px;\n",
              "    padding: 0;\n",
              "    width: 32px;\n",
              "  }\n",
              "\n",
              "  .colab-df-quickchart:hover {\n",
              "    background-color: var(--hover-bg-color);\n",
              "    box-shadow: 0 1px 2px rgba(60, 64, 67, 0.3), 0 1px 3px 1px rgba(60, 64, 67, 0.15);\n",
              "    fill: var(--button-hover-fill-color);\n",
              "  }\n",
              "\n",
              "  .colab-df-quickchart-complete:disabled,\n",
              "  .colab-df-quickchart-complete:disabled:hover {\n",
              "    background-color: var(--disabled-bg-color);\n",
              "    fill: var(--disabled-fill-color);\n",
              "    box-shadow: none;\n",
              "  }\n",
              "\n",
              "  .colab-df-spinner {\n",
              "    border: 2px solid var(--fill-color);\n",
              "    border-color: transparent;\n",
              "    border-bottom-color: var(--fill-color);\n",
              "    animation:\n",
              "      spin 1s steps(1) infinite;\n",
              "  }\n",
              "\n",
              "  @keyframes spin {\n",
              "    0% {\n",
              "      border-color: transparent;\n",
              "      border-bottom-color: var(--fill-color);\n",
              "      border-left-color: var(--fill-color);\n",
              "    }\n",
              "    20% {\n",
              "      border-color: transparent;\n",
              "      border-left-color: var(--fill-color);\n",
              "      border-top-color: var(--fill-color);\n",
              "    }\n",
              "    30% {\n",
              "      border-color: transparent;\n",
              "      border-left-color: var(--fill-color);\n",
              "      border-top-color: var(--fill-color);\n",
              "      border-right-color: var(--fill-color);\n",
              "    }\n",
              "    40% {\n",
              "      border-color: transparent;\n",
              "      border-right-color: var(--fill-color);\n",
              "      border-top-color: var(--fill-color);\n",
              "    }\n",
              "    60% {\n",
              "      border-color: transparent;\n",
              "      border-right-color: var(--fill-color);\n",
              "    }\n",
              "    80% {\n",
              "      border-color: transparent;\n",
              "      border-right-color: var(--fill-color);\n",
              "      border-bottom-color: var(--fill-color);\n",
              "    }\n",
              "    90% {\n",
              "      border-color: transparent;\n",
              "      border-bottom-color: var(--fill-color);\n",
              "    }\n",
              "  }\n",
              "</style>\n",
              "\n",
              "  <script>\n",
              "    async function quickchart(key) {\n",
              "      const quickchartButtonEl =\n",
              "        document.querySelector('#' + key + ' button');\n",
              "      quickchartButtonEl.disabled = true;  // To prevent multiple clicks.\n",
              "      quickchartButtonEl.classList.add('colab-df-spinner');\n",
              "      try {\n",
              "        const charts = await google.colab.kernel.invokeFunction(\n",
              "            'suggestCharts', [key], {});\n",
              "      } catch (error) {\n",
              "        console.error('Error during call to suggestCharts:', error);\n",
              "      }\n",
              "      quickchartButtonEl.classList.remove('colab-df-spinner');\n",
              "      quickchartButtonEl.classList.add('colab-df-quickchart-complete');\n",
              "    }\n",
              "    (() => {\n",
              "      let quickchartButtonEl =\n",
              "        document.querySelector('#df-5638b518-7ba2-459f-a73d-dd9ae3d6e574 button');\n",
              "      quickchartButtonEl.style.display =\n",
              "        google.colab.kernel.accessAllowed ? 'block' : 'none';\n",
              "    })();\n",
              "  </script>\n",
              "</div>\n",
              "\n",
              "    </div>\n",
              "  </div>\n"
            ],
            "text/plain": [
              "                                    user_id            track_id  playcount\n",
              "0  cfbbee8765cd5c2b02113cc265df08876bb74e68  TRWLWEG128EF342B75        1.0\n",
              "1  491d048e26c51fcda0744355bf191d4ccf36f118  TRRLNWO128F92F2485        1.0\n",
              "2  ed1278ef84681b10ee1ef3fceeae39f0552e0b17  TRXODKF128F9329E17        1.0\n",
              "3  ac760d1e6e8eb6456d543796470bef507bf71acf  TRGVHXP128E0793B8F        1.0\n",
              "4  a9184b1e9a89364e3fe2852468510e746c1809f2  TRVAJRE128EF343907        1.0"
            ]
          },
          "execution_count": 41,
          "metadata": {},
          "output_type": "execute_result"
        }
      ],
      "source": [
        "new_interactions.head(5)"
      ]
    },
    {
      "cell_type": "code",
      "execution_count": 42,
      "metadata": {
        "id": "GQw7OK2CElZU"
      },
      "outputs": [],
      "source": [
        "# Merge df1 and df2 using a left join on 'track_id' and 'user_id'\n",
        "merged_df = pd.merge(aggregated_data, new_interactions, on=['track_id', 'user_id'], how='left', suffixes=('_df1', '_df2'))\n",
        "\n",
        "# Define the custom aggregation function\n",
        "def custom_agg_function(row):\n",
        "    # If playcount from df2 is NaN, keep the value from df1\n",
        "    if pd.isna(row['playcount_df2']):\n",
        "        return row['playcount_df1']\n",
        "    # If playcount from df1 is NaN, keep the value from df2\n",
        "    if pd.isna(row['playcount_df1']):\n",
        "        return row['playcount_df2']\n",
        "    # Otherwise, apply the custom formula\n",
        "    return (row['playcount_df1'] * 3 + row['playcount_df2']) / 4\n",
        "\n",
        "# Apply the custom aggregation function row-wise\n",
        "merged_df['playcount'] = merged_df.apply(custom_agg_function, axis=1)\n",
        "\n",
        "# Create the final dataframe with track_id, user_id, and the new playcount\n",
        "final_df = merged_df[['track_id', 'user_id', 'playcount']]"
      ]
    },
    {
      "cell_type": "code",
      "execution_count": 43,
      "metadata": {
        "id": "Z7pYYEQFFS7A"
      },
      "outputs": [],
      "source": [
        "final_df = final_df.assign(rating=final_df['playcount'].apply(convert_to_rating))"
      ]
    },
    {
      "cell_type": "code",
      "execution_count": 44,
      "metadata": {
        "colab": {
          "base_uri": "https://localhost:8080/"
        },
        "id": "a5BLmS91Fvur",
        "outputId": "26681d8f-49e4-4acf-f8bf-46c97ecbea8d"
      },
      "outputs": [
        {
          "name": "stdout",
          "output_type": "stream",
          "text": [
            "                   track_id                                   user_id  \\\n",
            "0        TRAFUNV128F92CFEB2  0003a64f7a69e5b87a80b09c3772227185c235c7   \n",
            "1        TRAKKTI128F42B4F25  0003a64f7a69e5b87a80b09c3772227185c235c7   \n",
            "2        TRARTEH128F423DBC1  0003a64f7a69e5b87a80b09c3772227185c235c7   \n",
            "3        TRAVRKY128F429EA68  0003a64f7a69e5b87a80b09c3772227185c235c7   \n",
            "4        TRBFKOV128F426DDF1  0003a64f7a69e5b87a80b09c3772227185c235c7   \n",
            "...                     ...                                       ...   \n",
            "1723295  TRYDVHI128F93268D6  ffffcfeb0c1b66bd212ea58d918c7dc62fb9c3a5   \n",
            "1723296  TRYHSFE128F429EA71  ffffcfeb0c1b66bd212ea58d918c7dc62fb9c3a5   \n",
            "1723297  TRYIKBI128F426FFF2  ffffcfeb0c1b66bd212ea58d918c7dc62fb9c3a5   \n",
            "1723298  TRZALGW128F4296174  ffffcfeb0c1b66bd212ea58d918c7dc62fb9c3a5   \n",
            "1723299  TRZPVLJ128F148D2F7  ffffcfeb0c1b66bd212ea58d918c7dc62fb9c3a5   \n",
            "\n",
            "         playcount  rating  \n",
            "0              2.0       3  \n",
            "1              1.0       2  \n",
            "2              1.0       2  \n",
            "3              1.0       2  \n",
            "4              1.0       2  \n",
            "...            ...     ...  \n",
            "1723295        1.0       2  \n",
            "1723296        1.0       2  \n",
            "1723297        2.0       3  \n",
            "1723298        1.0       2  \n",
            "1723299        1.0       2  \n",
            "\n",
            "[1723300 rows x 4 columns]\n"
          ]
        }
      ],
      "source": [
        "# Output the final dataframe\n",
        "print(final_df)"
      ]
    },
    {
      "cell_type": "code",
      "execution_count": 46,
      "metadata": {
        "id": "tq4CW_FeGqvP"
      },
      "outputs": [],
      "source": [
        "\n",
        "#  Create the user-item matrix as a sparse matrix\n",
        "user_item_matrix_sparse_new = csr_matrix(pd.pivot_table(\n",
        "    final_df, index='user_id', columns='track_id', values='rating').fillna(0).values)\n",
        "\n",
        "#print(user_item_matrix_sparse_new)\n",
        "\n",
        "#  Save the sparse matrix to disk using pickle\n",
        "with open('user_item_matrix_sparse_new.pkl', 'wb') as f:\n",
        "    pickle.dump(user_item_matrix_sparse_new, f)\n",
        "\n",
        "# Load the sparse matrix from disk\n",
        "# with open('user_item_matrix_sparse.pkl', 'rb') as f:\n",
        "#     user_item_matrix_sparse = pickle.load(f)\n",
        "\n"
      ]
    },
    {
      "cell_type": "code",
      "execution_count": 47,
      "metadata": {
        "id": "E9wOLU1PFZOw"
      },
      "outputs": [],
      "source": [
        "#  Compute cosine similarity between users using sparse matrix\n",
        "user_similarity_new = cosine_similarity(user_item_matrix_sparse_new)\n",
        "\n",
        "# Convert the similarity matrix to a DataFrame for easier manipulation\n",
        "user_similarity_new_df = pd.DataFrame(user_similarity_new)"
      ]
    },
    {
      "cell_type": "code",
      "execution_count": 48,
      "metadata": {
        "id": "WbH5QRmcFa_K"
      },
      "outputs": [],
      "source": [
        "#Create an index map from the user_id to numerical indices\n",
        "user_index_map_new = {user_id: idx for idx, user_id in enumerate(final_df['user_id'].unique())}"
      ]
    },
    {
      "cell_type": "markdown",
      "metadata": {
        "id": "rSH_egXALrmN"
      },
      "source": [
        "## formally cmbining as a model"
      ]
    },
    {
      "cell_type": "code",
      "execution_count": 49,
      "metadata": {
        "id": "qt96ltoZLq7k"
      },
      "outputs": [],
      "source": [
        "class UserBasedRec:\n",
        "    def __init__(self):\n",
        "        \"\"\"Call this function to initialize the model, Note: U hv to train the model(fit) before using\"\"\"\n",
        "        self.df=None\n",
        "        self.user_similarity_df=None\n",
        "        self.user_index_map=None\n",
        "\n",
        "#     def restore_the_old(self):\n",
        "#         \"\"\"Restore the model state to the latest previous version\"\"\"\n",
        "#         self.model=self.old_model\n",
        "\n",
        "    # Function to get the last `n_interactions`\n",
        "    def get_last_n_excluding_latest(self,group, n):\n",
        "        if len(group) > n :\n",
        "            # Get the last `n` interactions, excluding the latest\n",
        "            return group.iloc[-n:]\n",
        "        else:\n",
        "            # Return all interactions if fewer than `n` interactions are available\n",
        "            return group\n",
        "\n",
        "    # Convert playcounts to ratings\n",
        "    def convert_to_rating(self,playcount):\n",
        "        \"\"\"Convert the interations into a ratings, bcz we only hv the playcount ;(\"\"\"\n",
        "        if playcount >= 10:\n",
        "            return 5\n",
        "        elif playcount >= 5:\n",
        "            return 4\n",
        "        elif playcount >= 2:\n",
        "            return 3\n",
        "        elif playcount >= 1:\n",
        "            return 2\n",
        "        else:\n",
        "            return 0 #this wont be used\n",
        "\n",
        "    def get_top_n_tracks(self, df, n):\n",
        "        \"\"\"\n",
        "        Function to get the top n tracks with the highest playcounts.\n",
        "\n",
        "        Parameters:\n",
        "        df (pandas.DataFrame): The DataFrame containing the track data.\n",
        "        n (int): The number of top tracks to return.\n",
        "\n",
        "        Returns:\n",
        "        pandas.DataFrame: A DataFrame containing the top n tracks and their total playcounts.\n",
        "        \"\"\"\n",
        "        # Group by track_id and sum the playcounts\n",
        "        track_playcounts = df.groupby('track_id')['playcount'].sum()\n",
        "\n",
        "        # Sort by playcount in descending order and get the top n\n",
        "        top_n_tracks = track_playcounts.sort_values(ascending=False).head(n)\n",
        "\n",
        "        # Convert to DataFrame and reset index\n",
        "        top_n_tracks_df = top_n_tracks.reset_index()\n",
        "\n",
        "        # Rename columns for clarity\n",
        "        top_n_tracks_df.columns = ['track_id', 'total_playcount']\n",
        "\n",
        "        return top_n_tracks_df\n",
        "\n",
        "    def create_the_sparce_mat(self,df):\n",
        "      return csr_matrix(pd.pivot_table(df, index='user_id', columns='track_id', values='rating').fillna(0).values)\n",
        "\n",
        "    def train(self, train_df,more_than=50,take=200):\n",
        "      \"\"\"\"Train the model, attributes, listining_info_df and\n",
        "      more than = which users to consider, user having more than (more_than) interactions\n",
        "      take = which interactions to take from the, take latest (take) number of interactions from each user\"\"\"\n",
        "      user_interaction_counts = train_df['user_id'].value_counts()\n",
        "      filtered_df = train_df[train_df['user_id'].isin(user_interaction_counts[user_interaction_counts > more_than].index)]\n",
        "      last_n_excluding_latest = filtered_df.groupby('user_id', group_keys=False).apply(lambda x: self.get_last_n_excluding_latest(x, take)).reset_index(drop=True)\n",
        "      aggregated_data = last_n_excluding_latest.groupby(['user_id', 'track_id'], as_index=False).agg({'playcount': 'mean'})\n",
        "      aggregated_data = aggregated_data.assign(rating=aggregated_data['playcount'].apply(self.convert_to_rating))\n",
        "\n",
        "\n",
        "      user_item_matrix_sparse = self.create_the_sparce_mat(aggregated_data)\n",
        "      self.df=aggregated_data\n",
        "      #  Compute cosine similarity between users using sparse matrix\n",
        "      user_similarity = cosine_similarity(user_item_matrix_sparse)\n",
        "      # Convert the similarity matrix to a DataFrame for easier manipulation\n",
        "      self.user_similarity_df = pd.DataFrame(user_similarity)\n",
        "\n",
        "      #Create an index map from the user_id to numerical indices\n",
        "      self.user_index_map = {user_id: idx for idx, user_id in enumerate(aggregated_data['user_id'].unique())}\n",
        "\n",
        "    def get_recommendations(self, user_id, n_recommendations=10):\n",
        "\n",
        "        \"\"\"Recommend 10 songs for a user based of colab filtering. Imprtant: if theres no much similar users, there s a\n",
        "        possibility to return a few songs( less than 10), handle it\"\"\"\n",
        "\n",
        "        # Map user_id to the corresponding index\n",
        "        user_idx = self.user_index_map.get(user_id, None)\n",
        "\n",
        "        #already_listened_songs = aggregated_data[aggregated_data['user_id'] == similar_user_id]\n",
        "\n",
        "        if user_idx is None:\n",
        "            print(f\"User ID {user_id} not found.\")\n",
        "            return []\n",
        "\n",
        "        similar_users = self.user_similarity_df.iloc[user_idx].sort_values(ascending=False)[1:]  # Exclude the user itself\n",
        "        top_similar_users = similar_users.index[:n_recommendations-2]\n",
        "\n",
        "        len_sim = len(top_similar_users)\n",
        "\n",
        "        if len_sim>7:\n",
        "            n=1\n",
        "        elif len_sim>3:\n",
        "            n=2\n",
        "        elif len_sim>2:\n",
        "            n=3\n",
        "        else:\n",
        "            n=len_sim\n",
        "\n",
        "        recommendations = set()\n",
        "        listened_songs = self.df[self.df['user_id'] == user_id]  # get the already listened songs\n",
        "        fav_songs = self.get_top_n_tracks(listened_songs, 2 )\n",
        "        recommendations.update(set(fav_songs['track_id'].tolist()))\n",
        "\n",
        "        rec_set_len=len(recommendations)\n",
        "\n",
        "        for similar_user in top_similar_users:\n",
        "            similar_user_id = self.df['user_id'].unique()[similar_user]  # Get the actual user ID\n",
        "            similar_user_songs = self.df[self.df['user_id'] == similar_user_id]  # get the songs of each user\n",
        "            similar_user_song = self.get_top_n_tracks(similar_user_songs, n )\n",
        "            recommended_songs = similar_user_song['track_id'].tolist()\n",
        "\n",
        "            recommendations.update(set(recommended_songs))\n",
        "            k=n\n",
        "            while (len(recommendations)<(rec_set_len+ n)):\n",
        "                k+=1\n",
        "                similar_user_song = self.get_top_n_tracks(similar_user_songs, k )\n",
        "                recommended_songs = similar_user_song['track_id'].tolist()\n",
        "                recommendations.update(set(recommended_songs))\n",
        "\n",
        "                if len(recommendations)>=10: #infinite loop breaker\n",
        "                    break\n",
        "\n",
        "            rec_set_len = len(recommendations)\n",
        "\n",
        "        if len(recommendations)>10:\n",
        "            return random.sample(list(recommendations), 10)\n",
        "\n",
        "        return list(recommendations)\n",
        "\n",
        "  # Define the custom aggregation function\n",
        "    def custom_agg_function(self,row, df1_weight=3, df2_weight=1):\n",
        "        \"\"\"\"Change the weights f respective df to adjust the up-to-date effect of the model\n",
        "        to get increase the effect of more recent interactions, increase the df2_weight\"\"\"\n",
        "        # If playcount from df2 is NaN, keep the value from df1\n",
        "        if pd.isna(row['playcount_df2']):\n",
        "            return row['playcount_df1']\n",
        "        # If playcount from df1 is NaN, keep the value from df2\n",
        "        if pd.isna(row['playcount_df1']):\n",
        "            return row['playcount_df2']\n",
        "        # Otherwise, apply the custom formula\n",
        "        return (row['playcount_df1'] * df1_weight + row['playcount_df2']*df2_weight) / (df1_weight+df2_weight)\n",
        "\n",
        "    def update(self,new_interactions):\n",
        "        \"\"\"Üpdate the model with the latest interactions, note: there should not be duplicate values for\n",
        "        (user_id,track_id) pair here. bcz in the procedure we ve not done the aggregation\"\"\"\n",
        "        # Merge df1 and df2 using a left join on 'track_id' and 'user_id'\n",
        "        merged_df = pd.merge(self.df, new_interactions, on=['track_id', 'user_id'], how='left', suffixes=('_df1', '_df2'))\n",
        "\n",
        "        # Apply the custom aggregation function row-wise\n",
        "        merged_df['playcount'] = merged_df.apply(self.custom_agg_function, axis=1)\n",
        "\n",
        "        # Create the final dataframe with track_id, user_id, and the new playcount\n",
        "        final_df = merged_df[['track_id', 'user_id', 'playcount']]\n",
        "        final_df = final_df.assign(rating=final_df['playcount'].apply(self.convert_to_rating))\n",
        "\n",
        "        user_item_matrix_sparse_new = self.create_the_sparce_mat(final_df)\n",
        "\n",
        "        #  Compute cosine similarity between users using sparse matrix\n",
        "        user_similarity_new = cosine_similarity(user_item_matrix_sparse_new)\n",
        "        self.df=final_df\n",
        "        # Convert the similarity matrix to a DataFrame for easier manipulation\n",
        "        self.user_similarity = pd.DataFrame(user_similarity_new)\n",
        "        #Create an index map from the user_id to numerical indices\n",
        "        self.user_index_map = {user_id: idx for idx, user_id in enumerate(final_df['user_id'].unique())}\n"
      ]
    },
    {
      "cell_type": "markdown",
      "metadata": {
        "id": "jf47RhxeVqym"
      },
      "source": [
        "## Load the model (uncmment to use)"
      ]
    },
    {
      "cell_type": "code",
      "execution_count": null,
      "metadata": {
        "id": "lNNfg62LVtLf"
      },
      "outputs": [],
      "source": [
        "# # Load the pipeline from the .pkl file\n",
        "# with open('group_8_userRec_model.pkl', 'rb') as file:\n",
        "#     model1 = pickle.load(file)"
      ]
    },
    {
      "cell_type": "markdown",
      "metadata": {
        "id": "wNdrgdmhVUFa"
      },
      "source": [
        "## using the model"
      ]
    },
    {
      "cell_type": "markdown",
      "metadata": {
        "id": "fHE50VJ-eWSY"
      },
      "source": [
        "**All the necessary package are mentioned below, for the proper functionality of the model**"
      ]
    },
    {
      "cell_type": "code",
      "execution_count": 50,
      "metadata": {
        "id": "5O8uKIHVzmDi"
      },
      "outputs": [],
      "source": [
        "# import sys\n",
        "# sys.path.append('/content/user.py')\n",
        "# from user import UserBasedRec\n"
      ]
    },
    {
      "cell_type": "code",
      "execution_count": 51,
      "metadata": {
        "id": "ceVIV0j5eSjY"
      },
      "outputs": [],
      "source": [
        "import pandas as pd  # For data manipulation\n",
        "import numpy as np  # For numerical operations\n",
        "from scipy.sparse import csr_matrix  # For creating sparse matrices\n",
        "from sklearn.metrics.pairwise import cosine_similarity  # For computing cosine similarity\n",
        "import pickle\n",
        "import random"
      ]
    },
    {
      "cell_type": "code",
      "execution_count": 52,
      "metadata": {
        "id": "Kf361Jx1RoEf"
      },
      "outputs": [],
      "source": [
        "model1=UserBasedRec()"
      ]
    },
    {
      "cell_type": "code",
      "execution_count": 53,
      "metadata": {
        "colab": {
          "base_uri": "https://localhost:8080/"
        },
        "id": "3Ugxb2XtRuE6",
        "outputId": "a9bac1e2-e188-4063-9904-8e2a969b7563"
      },
      "outputs": [
        {
          "name": "stderr",
          "output_type": "stream",
          "text": [
            "<ipython-input-49-c8785594eea8>:69: DeprecationWarning: DataFrameGroupBy.apply operated on the grouping columns. This behavior is deprecated, and in a future version of pandas the grouping columns will be excluded from the operation. Either pass `include_groups=False` to exclude the groupings or explicitly select the grouping columns after groupby to silence this warning.\n",
            "  last_n_excluding_latest = filtered_df.groupby('user_id', group_keys=False).apply(lambda x: self.get_last_n_excluding_latest(x, take)).reset_index(drop=True)\n"
          ]
        }
      ],
      "source": [
        "model1.train(df) # need a tpu to train, 12GB ram isnt enough// another major issue ;("
      ]
    },
    {
      "cell_type": "code",
      "execution_count": 54,
      "metadata": {
        "id": "UmBUS_-vXBOF"
      },
      "outputs": [],
      "source": [
        "# aggregated_data['user_id'].iloc[700] # check for randm users by changing here"
      ]
    },
    {
      "cell_type": "code",
      "execution_count": 55,
      "metadata": {
        "colab": {
          "base_uri": "https://localhost:8080/"
        },
        "id": "a76UJHokSZuW",
        "outputId": "c76d6840-1c01-4f16-c622-ad2f8cd7ca2a"
      },
      "outputs": [
        {
          "data": {
            "text/plain": [
              "['TRDGUAJ128F92D541D',\n",
              " 'TRKCGMA12903CC9B23',\n",
              " 'TRKQTTP128EF34337D',\n",
              " 'TRHGYNY128F4227D8B',\n",
              " 'TRJNGBW128F930276C',\n",
              " 'TRRMNLW128F92D92B0',\n",
              " 'TRFHQJN128F92D5425',\n",
              " 'TRUWPMO128F92F89DC',\n",
              " 'TRVUHMK128F93096E7',\n",
              " 'TRVUGOX128E0784629']"
            ]
          },
          "execution_count": 55,
          "metadata": {},
          "output_type": "execute_result"
        }
      ],
      "source": [
        "model1.get_recommendations(\"0025bfe6248070545d23721083acd3f60451da4f\")"
      ]
    },
    {
      "cell_type": "code",
      "execution_count": 58,
      "metadata": {
        "id": "dAgQsM1JSpGK"
      },
      "outputs": [],
      "source": [
        "model1.update(new_interactions)"
      ]
    },
    {
      "cell_type": "code",
      "execution_count": 59,
      "metadata": {
        "colab": {
          "base_uri": "https://localhost:8080/"
        },
        "id": "3VG7hvnTTNUj",
        "outputId": "ca9b65f8-6f56-40f6-d636-151bcf895d8b"
      },
      "outputs": [
        {
          "data": {
            "text/plain": [
              "['TRDGUAJ128F92D541D',\n",
              " 'TRKCGMA12903CC9B23',\n",
              " 'TRKQTTP128EF34337D',\n",
              " 'TRHGYNY128F4227D8B',\n",
              " 'TRJNGBW128F930276C',\n",
              " 'TRRMNLW128F92D92B0',\n",
              " 'TRFHQJN128F92D5425',\n",
              " 'TRUWPMO128F92F89DC',\n",
              " 'TRVUHMK128F93096E7',\n",
              " 'TRVUGOX128E0784629']"
            ]
          },
          "execution_count": 59,
          "metadata": {},
          "output_type": "execute_result"
        }
      ],
      "source": [
        "model1.get_recommendations(\"0025bfe6248070545d23721083acd3f60451da4f\")"
      ]
    },
    {
      "cell_type": "markdown",
      "metadata": {
        "id": "RhPWZ3BGVYWf"
      },
      "source": [
        "## saving the model\n"
      ]
    },
    {
      "cell_type": "markdown",
      "metadata": {
        "id": "wCorKfaYWTvv"
      },
      "source": [
        "**Untrained**"
      ]
    },
    {
      "cell_type": "code",
      "execution_count": 60,
      "metadata": {
        "colab": {
          "base_uri": "https://localhost:8080/"
        },
        "id": "Z_8v4r5EVcZw",
        "outputId": "4bf1927a-587e-49ae-b8e7-1f81c1fa5028"
      },
      "outputs": [
        {
          "name": "stdout",
          "output_type": "stream",
          "text": [
            "Pipeline successfully saved to UserBasedRec_model.pkl!\n"
          ]
        }
      ],
      "source": [
        "with open('UserBasedRec_model.pkl', 'wb') as file:\n",
        "    pickle.dump(UserBasedRec, file)\n",
        "\n",
        "print(\"Pipeline successfully saved to UserBasedRec_model.pkl!\")"
      ]
    },
    {
      "cell_type": "markdown",
      "metadata": {
        "id": "bIZKKtrrWX5y"
      },
      "source": [
        "**Trained**"
      ]
    },
    {
      "cell_type": "code",
      "execution_count": 61,
      "metadata": {
        "colab": {
          "base_uri": "https://localhost:8080/"
        },
        "id": "YIdf7E_0Wayc",
        "outputId": "25290fd3-3a1e-445a-bdd0-79c6e5282937"
      },
      "outputs": [
        {
          "name": "stdout",
          "output_type": "stream",
          "text": [
            "Trained model successfully saved to group_8_userRec_model.pkl!\n"
          ]
        }
      ],
      "source": [
        "with open('group_8_userRec_model.pkl', 'wb') as file:\n",
        "    pickle.dump(model1, file)\n",
        "\n",
        "print(\"Trained model successfully saved to group_8_userRec_model.pkl!\")"
      ]
    },
    {
      "cell_type": "code",
      "execution_count": 62,
      "metadata": {
        "id": "NS8KJD5TbVtG"
      },
      "outputs": [],
      "source": [
        "# from google.colab import drive\n",
        "# drive.mount('/content/drive')\n"
      ]
    }
  ],
  "metadata": {
    "accelerator": "TPU",
    "colab": {
      "gpuType": "V28",
      "provenance": []
    },
    "kaggle": {
      "accelerator": "tpu1vmV38",
      "dataSources": [
        {
          "datasetId": 3166258,
          "sourceId": 5485048,
          "sourceType": "datasetVersion"
        }
      ],
      "dockerImageVersionId": 30788,
      "isGpuEnabled": false,
      "isInternetEnabled": true,
      "language": "python",
      "sourceType": "notebook"
    },
    "kernelspec": {
      "display_name": "Python 3",
      "name": "python3"
    },
    "language_info": {
      "codemirror_mode": {
        "name": "ipython",
        "version": 3
      },
      "file_extension": ".py",
      "mimetype": "text/x-python",
      "name": "python",
      "nbconvert_exporter": "python",
      "pygments_lexer": "ipython3",
      "version": "3.10.15"
    }
  },
  "nbformat": 4,
  "nbformat_minor": 0
}
